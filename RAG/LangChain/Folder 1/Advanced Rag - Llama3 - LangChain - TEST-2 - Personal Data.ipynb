{
  "nbformat": 4,
  "nbformat_minor": 0,
  "metadata": {
    "colab": {
      "provenance": []
    },
    "kernelspec": {
      "name": "python3",
      "display_name": "Python 3"
    },
    "language_info": {
      "name": "python"
    },
    "widgets": {
      "application/vnd.jupyter.widget-state+json": {
        "453c6863d2434b0d932fa18ad68da438": {
          "model_module": "@jupyter-widgets/controls",
          "model_name": "HBoxModel",
          "model_module_version": "1.5.0",
          "state": {
            "_dom_classes": [],
            "_model_module": "@jupyter-widgets/controls",
            "_model_module_version": "1.5.0",
            "_model_name": "HBoxModel",
            "_view_count": null,
            "_view_module": "@jupyter-widgets/controls",
            "_view_module_version": "1.5.0",
            "_view_name": "HBoxView",
            "box_style": "",
            "children": [
              "IPY_MODEL_553b888942844a66acd9dbcbaf858d69",
              "IPY_MODEL_c71697f9e7d5498bb035d50a890d89d8",
              "IPY_MODEL_7bba447dfd0b45269980e46af6cc893d"
            ],
            "layout": "IPY_MODEL_021795a895164afb838dd1139d09dde2"
          }
        },
        "553b888942844a66acd9dbcbaf858d69": {
          "model_module": "@jupyter-widgets/controls",
          "model_name": "HTMLModel",
          "model_module_version": "1.5.0",
          "state": {
            "_dom_classes": [],
            "_model_module": "@jupyter-widgets/controls",
            "_model_module_version": "1.5.0",
            "_model_name": "HTMLModel",
            "_view_count": null,
            "_view_module": "@jupyter-widgets/controls",
            "_view_module_version": "1.5.0",
            "_view_name": "HTMLView",
            "description": "",
            "description_tooltip": null,
            "layout": "IPY_MODEL_caf0b3dfe5994a8dac8570bd55dd20fc",
            "placeholder": "​",
            "style": "IPY_MODEL_dc9d40d233b64944836bb73e15925e69",
            "value": "Fetching 5 files: 100%"
          }
        },
        "c71697f9e7d5498bb035d50a890d89d8": {
          "model_module": "@jupyter-widgets/controls",
          "model_name": "FloatProgressModel",
          "model_module_version": "1.5.0",
          "state": {
            "_dom_classes": [],
            "_model_module": "@jupyter-widgets/controls",
            "_model_module_version": "1.5.0",
            "_model_name": "FloatProgressModel",
            "_view_count": null,
            "_view_module": "@jupyter-widgets/controls",
            "_view_module_version": "1.5.0",
            "_view_name": "ProgressView",
            "bar_style": "success",
            "description": "",
            "description_tooltip": null,
            "layout": "IPY_MODEL_6b88a5289b3d4075b53dd39803b8e793",
            "max": 5,
            "min": 0,
            "orientation": "horizontal",
            "style": "IPY_MODEL_e6e7857c939c441da5b3a09c955c999b",
            "value": 5
          }
        },
        "7bba447dfd0b45269980e46af6cc893d": {
          "model_module": "@jupyter-widgets/controls",
          "model_name": "HTMLModel",
          "model_module_version": "1.5.0",
          "state": {
            "_dom_classes": [],
            "_model_module": "@jupyter-widgets/controls",
            "_model_module_version": "1.5.0",
            "_model_name": "HTMLModel",
            "_view_count": null,
            "_view_module": "@jupyter-widgets/controls",
            "_view_module_version": "1.5.0",
            "_view_name": "HTMLView",
            "description": "",
            "description_tooltip": null,
            "layout": "IPY_MODEL_f83feb191fac4b729e0f000372aa2492",
            "placeholder": "​",
            "style": "IPY_MODEL_0e20f765a9ee47fa8cccffaafec636e4",
            "value": " 5/5 [00:01&lt;00:00,  1.06s/it]"
          }
        },
        "021795a895164afb838dd1139d09dde2": {
          "model_module": "@jupyter-widgets/base",
          "model_name": "LayoutModel",
          "model_module_version": "1.2.0",
          "state": {
            "_model_module": "@jupyter-widgets/base",
            "_model_module_version": "1.2.0",
            "_model_name": "LayoutModel",
            "_view_count": null,
            "_view_module": "@jupyter-widgets/base",
            "_view_module_version": "1.2.0",
            "_view_name": "LayoutView",
            "align_content": null,
            "align_items": null,
            "align_self": null,
            "border": null,
            "bottom": null,
            "display": null,
            "flex": null,
            "flex_flow": null,
            "grid_area": null,
            "grid_auto_columns": null,
            "grid_auto_flow": null,
            "grid_auto_rows": null,
            "grid_column": null,
            "grid_gap": null,
            "grid_row": null,
            "grid_template_areas": null,
            "grid_template_columns": null,
            "grid_template_rows": null,
            "height": null,
            "justify_content": null,
            "justify_items": null,
            "left": null,
            "margin": null,
            "max_height": null,
            "max_width": null,
            "min_height": null,
            "min_width": null,
            "object_fit": null,
            "object_position": null,
            "order": null,
            "overflow": null,
            "overflow_x": null,
            "overflow_y": null,
            "padding": null,
            "right": null,
            "top": null,
            "visibility": null,
            "width": null
          }
        },
        "caf0b3dfe5994a8dac8570bd55dd20fc": {
          "model_module": "@jupyter-widgets/base",
          "model_name": "LayoutModel",
          "model_module_version": "1.2.0",
          "state": {
            "_model_module": "@jupyter-widgets/base",
            "_model_module_version": "1.2.0",
            "_model_name": "LayoutModel",
            "_view_count": null,
            "_view_module": "@jupyter-widgets/base",
            "_view_module_version": "1.2.0",
            "_view_name": "LayoutView",
            "align_content": null,
            "align_items": null,
            "align_self": null,
            "border": null,
            "bottom": null,
            "display": null,
            "flex": null,
            "flex_flow": null,
            "grid_area": null,
            "grid_auto_columns": null,
            "grid_auto_flow": null,
            "grid_auto_rows": null,
            "grid_column": null,
            "grid_gap": null,
            "grid_row": null,
            "grid_template_areas": null,
            "grid_template_columns": null,
            "grid_template_rows": null,
            "height": null,
            "justify_content": null,
            "justify_items": null,
            "left": null,
            "margin": null,
            "max_height": null,
            "max_width": null,
            "min_height": null,
            "min_width": null,
            "object_fit": null,
            "object_position": null,
            "order": null,
            "overflow": null,
            "overflow_x": null,
            "overflow_y": null,
            "padding": null,
            "right": null,
            "top": null,
            "visibility": null,
            "width": null
          }
        },
        "dc9d40d233b64944836bb73e15925e69": {
          "model_module": "@jupyter-widgets/controls",
          "model_name": "DescriptionStyleModel",
          "model_module_version": "1.5.0",
          "state": {
            "_model_module": "@jupyter-widgets/controls",
            "_model_module_version": "1.5.0",
            "_model_name": "DescriptionStyleModel",
            "_view_count": null,
            "_view_module": "@jupyter-widgets/base",
            "_view_module_version": "1.2.0",
            "_view_name": "StyleView",
            "description_width": ""
          }
        },
        "6b88a5289b3d4075b53dd39803b8e793": {
          "model_module": "@jupyter-widgets/base",
          "model_name": "LayoutModel",
          "model_module_version": "1.2.0",
          "state": {
            "_model_module": "@jupyter-widgets/base",
            "_model_module_version": "1.2.0",
            "_model_name": "LayoutModel",
            "_view_count": null,
            "_view_module": "@jupyter-widgets/base",
            "_view_module_version": "1.2.0",
            "_view_name": "LayoutView",
            "align_content": null,
            "align_items": null,
            "align_self": null,
            "border": null,
            "bottom": null,
            "display": null,
            "flex": null,
            "flex_flow": null,
            "grid_area": null,
            "grid_auto_columns": null,
            "grid_auto_flow": null,
            "grid_auto_rows": null,
            "grid_column": null,
            "grid_gap": null,
            "grid_row": null,
            "grid_template_areas": null,
            "grid_template_columns": null,
            "grid_template_rows": null,
            "height": null,
            "justify_content": null,
            "justify_items": null,
            "left": null,
            "margin": null,
            "max_height": null,
            "max_width": null,
            "min_height": null,
            "min_width": null,
            "object_fit": null,
            "object_position": null,
            "order": null,
            "overflow": null,
            "overflow_x": null,
            "overflow_y": null,
            "padding": null,
            "right": null,
            "top": null,
            "visibility": null,
            "width": null
          }
        },
        "e6e7857c939c441da5b3a09c955c999b": {
          "model_module": "@jupyter-widgets/controls",
          "model_name": "ProgressStyleModel",
          "model_module_version": "1.5.0",
          "state": {
            "_model_module": "@jupyter-widgets/controls",
            "_model_module_version": "1.5.0",
            "_model_name": "ProgressStyleModel",
            "_view_count": null,
            "_view_module": "@jupyter-widgets/base",
            "_view_module_version": "1.2.0",
            "_view_name": "StyleView",
            "bar_color": null,
            "description_width": ""
          }
        },
        "f83feb191fac4b729e0f000372aa2492": {
          "model_module": "@jupyter-widgets/base",
          "model_name": "LayoutModel",
          "model_module_version": "1.2.0",
          "state": {
            "_model_module": "@jupyter-widgets/base",
            "_model_module_version": "1.2.0",
            "_model_name": "LayoutModel",
            "_view_count": null,
            "_view_module": "@jupyter-widgets/base",
            "_view_module_version": "1.2.0",
            "_view_name": "LayoutView",
            "align_content": null,
            "align_items": null,
            "align_self": null,
            "border": null,
            "bottom": null,
            "display": null,
            "flex": null,
            "flex_flow": null,
            "grid_area": null,
            "grid_auto_columns": null,
            "grid_auto_flow": null,
            "grid_auto_rows": null,
            "grid_column": null,
            "grid_gap": null,
            "grid_row": null,
            "grid_template_areas": null,
            "grid_template_columns": null,
            "grid_template_rows": null,
            "height": null,
            "justify_content": null,
            "justify_items": null,
            "left": null,
            "margin": null,
            "max_height": null,
            "max_width": null,
            "min_height": null,
            "min_width": null,
            "object_fit": null,
            "object_position": null,
            "order": null,
            "overflow": null,
            "overflow_x": null,
            "overflow_y": null,
            "padding": null,
            "right": null,
            "top": null,
            "visibility": null,
            "width": null
          }
        },
        "0e20f765a9ee47fa8cccffaafec636e4": {
          "model_module": "@jupyter-widgets/controls",
          "model_name": "DescriptionStyleModel",
          "model_module_version": "1.5.0",
          "state": {
            "_model_module": "@jupyter-widgets/controls",
            "_model_module_version": "1.5.0",
            "_model_name": "DescriptionStyleModel",
            "_view_count": null,
            "_view_module": "@jupyter-widgets/base",
            "_view_module_version": "1.2.0",
            "_view_name": "StyleView",
            "description_width": ""
          }
        },
        "852fc4fe8b99484caa852e65c56046ad": {
          "model_module": "@jupyter-widgets/controls",
          "model_name": "HBoxModel",
          "model_module_version": "1.5.0",
          "state": {
            "_dom_classes": [],
            "_model_module": "@jupyter-widgets/controls",
            "_model_module_version": "1.5.0",
            "_model_name": "HBoxModel",
            "_view_count": null,
            "_view_module": "@jupyter-widgets/controls",
            "_view_module_version": "1.5.0",
            "_view_name": "HBoxView",
            "box_style": "",
            "children": [
              "IPY_MODEL_906ebf6c279244a39d34b3ca574cc9eb",
              "IPY_MODEL_184cb9f1009743708786471e9687f38d",
              "IPY_MODEL_8fa1e04ec6094f69a3435ab23c084540"
            ],
            "layout": "IPY_MODEL_95c70969a03541a3ba438c6a42ab8ed1"
          }
        },
        "906ebf6c279244a39d34b3ca574cc9eb": {
          "model_module": "@jupyter-widgets/controls",
          "model_name": "HTMLModel",
          "model_module_version": "1.5.0",
          "state": {
            "_dom_classes": [],
            "_model_module": "@jupyter-widgets/controls",
            "_model_module_version": "1.5.0",
            "_model_name": "HTMLModel",
            "_view_count": null,
            "_view_module": "@jupyter-widgets/controls",
            "_view_module_version": "1.5.0",
            "_view_name": "HTMLView",
            "description": "",
            "description_tooltip": null,
            "layout": "IPY_MODEL_ea444d28699544e29ed5d6e287ead013",
            "placeholder": "​",
            "style": "IPY_MODEL_9177d338343642909dd8c4c9b6bf96db",
            "value": "special_tokens_map.json: 100%"
          }
        },
        "184cb9f1009743708786471e9687f38d": {
          "model_module": "@jupyter-widgets/controls",
          "model_name": "FloatProgressModel",
          "model_module_version": "1.5.0",
          "state": {
            "_dom_classes": [],
            "_model_module": "@jupyter-widgets/controls",
            "_model_module_version": "1.5.0",
            "_model_name": "FloatProgressModel",
            "_view_count": null,
            "_view_module": "@jupyter-widgets/controls",
            "_view_module_version": "1.5.0",
            "_view_name": "ProgressView",
            "bar_style": "success",
            "description": "",
            "description_tooltip": null,
            "layout": "IPY_MODEL_d1baa0d850814d6c96e3e54879faef61",
            "max": 695,
            "min": 0,
            "orientation": "horizontal",
            "style": "IPY_MODEL_8e8f967fcb5e4921865b7ef9f0251ee1",
            "value": 695
          }
        },
        "8fa1e04ec6094f69a3435ab23c084540": {
          "model_module": "@jupyter-widgets/controls",
          "model_name": "HTMLModel",
          "model_module_version": "1.5.0",
          "state": {
            "_dom_classes": [],
            "_model_module": "@jupyter-widgets/controls",
            "_model_module_version": "1.5.0",
            "_model_name": "HTMLModel",
            "_view_count": null,
            "_view_module": "@jupyter-widgets/controls",
            "_view_module_version": "1.5.0",
            "_view_name": "HTMLView",
            "description": "",
            "description_tooltip": null,
            "layout": "IPY_MODEL_38fb554bb7564a18a0b7462c0db3dcc7",
            "placeholder": "​",
            "style": "IPY_MODEL_4eebc538a1224242809f15e742c10a5a",
            "value": " 695/695 [00:00&lt;00:00, 8.98kB/s]"
          }
        },
        "95c70969a03541a3ba438c6a42ab8ed1": {
          "model_module": "@jupyter-widgets/base",
          "model_name": "LayoutModel",
          "model_module_version": "1.2.0",
          "state": {
            "_model_module": "@jupyter-widgets/base",
            "_model_module_version": "1.2.0",
            "_model_name": "LayoutModel",
            "_view_count": null,
            "_view_module": "@jupyter-widgets/base",
            "_view_module_version": "1.2.0",
            "_view_name": "LayoutView",
            "align_content": null,
            "align_items": null,
            "align_self": null,
            "border": null,
            "bottom": null,
            "display": null,
            "flex": null,
            "flex_flow": null,
            "grid_area": null,
            "grid_auto_columns": null,
            "grid_auto_flow": null,
            "grid_auto_rows": null,
            "grid_column": null,
            "grid_gap": null,
            "grid_row": null,
            "grid_template_areas": null,
            "grid_template_columns": null,
            "grid_template_rows": null,
            "height": null,
            "justify_content": null,
            "justify_items": null,
            "left": null,
            "margin": null,
            "max_height": null,
            "max_width": null,
            "min_height": null,
            "min_width": null,
            "object_fit": null,
            "object_position": null,
            "order": null,
            "overflow": null,
            "overflow_x": null,
            "overflow_y": null,
            "padding": null,
            "right": null,
            "top": null,
            "visibility": null,
            "width": null
          }
        },
        "ea444d28699544e29ed5d6e287ead013": {
          "model_module": "@jupyter-widgets/base",
          "model_name": "LayoutModel",
          "model_module_version": "1.2.0",
          "state": {
            "_model_module": "@jupyter-widgets/base",
            "_model_module_version": "1.2.0",
            "_model_name": "LayoutModel",
            "_view_count": null,
            "_view_module": "@jupyter-widgets/base",
            "_view_module_version": "1.2.0",
            "_view_name": "LayoutView",
            "align_content": null,
            "align_items": null,
            "align_self": null,
            "border": null,
            "bottom": null,
            "display": null,
            "flex": null,
            "flex_flow": null,
            "grid_area": null,
            "grid_auto_columns": null,
            "grid_auto_flow": null,
            "grid_auto_rows": null,
            "grid_column": null,
            "grid_gap": null,
            "grid_row": null,
            "grid_template_areas": null,
            "grid_template_columns": null,
            "grid_template_rows": null,
            "height": null,
            "justify_content": null,
            "justify_items": null,
            "left": null,
            "margin": null,
            "max_height": null,
            "max_width": null,
            "min_height": null,
            "min_width": null,
            "object_fit": null,
            "object_position": null,
            "order": null,
            "overflow": null,
            "overflow_x": null,
            "overflow_y": null,
            "padding": null,
            "right": null,
            "top": null,
            "visibility": null,
            "width": null
          }
        },
        "9177d338343642909dd8c4c9b6bf96db": {
          "model_module": "@jupyter-widgets/controls",
          "model_name": "DescriptionStyleModel",
          "model_module_version": "1.5.0",
          "state": {
            "_model_module": "@jupyter-widgets/controls",
            "_model_module_version": "1.5.0",
            "_model_name": "DescriptionStyleModel",
            "_view_count": null,
            "_view_module": "@jupyter-widgets/base",
            "_view_module_version": "1.2.0",
            "_view_name": "StyleView",
            "description_width": ""
          }
        },
        "d1baa0d850814d6c96e3e54879faef61": {
          "model_module": "@jupyter-widgets/base",
          "model_name": "LayoutModel",
          "model_module_version": "1.2.0",
          "state": {
            "_model_module": "@jupyter-widgets/base",
            "_model_module_version": "1.2.0",
            "_model_name": "LayoutModel",
            "_view_count": null,
            "_view_module": "@jupyter-widgets/base",
            "_view_module_version": "1.2.0",
            "_view_name": "LayoutView",
            "align_content": null,
            "align_items": null,
            "align_self": null,
            "border": null,
            "bottom": null,
            "display": null,
            "flex": null,
            "flex_flow": null,
            "grid_area": null,
            "grid_auto_columns": null,
            "grid_auto_flow": null,
            "grid_auto_rows": null,
            "grid_column": null,
            "grid_gap": null,
            "grid_row": null,
            "grid_template_areas": null,
            "grid_template_columns": null,
            "grid_template_rows": null,
            "height": null,
            "justify_content": null,
            "justify_items": null,
            "left": null,
            "margin": null,
            "max_height": null,
            "max_width": null,
            "min_height": null,
            "min_width": null,
            "object_fit": null,
            "object_position": null,
            "order": null,
            "overflow": null,
            "overflow_x": null,
            "overflow_y": null,
            "padding": null,
            "right": null,
            "top": null,
            "visibility": null,
            "width": null
          }
        },
        "8e8f967fcb5e4921865b7ef9f0251ee1": {
          "model_module": "@jupyter-widgets/controls",
          "model_name": "ProgressStyleModel",
          "model_module_version": "1.5.0",
          "state": {
            "_model_module": "@jupyter-widgets/controls",
            "_model_module_version": "1.5.0",
            "_model_name": "ProgressStyleModel",
            "_view_count": null,
            "_view_module": "@jupyter-widgets/base",
            "_view_module_version": "1.2.0",
            "_view_name": "StyleView",
            "bar_color": null,
            "description_width": ""
          }
        },
        "38fb554bb7564a18a0b7462c0db3dcc7": {
          "model_module": "@jupyter-widgets/base",
          "model_name": "LayoutModel",
          "model_module_version": "1.2.0",
          "state": {
            "_model_module": "@jupyter-widgets/base",
            "_model_module_version": "1.2.0",
            "_model_name": "LayoutModel",
            "_view_count": null,
            "_view_module": "@jupyter-widgets/base",
            "_view_module_version": "1.2.0",
            "_view_name": "LayoutView",
            "align_content": null,
            "align_items": null,
            "align_self": null,
            "border": null,
            "bottom": null,
            "display": null,
            "flex": null,
            "flex_flow": null,
            "grid_area": null,
            "grid_auto_columns": null,
            "grid_auto_flow": null,
            "grid_auto_rows": null,
            "grid_column": null,
            "grid_gap": null,
            "grid_row": null,
            "grid_template_areas": null,
            "grid_template_columns": null,
            "grid_template_rows": null,
            "height": null,
            "justify_content": null,
            "justify_items": null,
            "left": null,
            "margin": null,
            "max_height": null,
            "max_width": null,
            "min_height": null,
            "min_width": null,
            "object_fit": null,
            "object_position": null,
            "order": null,
            "overflow": null,
            "overflow_x": null,
            "overflow_y": null,
            "padding": null,
            "right": null,
            "top": null,
            "visibility": null,
            "width": null
          }
        },
        "4eebc538a1224242809f15e742c10a5a": {
          "model_module": "@jupyter-widgets/controls",
          "model_name": "DescriptionStyleModel",
          "model_module_version": "1.5.0",
          "state": {
            "_model_module": "@jupyter-widgets/controls",
            "_model_module_version": "1.5.0",
            "_model_name": "DescriptionStyleModel",
            "_view_count": null,
            "_view_module": "@jupyter-widgets/base",
            "_view_module_version": "1.2.0",
            "_view_name": "StyleView",
            "description_width": ""
          }
        },
        "92e57e7704d14187b493f2288000db0b": {
          "model_module": "@jupyter-widgets/controls",
          "model_name": "HBoxModel",
          "model_module_version": "1.5.0",
          "state": {
            "_dom_classes": [],
            "_model_module": "@jupyter-widgets/controls",
            "_model_module_version": "1.5.0",
            "_model_name": "HBoxModel",
            "_view_count": null,
            "_view_module": "@jupyter-widgets/controls",
            "_view_module_version": "1.5.0",
            "_view_name": "HBoxView",
            "box_style": "",
            "children": [
              "IPY_MODEL_d7fb1eb5ed3f41a6b6703312512a00a8",
              "IPY_MODEL_7fbbee199f5843a59ce9777534c02f7e",
              "IPY_MODEL_65444881b52b4afaa09226c2017771fe"
            ],
            "layout": "IPY_MODEL_99c2df32c19e4961ae55754907128beb"
          }
        },
        "d7fb1eb5ed3f41a6b6703312512a00a8": {
          "model_module": "@jupyter-widgets/controls",
          "model_name": "HTMLModel",
          "model_module_version": "1.5.0",
          "state": {
            "_dom_classes": [],
            "_model_module": "@jupyter-widgets/controls",
            "_model_module_version": "1.5.0",
            "_model_name": "HTMLModel",
            "_view_count": null,
            "_view_module": "@jupyter-widgets/controls",
            "_view_module_version": "1.5.0",
            "_view_name": "HTMLView",
            "description": "",
            "description_tooltip": null,
            "layout": "IPY_MODEL_9ae6e157f29b4cabba8826e8460f9758",
            "placeholder": "​",
            "style": "IPY_MODEL_cf560bb363a0476c853d70d62cbe8da7",
            "value": "tokenizer.json: 100%"
          }
        },
        "7fbbee199f5843a59ce9777534c02f7e": {
          "model_module": "@jupyter-widgets/controls",
          "model_name": "FloatProgressModel",
          "model_module_version": "1.5.0",
          "state": {
            "_dom_classes": [],
            "_model_module": "@jupyter-widgets/controls",
            "_model_module_version": "1.5.0",
            "_model_name": "FloatProgressModel",
            "_view_count": null,
            "_view_module": "@jupyter-widgets/controls",
            "_view_module_version": "1.5.0",
            "_view_name": "ProgressView",
            "bar_style": "success",
            "description": "",
            "description_tooltip": null,
            "layout": "IPY_MODEL_b8dfb34348f740aa8a63084999ae8060",
            "max": 711396,
            "min": 0,
            "orientation": "horizontal",
            "style": "IPY_MODEL_9eada2f3135e45ac82f11989e0193877",
            "value": 711396
          }
        },
        "65444881b52b4afaa09226c2017771fe": {
          "model_module": "@jupyter-widgets/controls",
          "model_name": "HTMLModel",
          "model_module_version": "1.5.0",
          "state": {
            "_dom_classes": [],
            "_model_module": "@jupyter-widgets/controls",
            "_model_module_version": "1.5.0",
            "_model_name": "HTMLModel",
            "_view_count": null,
            "_view_module": "@jupyter-widgets/controls",
            "_view_module_version": "1.5.0",
            "_view_name": "HTMLView",
            "description": "",
            "description_tooltip": null,
            "layout": "IPY_MODEL_094df7e897424bb79dfb3cca7b407f9d",
            "placeholder": "​",
            "style": "IPY_MODEL_f3cf66a8ffe74445941d8c904b745ff4",
            "value": " 711k/711k [00:00&lt;00:00, 3.57MB/s]"
          }
        },
        "99c2df32c19e4961ae55754907128beb": {
          "model_module": "@jupyter-widgets/base",
          "model_name": "LayoutModel",
          "model_module_version": "1.2.0",
          "state": {
            "_model_module": "@jupyter-widgets/base",
            "_model_module_version": "1.2.0",
            "_model_name": "LayoutModel",
            "_view_count": null,
            "_view_module": "@jupyter-widgets/base",
            "_view_module_version": "1.2.0",
            "_view_name": "LayoutView",
            "align_content": null,
            "align_items": null,
            "align_self": null,
            "border": null,
            "bottom": null,
            "display": null,
            "flex": null,
            "flex_flow": null,
            "grid_area": null,
            "grid_auto_columns": null,
            "grid_auto_flow": null,
            "grid_auto_rows": null,
            "grid_column": null,
            "grid_gap": null,
            "grid_row": null,
            "grid_template_areas": null,
            "grid_template_columns": null,
            "grid_template_rows": null,
            "height": null,
            "justify_content": null,
            "justify_items": null,
            "left": null,
            "margin": null,
            "max_height": null,
            "max_width": null,
            "min_height": null,
            "min_width": null,
            "object_fit": null,
            "object_position": null,
            "order": null,
            "overflow": null,
            "overflow_x": null,
            "overflow_y": null,
            "padding": null,
            "right": null,
            "top": null,
            "visibility": null,
            "width": null
          }
        },
        "9ae6e157f29b4cabba8826e8460f9758": {
          "model_module": "@jupyter-widgets/base",
          "model_name": "LayoutModel",
          "model_module_version": "1.2.0",
          "state": {
            "_model_module": "@jupyter-widgets/base",
            "_model_module_version": "1.2.0",
            "_model_name": "LayoutModel",
            "_view_count": null,
            "_view_module": "@jupyter-widgets/base",
            "_view_module_version": "1.2.0",
            "_view_name": "LayoutView",
            "align_content": null,
            "align_items": null,
            "align_self": null,
            "border": null,
            "bottom": null,
            "display": null,
            "flex": null,
            "flex_flow": null,
            "grid_area": null,
            "grid_auto_columns": null,
            "grid_auto_flow": null,
            "grid_auto_rows": null,
            "grid_column": null,
            "grid_gap": null,
            "grid_row": null,
            "grid_template_areas": null,
            "grid_template_columns": null,
            "grid_template_rows": null,
            "height": null,
            "justify_content": null,
            "justify_items": null,
            "left": null,
            "margin": null,
            "max_height": null,
            "max_width": null,
            "min_height": null,
            "min_width": null,
            "object_fit": null,
            "object_position": null,
            "order": null,
            "overflow": null,
            "overflow_x": null,
            "overflow_y": null,
            "padding": null,
            "right": null,
            "top": null,
            "visibility": null,
            "width": null
          }
        },
        "cf560bb363a0476c853d70d62cbe8da7": {
          "model_module": "@jupyter-widgets/controls",
          "model_name": "DescriptionStyleModel",
          "model_module_version": "1.5.0",
          "state": {
            "_model_module": "@jupyter-widgets/controls",
            "_model_module_version": "1.5.0",
            "_model_name": "DescriptionStyleModel",
            "_view_count": null,
            "_view_module": "@jupyter-widgets/base",
            "_view_module_version": "1.2.0",
            "_view_name": "StyleView",
            "description_width": ""
          }
        },
        "b8dfb34348f740aa8a63084999ae8060": {
          "model_module": "@jupyter-widgets/base",
          "model_name": "LayoutModel",
          "model_module_version": "1.2.0",
          "state": {
            "_model_module": "@jupyter-widgets/base",
            "_model_module_version": "1.2.0",
            "_model_name": "LayoutModel",
            "_view_count": null,
            "_view_module": "@jupyter-widgets/base",
            "_view_module_version": "1.2.0",
            "_view_name": "LayoutView",
            "align_content": null,
            "align_items": null,
            "align_self": null,
            "border": null,
            "bottom": null,
            "display": null,
            "flex": null,
            "flex_flow": null,
            "grid_area": null,
            "grid_auto_columns": null,
            "grid_auto_flow": null,
            "grid_auto_rows": null,
            "grid_column": null,
            "grid_gap": null,
            "grid_row": null,
            "grid_template_areas": null,
            "grid_template_columns": null,
            "grid_template_rows": null,
            "height": null,
            "justify_content": null,
            "justify_items": null,
            "left": null,
            "margin": null,
            "max_height": null,
            "max_width": null,
            "min_height": null,
            "min_width": null,
            "object_fit": null,
            "object_position": null,
            "order": null,
            "overflow": null,
            "overflow_x": null,
            "overflow_y": null,
            "padding": null,
            "right": null,
            "top": null,
            "visibility": null,
            "width": null
          }
        },
        "9eada2f3135e45ac82f11989e0193877": {
          "model_module": "@jupyter-widgets/controls",
          "model_name": "ProgressStyleModel",
          "model_module_version": "1.5.0",
          "state": {
            "_model_module": "@jupyter-widgets/controls",
            "_model_module_version": "1.5.0",
            "_model_name": "ProgressStyleModel",
            "_view_count": null,
            "_view_module": "@jupyter-widgets/base",
            "_view_module_version": "1.2.0",
            "_view_name": "StyleView",
            "bar_color": null,
            "description_width": ""
          }
        },
        "094df7e897424bb79dfb3cca7b407f9d": {
          "model_module": "@jupyter-widgets/base",
          "model_name": "LayoutModel",
          "model_module_version": "1.2.0",
          "state": {
            "_model_module": "@jupyter-widgets/base",
            "_model_module_version": "1.2.0",
            "_model_name": "LayoutModel",
            "_view_count": null,
            "_view_module": "@jupyter-widgets/base",
            "_view_module_version": "1.2.0",
            "_view_name": "LayoutView",
            "align_content": null,
            "align_items": null,
            "align_self": null,
            "border": null,
            "bottom": null,
            "display": null,
            "flex": null,
            "flex_flow": null,
            "grid_area": null,
            "grid_auto_columns": null,
            "grid_auto_flow": null,
            "grid_auto_rows": null,
            "grid_column": null,
            "grid_gap": null,
            "grid_row": null,
            "grid_template_areas": null,
            "grid_template_columns": null,
            "grid_template_rows": null,
            "height": null,
            "justify_content": null,
            "justify_items": null,
            "left": null,
            "margin": null,
            "max_height": null,
            "max_width": null,
            "min_height": null,
            "min_width": null,
            "object_fit": null,
            "object_position": null,
            "order": null,
            "overflow": null,
            "overflow_x": null,
            "overflow_y": null,
            "padding": null,
            "right": null,
            "top": null,
            "visibility": null,
            "width": null
          }
        },
        "f3cf66a8ffe74445941d8c904b745ff4": {
          "model_module": "@jupyter-widgets/controls",
          "model_name": "DescriptionStyleModel",
          "model_module_version": "1.5.0",
          "state": {
            "_model_module": "@jupyter-widgets/controls",
            "_model_module_version": "1.5.0",
            "_model_name": "DescriptionStyleModel",
            "_view_count": null,
            "_view_module": "@jupyter-widgets/base",
            "_view_module_version": "1.2.0",
            "_view_name": "StyleView",
            "description_width": ""
          }
        },
        "a38f81dda8b84922a6b309eb4b989754": {
          "model_module": "@jupyter-widgets/controls",
          "model_name": "HBoxModel",
          "model_module_version": "1.5.0",
          "state": {
            "_dom_classes": [],
            "_model_module": "@jupyter-widgets/controls",
            "_model_module_version": "1.5.0",
            "_model_name": "HBoxModel",
            "_view_count": null,
            "_view_module": "@jupyter-widgets/controls",
            "_view_module_version": "1.5.0",
            "_view_name": "HBoxView",
            "box_style": "",
            "children": [
              "IPY_MODEL_4ba6a35bf5e44baca7a75a2856c17d43",
              "IPY_MODEL_f0e368517701410fa7474fd9e089a28d",
              "IPY_MODEL_fe52d8bf8bc045f4a54027cc8b70b659"
            ],
            "layout": "IPY_MODEL_632345d727264d6696780e6c5e7bc6f1"
          }
        },
        "4ba6a35bf5e44baca7a75a2856c17d43": {
          "model_module": "@jupyter-widgets/controls",
          "model_name": "HTMLModel",
          "model_module_version": "1.5.0",
          "state": {
            "_dom_classes": [],
            "_model_module": "@jupyter-widgets/controls",
            "_model_module_version": "1.5.0",
            "_model_name": "HTMLModel",
            "_view_count": null,
            "_view_module": "@jupyter-widgets/controls",
            "_view_module_version": "1.5.0",
            "_view_name": "HTMLView",
            "description": "",
            "description_tooltip": null,
            "layout": "IPY_MODEL_8b5c4ba6a96442d49e03a50fefe7f2aa",
            "placeholder": "​",
            "style": "IPY_MODEL_a42a84d1fae44a27993c6dffcbb9f8e5",
            "value": "config.json: 100%"
          }
        },
        "f0e368517701410fa7474fd9e089a28d": {
          "model_module": "@jupyter-widgets/controls",
          "model_name": "FloatProgressModel",
          "model_module_version": "1.5.0",
          "state": {
            "_dom_classes": [],
            "_model_module": "@jupyter-widgets/controls",
            "_model_module_version": "1.5.0",
            "_model_name": "FloatProgressModel",
            "_view_count": null,
            "_view_module": "@jupyter-widgets/controls",
            "_view_module_version": "1.5.0",
            "_view_name": "ProgressView",
            "bar_style": "success",
            "description": "",
            "description_tooltip": null,
            "layout": "IPY_MODEL_64924caf4b494efa9bfaa1b152ea7f6b",
            "max": 740,
            "min": 0,
            "orientation": "horizontal",
            "style": "IPY_MODEL_802efee0dbc84fefab46a7eb349730a2",
            "value": 740
          }
        },
        "fe52d8bf8bc045f4a54027cc8b70b659": {
          "model_module": "@jupyter-widgets/controls",
          "model_name": "HTMLModel",
          "model_module_version": "1.5.0",
          "state": {
            "_dom_classes": [],
            "_model_module": "@jupyter-widgets/controls",
            "_model_module_version": "1.5.0",
            "_model_name": "HTMLModel",
            "_view_count": null,
            "_view_module": "@jupyter-widgets/controls",
            "_view_module_version": "1.5.0",
            "_view_name": "HTMLView",
            "description": "",
            "description_tooltip": null,
            "layout": "IPY_MODEL_38dd978055854a93bee08460f2038f93",
            "placeholder": "​",
            "style": "IPY_MODEL_f1a335d16aaa4e85a3f3d06ad6963a6d",
            "value": " 740/740 [00:00&lt;00:00, 7.35kB/s]"
          }
        },
        "632345d727264d6696780e6c5e7bc6f1": {
          "model_module": "@jupyter-widgets/base",
          "model_name": "LayoutModel",
          "model_module_version": "1.2.0",
          "state": {
            "_model_module": "@jupyter-widgets/base",
            "_model_module_version": "1.2.0",
            "_model_name": "LayoutModel",
            "_view_count": null,
            "_view_module": "@jupyter-widgets/base",
            "_view_module_version": "1.2.0",
            "_view_name": "LayoutView",
            "align_content": null,
            "align_items": null,
            "align_self": null,
            "border": null,
            "bottom": null,
            "display": null,
            "flex": null,
            "flex_flow": null,
            "grid_area": null,
            "grid_auto_columns": null,
            "grid_auto_flow": null,
            "grid_auto_rows": null,
            "grid_column": null,
            "grid_gap": null,
            "grid_row": null,
            "grid_template_areas": null,
            "grid_template_columns": null,
            "grid_template_rows": null,
            "height": null,
            "justify_content": null,
            "justify_items": null,
            "left": null,
            "margin": null,
            "max_height": null,
            "max_width": null,
            "min_height": null,
            "min_width": null,
            "object_fit": null,
            "object_position": null,
            "order": null,
            "overflow": null,
            "overflow_x": null,
            "overflow_y": null,
            "padding": null,
            "right": null,
            "top": null,
            "visibility": null,
            "width": null
          }
        },
        "8b5c4ba6a96442d49e03a50fefe7f2aa": {
          "model_module": "@jupyter-widgets/base",
          "model_name": "LayoutModel",
          "model_module_version": "1.2.0",
          "state": {
            "_model_module": "@jupyter-widgets/base",
            "_model_module_version": "1.2.0",
            "_model_name": "LayoutModel",
            "_view_count": null,
            "_view_module": "@jupyter-widgets/base",
            "_view_module_version": "1.2.0",
            "_view_name": "LayoutView",
            "align_content": null,
            "align_items": null,
            "align_self": null,
            "border": null,
            "bottom": null,
            "display": null,
            "flex": null,
            "flex_flow": null,
            "grid_area": null,
            "grid_auto_columns": null,
            "grid_auto_flow": null,
            "grid_auto_rows": null,
            "grid_column": null,
            "grid_gap": null,
            "grid_row": null,
            "grid_template_areas": null,
            "grid_template_columns": null,
            "grid_template_rows": null,
            "height": null,
            "justify_content": null,
            "justify_items": null,
            "left": null,
            "margin": null,
            "max_height": null,
            "max_width": null,
            "min_height": null,
            "min_width": null,
            "object_fit": null,
            "object_position": null,
            "order": null,
            "overflow": null,
            "overflow_x": null,
            "overflow_y": null,
            "padding": null,
            "right": null,
            "top": null,
            "visibility": null,
            "width": null
          }
        },
        "a42a84d1fae44a27993c6dffcbb9f8e5": {
          "model_module": "@jupyter-widgets/controls",
          "model_name": "DescriptionStyleModel",
          "model_module_version": "1.5.0",
          "state": {
            "_model_module": "@jupyter-widgets/controls",
            "_model_module_version": "1.5.0",
            "_model_name": "DescriptionStyleModel",
            "_view_count": null,
            "_view_module": "@jupyter-widgets/base",
            "_view_module_version": "1.2.0",
            "_view_name": "StyleView",
            "description_width": ""
          }
        },
        "64924caf4b494efa9bfaa1b152ea7f6b": {
          "model_module": "@jupyter-widgets/base",
          "model_name": "LayoutModel",
          "model_module_version": "1.2.0",
          "state": {
            "_model_module": "@jupyter-widgets/base",
            "_model_module_version": "1.2.0",
            "_model_name": "LayoutModel",
            "_view_count": null,
            "_view_module": "@jupyter-widgets/base",
            "_view_module_version": "1.2.0",
            "_view_name": "LayoutView",
            "align_content": null,
            "align_items": null,
            "align_self": null,
            "border": null,
            "bottom": null,
            "display": null,
            "flex": null,
            "flex_flow": null,
            "grid_area": null,
            "grid_auto_columns": null,
            "grid_auto_flow": null,
            "grid_auto_rows": null,
            "grid_column": null,
            "grid_gap": null,
            "grid_row": null,
            "grid_template_areas": null,
            "grid_template_columns": null,
            "grid_template_rows": null,
            "height": null,
            "justify_content": null,
            "justify_items": null,
            "left": null,
            "margin": null,
            "max_height": null,
            "max_width": null,
            "min_height": null,
            "min_width": null,
            "object_fit": null,
            "object_position": null,
            "order": null,
            "overflow": null,
            "overflow_x": null,
            "overflow_y": null,
            "padding": null,
            "right": null,
            "top": null,
            "visibility": null,
            "width": null
          }
        },
        "802efee0dbc84fefab46a7eb349730a2": {
          "model_module": "@jupyter-widgets/controls",
          "model_name": "ProgressStyleModel",
          "model_module_version": "1.5.0",
          "state": {
            "_model_module": "@jupyter-widgets/controls",
            "_model_module_version": "1.5.0",
            "_model_name": "ProgressStyleModel",
            "_view_count": null,
            "_view_module": "@jupyter-widgets/base",
            "_view_module_version": "1.2.0",
            "_view_name": "StyleView",
            "bar_color": null,
            "description_width": ""
          }
        },
        "38dd978055854a93bee08460f2038f93": {
          "model_module": "@jupyter-widgets/base",
          "model_name": "LayoutModel",
          "model_module_version": "1.2.0",
          "state": {
            "_model_module": "@jupyter-widgets/base",
            "_model_module_version": "1.2.0",
            "_model_name": "LayoutModel",
            "_view_count": null,
            "_view_module": "@jupyter-widgets/base",
            "_view_module_version": "1.2.0",
            "_view_name": "LayoutView",
            "align_content": null,
            "align_items": null,
            "align_self": null,
            "border": null,
            "bottom": null,
            "display": null,
            "flex": null,
            "flex_flow": null,
            "grid_area": null,
            "grid_auto_columns": null,
            "grid_auto_flow": null,
            "grid_auto_rows": null,
            "grid_column": null,
            "grid_gap": null,
            "grid_row": null,
            "grid_template_areas": null,
            "grid_template_columns": null,
            "grid_template_rows": null,
            "height": null,
            "justify_content": null,
            "justify_items": null,
            "left": null,
            "margin": null,
            "max_height": null,
            "max_width": null,
            "min_height": null,
            "min_width": null,
            "object_fit": null,
            "object_position": null,
            "order": null,
            "overflow": null,
            "overflow_x": null,
            "overflow_y": null,
            "padding": null,
            "right": null,
            "top": null,
            "visibility": null,
            "width": null
          }
        },
        "f1a335d16aaa4e85a3f3d06ad6963a6d": {
          "model_module": "@jupyter-widgets/controls",
          "model_name": "DescriptionStyleModel",
          "model_module_version": "1.5.0",
          "state": {
            "_model_module": "@jupyter-widgets/controls",
            "_model_module_version": "1.5.0",
            "_model_name": "DescriptionStyleModel",
            "_view_count": null,
            "_view_module": "@jupyter-widgets/base",
            "_view_module_version": "1.2.0",
            "_view_name": "StyleView",
            "description_width": ""
          }
        },
        "84efba11300f4b5ea6c075ec733ae79a": {
          "model_module": "@jupyter-widgets/controls",
          "model_name": "HBoxModel",
          "model_module_version": "1.5.0",
          "state": {
            "_dom_classes": [],
            "_model_module": "@jupyter-widgets/controls",
            "_model_module_version": "1.5.0",
            "_model_name": "HBoxModel",
            "_view_count": null,
            "_view_module": "@jupyter-widgets/controls",
            "_view_module_version": "1.5.0",
            "_view_name": "HBoxView",
            "box_style": "",
            "children": [
              "IPY_MODEL_aec92bf964b14367a6b8b5a62ace28ee",
              "IPY_MODEL_6937648f191d42da995ef38f4e2c8a6e",
              "IPY_MODEL_f7299fd97ee442ad84f9990f1dd75a0e"
            ],
            "layout": "IPY_MODEL_6b3bfdf0a943473091dcf8eaee1d44b6"
          }
        },
        "aec92bf964b14367a6b8b5a62ace28ee": {
          "model_module": "@jupyter-widgets/controls",
          "model_name": "HTMLModel",
          "model_module_version": "1.5.0",
          "state": {
            "_dom_classes": [],
            "_model_module": "@jupyter-widgets/controls",
            "_model_module_version": "1.5.0",
            "_model_name": "HTMLModel",
            "_view_count": null,
            "_view_module": "@jupyter-widgets/controls",
            "_view_module_version": "1.5.0",
            "_view_name": "HTMLView",
            "description": "",
            "description_tooltip": null,
            "layout": "IPY_MODEL_9642ed95115b431b84eb91b91062ed5c",
            "placeholder": "​",
            "style": "IPY_MODEL_4f708ea4a95e476d846157db84e2916c",
            "value": "tokenizer_config.json: 100%"
          }
        },
        "6937648f191d42da995ef38f4e2c8a6e": {
          "model_module": "@jupyter-widgets/controls",
          "model_name": "FloatProgressModel",
          "model_module_version": "1.5.0",
          "state": {
            "_dom_classes": [],
            "_model_module": "@jupyter-widgets/controls",
            "_model_module_version": "1.5.0",
            "_model_name": "FloatProgressModel",
            "_view_count": null,
            "_view_module": "@jupyter-widgets/controls",
            "_view_module_version": "1.5.0",
            "_view_name": "ProgressView",
            "bar_style": "success",
            "description": "",
            "description_tooltip": null,
            "layout": "IPY_MODEL_c7493418f233493281937463259ffbd0",
            "max": 1242,
            "min": 0,
            "orientation": "horizontal",
            "style": "IPY_MODEL_e7284c9a3e2a4805b3c66c5d4e1afb16",
            "value": 1242
          }
        },
        "f7299fd97ee442ad84f9990f1dd75a0e": {
          "model_module": "@jupyter-widgets/controls",
          "model_name": "HTMLModel",
          "model_module_version": "1.5.0",
          "state": {
            "_dom_classes": [],
            "_model_module": "@jupyter-widgets/controls",
            "_model_module_version": "1.5.0",
            "_model_name": "HTMLModel",
            "_view_count": null,
            "_view_module": "@jupyter-widgets/controls",
            "_view_module_version": "1.5.0",
            "_view_name": "HTMLView",
            "description": "",
            "description_tooltip": null,
            "layout": "IPY_MODEL_d2e84e91fb21458db99a66600a50c1da",
            "placeholder": "​",
            "style": "IPY_MODEL_1c8e2b4c608c4ddc8b6f3ca0f941d92d",
            "value": " 1.24k/1.24k [00:00&lt;00:00, 13.6kB/s]"
          }
        },
        "6b3bfdf0a943473091dcf8eaee1d44b6": {
          "model_module": "@jupyter-widgets/base",
          "model_name": "LayoutModel",
          "model_module_version": "1.2.0",
          "state": {
            "_model_module": "@jupyter-widgets/base",
            "_model_module_version": "1.2.0",
            "_model_name": "LayoutModel",
            "_view_count": null,
            "_view_module": "@jupyter-widgets/base",
            "_view_module_version": "1.2.0",
            "_view_name": "LayoutView",
            "align_content": null,
            "align_items": null,
            "align_self": null,
            "border": null,
            "bottom": null,
            "display": null,
            "flex": null,
            "flex_flow": null,
            "grid_area": null,
            "grid_auto_columns": null,
            "grid_auto_flow": null,
            "grid_auto_rows": null,
            "grid_column": null,
            "grid_gap": null,
            "grid_row": null,
            "grid_template_areas": null,
            "grid_template_columns": null,
            "grid_template_rows": null,
            "height": null,
            "justify_content": null,
            "justify_items": null,
            "left": null,
            "margin": null,
            "max_height": null,
            "max_width": null,
            "min_height": null,
            "min_width": null,
            "object_fit": null,
            "object_position": null,
            "order": null,
            "overflow": null,
            "overflow_x": null,
            "overflow_y": null,
            "padding": null,
            "right": null,
            "top": null,
            "visibility": null,
            "width": null
          }
        },
        "9642ed95115b431b84eb91b91062ed5c": {
          "model_module": "@jupyter-widgets/base",
          "model_name": "LayoutModel",
          "model_module_version": "1.2.0",
          "state": {
            "_model_module": "@jupyter-widgets/base",
            "_model_module_version": "1.2.0",
            "_model_name": "LayoutModel",
            "_view_count": null,
            "_view_module": "@jupyter-widgets/base",
            "_view_module_version": "1.2.0",
            "_view_name": "LayoutView",
            "align_content": null,
            "align_items": null,
            "align_self": null,
            "border": null,
            "bottom": null,
            "display": null,
            "flex": null,
            "flex_flow": null,
            "grid_area": null,
            "grid_auto_columns": null,
            "grid_auto_flow": null,
            "grid_auto_rows": null,
            "grid_column": null,
            "grid_gap": null,
            "grid_row": null,
            "grid_template_areas": null,
            "grid_template_columns": null,
            "grid_template_rows": null,
            "height": null,
            "justify_content": null,
            "justify_items": null,
            "left": null,
            "margin": null,
            "max_height": null,
            "max_width": null,
            "min_height": null,
            "min_width": null,
            "object_fit": null,
            "object_position": null,
            "order": null,
            "overflow": null,
            "overflow_x": null,
            "overflow_y": null,
            "padding": null,
            "right": null,
            "top": null,
            "visibility": null,
            "width": null
          }
        },
        "4f708ea4a95e476d846157db84e2916c": {
          "model_module": "@jupyter-widgets/controls",
          "model_name": "DescriptionStyleModel",
          "model_module_version": "1.5.0",
          "state": {
            "_model_module": "@jupyter-widgets/controls",
            "_model_module_version": "1.5.0",
            "_model_name": "DescriptionStyleModel",
            "_view_count": null,
            "_view_module": "@jupyter-widgets/base",
            "_view_module_version": "1.2.0",
            "_view_name": "StyleView",
            "description_width": ""
          }
        },
        "c7493418f233493281937463259ffbd0": {
          "model_module": "@jupyter-widgets/base",
          "model_name": "LayoutModel",
          "model_module_version": "1.2.0",
          "state": {
            "_model_module": "@jupyter-widgets/base",
            "_model_module_version": "1.2.0",
            "_model_name": "LayoutModel",
            "_view_count": null,
            "_view_module": "@jupyter-widgets/base",
            "_view_module_version": "1.2.0",
            "_view_name": "LayoutView",
            "align_content": null,
            "align_items": null,
            "align_self": null,
            "border": null,
            "bottom": null,
            "display": null,
            "flex": null,
            "flex_flow": null,
            "grid_area": null,
            "grid_auto_columns": null,
            "grid_auto_flow": null,
            "grid_auto_rows": null,
            "grid_column": null,
            "grid_gap": null,
            "grid_row": null,
            "grid_template_areas": null,
            "grid_template_columns": null,
            "grid_template_rows": null,
            "height": null,
            "justify_content": null,
            "justify_items": null,
            "left": null,
            "margin": null,
            "max_height": null,
            "max_width": null,
            "min_height": null,
            "min_width": null,
            "object_fit": null,
            "object_position": null,
            "order": null,
            "overflow": null,
            "overflow_x": null,
            "overflow_y": null,
            "padding": null,
            "right": null,
            "top": null,
            "visibility": null,
            "width": null
          }
        },
        "e7284c9a3e2a4805b3c66c5d4e1afb16": {
          "model_module": "@jupyter-widgets/controls",
          "model_name": "ProgressStyleModel",
          "model_module_version": "1.5.0",
          "state": {
            "_model_module": "@jupyter-widgets/controls",
            "_model_module_version": "1.5.0",
            "_model_name": "ProgressStyleModel",
            "_view_count": null,
            "_view_module": "@jupyter-widgets/base",
            "_view_module_version": "1.2.0",
            "_view_name": "StyleView",
            "bar_color": null,
            "description_width": ""
          }
        },
        "d2e84e91fb21458db99a66600a50c1da": {
          "model_module": "@jupyter-widgets/base",
          "model_name": "LayoutModel",
          "model_module_version": "1.2.0",
          "state": {
            "_model_module": "@jupyter-widgets/base",
            "_model_module_version": "1.2.0",
            "_model_name": "LayoutModel",
            "_view_count": null,
            "_view_module": "@jupyter-widgets/base",
            "_view_module_version": "1.2.0",
            "_view_name": "LayoutView",
            "align_content": null,
            "align_items": null,
            "align_self": null,
            "border": null,
            "bottom": null,
            "display": null,
            "flex": null,
            "flex_flow": null,
            "grid_area": null,
            "grid_auto_columns": null,
            "grid_auto_flow": null,
            "grid_auto_rows": null,
            "grid_column": null,
            "grid_gap": null,
            "grid_row": null,
            "grid_template_areas": null,
            "grid_template_columns": null,
            "grid_template_rows": null,
            "height": null,
            "justify_content": null,
            "justify_items": null,
            "left": null,
            "margin": null,
            "max_height": null,
            "max_width": null,
            "min_height": null,
            "min_width": null,
            "object_fit": null,
            "object_position": null,
            "order": null,
            "overflow": null,
            "overflow_x": null,
            "overflow_y": null,
            "padding": null,
            "right": null,
            "top": null,
            "visibility": null,
            "width": null
          }
        },
        "1c8e2b4c608c4ddc8b6f3ca0f941d92d": {
          "model_module": "@jupyter-widgets/controls",
          "model_name": "DescriptionStyleModel",
          "model_module_version": "1.5.0",
          "state": {
            "_model_module": "@jupyter-widgets/controls",
            "_model_module_version": "1.5.0",
            "_model_name": "DescriptionStyleModel",
            "_view_count": null,
            "_view_module": "@jupyter-widgets/base",
            "_view_module_version": "1.2.0",
            "_view_name": "StyleView",
            "description_width": ""
          }
        },
        "938377defe834bd3a0001a6757edab0a": {
          "model_module": "@jupyter-widgets/controls",
          "model_name": "HBoxModel",
          "model_module_version": "1.5.0",
          "state": {
            "_dom_classes": [],
            "_model_module": "@jupyter-widgets/controls",
            "_model_module_version": "1.5.0",
            "_model_name": "HBoxModel",
            "_view_count": null,
            "_view_module": "@jupyter-widgets/controls",
            "_view_module_version": "1.5.0",
            "_view_name": "HBoxView",
            "box_style": "",
            "children": [
              "IPY_MODEL_11f9133c9e174a729947a6ce393f0a32",
              "IPY_MODEL_101c2cd79d8741cb95ad722616a6de96",
              "IPY_MODEL_96b91e0bf9ef44fdad1241c47c30477f"
            ],
            "layout": "IPY_MODEL_cfc76ce9a8e04519a7005769bbe553df"
          }
        },
        "11f9133c9e174a729947a6ce393f0a32": {
          "model_module": "@jupyter-widgets/controls",
          "model_name": "HTMLModel",
          "model_module_version": "1.5.0",
          "state": {
            "_dom_classes": [],
            "_model_module": "@jupyter-widgets/controls",
            "_model_module_version": "1.5.0",
            "_model_name": "HTMLModel",
            "_view_count": null,
            "_view_module": "@jupyter-widgets/controls",
            "_view_module_version": "1.5.0",
            "_view_name": "HTMLView",
            "description": "",
            "description_tooltip": null,
            "layout": "IPY_MODEL_d96caeb7e58a4229a89d490abba9a75c",
            "placeholder": "​",
            "style": "IPY_MODEL_16f7ebe941eb4957a53d7f9364dd1931",
            "value": "model_optimized.onnx: 100%"
          }
        },
        "101c2cd79d8741cb95ad722616a6de96": {
          "model_module": "@jupyter-widgets/controls",
          "model_name": "FloatProgressModel",
          "model_module_version": "1.5.0",
          "state": {
            "_dom_classes": [],
            "_model_module": "@jupyter-widgets/controls",
            "_model_module_version": "1.5.0",
            "_model_name": "FloatProgressModel",
            "_view_count": null,
            "_view_module": "@jupyter-widgets/controls",
            "_view_module_version": "1.5.0",
            "_view_name": "ProgressView",
            "bar_style": "success",
            "description": "",
            "description_tooltip": null,
            "layout": "IPY_MODEL_096822cb67994adab8e5df31403d14f6",
            "max": 217824172,
            "min": 0,
            "orientation": "horizontal",
            "style": "IPY_MODEL_d088110c39514c658c2c4ad66fe15c5a",
            "value": 217824172
          }
        },
        "96b91e0bf9ef44fdad1241c47c30477f": {
          "model_module": "@jupyter-widgets/controls",
          "model_name": "HTMLModel",
          "model_module_version": "1.5.0",
          "state": {
            "_dom_classes": [],
            "_model_module": "@jupyter-widgets/controls",
            "_model_module_version": "1.5.0",
            "_model_name": "HTMLModel",
            "_view_count": null,
            "_view_module": "@jupyter-widgets/controls",
            "_view_module_version": "1.5.0",
            "_view_name": "HTMLView",
            "description": "",
            "description_tooltip": null,
            "layout": "IPY_MODEL_8445d681b8cd4b0fb909e5943753be8c",
            "placeholder": "​",
            "style": "IPY_MODEL_f7d9a4d2f3ad4133bf73a42b74b36b13",
            "value": " 218M/218M [00:01&lt;00:00, 206MB/s]"
          }
        },
        "cfc76ce9a8e04519a7005769bbe553df": {
          "model_module": "@jupyter-widgets/base",
          "model_name": "LayoutModel",
          "model_module_version": "1.2.0",
          "state": {
            "_model_module": "@jupyter-widgets/base",
            "_model_module_version": "1.2.0",
            "_model_name": "LayoutModel",
            "_view_count": null,
            "_view_module": "@jupyter-widgets/base",
            "_view_module_version": "1.2.0",
            "_view_name": "LayoutView",
            "align_content": null,
            "align_items": null,
            "align_self": null,
            "border": null,
            "bottom": null,
            "display": null,
            "flex": null,
            "flex_flow": null,
            "grid_area": null,
            "grid_auto_columns": null,
            "grid_auto_flow": null,
            "grid_auto_rows": null,
            "grid_column": null,
            "grid_gap": null,
            "grid_row": null,
            "grid_template_areas": null,
            "grid_template_columns": null,
            "grid_template_rows": null,
            "height": null,
            "justify_content": null,
            "justify_items": null,
            "left": null,
            "margin": null,
            "max_height": null,
            "max_width": null,
            "min_height": null,
            "min_width": null,
            "object_fit": null,
            "object_position": null,
            "order": null,
            "overflow": null,
            "overflow_x": null,
            "overflow_y": null,
            "padding": null,
            "right": null,
            "top": null,
            "visibility": null,
            "width": null
          }
        },
        "d96caeb7e58a4229a89d490abba9a75c": {
          "model_module": "@jupyter-widgets/base",
          "model_name": "LayoutModel",
          "model_module_version": "1.2.0",
          "state": {
            "_model_module": "@jupyter-widgets/base",
            "_model_module_version": "1.2.0",
            "_model_name": "LayoutModel",
            "_view_count": null,
            "_view_module": "@jupyter-widgets/base",
            "_view_module_version": "1.2.0",
            "_view_name": "LayoutView",
            "align_content": null,
            "align_items": null,
            "align_self": null,
            "border": null,
            "bottom": null,
            "display": null,
            "flex": null,
            "flex_flow": null,
            "grid_area": null,
            "grid_auto_columns": null,
            "grid_auto_flow": null,
            "grid_auto_rows": null,
            "grid_column": null,
            "grid_gap": null,
            "grid_row": null,
            "grid_template_areas": null,
            "grid_template_columns": null,
            "grid_template_rows": null,
            "height": null,
            "justify_content": null,
            "justify_items": null,
            "left": null,
            "margin": null,
            "max_height": null,
            "max_width": null,
            "min_height": null,
            "min_width": null,
            "object_fit": null,
            "object_position": null,
            "order": null,
            "overflow": null,
            "overflow_x": null,
            "overflow_y": null,
            "padding": null,
            "right": null,
            "top": null,
            "visibility": null,
            "width": null
          }
        },
        "16f7ebe941eb4957a53d7f9364dd1931": {
          "model_module": "@jupyter-widgets/controls",
          "model_name": "DescriptionStyleModel",
          "model_module_version": "1.5.0",
          "state": {
            "_model_module": "@jupyter-widgets/controls",
            "_model_module_version": "1.5.0",
            "_model_name": "DescriptionStyleModel",
            "_view_count": null,
            "_view_module": "@jupyter-widgets/base",
            "_view_module_version": "1.2.0",
            "_view_name": "StyleView",
            "description_width": ""
          }
        },
        "096822cb67994adab8e5df31403d14f6": {
          "model_module": "@jupyter-widgets/base",
          "model_name": "LayoutModel",
          "model_module_version": "1.2.0",
          "state": {
            "_model_module": "@jupyter-widgets/base",
            "_model_module_version": "1.2.0",
            "_model_name": "LayoutModel",
            "_view_count": null,
            "_view_module": "@jupyter-widgets/base",
            "_view_module_version": "1.2.0",
            "_view_name": "LayoutView",
            "align_content": null,
            "align_items": null,
            "align_self": null,
            "border": null,
            "bottom": null,
            "display": null,
            "flex": null,
            "flex_flow": null,
            "grid_area": null,
            "grid_auto_columns": null,
            "grid_auto_flow": null,
            "grid_auto_rows": null,
            "grid_column": null,
            "grid_gap": null,
            "grid_row": null,
            "grid_template_areas": null,
            "grid_template_columns": null,
            "grid_template_rows": null,
            "height": null,
            "justify_content": null,
            "justify_items": null,
            "left": null,
            "margin": null,
            "max_height": null,
            "max_width": null,
            "min_height": null,
            "min_width": null,
            "object_fit": null,
            "object_position": null,
            "order": null,
            "overflow": null,
            "overflow_x": null,
            "overflow_y": null,
            "padding": null,
            "right": null,
            "top": null,
            "visibility": null,
            "width": null
          }
        },
        "d088110c39514c658c2c4ad66fe15c5a": {
          "model_module": "@jupyter-widgets/controls",
          "model_name": "ProgressStyleModel",
          "model_module_version": "1.5.0",
          "state": {
            "_model_module": "@jupyter-widgets/controls",
            "_model_module_version": "1.5.0",
            "_model_name": "ProgressStyleModel",
            "_view_count": null,
            "_view_module": "@jupyter-widgets/base",
            "_view_module_version": "1.2.0",
            "_view_name": "StyleView",
            "bar_color": null,
            "description_width": ""
          }
        },
        "8445d681b8cd4b0fb909e5943753be8c": {
          "model_module": "@jupyter-widgets/base",
          "model_name": "LayoutModel",
          "model_module_version": "1.2.0",
          "state": {
            "_model_module": "@jupyter-widgets/base",
            "_model_module_version": "1.2.0",
            "_model_name": "LayoutModel",
            "_view_count": null,
            "_view_module": "@jupyter-widgets/base",
            "_view_module_version": "1.2.0",
            "_view_name": "LayoutView",
            "align_content": null,
            "align_items": null,
            "align_self": null,
            "border": null,
            "bottom": null,
            "display": null,
            "flex": null,
            "flex_flow": null,
            "grid_area": null,
            "grid_auto_columns": null,
            "grid_auto_flow": null,
            "grid_auto_rows": null,
            "grid_column": null,
            "grid_gap": null,
            "grid_row": null,
            "grid_template_areas": null,
            "grid_template_columns": null,
            "grid_template_rows": null,
            "height": null,
            "justify_content": null,
            "justify_items": null,
            "left": null,
            "margin": null,
            "max_height": null,
            "max_width": null,
            "min_height": null,
            "min_width": null,
            "object_fit": null,
            "object_position": null,
            "order": null,
            "overflow": null,
            "overflow_x": null,
            "overflow_y": null,
            "padding": null,
            "right": null,
            "top": null,
            "visibility": null,
            "width": null
          }
        },
        "f7d9a4d2f3ad4133bf73a42b74b36b13": {
          "model_module": "@jupyter-widgets/controls",
          "model_name": "DescriptionStyleModel",
          "model_module_version": "1.5.0",
          "state": {
            "_model_module": "@jupyter-widgets/controls",
            "_model_module_version": "1.5.0",
            "_model_name": "DescriptionStyleModel",
            "_view_count": null,
            "_view_module": "@jupyter-widgets/base",
            "_view_module_version": "1.2.0",
            "_view_name": "StyleView",
            "description_width": ""
          }
        }
      }
    }
  },
  "cells": [
    {
      "cell_type": "code",
      "execution_count": null,
      "metadata": {
        "id": "3-wvIiFhkBYR",
        "colab": {
          "base_uri": "https://localhost:8080/"
        },
        "outputId": "cc897df0-047e-43b0-b09f-b33ca55c4c50"
      },
      "outputs": [
        {
          "output_type": "stream",
          "name": "stdout",
          "text": [
            "\u001b[31mERROR: pip's dependency resolver does not currently take into account all the packages that are installed. This behaviour is the source of the following dependency conflicts.\n",
            "cudf-cu12 24.4.1 requires protobuf<5,>=3.20, but you have protobuf 5.27.1 which is incompatible.\n",
            "google-ai-generativelanguage 0.6.4 requires protobuf!=3.20.0,!=3.20.1,!=4.21.0,!=4.21.1,!=4.21.2,!=4.21.3,!=4.21.4,!=4.21.5,<5.0.0dev,>=3.19.5, but you have protobuf 5.27.1 which is incompatible.\n",
            "google-api-core 2.11.1 requires protobuf!=3.20.0,!=3.20.1,!=4.21.0,!=4.21.1,!=4.21.2,!=4.21.3,!=4.21.4,!=4.21.5,<5.0.0.dev0,>=3.19.5, but you have protobuf 5.27.1 which is incompatible.\n",
            "google-cloud-aiplatform 1.54.1 requires protobuf!=3.20.0,!=3.20.1,!=4.21.0,!=4.21.1,!=4.21.2,!=4.21.3,!=4.21.4,!=4.21.5,<5.0.0dev,>=3.19.5, but you have protobuf 5.27.1 which is incompatible.\n",
            "google-cloud-bigquery-connection 1.12.1 requires protobuf!=3.20.0,!=3.20.1,!=4.21.0,!=4.21.1,!=4.21.2,!=4.21.3,!=4.21.4,!=4.21.5,<5.0.0dev,>=3.19.5, but you have protobuf 5.27.1 which is incompatible.\n",
            "google-cloud-bigquery-storage 2.25.0 requires protobuf!=3.20.0,!=3.20.1,!=4.21.0,!=4.21.1,!=4.21.2,!=4.21.3,!=4.21.4,!=4.21.5,<5.0.0dev,>=3.19.5, but you have protobuf 5.27.1 which is incompatible.\n",
            "google-cloud-datastore 2.15.2 requires protobuf!=3.20.0,!=3.20.1,!=4.21.0,!=4.21.1,!=4.21.2,!=4.21.3,!=4.21.4,!=4.21.5,<5.0.0dev,>=3.19.5, but you have protobuf 5.27.1 which is incompatible.\n",
            "google-cloud-firestore 2.11.1 requires protobuf!=3.20.0,!=3.20.1,!=4.21.0,!=4.21.1,!=4.21.2,!=4.21.3,!=4.21.4,!=4.21.5,<5.0.0dev,>=3.19.5, but you have protobuf 5.27.1 which is incompatible.\n",
            "google-cloud-functions 1.13.3 requires protobuf!=3.20.0,!=3.20.1,!=4.21.0,!=4.21.1,!=4.21.2,!=4.21.3,!=4.21.4,!=4.21.5,<5.0.0dev,>=3.19.5, but you have protobuf 5.27.1 which is incompatible.\n",
            "google-cloud-iam 2.15.0 requires protobuf!=3.20.0,!=3.20.1,!=4.21.0,!=4.21.1,!=4.21.2,!=4.21.3,!=4.21.4,!=4.21.5,<5.0.0dev,>=3.19.5, but you have protobuf 5.27.1 which is incompatible.\n",
            "google-cloud-language 2.13.3 requires protobuf!=3.20.0,!=3.20.1,!=4.21.0,!=4.21.1,!=4.21.2,!=4.21.3,!=4.21.4,!=4.21.5,<5.0.0dev,>=3.19.5, but you have protobuf 5.27.1 which is incompatible.\n",
            "google-cloud-resource-manager 1.12.3 requires protobuf!=3.20.0,!=3.20.1,!=4.21.0,!=4.21.1,!=4.21.2,!=4.21.3,!=4.21.4,!=4.21.5,<5.0.0dev,>=3.19.5, but you have protobuf 5.27.1 which is incompatible.\n",
            "google-cloud-translate 3.11.3 requires protobuf!=3.20.0,!=3.20.1,!=4.21.0,!=4.21.1,!=4.21.2,!=4.21.3,!=4.21.4,!=4.21.5,<5.0.0dev,>=3.19.5, but you have protobuf 5.27.1 which is incompatible.\n",
            "grpc-google-iam-v1 0.13.0 requires protobuf!=3.20.0,!=3.20.1,!=4.21.1,!=4.21.2,!=4.21.3,!=4.21.4,!=4.21.5,<5.0.0dev,>=3.19.5, but you have protobuf 5.27.1 which is incompatible.\n",
            "proto-plus 1.23.0 requires protobuf<5.0.0dev,>=3.19.0, but you have protobuf 5.27.1 which is incompatible.\n",
            "tensorflow 2.15.0 requires protobuf!=4.21.0,!=4.21.1,!=4.21.2,!=4.21.3,!=4.21.4,!=4.21.5,<5.0.0dev,>=3.20.3, but you have protobuf 5.27.1 which is incompatible.\n",
            "tensorflow-metadata 1.15.0 requires protobuf<4.21,>=3.20.3; python_version < \"3.11\", but you have protobuf 5.27.1 which is incompatible.\u001b[0m\u001b[31m\n",
            "\u001b[0m  Preparing metadata (setup.py) ... \u001b[?25l\u001b[?25hdone\n",
            "  Building wheel for langdetect (setup.py) ... \u001b[?25l\u001b[?25hdone\n",
            "\u001b[31mERROR: pip's dependency resolver does not currently take into account all the packages that are installed. This behaviour is the source of the following dependency conflicts.\n",
            "transformers 4.41.2 requires huggingface-hub<1.0,>=0.23.0, but you have huggingface-hub 0.20.3 which is incompatible.\n",
            "transformers 4.41.2 requires tokenizers<0.20,>=0.19, but you have tokenizers 0.15.2 which is incompatible.\u001b[0m\u001b[31m\n",
            "\u001b[0m  Installing build dependencies ... \u001b[?25l\u001b[?25hdone\n",
            "  Getting requirements to build wheel ... \u001b[?25l\u001b[?25hdone\n",
            "  Installing backend dependencies ... \u001b[?25l\u001b[?25hdone\n",
            "  Preparing metadata (pyproject.toml) ... \u001b[?25l\u001b[?25hdone\n",
            "  Building wheel for llama-cpp-python (pyproject.toml) ... \u001b[?25l\u001b[?25hdone\n"
          ]
        }
      ],
      "source": [
        "!pip -qqq install pip --progress-bar off\n",
        "!pip -qqq install langchain-groq==0.1.3 --progress-bar off\n",
        "!pip -qqq install langchain==0.1.17 --progress-bar off\n",
        "!pip -qqq install llama-parse==0.1.3 --progress-bar off\n",
        "!pip -qqq install qdrant-client==1.9.1  --progress-bar off\n",
        "!pip -qqq install \"unstructured[md]\"==0.13.6 --progress-bar off\n",
        "!pip -qqq install fastembed==0.2.7 --progress-bar off\n",
        "!pip -qqq install flashrank==0.2.4 --progress-bar off"
      ]
    },
    {
      "cell_type": "code",
      "source": [
        "import os\n",
        "import textwrap\n",
        "from pathlib import Path\n",
        "\n",
        "from google.colab import userdata\n",
        "from IPython.display import Markdown\n",
        "from langchain.chains import RetrievalQA\n",
        "from langchain.prompts import PromptTemplate\n",
        "from langchain.retrievers import ContextualCompressionRetriever\n",
        "from langchain.retrievers.document_compressors import FlashrankRerank\n",
        "from langchain.text_splitter import RecursiveCharacterTextSplitter\n",
        "from langchain.vectorstores import Qdrant\n",
        "from langchain_community.document_loaders import UnstructuredMarkdownLoader\n",
        "from langchain_community.embeddings.fastembed import FastEmbedEmbeddings\n",
        "from langchain_core.prompts import ChatPromptTemplate\n",
        "from langchain_groq import ChatGroq\n",
        "from llama_parse import LlamaParse\n",
        "\n",
        "os.environ[\"GROQ_API_KEY\"] = userdata.get(\"GROQ_API_KEY\")\n",
        "\n",
        "\n",
        "def print_response(response):\n",
        "    response_txt = response[\"result\"]\n",
        "    for chunk in response_txt.split(\"\\n\"):\n",
        "        if not chunk:\n",
        "            print()\n",
        "            continue\n",
        "        print(\"\\n\".join(textwrap.wrap(chunk, 100, break_long_words=False)))"
      ],
      "metadata": {
        "id": "WH_J7_kol_ay"
      },
      "execution_count": null,
      "outputs": []
    },
    {
      "cell_type": "code",
      "source": [
        "# !mkdir data\n",
        "# !gdown 1ee-BhQiH-S9a2IkHiFbJz9eX_SfcZ5m9 -O \"data/meta-earnings.pdf\""
      ],
      "metadata": {
        "id": "59M0lL4vjkGW"
      },
      "execution_count": null,
      "outputs": []
    },
    {
      "cell_type": "markdown",
      "source": [
        "## Document Parsing"
      ],
      "metadata": {
        "id": "z6kHJJRDvawJ"
      }
    },
    {
      "cell_type": "code",
      "source": [
        "from google.colab import userdata\n",
        "LLAMA_PARSE_API_KEY = userdata.get(\"LLAMA_PARSE_API_KEY\")\n"
      ],
      "metadata": {
        "id": "sYA7ClBmNFu5"
      },
      "execution_count": null,
      "outputs": []
    },
    {
      "cell_type": "code",
      "source": [
        "instruction = \"\"\"The provided document is Meta First Quarter 2024 Results.\n",
        "This form provides detailed financial information about the company's performance for a specific quarter.\n",
        "It includes unaudited financial statements, management discussion and analysis, and other relevant disclosures required by the SEC.\n",
        "It contains many tables.\n",
        "Try to be precise while answering the questions\"\"\"\n",
        "\n",
        "parser = LlamaParse(\n",
        "    api_key=userdata.get(\"LLAMA_PARSE_API_KEY\"),\n",
        "    result_type=\"markdown\",\n",
        "    parsing_instruction=instruction,\n",
        "    max_timeout=5000,\n",
        ")\n",
        "\n",
        "llama_parse_documents = await parser.aload_data(\"doc121.pdf\")"
      ],
      "metadata": {
        "colab": {
          "base_uri": "https://localhost:8080/"
        },
        "id": "eHRFF7lF0gV2",
        "outputId": "8cca3f39-11ea-4002-c817-1019fa672acf"
      },
      "execution_count": null,
      "outputs": [
        {
          "output_type": "stream",
          "name": "stdout",
          "text": [
            "Started parsing the file under job_id 2e08c943-903e-469f-ba0c-8619ac5c2582\n"
          ]
        }
      ]
    },
    {
      "cell_type": "code",
      "source": [
        "# llama_parse_documents"
      ],
      "metadata": {
        "id": "w6lDaUHr3ojH"
      },
      "execution_count": null,
      "outputs": []
    },
    {
      "cell_type": "code",
      "source": [
        "parsed_doc = llama_parse_documents[0]\n",
        "# parsed_doc"
      ],
      "metadata": {
        "id": "tTm_9yk_nMD8"
      },
      "execution_count": null,
      "outputs": []
    },
    {
      "cell_type": "code",
      "source": [
        "# parsed_doc.text"
      ],
      "metadata": {
        "id": "M9LZ12aC62rJ"
      },
      "execution_count": null,
      "outputs": []
    },
    {
      "cell_type": "code",
      "source": [
        "Markdown(parsed_doc.text)"
      ],
      "metadata": {
        "colab": {
          "base_uri": "https://localhost:8080/",
          "height": 1000
        },
        "id": "u4us5iDJ6_up",
        "outputId": "2624c895-140d-4853-e5a9-bc60be6bea1b"
      },
      "execution_count": null,
      "outputs": [
        {
          "output_type": "execute_result",
          "data": {
            "text/plain": [
              "<IPython.core.display.Markdown object>"
            ],
            "text/markdown": "# DELIVERY Challan (UNDER SECTION 31 OF CAST RULES)\n\n|CoalBill No|ksloiRDzs0004344|\n|---|---|\n|Ebillan No|B472 %atiesue|\n|DQ Number|310000io58|\n|DQ Date Removal|03-062024|\n|Date of Removal|09.57.57|\n|State of Consignor|Uttar Pradesh4-06-2024|\n|State Code of Consignor|09|\n\n# Details of Receiver (Billed to)\n\n|Name|HINDALCO INDUSTRIES|\n|---|---|\n|Address|RENU SAGAR SONEBHADRA|\n|State Code|Uttar Pradesh09|\n|Unique ID|opakachizotriL|\n\n# Details of Consignee (Shipped to)\n\n|Name|HINDALCO INDUSTRIES LIMITED|\n|---|---|\n|Address|RENU SAGAR|\n|State Code|Uttar Pradesh09|\n|Unique ID|opakachizotriL|\n\n# Product Details\n\n|Product Grade|HSN 27011990 GB|\n|---|---|\n|Truck No|Up64t4948|\n|Date In|14/06/2024 Time 08:31:18|\n|Date of Removal|14/06/2024 Time 09:57:37|\n|Gross Weight|40.56 MT|\n|Tare Weight|13.08 MT|\n|Net Weight|27.48 MT|\n|Due Quantity|96100.00 MT|\n|Balance Quantity|88731.86 MT|\n|Validity|22-07-2024|\n\n# Particulars Value\n\n|Coal|3479.00|9560292|\n|---|---|---|\n|High loading Charges (Rs. per MT)|0.00|2390.76|\n|Transportation Charges|112.12|301.00|\n|Evacuation Facility Charges|14.09|643.09|\n|NMET Funds for UP State (Rs. per MT)|6.30|21.30|\n|MP Cess for MP State (Rs. per MT)|0.00|0.00|\n|Territorial Forest Fee (Rs. per MT)|0.00|0.00|\n|CGST (2.5%)|205.28| |\n|SGST (2.5%)|205.28| |\n|IGST (4%)|863.10| |\n|Total Invoice Value|132854.92| |\n\nDeclaration: Payment to be made as per terms of FSA auction to be revised @ 5% per terms of FSA auction. Pre-Receipted Authenticated\n\nWBC PARA NIAN SISX\n---\n# Or Igina] ar Buyet /oup!cateT0r Transportes /Tc [plcatefor\n\n|Coe|Ho|BNaosrd750004506|\n|---|---|---|\n|chalian %o|4595|BI0fMiaoDale|14-06-7074|\n|GSTIK No| | | |\n|D0humpor|01 Nci|Isquo|08:55:45|\n| |3001407462|00OatoRaaava||0a:55:44|\n|Dato0tRemova|14-067074|Tin|09|\n|Sato0fConsIgnor|Uttar_Pradesh|Stato Coda0fCons [anor|\n\n# Dotails ot RoceIver (0|Mad to)\n\n|LIMITEO ReNusaGAR| | | |\n|---|---|---|---|\n|Nanc|HIndALCO INDUSTRIES|Eo RENUSAGAR| |\n|Addror;|RENUSAGAR|Addrcss|REMUSAGAR~onebhadra|\n|Stato|UTTAR PRAOESH|State|UtTaR PradEsH|\n|GSTIN UniqueId|stato Code|OPAAACHIZOIRIZL|09|\n|GSTIN UniqueId|State Code|OJAAACHIZOIRIZL|09|\n\n|Product|Grade|Bill forsupplyof27011990G9|Coa 250 Hmthrough Roadason date 14-06-2024|\n|---|---|---|---|\n|Truck No|Up649t761s| | |\n|Date in|14/06/2024Time 08:16.39|Dateof removal 14/06/2024 Time -08.55:44| |\n|Oross Wcight|43 21 HTBalance_QuantityTare Weight: 1233619.5975THTNet Weight:Validity20 46Hf| | |\n|DoQuentity|63850.00_MT.| |29-06-2024|\n|Particulars|Coa Va lue|3441.00|104812.86|\n|A.Sizing Char gesHigh Capacity Loading Charges 2(56 Rs. per MT)| | |T705.760020|\n|Transportation Charges| |112-12| |\n|Evacuation Facfty Charges 2(60 Rs pet MT)| | | |\n|Roya)ty|44&0f| | |\n|OhFFunds|8030f| | |\n|NMETFundsCess for UP state of| | | |\n|MPGATSVA for MP State|Ssada Rs_per| | |\n|Forest Transit Fee 0&of 0)|00| | |\n|Terminal Tax 2{05-00perHT )| | |5287_86|\n|ReimbursementofOMF|4533| | |\n|ReimbursenentofNMET|T05 .| | |\n|RembursementofHPGATSVAFees|F756 .| | |\n|Reimburscment ofof_Ato_Q)Transit| | | |\n|Sub Total Sum| | |22518.4|\n|CQSTof 2E25}(RS| | |032|\n|SGSTof 0(2.5 % (Rs| | |3062.96|\n|IGSTof PfO*(Rs :| | |0700|\n|Tota] E umof to U| | |128484 . 41|\n|GST Compensation cesb/C E.CessOrtv Shousina {{ghtordnared Thenty EIghtRs, and Thirty Fhree Paisa Only4140828 >3e( 400 per _MD)| | |T12184300|\n|NetAmount (In Figures one Lakh Forty ThousandTota| | | |\n|2. Biils to be raiseda5 perto bemadea3pertecmsof_ESA/E_auctionterms of FSATE auction|7nab 641924| | |\n|BC|PARTY sG|SALES MANAGER| |\n---\n# Original for Buyer [Duplicate for Transporter/Triplicate for Assessee\n\n|CC E&iLE No|BNFOSRD250064575|\n|---|---|\n|Challan No of NCL|09AABCN4884HLZ4 4563|\n|Bill Date|14-06-2024|\n|DQ Number|3001402462|\n|DO Date Issue|02-05-2024 07.53.44|\n|Date of Removal|14-06-2024 07.53.42|\n|State of Consignor|Uttar Pradesh State Code of Consignor 09|\n|Financial Year 2024-25| |\n\n|Details of Receiver (Billed to)|Details of Consignee (Shipped to)|\n|---|---|\n|EXISTED RENUSAGAR|HINDALCO INDUSTRIES|\n|Address: RENUSAGAR SONEBHADRA|Address: RENUSAGAR-SONEBHADRA|\n|State: Uttar Pradesh State Code: 09|State: Uttar Pradesh|\n|GSTIN: QoaaaCHIZO1R1ZI 09|GSTIN: QoaaaCHIZO1R1ZI 09|\n\n|Product & Grade|#SBi! for supply of Coal through Road 35Ondate 14-06-2024 27011990-G9 7250 MT|\n|---|---|\n|Truck No|Date: 44/5/2024 Time: 06.28-08 Date: 44/06/2024|\n|Quantity|43.77 MT Balance Quantity Tare Weight: 1333962.1125 MT Net Validity Neight: 30 297067202452 MT|\n|Particulars|Size Charges Coal Value: 256 RS per IE 3441.00 Total: 50.32|\n|Transportation Charges|112.12|\n|Addition Eaclty Charges|00.00|\n|Royalties|3421.90 1831.20|\n|ONHET Funds for UP State Df|2 (14(30 Zof 0000|\n|SSAD Acess|0T 00|\n|KM pGatsya Forest Transit Fee|Rs per JO|\n|M.Terninal Tax Reimbursement of Royalty|0f 5298|\n|Reimbursement of HPGATSYANRET|1532|\n|Reimbursement of SubJota Fansil Fees|4892.24 105|\n|Cost of Sum Q|1B964|\n|SGST of|25 RS 122752.74|\n|IGST of|2(2.5 Rs 306899|\n|Total (Sum of A)|306899|\n|E-Cess|2(400 per MT 728737.50030|\n|Ret Amount (Figures Total Invoice Value (In Words)|42208.00 AFQS 73|\n\nDeclaration: Please Rechentzc Bills to be raised as Per terms. Payment to be made as per terms of ESA/Eauction. Authenticated Part 31 Sales Manager\n---\n# Oriqinel for Buyer/Duplicate for NORTHERN COALFIELDS LIMITED Transporter/Triplicate of Assessee\n\n|Delivery Challan|No|BNAOspd250004972|\n|---|---|---|\n|Challen No of Kci|4570|8i 41Oato|\n|Date Issued|07:44:54|14-06-2024|\n|DO Number|3001402462|02-05-2024|\n|State of Consignor|Uttar Pradesh|State Code of Consignor|07|\n\n# Details of Receiver (Billed to)\n\n|Limited Renusagar|HINDALCO INDUSTRIES|\n|---|---|\n|Address|RENUSAGAR|\n|State|Uttar Pradesh|\n|GSIN (Unique ID)|O9aaaCHi?O1RIZL|087 iN/UniqueId|O2AAACHIZO[RIZE|\n\n# Product Details\n\n|Product|Grade|#sBi! !fo5,supply0fCoa] through Road35ondate 14-06-202427011990 G9|250 Hh|\n|---|---|---|---|\n|Truck No|Upg44t47s|Date|14/06/2024|\n|Gross Weight|44.91 MT|Tare Weight|334051.4150 MtMT|\n|Net Weight|63850.00 MT|Validity|31-41 MT|\n\n# Particulars\n\n|A. Sizing Charges|Coal Value|3441 Co|10368E4752|\n|---|---|---|---|\n|High Capacity Loading Charges|0.00|352199| |\n|Transportation Charges|0.00| | |\n|Evacuation Facility Charges|112.12| | |\n|Royalty|4884.60| | |\n|DHF Funds|0.00| | |\n|NHET Funds for UP State|0.00| | |\n|Saad Access|0.00| | |\n|Forest Transit Fee|0.00| | |\n|HPGATSYA for KP State|0.00| | |\n|Jax|0.00| | |\n|Reimbursement of Royalty|157.05| | |\n|Reimbursement of OHF|1635.83| | |\n|Reimbursement of NMET|5452.78| | |\n|Reimbursement of MpGatsva|109.06| | |\n|Reimbursement of Transit Fees|1790.37| | |\n|CGST Total|126339.5€| | |\n|SGST|3158.49| | |\n|IGST|3158.49| | |\n|GST Compensation Cess/C.E.Cess|132491.690.00| | |\n|Net Amount (In Figures)|12564.00| | |\n|Total Invoice Value (In Words)|145220.54| | |\n\nOne Lakh Forty-Five Thousand Two Hundred Twenty Rs. and Fifty-Four Paisa Only\n\nDeclaration: Bills to be raised as per terms of FSAYE auction. Payment to be made as per terms of FSA/E auction. Received & authenticated by: SACES MANAGER"
          },
          "metadata": {},
          "execution_count": 9
        }
      ]
    },
    {
      "cell_type": "code",
      "source": [
        "# Markdown(parsed_doc.text[:4096])"
      ],
      "metadata": {
        "id": "6acdg4sq736P"
      },
      "execution_count": null,
      "outputs": []
    },
    {
      "cell_type": "code",
      "source": [
        "document_path = Path(\"parsed_document.md\")\n",
        "with document_path.open(\"a\") as f:\n",
        "    f.write(parsed_doc.text)"
      ],
      "metadata": {
        "id": "EUnDQkfwyPv3"
      },
      "execution_count": null,
      "outputs": []
    },
    {
      "cell_type": "markdown",
      "source": [
        "## Vector Embeddings"
      ],
      "metadata": {
        "id": "yF5y2-L0vfLM"
      }
    },
    {
      "cell_type": "code",
      "source": [
        "loader = UnstructuredMarkdownLoader(document_path)\n",
        "loaded_documents = loader.load()"
      ],
      "metadata": {
        "colab": {
          "base_uri": "https://localhost:8080/"
        },
        "id": "R9Hl1Uly3LtB",
        "outputId": "e2c9c30a-a636-4fed-a6f1-e0ee5d283cef"
      },
      "execution_count": null,
      "outputs": [
        {
          "output_type": "stream",
          "name": "stderr",
          "text": [
            "[nltk_data] Downloading package averaged_perceptron_tagger to\n",
            "[nltk_data]     /root/nltk_data...\n",
            "[nltk_data]   Unzipping taggers/averaged_perceptron_tagger.zip.\n"
          ]
        }
      ]
    },
    {
      "cell_type": "code",
      "source": [
        "text_splitter = RecursiveCharacterTextSplitter(chunk_size=2048, chunk_overlap=128)\n",
        "docs = text_splitter.split_documents(loaded_documents)\n",
        "# len(docs)"
      ],
      "metadata": {
        "id": "_ZrQ4sKg4hxF"
      },
      "execution_count": null,
      "outputs": []
    },
    {
      "cell_type": "code",
      "source": [
        "print(docs[0].page_content)"
      ],
      "metadata": {
        "colab": {
          "base_uri": "https://localhost:8080/"
        },
        "id": "RdBs9l3a4jCv",
        "outputId": "9ff96029-efa7-4f37-e745-f53ff7b9013a"
      },
      "execution_count": null,
      "outputs": [
        {
          "output_type": "stream",
          "name": "stdout",
          "text": [
            "DELIVERY Challan (UNDER SECTION 31 OF CAST RULES)\n",
            "\n",
            "CoalBill No ksloiRDzs0004344 Ebillan No B472 %atiesue DQ Number 310000io58 DQ Date Removal 03-062024 Date of Removal 09.57.57 State of Consignor Uttar Pradesh4-06-2024 State Code of Consignor 09\n",
            "\n",
            "Details of Receiver (Billed to)\n",
            "\n",
            "Name HINDALCO INDUSTRIES Address RENU SAGAR SONEBHADRA State Code Uttar Pradesh09 Unique ID opakachizotriL\n",
            "\n",
            "Details of Consignee (Shipped to)\n",
            "\n",
            "Name HINDALCO INDUSTRIES LIMITED Address RENU SAGAR State Code Uttar Pradesh09 Unique ID opakachizotriL\n",
            "\n",
            "Product Details\n",
            "\n",
            "Product Grade HSN 27011990 GB Truck No Up64t4948 Date In 14/06/2024 Time 08:31:18 Date of Removal 14/06/2024 Time 09:57:37 Gross Weight 40.56 MT Tare Weight 13.08 MT Net Weight 27.48 MT Due Quantity 96100.00 MT Balance Quantity 88731.86 MT Validity 22-07-2024\n",
            "\n",
            "Particulars Value\n",
            "\n",
            "Coal 3479.00 9560292 High loading Charges (Rs. per MT) 0.00 2390.76 Transportation Charges 112.12 301.00 Evacuation Facility Charges 14.09 643.09 NMET Funds for UP State (Rs. per MT) 6.30 21.30 MP Cess for MP State (Rs. per MT) 0.00 0.00 Territorial Forest Fee (Rs. per MT) 0.00 0.00 CGST (2.5%) 205.28 SGST (2.5%) 205.28 IGST (4%) 863.10 Total Invoice Value 132854.92\n",
            "\n",
            "Declaration: Payment to be made as per terms of FSA auction to be revised @ 5% per terms of FSA auction. Pre-Receipted Authenticated\n",
            "\n",
            "WBC PARA NIAN SISX\n",
            "\n",
            "Or Igina] ar Buyet /oup!cateT0r Transportes /Tc [plcatefor\n",
            "\n",
            "Coe Ho BNaosrd750004506 chalian %o 4595 BI0fMiaoDale GSTIK No D0humpor 01 Nci Isquo 3001407462 00OatoRaaava Dato0tRemova 14-067074 Tin Sato0fConsIgnor Uttar_Pradesh Stato Coda0fCons [anor\n",
            "\n",
            "Dotails ot RoceIver (0|Mad to)\n",
            "\n",
            "LIMITEO ReNusaGAR Nanc HIndALCO INDUSTRIES Eo RENUSAGAR Addror; RENUSAGAR Addrcss REMUSAGAR~onebhadra Stato UTTAR PRAOESH State UtTaR PradEsH GSTIN UniqueId stato Code OPAAACHIZOIRIZL 09 GSTIN UniqueId State Code OJAAACHIZOIRIZL 09\n"
          ]
        }
      ]
    },
    {
      "cell_type": "code",
      "source": [
        "HF_TOKEN = userdata.get(\"HF_TOKEN\")"
      ],
      "metadata": {
        "id": "2DxZdPalOHz4"
      },
      "execution_count": null,
      "outputs": []
    },
    {
      "cell_type": "code",
      "source": [
        "embeddings = FastEmbedEmbeddings(model_name=\"BAAI/bge-base-en-v1.5\")"
      ],
      "metadata": {
        "colab": {
          "base_uri": "https://localhost:8080/",
          "height": 209,
          "referenced_widgets": [
            "453c6863d2434b0d932fa18ad68da438",
            "553b888942844a66acd9dbcbaf858d69",
            "c71697f9e7d5498bb035d50a890d89d8",
            "7bba447dfd0b45269980e46af6cc893d",
            "021795a895164afb838dd1139d09dde2",
            "caf0b3dfe5994a8dac8570bd55dd20fc",
            "dc9d40d233b64944836bb73e15925e69",
            "6b88a5289b3d4075b53dd39803b8e793",
            "e6e7857c939c441da5b3a09c955c999b",
            "f83feb191fac4b729e0f000372aa2492",
            "0e20f765a9ee47fa8cccffaafec636e4",
            "852fc4fe8b99484caa852e65c56046ad",
            "906ebf6c279244a39d34b3ca574cc9eb",
            "184cb9f1009743708786471e9687f38d",
            "8fa1e04ec6094f69a3435ab23c084540",
            "95c70969a03541a3ba438c6a42ab8ed1",
            "ea444d28699544e29ed5d6e287ead013",
            "9177d338343642909dd8c4c9b6bf96db",
            "d1baa0d850814d6c96e3e54879faef61",
            "8e8f967fcb5e4921865b7ef9f0251ee1",
            "38fb554bb7564a18a0b7462c0db3dcc7",
            "4eebc538a1224242809f15e742c10a5a",
            "92e57e7704d14187b493f2288000db0b",
            "d7fb1eb5ed3f41a6b6703312512a00a8",
            "7fbbee199f5843a59ce9777534c02f7e",
            "65444881b52b4afaa09226c2017771fe",
            "99c2df32c19e4961ae55754907128beb",
            "9ae6e157f29b4cabba8826e8460f9758",
            "cf560bb363a0476c853d70d62cbe8da7",
            "b8dfb34348f740aa8a63084999ae8060",
            "9eada2f3135e45ac82f11989e0193877",
            "094df7e897424bb79dfb3cca7b407f9d",
            "f3cf66a8ffe74445941d8c904b745ff4",
            "a38f81dda8b84922a6b309eb4b989754",
            "4ba6a35bf5e44baca7a75a2856c17d43",
            "f0e368517701410fa7474fd9e089a28d",
            "fe52d8bf8bc045f4a54027cc8b70b659",
            "632345d727264d6696780e6c5e7bc6f1",
            "8b5c4ba6a96442d49e03a50fefe7f2aa",
            "a42a84d1fae44a27993c6dffcbb9f8e5",
            "64924caf4b494efa9bfaa1b152ea7f6b",
            "802efee0dbc84fefab46a7eb349730a2",
            "38dd978055854a93bee08460f2038f93",
            "f1a335d16aaa4e85a3f3d06ad6963a6d",
            "84efba11300f4b5ea6c075ec733ae79a",
            "aec92bf964b14367a6b8b5a62ace28ee",
            "6937648f191d42da995ef38f4e2c8a6e",
            "f7299fd97ee442ad84f9990f1dd75a0e",
            "6b3bfdf0a943473091dcf8eaee1d44b6",
            "9642ed95115b431b84eb91b91062ed5c",
            "4f708ea4a95e476d846157db84e2916c",
            "c7493418f233493281937463259ffbd0",
            "e7284c9a3e2a4805b3c66c5d4e1afb16",
            "d2e84e91fb21458db99a66600a50c1da",
            "1c8e2b4c608c4ddc8b6f3ca0f941d92d",
            "938377defe834bd3a0001a6757edab0a",
            "11f9133c9e174a729947a6ce393f0a32",
            "101c2cd79d8741cb95ad722616a6de96",
            "96b91e0bf9ef44fdad1241c47c30477f",
            "cfc76ce9a8e04519a7005769bbe553df",
            "d96caeb7e58a4229a89d490abba9a75c",
            "16f7ebe941eb4957a53d7f9364dd1931",
            "096822cb67994adab8e5df31403d14f6",
            "d088110c39514c658c2c4ad66fe15c5a",
            "8445d681b8cd4b0fb909e5943753be8c",
            "f7d9a4d2f3ad4133bf73a42b74b36b13"
          ]
        },
        "id": "8cUnzAwi-iNE",
        "outputId": "c26a68e7-475f-4428-83a7-d9e59df9df85"
      },
      "execution_count": null,
      "outputs": [
        {
          "output_type": "display_data",
          "data": {
            "text/plain": [
              "Fetching 5 files:   0%|          | 0/5 [00:00<?, ?it/s]"
            ],
            "application/vnd.jupyter.widget-view+json": {
              "version_major": 2,
              "version_minor": 0,
              "model_id": "453c6863d2434b0d932fa18ad68da438"
            }
          },
          "metadata": {}
        },
        {
          "output_type": "display_data",
          "data": {
            "text/plain": [
              "special_tokens_map.json:   0%|          | 0.00/695 [00:00<?, ?B/s]"
            ],
            "application/vnd.jupyter.widget-view+json": {
              "version_major": 2,
              "version_minor": 0,
              "model_id": "852fc4fe8b99484caa852e65c56046ad"
            }
          },
          "metadata": {}
        },
        {
          "output_type": "display_data",
          "data": {
            "text/plain": [
              "tokenizer.json:   0%|          | 0.00/711k [00:00<?, ?B/s]"
            ],
            "application/vnd.jupyter.widget-view+json": {
              "version_major": 2,
              "version_minor": 0,
              "model_id": "92e57e7704d14187b493f2288000db0b"
            }
          },
          "metadata": {}
        },
        {
          "output_type": "display_data",
          "data": {
            "text/plain": [
              "config.json:   0%|          | 0.00/740 [00:00<?, ?B/s]"
            ],
            "application/vnd.jupyter.widget-view+json": {
              "version_major": 2,
              "version_minor": 0,
              "model_id": "a38f81dda8b84922a6b309eb4b989754"
            }
          },
          "metadata": {}
        },
        {
          "output_type": "display_data",
          "data": {
            "text/plain": [
              "tokenizer_config.json:   0%|          | 0.00/1.24k [00:00<?, ?B/s]"
            ],
            "application/vnd.jupyter.widget-view+json": {
              "version_major": 2,
              "version_minor": 0,
              "model_id": "84efba11300f4b5ea6c075ec733ae79a"
            }
          },
          "metadata": {}
        },
        {
          "output_type": "display_data",
          "data": {
            "text/plain": [
              "model_optimized.onnx:   0%|          | 0.00/218M [00:00<?, ?B/s]"
            ],
            "application/vnd.jupyter.widget-view+json": {
              "version_major": 2,
              "version_minor": 0,
              "model_id": "938377defe834bd3a0001a6757edab0a"
            }
          },
          "metadata": {}
        }
      ]
    },
    {
      "cell_type": "code",
      "source": [
        "qdrant = Qdrant.from_documents(\n",
        "    docs,\n",
        "    embeddings,\n",
        "    # location=\":memory:\",\n",
        "    path=\"./db\",\n",
        "    collection_name=\"document_embeddings\",\n",
        ")"
      ],
      "metadata": {
        "id": "fSh39w9H9fPU"
      },
      "execution_count": null,
      "outputs": []
    },
    {
      "cell_type": "code",
      "source": [
        "# %%time\n",
        "# query = \"Summarize the document. Share response in JSON format.\"\n",
        "# similar_docs = qdrant.similarity_search_with_score(query)"
      ],
      "metadata": {
        "id": "zBBp64Dy_5hw"
      },
      "execution_count": null,
      "outputs": []
    },
    {
      "cell_type": "code",
      "source": [
        "# for doc, score in similar_docs:\n",
        "#     print(f\"text: {doc.page_content[:256]}\\n\")\n",
        "#     print(f\"score: {score}\")\n",
        "#     print(\"-\" * 80)\n",
        "#     print()"
      ],
      "metadata": {
        "id": "R0vjJsDapHD4"
      },
      "execution_count": null,
      "outputs": []
    },
    {
      "cell_type": "code",
      "source": [
        "# %%time\n",
        "retriever = qdrant.as_retriever(search_kwargs={\"k\": 5})\n",
        "# retrieved_docs = retriever.invoke(query)"
      ],
      "metadata": {
        "id": "pcYQO28-_pE6"
      },
      "execution_count": null,
      "outputs": []
    },
    {
      "cell_type": "code",
      "source": [
        "# for doc in retrieved_docs:\n",
        "#     print(f\"id: {doc.metadata['_id']}\\n\")\n",
        "#     print(f\"text: {doc.page_content[:256]}\\n\")\n",
        "#     print(\"-\" * 80)\n",
        "#     print()"
      ],
      "metadata": {
        "id": "heWeRvZmSfuf"
      },
      "execution_count": null,
      "outputs": []
    },
    {
      "cell_type": "markdown",
      "source": [
        "## Reranking"
      ],
      "metadata": {
        "id": "SS5zSz0lvnu3"
      }
    },
    {
      "cell_type": "code",
      "source": [
        "compressor = FlashrankRerank(model=\"ms-marco-MiniLM-L-12-v2\")\n",
        "compression_retriever = ContextualCompressionRetriever(\n",
        "    base_compressor = compressor, base_retriever = retriever\n",
        ")"
      ],
      "metadata": {
        "id": "83P_6ysFzSxC"
      },
      "execution_count": null,
      "outputs": []
    },
    {
      "cell_type": "code",
      "source": [
        "# %%time\n",
        "# reranked_docs = compression_retriever.invoke(query)\n",
        "# len(reranked_docs)"
      ],
      "metadata": {
        "id": "NUVfVgihLgVD"
      },
      "execution_count": null,
      "outputs": []
    },
    {
      "cell_type": "code",
      "source": [
        "# for doc in reranked_docs:\n",
        "#     print(f\"id: {doc.metadata['_id']}\\n\")\n",
        "#     print(f\"text: {doc.page_content[:256]}\\n\")\n",
        "#     print(f\"score: {doc.metadata['relevance_score']}\")\n",
        "#     print(\"-\" * 80)\n",
        "#     print()"
      ],
      "metadata": {
        "id": "JqHWLMdqPhMT"
      },
      "execution_count": null,
      "outputs": []
    },
    {
      "cell_type": "markdown",
      "source": [
        "## Q&A Over Document"
      ],
      "metadata": {
        "id": "3ra-bCZzvrFy"
      }
    },
    {
      "cell_type": "code",
      "source": [
        "llm = ChatGroq(temperature = 0,\n",
        "               model_name = \"llama3-70b-8192\")"
      ],
      "metadata": {
        "id": "tjOym5svzy2j"
      },
      "execution_count": null,
      "outputs": []
    },
    {
      "cell_type": "code",
      "source": [
        "prompt_template = \"\"\"\n",
        "Use the following pieces of information to answer the user's question.\n",
        "If you don't know the answer, just say that you don't know, don't try to make up an answer.\n",
        "\n",
        "Context: {context}\n",
        "Question: {question}\n",
        "\n",
        "Answer the question and provide additional helpful information,\n",
        "based on the pieces of information, if applicable. Be succinct.\n",
        "\n",
        "Responses should be properly formatted to be easily read.\n",
        "\"\"\"\n",
        "\n",
        "prompt = PromptTemplate(template = prompt_template,\n",
        "                        input_variables = [\"context\", \"question\"])"
      ],
      "metadata": {
        "id": "4iqfuyMaBe6j"
      },
      "execution_count": null,
      "outputs": []
    },
    {
      "cell_type": "code",
      "source": [
        "qa = RetrievalQA.from_chain_type(\n",
        "    llm = llm,\n",
        "    chain_type = \"stuff\",\n",
        "    retriever = compression_retriever,\n",
        "    return_source_documents = True,\n",
        "    chain_type_kwargs = {\"prompt\" : prompt, \"verbose\" : True},\n",
        ")"
      ],
      "metadata": {
        "id": "sz2aMwNWBxvg"
      },
      "execution_count": null,
      "outputs": []
    },
    {
      "cell_type": "code",
      "source": [
        "%%time\n",
        "query = \"Summarize the document. Share response in JSON format.\"\n",
        "response = qa.invoke(str(query))"
      ],
      "metadata": {
        "colab": {
          "base_uri": "https://localhost:8080/"
        },
        "id": "J8lBIegHT0Y6",
        "outputId": "41d51b05-4c85-4c3d-fb9d-d46dc6713f4c"
      },
      "execution_count": null,
      "outputs": [
        {
          "output_type": "stream",
          "name": "stdout",
          "text": [
            "Running pairwise ranking..\n",
            "\n",
            "\n",
            "\u001b[1m> Entering new StuffDocumentsChain chain...\u001b[0m\n",
            "\n",
            "\n",
            "\u001b[1m> Entering new LLMChain chain...\u001b[0m\n",
            "Prompt after formatting:\n",
            "\u001b[32;1m\u001b[1;3m\n",
            "Use the following pieces of information to answer the user's question.\n",
            "If you don't know the answer, just say that you don't know, don't try to make up an answer.\n",
            "\n",
            "Context: Product & Grade #SBi! for supply of Coal through Road 35Ondate 14-06-2024 27011990-G9 7250 MT Truck No Date: 44/5/2024 Time: 06.28-08 Date: 44/06/2024 Quantity 43.77 MT Balance Quantity Tare Weight: 1333962.1125 MT Net Validity Neight: 30 297067202452 MT Particulars Size Charges Coal Value: 256 RS per IE 3441.00 Total: 50.32 Transportation Charges 112.12 Addition Eaclty Charges 00.00 Royalties 3421.90 1831.20 ONHET Funds for UP State Df 2 (14(30 Zof 0000 SSAD Acess 0T 00 KM pGatsya Forest Transit Fee Rs per JO M.Terninal Tax Reimbursement of Royalty 0f 5298 Reimbursement of HPGATSYANRET 1532 Reimbursement of SubJota Fansil Fees 4892.24 105 Cost of Sum Q 1B964 SGST of 25 RS 122752.74 IGST of 2(2.5 Rs 306899 Total (Sum of A) 306899 E-Cess 2(400 per MT 728737.50030 Ret Amount (Figures Total Invoice Value (In Words) 42208.00 AFQS 73\n",
            "\n",
            "Declaration: Please Rechentzc Bills to be raised as Per terms. Payment to be made as per terms of ESA/Eauction. Authenticated Part 31 Sales Manager\n",
            "\n",
            "Oriqinel for Buyer/Duplicate for NORTHERN COALFIELDS LIMITED Transporter/Triplicate of Assessee\n",
            "\n",
            "Delivery Challan No BNAOspd250004972 Challen No of Kci 4570 8i 41Oato Date Issued 07:44:54 14-06-2024 DO Number 3001402462 02-05-2024 State of Consignor Uttar Pradesh State Code of Consignor\n",
            "\n",
            "Details of Receiver (Billed to)\n",
            "\n",
            "Limited Renusagar HINDALCO INDUSTRIES Address RENUSAGAR State Uttar Pradesh GSIN (Unique ID) O9aaaCHi?O1RIZL\n",
            "\n",
            "Product Details\n",
            "\n",
            "Product Grade #sBi! !fo5,supply0fCoa] through Road35ondate 14-06-202427011990 G9 250 Hh Truck No Upg44t47s Date 14/06/2024 Gross Weight 44.91 MT Tare Weight 334051.4150 MtMT Net Weight 63850.00 MT Validity 31-41 MT\n",
            "\n",
            "Particulars\n",
            "\n",
            "Product Grade Bill forsupplyof27011990G9 Coa 250 Hmthrough Roadason date 14-06-2024 Truck No Up649t761s Date in 14/06/2024Time 08:16.39 Dateof removal 14/06/2024 Time -08.55:44 Oross Wcight 43 21 HTBalance_QuantityTare Weight: 1233619.5975THTNet Weight:Validity20 46Hf DoQuentity 63850.00_MT. 29-06-2024 Particulars Coa Va lue 3441.00 104812.86 A.Sizing Char gesHigh Capacity Loading Charges 2(56 Rs. per MT) T705.760020 Transportation Charges 112-12 Evacuation Facfty Charges 2(60 Rs pet MT) Roya)ty 44&0f OhFFunds 8030f NMETFundsCess for UP state of MPGATSVA for MP State Ssada Rs_per Forest Transit Fee 0&of 0) 00 Terminal Tax 2{05-00perHT ) 5287_86 ReimbursementofOMF 4533 ReimbursenentofNMET T05 . RembursementofHPGATSVAFees F756 . Reimburscment ofof_Ato_Q)Transit Sub Total Sum 22518.4 CQSTof 2E25}(RS 032 SGSTof 0(2.5 % (Rs 3062.96 IGSTof PfO*(Rs : 0700 Tota] E umof to U 128484 . 41 GST Compensation cesb/C E.CessOrtv Shousina {{ghtordnared Thenty EIghtRs, and Thirty Fhree Paisa Only4140828 >3e( 400 per _MD) T12184300 NetAmount (In Figures one Lakh Forty ThousandTota 2. Biils to be raiseda5 perto bemadea3pertecmsof_ESA/E_auctionterms of FSATE auction 7nab 641924 BC PARTY sG SALES MANAGER --- # Original for Buyer [Duplicate for Transporter/Triplicate for Assessee\n",
            "\n",
            "CC E&iLE No BNFOSRD250064575 Challan No of NCL 09AABCN4884HLZ4 4563 Bill Date 14-06-2024 DQ Number 3001402462 DO Date Issue 02-05-2024 07.53.44 Date of Removal 14-06-2024 07.53.42 State of Consignor Uttar Pradesh State Code of Consignor 09 Financial Year 2024-25\n",
            "\n",
            "Details of Receiver (Billed to) Details of Consignee (Shipped to) EXISTED RENUSAGAR HINDALCO INDUSTRIES Address: RENUSAGAR SONEBHADRA Address: RENUSAGAR-SONEBHADRA State: Uttar Pradesh State Code: 09 State: Uttar Pradesh GSTIN: QoaaaCHIZO1R1ZI 09 GSTIN: QoaaaCHIZO1R1ZI 09\n",
            "\n",
            "DELIVERY Challan (UNDER SECTION 31 OF CAST RULES)\n",
            "\n",
            "CoalBill No ksloiRDzs0004344 Ebillan No B472 %atiesue DQ Number 310000io58 DQ Date Removal 03-062024 Date of Removal 09.57.57 State of Consignor Uttar Pradesh4-06-2024 State Code of Consignor 09\n",
            "\n",
            "Details of Receiver (Billed to)\n",
            "\n",
            "Name HINDALCO INDUSTRIES Address RENU SAGAR SONEBHADRA State Code Uttar Pradesh09 Unique ID opakachizotriL\n",
            "\n",
            "Details of Consignee (Shipped to)\n",
            "\n",
            "Name HINDALCO INDUSTRIES LIMITED Address RENU SAGAR State Code Uttar Pradesh09 Unique ID opakachizotriL\n",
            "\n",
            "Product Details\n",
            "\n",
            "Product Grade HSN 27011990 GB Truck No Up64t4948 Date In 14/06/2024 Time 08:31:18 Date of Removal 14/06/2024 Time 09:57:37 Gross Weight 40.56 MT Tare Weight 13.08 MT Net Weight 27.48 MT Due Quantity 96100.00 MT Balance Quantity 88731.86 MT Validity 22-07-2024\n",
            "\n",
            "Particulars Value\n",
            "\n",
            "Coal 3479.00 9560292 High loading Charges (Rs. per MT) 0.00 2390.76 Transportation Charges 112.12 301.00 Evacuation Facility Charges 14.09 643.09 NMET Funds for UP State (Rs. per MT) 6.30 21.30 MP Cess for MP State (Rs. per MT) 0.00 0.00 Territorial Forest Fee (Rs. per MT) 0.00 0.00 CGST (2.5%) 205.28 SGST (2.5%) 205.28 IGST (4%) 863.10 Total Invoice Value 132854.92\n",
            "\n",
            "Declaration: Payment to be made as per terms of FSA auction to be revised @ 5% per terms of FSA auction. Pre-Receipted Authenticated\n",
            "\n",
            "WBC PARA NIAN SISX\n",
            "\n",
            "Or Igina] ar Buyet /oup!cateT0r Transportes /Tc [plcatefor\n",
            "\n",
            "Coe Ho BNaosrd750004506 chalian %o 4595 BI0fMiaoDale GSTIK No D0humpor 01 Nci Isquo 3001407462 00OatoRaaava Dato0tRemova 14-067074 Tin Sato0fConsIgnor Uttar_Pradesh Stato Coda0fCons [anor\n",
            "\n",
            "Dotails ot RoceIver (0|Mad to)\n",
            "\n",
            "LIMITEO ReNusaGAR Nanc HIndALCO INDUSTRIES Eo RENUSAGAR Addror; RENUSAGAR Addrcss REMUSAGAR~onebhadra Stato UTTAR PRAOESH State UtTaR PradEsH GSTIN UniqueId stato Code OPAAACHIZOIRIZL 09 GSTIN UniqueId State Code OJAAACHIZOIRIZL 09\n",
            "Question: Summarize the document. Share response in JSON format.\n",
            "\n",
            "Answer the question and provide additional helpful information,\n",
            "based on the pieces of information, if applicable. Be succinct.\n",
            "\n",
            "Responses should be properly formatted to be easily read.\n",
            "\u001b[0m\n",
            "\n",
            "\u001b[1m> Finished chain.\u001b[0m\n",
            "\n",
            "\u001b[1m> Finished chain.\u001b[0m\n",
            "CPU times: user 2.13 s, sys: 73.4 ms, total: 2.21 s\n",
            "Wall time: 4.23 s\n"
          ]
        }
      ]
    },
    {
      "cell_type": "code",
      "source": [
        "# print_response(response)"
      ],
      "metadata": {
        "id": "o_PpnlgxY5xz"
      },
      "execution_count": null,
      "outputs": []
    },
    {
      "cell_type": "code",
      "source": [
        "from IPython.display import Markdown\n",
        "Markdown(response[\"result\"])"
      ],
      "metadata": {
        "colab": {
          "base_uri": "https://localhost:8080/",
          "height": 637
        },
        "id": "bSz4oP88O3no",
        "outputId": "333b85ae-27d0-468f-d603-e86c14cea478"
      },
      "execution_count": null,
      "outputs": [
        {
          "output_type": "execute_result",
          "data": {
            "text/plain": [
              "<IPython.core.display.Markdown object>"
            ],
            "text/markdown": "Here is a summary of the document in JSON format:\n\n```\n{\n  \"Document Type\": \"Coal Bill\",\n  \"Product Details\": {\n    \"Product Grade\": \"#SBi!\",\n    \"HSN\": \"27011990\",\n    \"Quantity\": \"250 MT\",\n    \"Truck No\": \"Up64t4948\",\n    \"Date\": \"14-06-2024\",\n    \"Time\": \"08:31:18\"\n  },\n  \"Consignor Details\": {\n    \"Name\": \"NORTHERN COALFIELDS LIMITED\",\n    \"Address\": \"Uttar Pradesh\",\n    \"State Code\": \"09\"\n  },\n  \"Consignee Details\": {\n    \"Name\": \"HINDALCO INDUSTRIES LIMITED\",\n    \"Address\": \"RENUSAGAR, SONEBHADRA\",\n    \"State Code\": \"09\",\n    \"GSTIN\": \"09aaaCHIZO1RIZL\"\n  },\n  \"Invoice Details\": {\n    \"Invoice Value\": \"132854.92\",\n    \"CGST\": \"205.28\",\n    \"SGST\": \"205.28\",\n    \"IGST\": \"863.10\"\n  }\n}\n```\n\nAdditional helpful information:\n\n* The document appears to be a coal bill for the supply of coal through road transportation.\n* The bill is raised by NORTHERN COALFIELDS LIMITED and is addressed to HINDALCO INDUSTRIES LIMITED.\n* The invoice value is ₹1,328,549.92, with CGST, SGST, and IGST components.\n* The document includes details of the product, consignor, consignee, and invoice values."
          },
          "metadata": {},
          "execution_count": 59
        }
      ]
    },
    {
      "cell_type": "code",
      "source": [
        "# qa = RetrievalQA.from_chain_type(\n",
        "#     llm=llm,\n",
        "#     chain_type=\"stuff\",\n",
        "#     retriever=compression_retriever,\n",
        "#     return_source_documents=True,\n",
        "#     chain_type_kwargs={\"prompt\": prompt, \"verbose\": False},\n",
        "# )"
      ],
      "metadata": {
        "id": "lJfS5OIYavyV"
      },
      "execution_count": null,
      "outputs": []
    },
    {
      "cell_type": "code",
      "source": [
        "# %%time\n",
        "# response = qa.invoke(\"What is the revenue for 2024 and % change?\")"
      ],
      "metadata": {
        "id": "IObqfsaHYjGm"
      },
      "execution_count": null,
      "outputs": []
    },
    {
      "cell_type": "code",
      "source": [
        "# Markdown(response[\"result\"])"
      ],
      "metadata": {
        "id": "JevCXm-sbEMo"
      },
      "execution_count": null,
      "outputs": []
    },
    {
      "cell_type": "code",
      "source": [
        "# %%time\n",
        "# response = qa.invoke(\"What is the revenue for 2023?\")"
      ],
      "metadata": {
        "id": "R6cr0QR6C7_L"
      },
      "execution_count": null,
      "outputs": []
    },
    {
      "cell_type": "code",
      "source": [
        "# print_response(response)"
      ],
      "metadata": {
        "id": "NxwcVvEYb6Fi"
      },
      "execution_count": null,
      "outputs": []
    },
    {
      "cell_type": "code",
      "source": [
        "# Markdown(response[\"result\"])"
      ],
      "metadata": {
        "id": "_l6TcIXNPR--"
      },
      "execution_count": null,
      "outputs": []
    },
    {
      "cell_type": "code",
      "source": [
        "# %%time\n",
        "# response = qa.invoke(\n",
        "#     \"How much is the revenue minus the costs and expenses for 2024? Calculate the answer\"\n",
        "# )"
      ],
      "metadata": {
        "id": "enShZsgADnZt"
      },
      "execution_count": null,
      "outputs": []
    },
    {
      "cell_type": "code",
      "source": [
        "# print_response(response)"
      ],
      "metadata": {
        "id": "CtEBlRP0dVaM"
      },
      "execution_count": null,
      "outputs": []
    },
    {
      "cell_type": "code",
      "source": [
        "# Markdown(response[\"result\"])"
      ],
      "metadata": {
        "id": "nxSMAPGCPOsu"
      },
      "execution_count": null,
      "outputs": []
    },
    {
      "cell_type": "code",
      "source": [
        "# %%time\n",
        "# response = qa.invoke(\n",
        "#     \"How much is the revenue minus the costs and expenses for 2023? Calculate the answer\"\n",
        "# )"
      ],
      "metadata": {
        "id": "842BweJKD0J3"
      },
      "execution_count": null,
      "outputs": []
    },
    {
      "cell_type": "code",
      "source": [
        "# print_response(response)"
      ],
      "metadata": {
        "id": "v0Oug1q5n7eW"
      },
      "execution_count": null,
      "outputs": []
    },
    {
      "cell_type": "code",
      "source": [
        "# Markdown(response[\"result\"])"
      ],
      "metadata": {
        "id": "MqCI6V28PV_9"
      },
      "execution_count": null,
      "outputs": []
    },
    {
      "cell_type": "code",
      "source": [
        "# %%time\n",
        "# response = qa.invoke(\"What is the expected revenue for the second quarter of 2024?\")"
      ],
      "metadata": {
        "id": "D9zNlVvWm9oQ"
      },
      "execution_count": null,
      "outputs": []
    },
    {
      "cell_type": "code",
      "source": [
        "# Markdown(response[\"result\"])"
      ],
      "metadata": {
        "id": "wimlevzZm-w3"
      },
      "execution_count": null,
      "outputs": []
    },
    {
      "cell_type": "code",
      "source": [
        "# %%time\n",
        "# response = qa.invoke(\"What is the overall outlook of Q1 2024?\")"
      ],
      "metadata": {
        "id": "YoToCv3znIVB"
      },
      "execution_count": null,
      "outputs": []
    },
    {
      "cell_type": "code",
      "source": [
        "# print_response(response)"
      ],
      "metadata": {
        "id": "EFtaBY3Vn09U"
      },
      "execution_count": null,
      "outputs": []
    },
    {
      "cell_type": "code",
      "source": [
        "# Markdown(response[\"result\"])"
      ],
      "metadata": {
        "id": "1YAotUFCPYQT"
      },
      "execution_count": null,
      "outputs": []
    },
    {
      "cell_type": "markdown",
      "source": [
        "## References\n",
        "\n",
        "- [Meta Reports First Quarter 2024 Results](https://s21.q4cdn.com/399680738/files/doc_financials/2024/q1/Meta-03-31-2024-Exhibit-99-1_FINAL.pdf)"
      ],
      "metadata": {
        "id": "b9KgJCdYqbI_"
      }
    }
  ]
}
