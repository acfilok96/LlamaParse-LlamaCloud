{
  "nbformat": 4,
  "nbformat_minor": 0,
  "metadata": {
    "colab": {
      "provenance": [],
      "gpuType": "T4"
    },
    "kernelspec": {
      "name": "python3",
      "display_name": "Python 3"
    },
    "language_info": {
      "name": "python"
    },
    "widgets": {
      "application/vnd.jupyter.widget-state+json": {
        "0ee809d54fb94dd191ccc1760efe164a": {
          "model_module": "@jupyter-widgets/controls",
          "model_name": "HBoxModel",
          "model_module_version": "1.5.0",
          "state": {
            "_dom_classes": [],
            "_model_module": "@jupyter-widgets/controls",
            "_model_module_version": "1.5.0",
            "_model_name": "HBoxModel",
            "_view_count": null,
            "_view_module": "@jupyter-widgets/controls",
            "_view_module_version": "1.5.0",
            "_view_name": "HBoxView",
            "box_style": "",
            "children": [
              "IPY_MODEL_c1dd0124d2dd4dc0b1295d64026b460e",
              "IPY_MODEL_b7b8da382be949f1adf376ea3bd84baa",
              "IPY_MODEL_a799abba0c2348f382cce68b4f982606"
            ],
            "layout": "IPY_MODEL_c7a58bd352a14f349b92fc61cb6e68ff"
          }
        },
        "c1dd0124d2dd4dc0b1295d64026b460e": {
          "model_module": "@jupyter-widgets/controls",
          "model_name": "HTMLModel",
          "model_module_version": "1.5.0",
          "state": {
            "_dom_classes": [],
            "_model_module": "@jupyter-widgets/controls",
            "_model_module_version": "1.5.0",
            "_model_name": "HTMLModel",
            "_view_count": null,
            "_view_module": "@jupyter-widgets/controls",
            "_view_module_version": "1.5.0",
            "_view_name": "HTMLView",
            "description": "",
            "description_tooltip": null,
            "layout": "IPY_MODEL_6905aa04d5044d84809638a0eed7018e",
            "placeholder": "​",
            "style": "IPY_MODEL_31177d2b12b04b2097752b78b52da79e",
            "value": "Fetching 5 files: 100%"
          }
        },
        "b7b8da382be949f1adf376ea3bd84baa": {
          "model_module": "@jupyter-widgets/controls",
          "model_name": "FloatProgressModel",
          "model_module_version": "1.5.0",
          "state": {
            "_dom_classes": [],
            "_model_module": "@jupyter-widgets/controls",
            "_model_module_version": "1.5.0",
            "_model_name": "FloatProgressModel",
            "_view_count": null,
            "_view_module": "@jupyter-widgets/controls",
            "_view_module_version": "1.5.0",
            "_view_name": "ProgressView",
            "bar_style": "success",
            "description": "",
            "description_tooltip": null,
            "layout": "IPY_MODEL_511a7cefd8b44935bcbad1a8f516ed3d",
            "max": 5,
            "min": 0,
            "orientation": "horizontal",
            "style": "IPY_MODEL_87d0035e4ea24a52b1a0936f05e20f5e",
            "value": 5
          }
        },
        "a799abba0c2348f382cce68b4f982606": {
          "model_module": "@jupyter-widgets/controls",
          "model_name": "HTMLModel",
          "model_module_version": "1.5.0",
          "state": {
            "_dom_classes": [],
            "_model_module": "@jupyter-widgets/controls",
            "_model_module_version": "1.5.0",
            "_model_name": "HTMLModel",
            "_view_count": null,
            "_view_module": "@jupyter-widgets/controls",
            "_view_module_version": "1.5.0",
            "_view_name": "HTMLView",
            "description": "",
            "description_tooltip": null,
            "layout": "IPY_MODEL_d319bdbc30e64abc87e64c7acec62f99",
            "placeholder": "​",
            "style": "IPY_MODEL_d753162a7b864939ba30ea362b8effdd",
            "value": " 5/5 [00:02&lt;00:00,  1.25s/it]"
          }
        },
        "c7a58bd352a14f349b92fc61cb6e68ff": {
          "model_module": "@jupyter-widgets/base",
          "model_name": "LayoutModel",
          "model_module_version": "1.2.0",
          "state": {
            "_model_module": "@jupyter-widgets/base",
            "_model_module_version": "1.2.0",
            "_model_name": "LayoutModel",
            "_view_count": null,
            "_view_module": "@jupyter-widgets/base",
            "_view_module_version": "1.2.0",
            "_view_name": "LayoutView",
            "align_content": null,
            "align_items": null,
            "align_self": null,
            "border": null,
            "bottom": null,
            "display": null,
            "flex": null,
            "flex_flow": null,
            "grid_area": null,
            "grid_auto_columns": null,
            "grid_auto_flow": null,
            "grid_auto_rows": null,
            "grid_column": null,
            "grid_gap": null,
            "grid_row": null,
            "grid_template_areas": null,
            "grid_template_columns": null,
            "grid_template_rows": null,
            "height": null,
            "justify_content": null,
            "justify_items": null,
            "left": null,
            "margin": null,
            "max_height": null,
            "max_width": null,
            "min_height": null,
            "min_width": null,
            "object_fit": null,
            "object_position": null,
            "order": null,
            "overflow": null,
            "overflow_x": null,
            "overflow_y": null,
            "padding": null,
            "right": null,
            "top": null,
            "visibility": null,
            "width": null
          }
        },
        "6905aa04d5044d84809638a0eed7018e": {
          "model_module": "@jupyter-widgets/base",
          "model_name": "LayoutModel",
          "model_module_version": "1.2.0",
          "state": {
            "_model_module": "@jupyter-widgets/base",
            "_model_module_version": "1.2.0",
            "_model_name": "LayoutModel",
            "_view_count": null,
            "_view_module": "@jupyter-widgets/base",
            "_view_module_version": "1.2.0",
            "_view_name": "LayoutView",
            "align_content": null,
            "align_items": null,
            "align_self": null,
            "border": null,
            "bottom": null,
            "display": null,
            "flex": null,
            "flex_flow": null,
            "grid_area": null,
            "grid_auto_columns": null,
            "grid_auto_flow": null,
            "grid_auto_rows": null,
            "grid_column": null,
            "grid_gap": null,
            "grid_row": null,
            "grid_template_areas": null,
            "grid_template_columns": null,
            "grid_template_rows": null,
            "height": null,
            "justify_content": null,
            "justify_items": null,
            "left": null,
            "margin": null,
            "max_height": null,
            "max_width": null,
            "min_height": null,
            "min_width": null,
            "object_fit": null,
            "object_position": null,
            "order": null,
            "overflow": null,
            "overflow_x": null,
            "overflow_y": null,
            "padding": null,
            "right": null,
            "top": null,
            "visibility": null,
            "width": null
          }
        },
        "31177d2b12b04b2097752b78b52da79e": {
          "model_module": "@jupyter-widgets/controls",
          "model_name": "DescriptionStyleModel",
          "model_module_version": "1.5.0",
          "state": {
            "_model_module": "@jupyter-widgets/controls",
            "_model_module_version": "1.5.0",
            "_model_name": "DescriptionStyleModel",
            "_view_count": null,
            "_view_module": "@jupyter-widgets/base",
            "_view_module_version": "1.2.0",
            "_view_name": "StyleView",
            "description_width": ""
          }
        },
        "511a7cefd8b44935bcbad1a8f516ed3d": {
          "model_module": "@jupyter-widgets/base",
          "model_name": "LayoutModel",
          "model_module_version": "1.2.0",
          "state": {
            "_model_module": "@jupyter-widgets/base",
            "_model_module_version": "1.2.0",
            "_model_name": "LayoutModel",
            "_view_count": null,
            "_view_module": "@jupyter-widgets/base",
            "_view_module_version": "1.2.0",
            "_view_name": "LayoutView",
            "align_content": null,
            "align_items": null,
            "align_self": null,
            "border": null,
            "bottom": null,
            "display": null,
            "flex": null,
            "flex_flow": null,
            "grid_area": null,
            "grid_auto_columns": null,
            "grid_auto_flow": null,
            "grid_auto_rows": null,
            "grid_column": null,
            "grid_gap": null,
            "grid_row": null,
            "grid_template_areas": null,
            "grid_template_columns": null,
            "grid_template_rows": null,
            "height": null,
            "justify_content": null,
            "justify_items": null,
            "left": null,
            "margin": null,
            "max_height": null,
            "max_width": null,
            "min_height": null,
            "min_width": null,
            "object_fit": null,
            "object_position": null,
            "order": null,
            "overflow": null,
            "overflow_x": null,
            "overflow_y": null,
            "padding": null,
            "right": null,
            "top": null,
            "visibility": null,
            "width": null
          }
        },
        "87d0035e4ea24a52b1a0936f05e20f5e": {
          "model_module": "@jupyter-widgets/controls",
          "model_name": "ProgressStyleModel",
          "model_module_version": "1.5.0",
          "state": {
            "_model_module": "@jupyter-widgets/controls",
            "_model_module_version": "1.5.0",
            "_model_name": "ProgressStyleModel",
            "_view_count": null,
            "_view_module": "@jupyter-widgets/base",
            "_view_module_version": "1.2.0",
            "_view_name": "StyleView",
            "bar_color": null,
            "description_width": ""
          }
        },
        "d319bdbc30e64abc87e64c7acec62f99": {
          "model_module": "@jupyter-widgets/base",
          "model_name": "LayoutModel",
          "model_module_version": "1.2.0",
          "state": {
            "_model_module": "@jupyter-widgets/base",
            "_model_module_version": "1.2.0",
            "_model_name": "LayoutModel",
            "_view_count": null,
            "_view_module": "@jupyter-widgets/base",
            "_view_module_version": "1.2.0",
            "_view_name": "LayoutView",
            "align_content": null,
            "align_items": null,
            "align_self": null,
            "border": null,
            "bottom": null,
            "display": null,
            "flex": null,
            "flex_flow": null,
            "grid_area": null,
            "grid_auto_columns": null,
            "grid_auto_flow": null,
            "grid_auto_rows": null,
            "grid_column": null,
            "grid_gap": null,
            "grid_row": null,
            "grid_template_areas": null,
            "grid_template_columns": null,
            "grid_template_rows": null,
            "height": null,
            "justify_content": null,
            "justify_items": null,
            "left": null,
            "margin": null,
            "max_height": null,
            "max_width": null,
            "min_height": null,
            "min_width": null,
            "object_fit": null,
            "object_position": null,
            "order": null,
            "overflow": null,
            "overflow_x": null,
            "overflow_y": null,
            "padding": null,
            "right": null,
            "top": null,
            "visibility": null,
            "width": null
          }
        },
        "d753162a7b864939ba30ea362b8effdd": {
          "model_module": "@jupyter-widgets/controls",
          "model_name": "DescriptionStyleModel",
          "model_module_version": "1.5.0",
          "state": {
            "_model_module": "@jupyter-widgets/controls",
            "_model_module_version": "1.5.0",
            "_model_name": "DescriptionStyleModel",
            "_view_count": null,
            "_view_module": "@jupyter-widgets/base",
            "_view_module_version": "1.2.0",
            "_view_name": "StyleView",
            "description_width": ""
          }
        },
        "7c09dc0388dd412db8d7fcb28f1fb7bc": {
          "model_module": "@jupyter-widgets/controls",
          "model_name": "HBoxModel",
          "model_module_version": "1.5.0",
          "state": {
            "_dom_classes": [],
            "_model_module": "@jupyter-widgets/controls",
            "_model_module_version": "1.5.0",
            "_model_name": "HBoxModel",
            "_view_count": null,
            "_view_module": "@jupyter-widgets/controls",
            "_view_module_version": "1.5.0",
            "_view_name": "HBoxView",
            "box_style": "",
            "children": [
              "IPY_MODEL_71712a3c584a4024983c535991bbbb24",
              "IPY_MODEL_b3018bd331c147eaa5dbd0efc000ea59",
              "IPY_MODEL_1410188f23df4458aaebc7b9fe99ade2"
            ],
            "layout": "IPY_MODEL_4fb812db39cb4800bd73c66b4d773b18"
          }
        },
        "71712a3c584a4024983c535991bbbb24": {
          "model_module": "@jupyter-widgets/controls",
          "model_name": "HTMLModel",
          "model_module_version": "1.5.0",
          "state": {
            "_dom_classes": [],
            "_model_module": "@jupyter-widgets/controls",
            "_model_module_version": "1.5.0",
            "_model_name": "HTMLModel",
            "_view_count": null,
            "_view_module": "@jupyter-widgets/controls",
            "_view_module_version": "1.5.0",
            "_view_name": "HTMLView",
            "description": "",
            "description_tooltip": null,
            "layout": "IPY_MODEL_741a469a454449e6a20957991e35c8e6",
            "placeholder": "​",
            "style": "IPY_MODEL_08a9abc8668f4844adcbec20f5a975bd",
            "value": "tokenizer.json: 100%"
          }
        },
        "b3018bd331c147eaa5dbd0efc000ea59": {
          "model_module": "@jupyter-widgets/controls",
          "model_name": "FloatProgressModel",
          "model_module_version": "1.5.0",
          "state": {
            "_dom_classes": [],
            "_model_module": "@jupyter-widgets/controls",
            "_model_module_version": "1.5.0",
            "_model_name": "FloatProgressModel",
            "_view_count": null,
            "_view_module": "@jupyter-widgets/controls",
            "_view_module_version": "1.5.0",
            "_view_name": "ProgressView",
            "bar_style": "success",
            "description": "",
            "description_tooltip": null,
            "layout": "IPY_MODEL_c3750d3545ac4b5183c595a4ad41f10d",
            "max": 711396,
            "min": 0,
            "orientation": "horizontal",
            "style": "IPY_MODEL_c519bbd3b25a4b01b2a3ab296cb3241c",
            "value": 711396
          }
        },
        "1410188f23df4458aaebc7b9fe99ade2": {
          "model_module": "@jupyter-widgets/controls",
          "model_name": "HTMLModel",
          "model_module_version": "1.5.0",
          "state": {
            "_dom_classes": [],
            "_model_module": "@jupyter-widgets/controls",
            "_model_module_version": "1.5.0",
            "_model_name": "HTMLModel",
            "_view_count": null,
            "_view_module": "@jupyter-widgets/controls",
            "_view_module_version": "1.5.0",
            "_view_name": "HTMLView",
            "description": "",
            "description_tooltip": null,
            "layout": "IPY_MODEL_772471e22ec04236b839707bd794ff2e",
            "placeholder": "​",
            "style": "IPY_MODEL_52ea9ff53f054c5c91626e8c92c2956a",
            "value": " 711k/711k [00:00&lt;00:00, 2.96MB/s]"
          }
        },
        "4fb812db39cb4800bd73c66b4d773b18": {
          "model_module": "@jupyter-widgets/base",
          "model_name": "LayoutModel",
          "model_module_version": "1.2.0",
          "state": {
            "_model_module": "@jupyter-widgets/base",
            "_model_module_version": "1.2.0",
            "_model_name": "LayoutModel",
            "_view_count": null,
            "_view_module": "@jupyter-widgets/base",
            "_view_module_version": "1.2.0",
            "_view_name": "LayoutView",
            "align_content": null,
            "align_items": null,
            "align_self": null,
            "border": null,
            "bottom": null,
            "display": null,
            "flex": null,
            "flex_flow": null,
            "grid_area": null,
            "grid_auto_columns": null,
            "grid_auto_flow": null,
            "grid_auto_rows": null,
            "grid_column": null,
            "grid_gap": null,
            "grid_row": null,
            "grid_template_areas": null,
            "grid_template_columns": null,
            "grid_template_rows": null,
            "height": null,
            "justify_content": null,
            "justify_items": null,
            "left": null,
            "margin": null,
            "max_height": null,
            "max_width": null,
            "min_height": null,
            "min_width": null,
            "object_fit": null,
            "object_position": null,
            "order": null,
            "overflow": null,
            "overflow_x": null,
            "overflow_y": null,
            "padding": null,
            "right": null,
            "top": null,
            "visibility": null,
            "width": null
          }
        },
        "741a469a454449e6a20957991e35c8e6": {
          "model_module": "@jupyter-widgets/base",
          "model_name": "LayoutModel",
          "model_module_version": "1.2.0",
          "state": {
            "_model_module": "@jupyter-widgets/base",
            "_model_module_version": "1.2.0",
            "_model_name": "LayoutModel",
            "_view_count": null,
            "_view_module": "@jupyter-widgets/base",
            "_view_module_version": "1.2.0",
            "_view_name": "LayoutView",
            "align_content": null,
            "align_items": null,
            "align_self": null,
            "border": null,
            "bottom": null,
            "display": null,
            "flex": null,
            "flex_flow": null,
            "grid_area": null,
            "grid_auto_columns": null,
            "grid_auto_flow": null,
            "grid_auto_rows": null,
            "grid_column": null,
            "grid_gap": null,
            "grid_row": null,
            "grid_template_areas": null,
            "grid_template_columns": null,
            "grid_template_rows": null,
            "height": null,
            "justify_content": null,
            "justify_items": null,
            "left": null,
            "margin": null,
            "max_height": null,
            "max_width": null,
            "min_height": null,
            "min_width": null,
            "object_fit": null,
            "object_position": null,
            "order": null,
            "overflow": null,
            "overflow_x": null,
            "overflow_y": null,
            "padding": null,
            "right": null,
            "top": null,
            "visibility": null,
            "width": null
          }
        },
        "08a9abc8668f4844adcbec20f5a975bd": {
          "model_module": "@jupyter-widgets/controls",
          "model_name": "DescriptionStyleModel",
          "model_module_version": "1.5.0",
          "state": {
            "_model_module": "@jupyter-widgets/controls",
            "_model_module_version": "1.5.0",
            "_model_name": "DescriptionStyleModel",
            "_view_count": null,
            "_view_module": "@jupyter-widgets/base",
            "_view_module_version": "1.2.0",
            "_view_name": "StyleView",
            "description_width": ""
          }
        },
        "c3750d3545ac4b5183c595a4ad41f10d": {
          "model_module": "@jupyter-widgets/base",
          "model_name": "LayoutModel",
          "model_module_version": "1.2.0",
          "state": {
            "_model_module": "@jupyter-widgets/base",
            "_model_module_version": "1.2.0",
            "_model_name": "LayoutModel",
            "_view_count": null,
            "_view_module": "@jupyter-widgets/base",
            "_view_module_version": "1.2.0",
            "_view_name": "LayoutView",
            "align_content": null,
            "align_items": null,
            "align_self": null,
            "border": null,
            "bottom": null,
            "display": null,
            "flex": null,
            "flex_flow": null,
            "grid_area": null,
            "grid_auto_columns": null,
            "grid_auto_flow": null,
            "grid_auto_rows": null,
            "grid_column": null,
            "grid_gap": null,
            "grid_row": null,
            "grid_template_areas": null,
            "grid_template_columns": null,
            "grid_template_rows": null,
            "height": null,
            "justify_content": null,
            "justify_items": null,
            "left": null,
            "margin": null,
            "max_height": null,
            "max_width": null,
            "min_height": null,
            "min_width": null,
            "object_fit": null,
            "object_position": null,
            "order": null,
            "overflow": null,
            "overflow_x": null,
            "overflow_y": null,
            "padding": null,
            "right": null,
            "top": null,
            "visibility": null,
            "width": null
          }
        },
        "c519bbd3b25a4b01b2a3ab296cb3241c": {
          "model_module": "@jupyter-widgets/controls",
          "model_name": "ProgressStyleModel",
          "model_module_version": "1.5.0",
          "state": {
            "_model_module": "@jupyter-widgets/controls",
            "_model_module_version": "1.5.0",
            "_model_name": "ProgressStyleModel",
            "_view_count": null,
            "_view_module": "@jupyter-widgets/base",
            "_view_module_version": "1.2.0",
            "_view_name": "StyleView",
            "bar_color": null,
            "description_width": ""
          }
        },
        "772471e22ec04236b839707bd794ff2e": {
          "model_module": "@jupyter-widgets/base",
          "model_name": "LayoutModel",
          "model_module_version": "1.2.0",
          "state": {
            "_model_module": "@jupyter-widgets/base",
            "_model_module_version": "1.2.0",
            "_model_name": "LayoutModel",
            "_view_count": null,
            "_view_module": "@jupyter-widgets/base",
            "_view_module_version": "1.2.0",
            "_view_name": "LayoutView",
            "align_content": null,
            "align_items": null,
            "align_self": null,
            "border": null,
            "bottom": null,
            "display": null,
            "flex": null,
            "flex_flow": null,
            "grid_area": null,
            "grid_auto_columns": null,
            "grid_auto_flow": null,
            "grid_auto_rows": null,
            "grid_column": null,
            "grid_gap": null,
            "grid_row": null,
            "grid_template_areas": null,
            "grid_template_columns": null,
            "grid_template_rows": null,
            "height": null,
            "justify_content": null,
            "justify_items": null,
            "left": null,
            "margin": null,
            "max_height": null,
            "max_width": null,
            "min_height": null,
            "min_width": null,
            "object_fit": null,
            "object_position": null,
            "order": null,
            "overflow": null,
            "overflow_x": null,
            "overflow_y": null,
            "padding": null,
            "right": null,
            "top": null,
            "visibility": null,
            "width": null
          }
        },
        "52ea9ff53f054c5c91626e8c92c2956a": {
          "model_module": "@jupyter-widgets/controls",
          "model_name": "DescriptionStyleModel",
          "model_module_version": "1.5.0",
          "state": {
            "_model_module": "@jupyter-widgets/controls",
            "_model_module_version": "1.5.0",
            "_model_name": "DescriptionStyleModel",
            "_view_count": null,
            "_view_module": "@jupyter-widgets/base",
            "_view_module_version": "1.2.0",
            "_view_name": "StyleView",
            "description_width": ""
          }
        },
        "1c04daa0148b4f429741a66a76de44c8": {
          "model_module": "@jupyter-widgets/controls",
          "model_name": "HBoxModel",
          "model_module_version": "1.5.0",
          "state": {
            "_dom_classes": [],
            "_model_module": "@jupyter-widgets/controls",
            "_model_module_version": "1.5.0",
            "_model_name": "HBoxModel",
            "_view_count": null,
            "_view_module": "@jupyter-widgets/controls",
            "_view_module_version": "1.5.0",
            "_view_name": "HBoxView",
            "box_style": "",
            "children": [
              "IPY_MODEL_326822c9e90e40ab9521bb36cc646cdb",
              "IPY_MODEL_69e41193b8444833a4a168159164f7af",
              "IPY_MODEL_d9278220821c48ecac741ec8bc9a7aef"
            ],
            "layout": "IPY_MODEL_6765d4b2108b44f19c3c0e39fbf365c1"
          }
        },
        "326822c9e90e40ab9521bb36cc646cdb": {
          "model_module": "@jupyter-widgets/controls",
          "model_name": "HTMLModel",
          "model_module_version": "1.5.0",
          "state": {
            "_dom_classes": [],
            "_model_module": "@jupyter-widgets/controls",
            "_model_module_version": "1.5.0",
            "_model_name": "HTMLModel",
            "_view_count": null,
            "_view_module": "@jupyter-widgets/controls",
            "_view_module_version": "1.5.0",
            "_view_name": "HTMLView",
            "description": "",
            "description_tooltip": null,
            "layout": "IPY_MODEL_f148e0352c3948bba19c047c0e6e21e8",
            "placeholder": "​",
            "style": "IPY_MODEL_6798efac4b22473eab5a04cf3e86d6b6",
            "value": "special_tokens_map.json: 100%"
          }
        },
        "69e41193b8444833a4a168159164f7af": {
          "model_module": "@jupyter-widgets/controls",
          "model_name": "FloatProgressModel",
          "model_module_version": "1.5.0",
          "state": {
            "_dom_classes": [],
            "_model_module": "@jupyter-widgets/controls",
            "_model_module_version": "1.5.0",
            "_model_name": "FloatProgressModel",
            "_view_count": null,
            "_view_module": "@jupyter-widgets/controls",
            "_view_module_version": "1.5.0",
            "_view_name": "ProgressView",
            "bar_style": "success",
            "description": "",
            "description_tooltip": null,
            "layout": "IPY_MODEL_79a7e1da9c084c088ca7d8088c8e2b9d",
            "max": 695,
            "min": 0,
            "orientation": "horizontal",
            "style": "IPY_MODEL_3b921ab46a4f42d88f7fbfb2b6ac6e34",
            "value": 695
          }
        },
        "d9278220821c48ecac741ec8bc9a7aef": {
          "model_module": "@jupyter-widgets/controls",
          "model_name": "HTMLModel",
          "model_module_version": "1.5.0",
          "state": {
            "_dom_classes": [],
            "_model_module": "@jupyter-widgets/controls",
            "_model_module_version": "1.5.0",
            "_model_name": "HTMLModel",
            "_view_count": null,
            "_view_module": "@jupyter-widgets/controls",
            "_view_module_version": "1.5.0",
            "_view_name": "HTMLView",
            "description": "",
            "description_tooltip": null,
            "layout": "IPY_MODEL_1fa492c1fb014486897d797fa7158ebb",
            "placeholder": "​",
            "style": "IPY_MODEL_d90ddc76bf5b41a68a92c82279c1d28b",
            "value": " 695/695 [00:00&lt;00:00, 11.7kB/s]"
          }
        },
        "6765d4b2108b44f19c3c0e39fbf365c1": {
          "model_module": "@jupyter-widgets/base",
          "model_name": "LayoutModel",
          "model_module_version": "1.2.0",
          "state": {
            "_model_module": "@jupyter-widgets/base",
            "_model_module_version": "1.2.0",
            "_model_name": "LayoutModel",
            "_view_count": null,
            "_view_module": "@jupyter-widgets/base",
            "_view_module_version": "1.2.0",
            "_view_name": "LayoutView",
            "align_content": null,
            "align_items": null,
            "align_self": null,
            "border": null,
            "bottom": null,
            "display": null,
            "flex": null,
            "flex_flow": null,
            "grid_area": null,
            "grid_auto_columns": null,
            "grid_auto_flow": null,
            "grid_auto_rows": null,
            "grid_column": null,
            "grid_gap": null,
            "grid_row": null,
            "grid_template_areas": null,
            "grid_template_columns": null,
            "grid_template_rows": null,
            "height": null,
            "justify_content": null,
            "justify_items": null,
            "left": null,
            "margin": null,
            "max_height": null,
            "max_width": null,
            "min_height": null,
            "min_width": null,
            "object_fit": null,
            "object_position": null,
            "order": null,
            "overflow": null,
            "overflow_x": null,
            "overflow_y": null,
            "padding": null,
            "right": null,
            "top": null,
            "visibility": null,
            "width": null
          }
        },
        "f148e0352c3948bba19c047c0e6e21e8": {
          "model_module": "@jupyter-widgets/base",
          "model_name": "LayoutModel",
          "model_module_version": "1.2.0",
          "state": {
            "_model_module": "@jupyter-widgets/base",
            "_model_module_version": "1.2.0",
            "_model_name": "LayoutModel",
            "_view_count": null,
            "_view_module": "@jupyter-widgets/base",
            "_view_module_version": "1.2.0",
            "_view_name": "LayoutView",
            "align_content": null,
            "align_items": null,
            "align_self": null,
            "border": null,
            "bottom": null,
            "display": null,
            "flex": null,
            "flex_flow": null,
            "grid_area": null,
            "grid_auto_columns": null,
            "grid_auto_flow": null,
            "grid_auto_rows": null,
            "grid_column": null,
            "grid_gap": null,
            "grid_row": null,
            "grid_template_areas": null,
            "grid_template_columns": null,
            "grid_template_rows": null,
            "height": null,
            "justify_content": null,
            "justify_items": null,
            "left": null,
            "margin": null,
            "max_height": null,
            "max_width": null,
            "min_height": null,
            "min_width": null,
            "object_fit": null,
            "object_position": null,
            "order": null,
            "overflow": null,
            "overflow_x": null,
            "overflow_y": null,
            "padding": null,
            "right": null,
            "top": null,
            "visibility": null,
            "width": null
          }
        },
        "6798efac4b22473eab5a04cf3e86d6b6": {
          "model_module": "@jupyter-widgets/controls",
          "model_name": "DescriptionStyleModel",
          "model_module_version": "1.5.0",
          "state": {
            "_model_module": "@jupyter-widgets/controls",
            "_model_module_version": "1.5.0",
            "_model_name": "DescriptionStyleModel",
            "_view_count": null,
            "_view_module": "@jupyter-widgets/base",
            "_view_module_version": "1.2.0",
            "_view_name": "StyleView",
            "description_width": ""
          }
        },
        "79a7e1da9c084c088ca7d8088c8e2b9d": {
          "model_module": "@jupyter-widgets/base",
          "model_name": "LayoutModel",
          "model_module_version": "1.2.0",
          "state": {
            "_model_module": "@jupyter-widgets/base",
            "_model_module_version": "1.2.0",
            "_model_name": "LayoutModel",
            "_view_count": null,
            "_view_module": "@jupyter-widgets/base",
            "_view_module_version": "1.2.0",
            "_view_name": "LayoutView",
            "align_content": null,
            "align_items": null,
            "align_self": null,
            "border": null,
            "bottom": null,
            "display": null,
            "flex": null,
            "flex_flow": null,
            "grid_area": null,
            "grid_auto_columns": null,
            "grid_auto_flow": null,
            "grid_auto_rows": null,
            "grid_column": null,
            "grid_gap": null,
            "grid_row": null,
            "grid_template_areas": null,
            "grid_template_columns": null,
            "grid_template_rows": null,
            "height": null,
            "justify_content": null,
            "justify_items": null,
            "left": null,
            "margin": null,
            "max_height": null,
            "max_width": null,
            "min_height": null,
            "min_width": null,
            "object_fit": null,
            "object_position": null,
            "order": null,
            "overflow": null,
            "overflow_x": null,
            "overflow_y": null,
            "padding": null,
            "right": null,
            "top": null,
            "visibility": null,
            "width": null
          }
        },
        "3b921ab46a4f42d88f7fbfb2b6ac6e34": {
          "model_module": "@jupyter-widgets/controls",
          "model_name": "ProgressStyleModel",
          "model_module_version": "1.5.0",
          "state": {
            "_model_module": "@jupyter-widgets/controls",
            "_model_module_version": "1.5.0",
            "_model_name": "ProgressStyleModel",
            "_view_count": null,
            "_view_module": "@jupyter-widgets/base",
            "_view_module_version": "1.2.0",
            "_view_name": "StyleView",
            "bar_color": null,
            "description_width": ""
          }
        },
        "1fa492c1fb014486897d797fa7158ebb": {
          "model_module": "@jupyter-widgets/base",
          "model_name": "LayoutModel",
          "model_module_version": "1.2.0",
          "state": {
            "_model_module": "@jupyter-widgets/base",
            "_model_module_version": "1.2.0",
            "_model_name": "LayoutModel",
            "_view_count": null,
            "_view_module": "@jupyter-widgets/base",
            "_view_module_version": "1.2.0",
            "_view_name": "LayoutView",
            "align_content": null,
            "align_items": null,
            "align_self": null,
            "border": null,
            "bottom": null,
            "display": null,
            "flex": null,
            "flex_flow": null,
            "grid_area": null,
            "grid_auto_columns": null,
            "grid_auto_flow": null,
            "grid_auto_rows": null,
            "grid_column": null,
            "grid_gap": null,
            "grid_row": null,
            "grid_template_areas": null,
            "grid_template_columns": null,
            "grid_template_rows": null,
            "height": null,
            "justify_content": null,
            "justify_items": null,
            "left": null,
            "margin": null,
            "max_height": null,
            "max_width": null,
            "min_height": null,
            "min_width": null,
            "object_fit": null,
            "object_position": null,
            "order": null,
            "overflow": null,
            "overflow_x": null,
            "overflow_y": null,
            "padding": null,
            "right": null,
            "top": null,
            "visibility": null,
            "width": null
          }
        },
        "d90ddc76bf5b41a68a92c82279c1d28b": {
          "model_module": "@jupyter-widgets/controls",
          "model_name": "DescriptionStyleModel",
          "model_module_version": "1.5.0",
          "state": {
            "_model_module": "@jupyter-widgets/controls",
            "_model_module_version": "1.5.0",
            "_model_name": "DescriptionStyleModel",
            "_view_count": null,
            "_view_module": "@jupyter-widgets/base",
            "_view_module_version": "1.2.0",
            "_view_name": "StyleView",
            "description_width": ""
          }
        },
        "3c5b78ab61b346d780898e60714c4fa9": {
          "model_module": "@jupyter-widgets/controls",
          "model_name": "HBoxModel",
          "model_module_version": "1.5.0",
          "state": {
            "_dom_classes": [],
            "_model_module": "@jupyter-widgets/controls",
            "_model_module_version": "1.5.0",
            "_model_name": "HBoxModel",
            "_view_count": null,
            "_view_module": "@jupyter-widgets/controls",
            "_view_module_version": "1.5.0",
            "_view_name": "HBoxView",
            "box_style": "",
            "children": [
              "IPY_MODEL_0cef7ee2d8bd42ef8d876b897d24dd1a",
              "IPY_MODEL_3abf9e0e1a584bb490e769b46d47f189",
              "IPY_MODEL_ad2dd672466f4f4bb924f8f054d43ba9"
            ],
            "layout": "IPY_MODEL_fbccab5d0e3b4dc0a5a838c31c9b0cd0"
          }
        },
        "0cef7ee2d8bd42ef8d876b897d24dd1a": {
          "model_module": "@jupyter-widgets/controls",
          "model_name": "HTMLModel",
          "model_module_version": "1.5.0",
          "state": {
            "_dom_classes": [],
            "_model_module": "@jupyter-widgets/controls",
            "_model_module_version": "1.5.0",
            "_model_name": "HTMLModel",
            "_view_count": null,
            "_view_module": "@jupyter-widgets/controls",
            "_view_module_version": "1.5.0",
            "_view_name": "HTMLView",
            "description": "",
            "description_tooltip": null,
            "layout": "IPY_MODEL_53ab1da3f3b849519997e3e08218daf9",
            "placeholder": "​",
            "style": "IPY_MODEL_d6986848b0594afaaf3d6f30e245c1b5",
            "value": "config.json: 100%"
          }
        },
        "3abf9e0e1a584bb490e769b46d47f189": {
          "model_module": "@jupyter-widgets/controls",
          "model_name": "FloatProgressModel",
          "model_module_version": "1.5.0",
          "state": {
            "_dom_classes": [],
            "_model_module": "@jupyter-widgets/controls",
            "_model_module_version": "1.5.0",
            "_model_name": "FloatProgressModel",
            "_view_count": null,
            "_view_module": "@jupyter-widgets/controls",
            "_view_module_version": "1.5.0",
            "_view_name": "ProgressView",
            "bar_style": "success",
            "description": "",
            "description_tooltip": null,
            "layout": "IPY_MODEL_f0f9c52289cc4c25b984162e53d19572",
            "max": 740,
            "min": 0,
            "orientation": "horizontal",
            "style": "IPY_MODEL_3e0a058aded7422d8b19eed8e591cdfb",
            "value": 740
          }
        },
        "ad2dd672466f4f4bb924f8f054d43ba9": {
          "model_module": "@jupyter-widgets/controls",
          "model_name": "HTMLModel",
          "model_module_version": "1.5.0",
          "state": {
            "_dom_classes": [],
            "_model_module": "@jupyter-widgets/controls",
            "_model_module_version": "1.5.0",
            "_model_name": "HTMLModel",
            "_view_count": null,
            "_view_module": "@jupyter-widgets/controls",
            "_view_module_version": "1.5.0",
            "_view_name": "HTMLView",
            "description": "",
            "description_tooltip": null,
            "layout": "IPY_MODEL_a8ceac8f9f3d4d1284fd556c4338238c",
            "placeholder": "​",
            "style": "IPY_MODEL_39553393660144bfbfb35725045cde65",
            "value": " 740/740 [00:00&lt;00:00, 8.71kB/s]"
          }
        },
        "fbccab5d0e3b4dc0a5a838c31c9b0cd0": {
          "model_module": "@jupyter-widgets/base",
          "model_name": "LayoutModel",
          "model_module_version": "1.2.0",
          "state": {
            "_model_module": "@jupyter-widgets/base",
            "_model_module_version": "1.2.0",
            "_model_name": "LayoutModel",
            "_view_count": null,
            "_view_module": "@jupyter-widgets/base",
            "_view_module_version": "1.2.0",
            "_view_name": "LayoutView",
            "align_content": null,
            "align_items": null,
            "align_self": null,
            "border": null,
            "bottom": null,
            "display": null,
            "flex": null,
            "flex_flow": null,
            "grid_area": null,
            "grid_auto_columns": null,
            "grid_auto_flow": null,
            "grid_auto_rows": null,
            "grid_column": null,
            "grid_gap": null,
            "grid_row": null,
            "grid_template_areas": null,
            "grid_template_columns": null,
            "grid_template_rows": null,
            "height": null,
            "justify_content": null,
            "justify_items": null,
            "left": null,
            "margin": null,
            "max_height": null,
            "max_width": null,
            "min_height": null,
            "min_width": null,
            "object_fit": null,
            "object_position": null,
            "order": null,
            "overflow": null,
            "overflow_x": null,
            "overflow_y": null,
            "padding": null,
            "right": null,
            "top": null,
            "visibility": null,
            "width": null
          }
        },
        "53ab1da3f3b849519997e3e08218daf9": {
          "model_module": "@jupyter-widgets/base",
          "model_name": "LayoutModel",
          "model_module_version": "1.2.0",
          "state": {
            "_model_module": "@jupyter-widgets/base",
            "_model_module_version": "1.2.0",
            "_model_name": "LayoutModel",
            "_view_count": null,
            "_view_module": "@jupyter-widgets/base",
            "_view_module_version": "1.2.0",
            "_view_name": "LayoutView",
            "align_content": null,
            "align_items": null,
            "align_self": null,
            "border": null,
            "bottom": null,
            "display": null,
            "flex": null,
            "flex_flow": null,
            "grid_area": null,
            "grid_auto_columns": null,
            "grid_auto_flow": null,
            "grid_auto_rows": null,
            "grid_column": null,
            "grid_gap": null,
            "grid_row": null,
            "grid_template_areas": null,
            "grid_template_columns": null,
            "grid_template_rows": null,
            "height": null,
            "justify_content": null,
            "justify_items": null,
            "left": null,
            "margin": null,
            "max_height": null,
            "max_width": null,
            "min_height": null,
            "min_width": null,
            "object_fit": null,
            "object_position": null,
            "order": null,
            "overflow": null,
            "overflow_x": null,
            "overflow_y": null,
            "padding": null,
            "right": null,
            "top": null,
            "visibility": null,
            "width": null
          }
        },
        "d6986848b0594afaaf3d6f30e245c1b5": {
          "model_module": "@jupyter-widgets/controls",
          "model_name": "DescriptionStyleModel",
          "model_module_version": "1.5.0",
          "state": {
            "_model_module": "@jupyter-widgets/controls",
            "_model_module_version": "1.5.0",
            "_model_name": "DescriptionStyleModel",
            "_view_count": null,
            "_view_module": "@jupyter-widgets/base",
            "_view_module_version": "1.2.0",
            "_view_name": "StyleView",
            "description_width": ""
          }
        },
        "f0f9c52289cc4c25b984162e53d19572": {
          "model_module": "@jupyter-widgets/base",
          "model_name": "LayoutModel",
          "model_module_version": "1.2.0",
          "state": {
            "_model_module": "@jupyter-widgets/base",
            "_model_module_version": "1.2.0",
            "_model_name": "LayoutModel",
            "_view_count": null,
            "_view_module": "@jupyter-widgets/base",
            "_view_module_version": "1.2.0",
            "_view_name": "LayoutView",
            "align_content": null,
            "align_items": null,
            "align_self": null,
            "border": null,
            "bottom": null,
            "display": null,
            "flex": null,
            "flex_flow": null,
            "grid_area": null,
            "grid_auto_columns": null,
            "grid_auto_flow": null,
            "grid_auto_rows": null,
            "grid_column": null,
            "grid_gap": null,
            "grid_row": null,
            "grid_template_areas": null,
            "grid_template_columns": null,
            "grid_template_rows": null,
            "height": null,
            "justify_content": null,
            "justify_items": null,
            "left": null,
            "margin": null,
            "max_height": null,
            "max_width": null,
            "min_height": null,
            "min_width": null,
            "object_fit": null,
            "object_position": null,
            "order": null,
            "overflow": null,
            "overflow_x": null,
            "overflow_y": null,
            "padding": null,
            "right": null,
            "top": null,
            "visibility": null,
            "width": null
          }
        },
        "3e0a058aded7422d8b19eed8e591cdfb": {
          "model_module": "@jupyter-widgets/controls",
          "model_name": "ProgressStyleModel",
          "model_module_version": "1.5.0",
          "state": {
            "_model_module": "@jupyter-widgets/controls",
            "_model_module_version": "1.5.0",
            "_model_name": "ProgressStyleModel",
            "_view_count": null,
            "_view_module": "@jupyter-widgets/base",
            "_view_module_version": "1.2.0",
            "_view_name": "StyleView",
            "bar_color": null,
            "description_width": ""
          }
        },
        "a8ceac8f9f3d4d1284fd556c4338238c": {
          "model_module": "@jupyter-widgets/base",
          "model_name": "LayoutModel",
          "model_module_version": "1.2.0",
          "state": {
            "_model_module": "@jupyter-widgets/base",
            "_model_module_version": "1.2.0",
            "_model_name": "LayoutModel",
            "_view_count": null,
            "_view_module": "@jupyter-widgets/base",
            "_view_module_version": "1.2.0",
            "_view_name": "LayoutView",
            "align_content": null,
            "align_items": null,
            "align_self": null,
            "border": null,
            "bottom": null,
            "display": null,
            "flex": null,
            "flex_flow": null,
            "grid_area": null,
            "grid_auto_columns": null,
            "grid_auto_flow": null,
            "grid_auto_rows": null,
            "grid_column": null,
            "grid_gap": null,
            "grid_row": null,
            "grid_template_areas": null,
            "grid_template_columns": null,
            "grid_template_rows": null,
            "height": null,
            "justify_content": null,
            "justify_items": null,
            "left": null,
            "margin": null,
            "max_height": null,
            "max_width": null,
            "min_height": null,
            "min_width": null,
            "object_fit": null,
            "object_position": null,
            "order": null,
            "overflow": null,
            "overflow_x": null,
            "overflow_y": null,
            "padding": null,
            "right": null,
            "top": null,
            "visibility": null,
            "width": null
          }
        },
        "39553393660144bfbfb35725045cde65": {
          "model_module": "@jupyter-widgets/controls",
          "model_name": "DescriptionStyleModel",
          "model_module_version": "1.5.0",
          "state": {
            "_model_module": "@jupyter-widgets/controls",
            "_model_module_version": "1.5.0",
            "_model_name": "DescriptionStyleModel",
            "_view_count": null,
            "_view_module": "@jupyter-widgets/base",
            "_view_module_version": "1.2.0",
            "_view_name": "StyleView",
            "description_width": ""
          }
        },
        "ec683141636a41e98367d1e585f0b178": {
          "model_module": "@jupyter-widgets/controls",
          "model_name": "HBoxModel",
          "model_module_version": "1.5.0",
          "state": {
            "_dom_classes": [],
            "_model_module": "@jupyter-widgets/controls",
            "_model_module_version": "1.5.0",
            "_model_name": "HBoxModel",
            "_view_count": null,
            "_view_module": "@jupyter-widgets/controls",
            "_view_module_version": "1.5.0",
            "_view_name": "HBoxView",
            "box_style": "",
            "children": [
              "IPY_MODEL_d6bba50661654f7d8bde8079dc06dadd",
              "IPY_MODEL_3321d2e90f8d4c6aa9a94cf9465beece",
              "IPY_MODEL_4414574331f3444b8d5d3a519d388dcd"
            ],
            "layout": "IPY_MODEL_456598c3c21c46aa86abea1ac45cba64"
          }
        },
        "d6bba50661654f7d8bde8079dc06dadd": {
          "model_module": "@jupyter-widgets/controls",
          "model_name": "HTMLModel",
          "model_module_version": "1.5.0",
          "state": {
            "_dom_classes": [],
            "_model_module": "@jupyter-widgets/controls",
            "_model_module_version": "1.5.0",
            "_model_name": "HTMLModel",
            "_view_count": null,
            "_view_module": "@jupyter-widgets/controls",
            "_view_module_version": "1.5.0",
            "_view_name": "HTMLView",
            "description": "",
            "description_tooltip": null,
            "layout": "IPY_MODEL_e32ffdcef45c4432a329461c8efc58b6",
            "placeholder": "​",
            "style": "IPY_MODEL_f90a521401134e04899a712364b3541d",
            "value": "tokenizer_config.json: 100%"
          }
        },
        "3321d2e90f8d4c6aa9a94cf9465beece": {
          "model_module": "@jupyter-widgets/controls",
          "model_name": "FloatProgressModel",
          "model_module_version": "1.5.0",
          "state": {
            "_dom_classes": [],
            "_model_module": "@jupyter-widgets/controls",
            "_model_module_version": "1.5.0",
            "_model_name": "FloatProgressModel",
            "_view_count": null,
            "_view_module": "@jupyter-widgets/controls",
            "_view_module_version": "1.5.0",
            "_view_name": "ProgressView",
            "bar_style": "success",
            "description": "",
            "description_tooltip": null,
            "layout": "IPY_MODEL_312f2f8d19c940a08f3a8252e83822f0",
            "max": 1242,
            "min": 0,
            "orientation": "horizontal",
            "style": "IPY_MODEL_9f92d4f57a144ad681f4c3093f08174b",
            "value": 1242
          }
        },
        "4414574331f3444b8d5d3a519d388dcd": {
          "model_module": "@jupyter-widgets/controls",
          "model_name": "HTMLModel",
          "model_module_version": "1.5.0",
          "state": {
            "_dom_classes": [],
            "_model_module": "@jupyter-widgets/controls",
            "_model_module_version": "1.5.0",
            "_model_name": "HTMLModel",
            "_view_count": null,
            "_view_module": "@jupyter-widgets/controls",
            "_view_module_version": "1.5.0",
            "_view_name": "HTMLView",
            "description": "",
            "description_tooltip": null,
            "layout": "IPY_MODEL_52c37d0995f44e6fb6145bddf8324dac",
            "placeholder": "​",
            "style": "IPY_MODEL_b49da243658b4604a73aab275064ab6d",
            "value": " 1.24k/1.24k [00:00&lt;00:00, 18.4kB/s]"
          }
        },
        "456598c3c21c46aa86abea1ac45cba64": {
          "model_module": "@jupyter-widgets/base",
          "model_name": "LayoutModel",
          "model_module_version": "1.2.0",
          "state": {
            "_model_module": "@jupyter-widgets/base",
            "_model_module_version": "1.2.0",
            "_model_name": "LayoutModel",
            "_view_count": null,
            "_view_module": "@jupyter-widgets/base",
            "_view_module_version": "1.2.0",
            "_view_name": "LayoutView",
            "align_content": null,
            "align_items": null,
            "align_self": null,
            "border": null,
            "bottom": null,
            "display": null,
            "flex": null,
            "flex_flow": null,
            "grid_area": null,
            "grid_auto_columns": null,
            "grid_auto_flow": null,
            "grid_auto_rows": null,
            "grid_column": null,
            "grid_gap": null,
            "grid_row": null,
            "grid_template_areas": null,
            "grid_template_columns": null,
            "grid_template_rows": null,
            "height": null,
            "justify_content": null,
            "justify_items": null,
            "left": null,
            "margin": null,
            "max_height": null,
            "max_width": null,
            "min_height": null,
            "min_width": null,
            "object_fit": null,
            "object_position": null,
            "order": null,
            "overflow": null,
            "overflow_x": null,
            "overflow_y": null,
            "padding": null,
            "right": null,
            "top": null,
            "visibility": null,
            "width": null
          }
        },
        "e32ffdcef45c4432a329461c8efc58b6": {
          "model_module": "@jupyter-widgets/base",
          "model_name": "LayoutModel",
          "model_module_version": "1.2.0",
          "state": {
            "_model_module": "@jupyter-widgets/base",
            "_model_module_version": "1.2.0",
            "_model_name": "LayoutModel",
            "_view_count": null,
            "_view_module": "@jupyter-widgets/base",
            "_view_module_version": "1.2.0",
            "_view_name": "LayoutView",
            "align_content": null,
            "align_items": null,
            "align_self": null,
            "border": null,
            "bottom": null,
            "display": null,
            "flex": null,
            "flex_flow": null,
            "grid_area": null,
            "grid_auto_columns": null,
            "grid_auto_flow": null,
            "grid_auto_rows": null,
            "grid_column": null,
            "grid_gap": null,
            "grid_row": null,
            "grid_template_areas": null,
            "grid_template_columns": null,
            "grid_template_rows": null,
            "height": null,
            "justify_content": null,
            "justify_items": null,
            "left": null,
            "margin": null,
            "max_height": null,
            "max_width": null,
            "min_height": null,
            "min_width": null,
            "object_fit": null,
            "object_position": null,
            "order": null,
            "overflow": null,
            "overflow_x": null,
            "overflow_y": null,
            "padding": null,
            "right": null,
            "top": null,
            "visibility": null,
            "width": null
          }
        },
        "f90a521401134e04899a712364b3541d": {
          "model_module": "@jupyter-widgets/controls",
          "model_name": "DescriptionStyleModel",
          "model_module_version": "1.5.0",
          "state": {
            "_model_module": "@jupyter-widgets/controls",
            "_model_module_version": "1.5.0",
            "_model_name": "DescriptionStyleModel",
            "_view_count": null,
            "_view_module": "@jupyter-widgets/base",
            "_view_module_version": "1.2.0",
            "_view_name": "StyleView",
            "description_width": ""
          }
        },
        "312f2f8d19c940a08f3a8252e83822f0": {
          "model_module": "@jupyter-widgets/base",
          "model_name": "LayoutModel",
          "model_module_version": "1.2.0",
          "state": {
            "_model_module": "@jupyter-widgets/base",
            "_model_module_version": "1.2.0",
            "_model_name": "LayoutModel",
            "_view_count": null,
            "_view_module": "@jupyter-widgets/base",
            "_view_module_version": "1.2.0",
            "_view_name": "LayoutView",
            "align_content": null,
            "align_items": null,
            "align_self": null,
            "border": null,
            "bottom": null,
            "display": null,
            "flex": null,
            "flex_flow": null,
            "grid_area": null,
            "grid_auto_columns": null,
            "grid_auto_flow": null,
            "grid_auto_rows": null,
            "grid_column": null,
            "grid_gap": null,
            "grid_row": null,
            "grid_template_areas": null,
            "grid_template_columns": null,
            "grid_template_rows": null,
            "height": null,
            "justify_content": null,
            "justify_items": null,
            "left": null,
            "margin": null,
            "max_height": null,
            "max_width": null,
            "min_height": null,
            "min_width": null,
            "object_fit": null,
            "object_position": null,
            "order": null,
            "overflow": null,
            "overflow_x": null,
            "overflow_y": null,
            "padding": null,
            "right": null,
            "top": null,
            "visibility": null,
            "width": null
          }
        },
        "9f92d4f57a144ad681f4c3093f08174b": {
          "model_module": "@jupyter-widgets/controls",
          "model_name": "ProgressStyleModel",
          "model_module_version": "1.5.0",
          "state": {
            "_model_module": "@jupyter-widgets/controls",
            "_model_module_version": "1.5.0",
            "_model_name": "ProgressStyleModel",
            "_view_count": null,
            "_view_module": "@jupyter-widgets/base",
            "_view_module_version": "1.2.0",
            "_view_name": "StyleView",
            "bar_color": null,
            "description_width": ""
          }
        },
        "52c37d0995f44e6fb6145bddf8324dac": {
          "model_module": "@jupyter-widgets/base",
          "model_name": "LayoutModel",
          "model_module_version": "1.2.0",
          "state": {
            "_model_module": "@jupyter-widgets/base",
            "_model_module_version": "1.2.0",
            "_model_name": "LayoutModel",
            "_view_count": null,
            "_view_module": "@jupyter-widgets/base",
            "_view_module_version": "1.2.0",
            "_view_name": "LayoutView",
            "align_content": null,
            "align_items": null,
            "align_self": null,
            "border": null,
            "bottom": null,
            "display": null,
            "flex": null,
            "flex_flow": null,
            "grid_area": null,
            "grid_auto_columns": null,
            "grid_auto_flow": null,
            "grid_auto_rows": null,
            "grid_column": null,
            "grid_gap": null,
            "grid_row": null,
            "grid_template_areas": null,
            "grid_template_columns": null,
            "grid_template_rows": null,
            "height": null,
            "justify_content": null,
            "justify_items": null,
            "left": null,
            "margin": null,
            "max_height": null,
            "max_width": null,
            "min_height": null,
            "min_width": null,
            "object_fit": null,
            "object_position": null,
            "order": null,
            "overflow": null,
            "overflow_x": null,
            "overflow_y": null,
            "padding": null,
            "right": null,
            "top": null,
            "visibility": null,
            "width": null
          }
        },
        "b49da243658b4604a73aab275064ab6d": {
          "model_module": "@jupyter-widgets/controls",
          "model_name": "DescriptionStyleModel",
          "model_module_version": "1.5.0",
          "state": {
            "_model_module": "@jupyter-widgets/controls",
            "_model_module_version": "1.5.0",
            "_model_name": "DescriptionStyleModel",
            "_view_count": null,
            "_view_module": "@jupyter-widgets/base",
            "_view_module_version": "1.2.0",
            "_view_name": "StyleView",
            "description_width": ""
          }
        },
        "a93eb39d6ad2413b9f5400dfc41be3db": {
          "model_module": "@jupyter-widgets/controls",
          "model_name": "HBoxModel",
          "model_module_version": "1.5.0",
          "state": {
            "_dom_classes": [],
            "_model_module": "@jupyter-widgets/controls",
            "_model_module_version": "1.5.0",
            "_model_name": "HBoxModel",
            "_view_count": null,
            "_view_module": "@jupyter-widgets/controls",
            "_view_module_version": "1.5.0",
            "_view_name": "HBoxView",
            "box_style": "",
            "children": [
              "IPY_MODEL_cdbe469a437c4583987306ee08409f3f",
              "IPY_MODEL_64086fa076424535a36cc23f9460c6d5",
              "IPY_MODEL_283c014f021647fe8329fb541015a854"
            ],
            "layout": "IPY_MODEL_4cb22471d54743afa31ad1c35b6b3ce9"
          }
        },
        "cdbe469a437c4583987306ee08409f3f": {
          "model_module": "@jupyter-widgets/controls",
          "model_name": "HTMLModel",
          "model_module_version": "1.5.0",
          "state": {
            "_dom_classes": [],
            "_model_module": "@jupyter-widgets/controls",
            "_model_module_version": "1.5.0",
            "_model_name": "HTMLModel",
            "_view_count": null,
            "_view_module": "@jupyter-widgets/controls",
            "_view_module_version": "1.5.0",
            "_view_name": "HTMLView",
            "description": "",
            "description_tooltip": null,
            "layout": "IPY_MODEL_c0291e3ccc5c4084a33fa20f609e2515",
            "placeholder": "​",
            "style": "IPY_MODEL_8ce691b620d1469d9d7498b7be5d04a0",
            "value": "model_optimized.onnx: 100%"
          }
        },
        "64086fa076424535a36cc23f9460c6d5": {
          "model_module": "@jupyter-widgets/controls",
          "model_name": "FloatProgressModel",
          "model_module_version": "1.5.0",
          "state": {
            "_dom_classes": [],
            "_model_module": "@jupyter-widgets/controls",
            "_model_module_version": "1.5.0",
            "_model_name": "FloatProgressModel",
            "_view_count": null,
            "_view_module": "@jupyter-widgets/controls",
            "_view_module_version": "1.5.0",
            "_view_name": "ProgressView",
            "bar_style": "success",
            "description": "",
            "description_tooltip": null,
            "layout": "IPY_MODEL_0467c629abd144298950325f1e1bff16",
            "max": 217824172,
            "min": 0,
            "orientation": "horizontal",
            "style": "IPY_MODEL_4dbd932c6e18491f8d1f1d5c08d2e453",
            "value": 217824172
          }
        },
        "283c014f021647fe8329fb541015a854": {
          "model_module": "@jupyter-widgets/controls",
          "model_name": "HTMLModel",
          "model_module_version": "1.5.0",
          "state": {
            "_dom_classes": [],
            "_model_module": "@jupyter-widgets/controls",
            "_model_module_version": "1.5.0",
            "_model_name": "HTMLModel",
            "_view_count": null,
            "_view_module": "@jupyter-widgets/controls",
            "_view_module_version": "1.5.0",
            "_view_name": "HTMLView",
            "description": "",
            "description_tooltip": null,
            "layout": "IPY_MODEL_382604ff5bbf4c1aaa49f574b01e9a42",
            "placeholder": "​",
            "style": "IPY_MODEL_9ec183c4218145788e9a0badf8b70495",
            "value": " 218M/218M [00:01&lt;00:00, 178MB/s]"
          }
        },
        "4cb22471d54743afa31ad1c35b6b3ce9": {
          "model_module": "@jupyter-widgets/base",
          "model_name": "LayoutModel",
          "model_module_version": "1.2.0",
          "state": {
            "_model_module": "@jupyter-widgets/base",
            "_model_module_version": "1.2.0",
            "_model_name": "LayoutModel",
            "_view_count": null,
            "_view_module": "@jupyter-widgets/base",
            "_view_module_version": "1.2.0",
            "_view_name": "LayoutView",
            "align_content": null,
            "align_items": null,
            "align_self": null,
            "border": null,
            "bottom": null,
            "display": null,
            "flex": null,
            "flex_flow": null,
            "grid_area": null,
            "grid_auto_columns": null,
            "grid_auto_flow": null,
            "grid_auto_rows": null,
            "grid_column": null,
            "grid_gap": null,
            "grid_row": null,
            "grid_template_areas": null,
            "grid_template_columns": null,
            "grid_template_rows": null,
            "height": null,
            "justify_content": null,
            "justify_items": null,
            "left": null,
            "margin": null,
            "max_height": null,
            "max_width": null,
            "min_height": null,
            "min_width": null,
            "object_fit": null,
            "object_position": null,
            "order": null,
            "overflow": null,
            "overflow_x": null,
            "overflow_y": null,
            "padding": null,
            "right": null,
            "top": null,
            "visibility": null,
            "width": null
          }
        },
        "c0291e3ccc5c4084a33fa20f609e2515": {
          "model_module": "@jupyter-widgets/base",
          "model_name": "LayoutModel",
          "model_module_version": "1.2.0",
          "state": {
            "_model_module": "@jupyter-widgets/base",
            "_model_module_version": "1.2.0",
            "_model_name": "LayoutModel",
            "_view_count": null,
            "_view_module": "@jupyter-widgets/base",
            "_view_module_version": "1.2.0",
            "_view_name": "LayoutView",
            "align_content": null,
            "align_items": null,
            "align_self": null,
            "border": null,
            "bottom": null,
            "display": null,
            "flex": null,
            "flex_flow": null,
            "grid_area": null,
            "grid_auto_columns": null,
            "grid_auto_flow": null,
            "grid_auto_rows": null,
            "grid_column": null,
            "grid_gap": null,
            "grid_row": null,
            "grid_template_areas": null,
            "grid_template_columns": null,
            "grid_template_rows": null,
            "height": null,
            "justify_content": null,
            "justify_items": null,
            "left": null,
            "margin": null,
            "max_height": null,
            "max_width": null,
            "min_height": null,
            "min_width": null,
            "object_fit": null,
            "object_position": null,
            "order": null,
            "overflow": null,
            "overflow_x": null,
            "overflow_y": null,
            "padding": null,
            "right": null,
            "top": null,
            "visibility": null,
            "width": null
          }
        },
        "8ce691b620d1469d9d7498b7be5d04a0": {
          "model_module": "@jupyter-widgets/controls",
          "model_name": "DescriptionStyleModel",
          "model_module_version": "1.5.0",
          "state": {
            "_model_module": "@jupyter-widgets/controls",
            "_model_module_version": "1.5.0",
            "_model_name": "DescriptionStyleModel",
            "_view_count": null,
            "_view_module": "@jupyter-widgets/base",
            "_view_module_version": "1.2.0",
            "_view_name": "StyleView",
            "description_width": ""
          }
        },
        "0467c629abd144298950325f1e1bff16": {
          "model_module": "@jupyter-widgets/base",
          "model_name": "LayoutModel",
          "model_module_version": "1.2.0",
          "state": {
            "_model_module": "@jupyter-widgets/base",
            "_model_module_version": "1.2.0",
            "_model_name": "LayoutModel",
            "_view_count": null,
            "_view_module": "@jupyter-widgets/base",
            "_view_module_version": "1.2.0",
            "_view_name": "LayoutView",
            "align_content": null,
            "align_items": null,
            "align_self": null,
            "border": null,
            "bottom": null,
            "display": null,
            "flex": null,
            "flex_flow": null,
            "grid_area": null,
            "grid_auto_columns": null,
            "grid_auto_flow": null,
            "grid_auto_rows": null,
            "grid_column": null,
            "grid_gap": null,
            "grid_row": null,
            "grid_template_areas": null,
            "grid_template_columns": null,
            "grid_template_rows": null,
            "height": null,
            "justify_content": null,
            "justify_items": null,
            "left": null,
            "margin": null,
            "max_height": null,
            "max_width": null,
            "min_height": null,
            "min_width": null,
            "object_fit": null,
            "object_position": null,
            "order": null,
            "overflow": null,
            "overflow_x": null,
            "overflow_y": null,
            "padding": null,
            "right": null,
            "top": null,
            "visibility": null,
            "width": null
          }
        },
        "4dbd932c6e18491f8d1f1d5c08d2e453": {
          "model_module": "@jupyter-widgets/controls",
          "model_name": "ProgressStyleModel",
          "model_module_version": "1.5.0",
          "state": {
            "_model_module": "@jupyter-widgets/controls",
            "_model_module_version": "1.5.0",
            "_model_name": "ProgressStyleModel",
            "_view_count": null,
            "_view_module": "@jupyter-widgets/base",
            "_view_module_version": "1.2.0",
            "_view_name": "StyleView",
            "bar_color": null,
            "description_width": ""
          }
        },
        "382604ff5bbf4c1aaa49f574b01e9a42": {
          "model_module": "@jupyter-widgets/base",
          "model_name": "LayoutModel",
          "model_module_version": "1.2.0",
          "state": {
            "_model_module": "@jupyter-widgets/base",
            "_model_module_version": "1.2.0",
            "_model_name": "LayoutModel",
            "_view_count": null,
            "_view_module": "@jupyter-widgets/base",
            "_view_module_version": "1.2.0",
            "_view_name": "LayoutView",
            "align_content": null,
            "align_items": null,
            "align_self": null,
            "border": null,
            "bottom": null,
            "display": null,
            "flex": null,
            "flex_flow": null,
            "grid_area": null,
            "grid_auto_columns": null,
            "grid_auto_flow": null,
            "grid_auto_rows": null,
            "grid_column": null,
            "grid_gap": null,
            "grid_row": null,
            "grid_template_areas": null,
            "grid_template_columns": null,
            "grid_template_rows": null,
            "height": null,
            "justify_content": null,
            "justify_items": null,
            "left": null,
            "margin": null,
            "max_height": null,
            "max_width": null,
            "min_height": null,
            "min_width": null,
            "object_fit": null,
            "object_position": null,
            "order": null,
            "overflow": null,
            "overflow_x": null,
            "overflow_y": null,
            "padding": null,
            "right": null,
            "top": null,
            "visibility": null,
            "width": null
          }
        },
        "9ec183c4218145788e9a0badf8b70495": {
          "model_module": "@jupyter-widgets/controls",
          "model_name": "DescriptionStyleModel",
          "model_module_version": "1.5.0",
          "state": {
            "_model_module": "@jupyter-widgets/controls",
            "_model_module_version": "1.5.0",
            "_model_name": "DescriptionStyleModel",
            "_view_count": null,
            "_view_module": "@jupyter-widgets/base",
            "_view_module_version": "1.2.0",
            "_view_name": "StyleView",
            "description_width": ""
          }
        }
      }
    },
    "accelerator": "GPU"
  },
  "cells": [
    {
      "cell_type": "code",
      "execution_count": 1,
      "metadata": {
        "id": "3-wvIiFhkBYR",
        "colab": {
          "base_uri": "https://localhost:8080/"
        },
        "outputId": "fab2d658-363d-4017-8245-51e75dba29a7"
      },
      "outputs": [
        {
          "output_type": "stream",
          "name": "stdout",
          "text": [
            "\u001b[31mERROR: pip's dependency resolver does not currently take into account all the packages that are installed. This behaviour is the source of the following dependency conflicts.\n",
            "cudf-cu12 24.4.1 requires protobuf<5,>=3.20, but you have protobuf 5.27.1 which is incompatible.\n",
            "google-ai-generativelanguage 0.6.4 requires protobuf!=3.20.0,!=3.20.1,!=4.21.0,!=4.21.1,!=4.21.2,!=4.21.3,!=4.21.4,!=4.21.5,<5.0.0dev,>=3.19.5, but you have protobuf 5.27.1 which is incompatible.\n",
            "google-api-core 2.11.1 requires protobuf!=3.20.0,!=3.20.1,!=4.21.0,!=4.21.1,!=4.21.2,!=4.21.3,!=4.21.4,!=4.21.5,<5.0.0.dev0,>=3.19.5, but you have protobuf 5.27.1 which is incompatible.\n",
            "google-cloud-aiplatform 1.54.1 requires protobuf!=3.20.0,!=3.20.1,!=4.21.0,!=4.21.1,!=4.21.2,!=4.21.3,!=4.21.4,!=4.21.5,<5.0.0dev,>=3.19.5, but you have protobuf 5.27.1 which is incompatible.\n",
            "google-cloud-bigquery-connection 1.12.1 requires protobuf!=3.20.0,!=3.20.1,!=4.21.0,!=4.21.1,!=4.21.2,!=4.21.3,!=4.21.4,!=4.21.5,<5.0.0dev,>=3.19.5, but you have protobuf 5.27.1 which is incompatible.\n",
            "google-cloud-bigquery-storage 2.25.0 requires protobuf!=3.20.0,!=3.20.1,!=4.21.0,!=4.21.1,!=4.21.2,!=4.21.3,!=4.21.4,!=4.21.5,<5.0.0dev,>=3.19.5, but you have protobuf 5.27.1 which is incompatible.\n",
            "google-cloud-datastore 2.15.2 requires protobuf!=3.20.0,!=3.20.1,!=4.21.0,!=4.21.1,!=4.21.2,!=4.21.3,!=4.21.4,!=4.21.5,<5.0.0dev,>=3.19.5, but you have protobuf 5.27.1 which is incompatible.\n",
            "google-cloud-firestore 2.11.1 requires protobuf!=3.20.0,!=3.20.1,!=4.21.0,!=4.21.1,!=4.21.2,!=4.21.3,!=4.21.4,!=4.21.5,<5.0.0dev,>=3.19.5, but you have protobuf 5.27.1 which is incompatible.\n",
            "google-cloud-functions 1.13.3 requires protobuf!=3.20.0,!=3.20.1,!=4.21.0,!=4.21.1,!=4.21.2,!=4.21.3,!=4.21.4,!=4.21.5,<5.0.0dev,>=3.19.5, but you have protobuf 5.27.1 which is incompatible.\n",
            "google-cloud-iam 2.15.0 requires protobuf!=3.20.0,!=3.20.1,!=4.21.0,!=4.21.1,!=4.21.2,!=4.21.3,!=4.21.4,!=4.21.5,<5.0.0dev,>=3.19.5, but you have protobuf 5.27.1 which is incompatible.\n",
            "google-cloud-language 2.13.3 requires protobuf!=3.20.0,!=3.20.1,!=4.21.0,!=4.21.1,!=4.21.2,!=4.21.3,!=4.21.4,!=4.21.5,<5.0.0dev,>=3.19.5, but you have protobuf 5.27.1 which is incompatible.\n",
            "google-cloud-resource-manager 1.12.3 requires protobuf!=3.20.0,!=3.20.1,!=4.21.0,!=4.21.1,!=4.21.2,!=4.21.3,!=4.21.4,!=4.21.5,<5.0.0dev,>=3.19.5, but you have protobuf 5.27.1 which is incompatible.\n",
            "google-cloud-translate 3.11.3 requires protobuf!=3.20.0,!=3.20.1,!=4.21.0,!=4.21.1,!=4.21.2,!=4.21.3,!=4.21.4,!=4.21.5,<5.0.0dev,>=3.19.5, but you have protobuf 5.27.1 which is incompatible.\n",
            "grpc-google-iam-v1 0.13.0 requires protobuf!=3.20.0,!=3.20.1,!=4.21.1,!=4.21.2,!=4.21.3,!=4.21.4,!=4.21.5,<5.0.0dev,>=3.19.5, but you have protobuf 5.27.1 which is incompatible.\n",
            "proto-plus 1.23.0 requires protobuf<5.0.0dev,>=3.19.0, but you have protobuf 5.27.1 which is incompatible.\n",
            "tensorflow 2.15.0 requires protobuf!=4.21.0,!=4.21.1,!=4.21.2,!=4.21.3,!=4.21.4,!=4.21.5,<5.0.0dev,>=3.20.3, but you have protobuf 5.27.1 which is incompatible.\n",
            "tensorflow-metadata 1.15.0 requires protobuf<4.21,>=3.20.3; python_version < \"3.11\", but you have protobuf 5.27.1 which is incompatible.\u001b[0m\u001b[31m\n",
            "\u001b[0m  Preparing metadata (setup.py) ... \u001b[?25l\u001b[?25hdone\n",
            "  Building wheel for langdetect (setup.py) ... \u001b[?25l\u001b[?25hdone\n",
            "\u001b[31mERROR: pip's dependency resolver does not currently take into account all the packages that are installed. This behaviour is the source of the following dependency conflicts.\n",
            "transformers 4.41.2 requires huggingface-hub<1.0,>=0.23.0, but you have huggingface-hub 0.20.3 which is incompatible.\n",
            "transformers 4.41.2 requires tokenizers<0.20,>=0.19, but you have tokenizers 0.15.2 which is incompatible.\u001b[0m\u001b[31m\n",
            "\u001b[0m  Installing build dependencies ... \u001b[?25l\u001b[?25hdone\n",
            "  Getting requirements to build wheel ... \u001b[?25l\u001b[?25hdone\n",
            "  Installing backend dependencies ... \u001b[?25l\u001b[?25hdone\n",
            "  Preparing metadata (pyproject.toml) ... \u001b[?25l\u001b[?25hdone\n",
            "  Building wheel for llama-cpp-python (pyproject.toml) ... \u001b[?25l\u001b[?25hdone\n"
          ]
        }
      ],
      "source": [
        "!pip -qqq install pip --progress-bar off\n",
        "!pip -qqq install langchain-groq==0.1.3 --progress-bar off\n",
        "!pip -qqq install langchain==0.1.17 --progress-bar off\n",
        "!pip -qqq install llama-parse==0.1.3 --progress-bar off\n",
        "!pip -qqq install qdrant-client==1.9.1  --progress-bar off\n",
        "!pip -qqq install \"unstructured[md]\"==0.13.6 --progress-bar off\n",
        "!pip -qqq install fastembed==0.2.7 --progress-bar off\n",
        "!pip -qqq install flashrank==0.2.4 --progress-bar off"
      ]
    },
    {
      "cell_type": "code",
      "source": [
        "import os\n",
        "import textwrap\n",
        "from pathlib import Path\n",
        "\n",
        "from google.colab import userdata\n",
        "from IPython.display import Markdown\n",
        "from langchain.chains import RetrievalQA\n",
        "from langchain.prompts import PromptTemplate\n",
        "from langchain.retrievers import ContextualCompressionRetriever\n",
        "from langchain.retrievers.document_compressors import FlashrankRerank\n",
        "from langchain.text_splitter import RecursiveCharacterTextSplitter\n",
        "from langchain.vectorstores import Qdrant\n",
        "from langchain_community.document_loaders import UnstructuredMarkdownLoader\n",
        "from langchain_community.embeddings.fastembed import FastEmbedEmbeddings\n",
        "from langchain_core.prompts import ChatPromptTemplate\n",
        "from langchain_groq import ChatGroq\n",
        "from llama_parse import LlamaParse\n",
        "\n",
        "os.environ[\"GROQ_API_KEY\"] = userdata.get(\"GROQ_API_KEY\")\n",
        "\n",
        "\n",
        "def print_response(response):\n",
        "    response_txt = response[\"result\"]\n",
        "    for chunk in response_txt.split(\"\\n\"):\n",
        "        if not chunk:\n",
        "            print()\n",
        "            continue\n",
        "        print(\"\\n\".join(textwrap.wrap(chunk, 100, break_long_words=False)))"
      ],
      "metadata": {
        "id": "WH_J7_kol_ay"
      },
      "execution_count": 2,
      "outputs": []
    },
    {
      "cell_type": "code",
      "source": [
        "# !mkdir data\n",
        "# !gdown 1ee-BhQiH-S9a2IkHiFbJz9eX_SfcZ5m9 -O \"data/meta-earnings.pdf\""
      ],
      "metadata": {
        "id": "59M0lL4vjkGW"
      },
      "execution_count": 3,
      "outputs": []
    },
    {
      "cell_type": "markdown",
      "source": [
        "## Document Parsing"
      ],
      "metadata": {
        "id": "z6kHJJRDvawJ"
      }
    },
    {
      "cell_type": "code",
      "source": [
        "from google.colab import userdata\n",
        "LLAMA_PARSE_API_KEY = userdata.get(\"LLAMA_PARSE_API_KEY\")"
      ],
      "metadata": {
        "id": "sYA7ClBmNFu5"
      },
      "execution_count": 4,
      "outputs": []
    },
    {
      "cell_type": "code",
      "source": [
        "instruction = \"\"\"The provided document is a delivery chalan or invoice.\n",
        "This form provides detailed chalan or invoice information about the company's performance for a specific quarter.\n",
        "It includes unaudited invoice statements, management discussion and analysis, and other relevant disclosures required by the SEC.\n",
        "It contains many tables.\n",
        "Try to be precise while answering the questions\"\"\"\n",
        "\n",
        "parser = LlamaParse(\n",
        "    api_key=userdata.get(\"LLAMA_PARSE_API_KEY\"),\n",
        "    result_type=\"markdown\",\n",
        "    parsing_instruction=instruction,\n",
        "    max_timeout=5000,\n",
        ")\n",
        "\n",
        "llama_parse_documents = await parser.aload_data(\"doc121.pdf\")"
      ],
      "metadata": {
        "colab": {
          "base_uri": "https://localhost:8080/"
        },
        "id": "eHRFF7lF0gV2",
        "outputId": "24360066-7e28-4134-83a8-3047ce053502"
      },
      "execution_count": 5,
      "outputs": [
        {
          "output_type": "stream",
          "name": "stdout",
          "text": [
            "Started parsing the file under job_id cac11eca-2515-4cba-8b5b-61642ab893c5\n"
          ]
        }
      ]
    },
    {
      "cell_type": "code",
      "source": [
        "# llama_parse_documents"
      ],
      "metadata": {
        "id": "w6lDaUHr3ojH"
      },
      "execution_count": 6,
      "outputs": []
    },
    {
      "cell_type": "code",
      "source": [
        "parsed_doc = llama_parse_documents[0]\n",
        "# parsed_doc"
      ],
      "metadata": {
        "id": "tTm_9yk_nMD8"
      },
      "execution_count": 7,
      "outputs": []
    },
    {
      "cell_type": "code",
      "source": [
        "# parsed_doc.text"
      ],
      "metadata": {
        "id": "M9LZ12aC62rJ"
      },
      "execution_count": 8,
      "outputs": []
    },
    {
      "cell_type": "code",
      "source": [
        "Markdown(parsed_doc.text)"
      ],
      "metadata": {
        "colab": {
          "base_uri": "https://localhost:8080/",
          "height": 1000
        },
        "id": "u4us5iDJ6_up",
        "outputId": "18431c9b-7f6b-443f-a2fd-a24f7a4594c8"
      },
      "execution_count": 9,
      "outputs": [
        {
          "output_type": "execute_result",
          "data": {
            "text/plain": [
              "<IPython.core.display.Markdown object>"
            ],
            "text/markdown": "# DELIVERY Challan (UNDER SECTION 31 OF CAST RULES)\n\n|CoalBill No|ksloiRDzs0004344|\n|---|---|\n|Ebillan No|B472 %atiesue|\n|DQ Number|310000io58|\n|DQ Date Removal|03-062024|\n|Date of Removal|09.57.57|\n|State of Consignor|Uttar Pradesh4-06-2024|\n|State Code of Consignor|09|\n\n# Details of Receiver (Billed to)\n\n|Name|HINDALCO INDUSTRIES|\n|---|---|\n|Address|RENU SAGAR SONEBHADRA|\n|State Code|Uttar Pradesh09|\n|Unique ID|opakachizotriL|\n\n# Details of Consignee (Shipped to)\n\n|Name|HINDALCO INDUSTRIES LIMITED|\n|---|---|\n|Address|RENU SAGAR|\n|State Code|Uttar Pradesh09|\n|Unique ID|opakachizotriL|\n\n# Product Details\n\n|Product Grade|HSN 27011990 GB|\n|---|---|\n|Truck No|Up64t4948|\n|Date In|14/06/2024 Time 08:31:18|\n|Date of Removal|14/06/2024 Time 09:57:37|\n|Gross Weight|40.56 MT|\n|Tare Weight|13.08 MT|\n|Net Weight|27.48 MT|\n|Due Quantity|96100.00 MT|\n|Balance Quantity|88731.86 MT|\n|Validity|22-07-2024|\n\n# Particulars Value\n\n|Coal|3479.00|9560292|\n|---|---|---|\n|High loading Charges (Rs. per MT)|0.00|2390.76|\n|Transportation Charges|112.12|301.00|\n|Evacuation Facility Charges|14.09|643.09|\n|NMET Funds for UP State (Rs. per MT)|6.30|21.30|\n|MP Cess for MP State (Rs. per MT)|0.00|0.00|\n|Territorial Forest Fee (Rs. per MT)|0.00|0.00|\n|CGST (2.5%)|205.28| |\n|SGST (2.5%)|205.28| |\n|IGST (4%)|863.10| |\n|Total Invoice Value|132854.92| |\n\nDeclaration: Payment to be made as per terms of FSA auction to be revised @ 5% per terms of FSA auction. Pre-Receipted Authenticated\n\nWBC PARA NIAN SISX\n---\n# Or Igina] ar Buyet /oup!cateT0r Transportes /Tc [plcatefor\n\n|Coe|Ho|BNaosrd750004506|\n|---|---|---|\n|chalian %o|4595|BI0fMiaoDale|14-06-7074|\n|GSTIK No| | | |\n|D0humpor|01 Nci|Isquo|08:55:45|\n| |3001407462|00OatoRaaava||0a:55:44|\n|Dato0tRemova|14-067074|Tin|09|\n|Sato0fConsIgnor|Uttar_Pradesh|Stato Coda0fCons [anor|\n\n# Dotails ot RoceIver (0|Mad to)\n\n|LIMITEO ReNusaGAR| | | |\n|---|---|---|---|\n|Nanc|HIndALCO INDUSTRIES|Eo RENUSAGAR| |\n|Addror;|RENUSAGAR|Addrcss|REMUSAGAR~onebhadra|\n|Stato|UTTAR PRAOESH|State|UtTaR PradEsH|\n|GSTIN UniqueId|stato Code|OPAAACHIZOIRIZL|09|\n|GSTIN UniqueId|State Code|OJAAACHIZOIRIZL|09|\n\n|Product|Grade|Bill forsupplyof27011990G9|Coa 250 Hmthrough Roadason date 14-06-2024|\n|---|---|---|---|\n|Truck No|Up649t761s| | |\n|Date in|14/06/2024Time 08:16.39|Dateof removal 14/06/2024 Time -08.55:44| |\n|Oross Wcight|43 21 HTBalance_QuantityTare Weight: 1233619.5975THTNet Weight:Validity20 46Hf| | |\n|DoQuentity|63850.00_MT.| |29-06-2024|\n|Particulars|Coa Va lue|3441.00|104812.86|\n|A.Sizing Char gesHigh Capacity Loading Charges 2(56 Rs. per MT)| | |T705.760020|\n|Transportation Charges| |112-12| |\n|Evacuation Facfty Charges 2(60 Rs pet MT)| | | |\n|Roya)ty|44&0f| | |\n|OhFFunds|8030f| | |\n|NMETFundsCess for UP state of| | | |\n|MPGATSVA for MP State|Ssada Rs_per| | |\n|Forest Transit Fee 0&of 0)|00| | |\n|Terminal Tax 2{05-00perHT )| | |5287_86|\n|ReimbursementofOMF|4533| | |\n|ReimbursenentofNMET|T05 .| | |\n|RembursementofHPGATSVAFees|F756 .| | |\n|Reimburscment ofof_Ato_Q)Transit| | | |\n|Sub Total Sum| | |22518.4|\n|CQSTof 2E25}(RS| | |032|\n|SGSTof 0(2.5 % (Rs| | |3062.96|\n|IGSTof PfO*(Rs :| | |0700|\n|Tota] E umof to U| | |128484 . 41|\n|GST Compensation cesb/C E.CessOrtv Shousina {{ghtordnared Thenty EIghtRs, and Thirty Fhree Paisa Only4140828 >3e( 400 per _MD)| | |T12184300|\n|NetAmount (In Figures one Lakh Forty ThousandTota| | | |\n|2. Biils to be raiseda5 perto bemadea3pertecmsof_ESA/E_auctionterms of FSATE auction|7nab 641924| | |\n|BC|PARTY sG|SALES MANAGER| |\n---\n# Original for Buyer [Duplicate for Transporter/Triplicate for Assessee\n\n|CC E&iLE No|BNFOSRD250064575|\n|---|---|\n|Challan No of NCL|09AABCN4884HLZ4 4563|\n|Bill Date|14-06-2024|\n|DQ Number|3001402462|\n|DO Date Issue|02-05-2024 07.53.44|\n|Date of Removal|14-06-2024 07.53.42|\n|State of Consignor|Uttar Pradesh State Code of Consignor 09|\n|Financial Year 2024-25| |\n\n|Details of Receiver (Billed to)|Details of Consignee (Shipped to)|\n|---|---|\n|EXISTED RENUSAGAR|HINDALCO INDUSTRIES|\n|Address: RENUSAGAR SONEBHADRA|Address: RENUSAGAR-SONEBHADRA|\n|State: Uttar Pradesh State Code: 09|State: Uttar Pradesh|\n|GSTIN: QoaaaCHIZO1R1ZI 09|GSTIN: QoaaaCHIZO1R1ZI 09|\n\n|Product & Grade|#SBi! for supply of Coal through Road 35Ondate 14-06-2024 27011990-G9 7250 MT|\n|---|---|\n|Truck No|Date: 44/5/2024 Time: 06.28-08 Date: 44/06/2024|\n|Quantity|43.77 MT Balance Quantity Tare Weight: 1333962.1125 MT Net Validity Neight: 30 297067202452 MT|\n|Particulars|Size Charges Coal Value: 256 RS per IE 3441.00 Total: 50.32|\n|Transportation Charges|112.12|\n|Addition Eaclty Charges|00.00|\n|Royalties|3421.90 1831.20|\n|ONHET Funds for UP State Df|2 (14(30 Zof 0000|\n|SSAD Acess|0T 00|\n|KM pGatsya Forest Transit Fee|Rs per JO|\n|M.Terninal Tax Reimbursement of Royalty|0f 5298|\n|Reimbursement of HPGATSYANRET|1532|\n|Reimbursement of SubJota Fansil Fees|4892.24 105|\n|Cost of Sum Q|1B964|\n|SGST of|25 RS 122752.74|\n|IGST of|2(2.5 Rs 306899|\n|Total (Sum of A)|306899|\n|E-Cess|2(400 per MT 728737.50030|\n|Ret Amount (Figures Total Invoice Value (In Words)|42208.00 AFQS 73|\n\nDeclaration: Please Rechentzc Bills to be raised as Per terms. Payment to be made as per terms of ESA/Eauction. Authenticated Part 31 Sales Manager\n---\n# Oriqinel for Buyer/Duplicate for NORTHERN COALFIELDS LIMITED Transporter/Triplicate of Assessee\n\n|Delivery Challan|No|BNAOspd250004972|\n|---|---|---|\n|Challen No of Kci|4570|8i 41Oato|\n|Date Issued|07:44:54|14-06-2024|\n|DO Number|3001402462|02-05-2024|\n|State of Consignor|Uttar Pradesh|State Code of Consignor|07|\n\n# Details of Receiver (Billed to)\n\n|Limited Renusagar|HINDALCO INDUSTRIES|\n|---|---|\n|Address|RENUSAGAR|\n|State|Uttar Pradesh|\n|GSIN (Unique ID)|O9aaaCHi?O1RIZL|087 iN/UniqueId|O2AAACHIZO[RIZE|\n\n# Product Details\n\n|Product|Grade|#sBi! !fo5,supply0fCoa] through Road35ondate 14-06-202427011990 G9|250 Hh|\n|---|---|---|---|\n|Truck No|Upg44t47s|Date|14/06/2024|\n|Gross Weight|44.91 MT|Tare Weight|334051.4150 MtMT|\n|Net Weight|63850.00 MT|Validity|31-41 MT|\n\n# Particulars\n\n|A. Sizing Charges|Coal Value|3441 Co|10368E4752|\n|---|---|---|---|\n|High Capacity Loading Charges|0.00|352199| |\n|Transportation Charges|0.00| | |\n|Evacuation Facility Charges|112.12| | |\n|Royalty|4884.60| | |\n|DHF Funds|0.00| | |\n|NHET Funds for UP State|0.00| | |\n|Saad Access|0.00| | |\n|Forest Transit Fee|0.00| | |\n|HPGATSYA for KP State|0.00| | |\n|Jax|0.00| | |\n|Reimbursement of Royalty|157.05| | |\n|Reimbursement of OHF|1635.83| | |\n|Reimbursement of NMET|5452.78| | |\n|Reimbursement of MpGatsva|109.06| | |\n|Reimbursement of Transit Fees|1790.37| | |\n|CGST Total|126339.5€| | |\n|SGST|3158.49| | |\n|IGST|3158.49| | |\n|GST Compensation Cess/C.E.Cess|132491.690.00| | |\n|Net Amount (In Figures)|12564.00| | |\n|Total Invoice Value (In Words)|145220.54| | |\n\nOne Lakh Forty-Five Thousand Two Hundred Twenty Rs. and Fifty-Four Paisa Only\n\nDeclaration: Bills to be raised as per terms of FSAYE auction. Payment to be made as per terms of FSA/E auction. Received & authenticated by: SACES MANAGER"
          },
          "metadata": {},
          "execution_count": 9
        }
      ]
    },
    {
      "cell_type": "code",
      "source": [
        "# Markdown(parsed_doc.text[:4096])"
      ],
      "metadata": {
        "id": "6acdg4sq736P"
      },
      "execution_count": 10,
      "outputs": []
    },
    {
      "cell_type": "code",
      "source": [
        "document_path = Path(\"parsed_document.md\")\n",
        "with document_path.open(\"a\") as f:\n",
        "    f.write(parsed_doc.text)"
      ],
      "metadata": {
        "id": "EUnDQkfwyPv3"
      },
      "execution_count": 11,
      "outputs": []
    },
    {
      "cell_type": "markdown",
      "source": [
        "## Vector Embeddings"
      ],
      "metadata": {
        "id": "yF5y2-L0vfLM"
      }
    },
    {
      "cell_type": "code",
      "source": [
        "loader = UnstructuredMarkdownLoader(document_path)\n",
        "loaded_documents = loader.load()"
      ],
      "metadata": {
        "colab": {
          "base_uri": "https://localhost:8080/"
        },
        "id": "R9Hl1Uly3LtB",
        "outputId": "0e6bc467-3bc7-462b-846c-f05f9fcc8605"
      },
      "execution_count": 12,
      "outputs": [
        {
          "output_type": "stream",
          "name": "stderr",
          "text": [
            "[nltk_data] Downloading package averaged_perceptron_tagger to\n",
            "[nltk_data]     /root/nltk_data...\n",
            "[nltk_data]   Unzipping taggers/averaged_perceptron_tagger.zip.\n"
          ]
        }
      ]
    },
    {
      "cell_type": "code",
      "source": [
        "text_splitter = RecursiveCharacterTextSplitter(chunk_size=2048, chunk_overlap=128)\n",
        "docs = text_splitter.split_documents(loaded_documents)\n",
        "# len(docs)"
      ],
      "metadata": {
        "id": "_ZrQ4sKg4hxF"
      },
      "execution_count": 13,
      "outputs": []
    },
    {
      "cell_type": "code",
      "source": [
        "print(docs[0].page_content)"
      ],
      "metadata": {
        "colab": {
          "base_uri": "https://localhost:8080/"
        },
        "id": "RdBs9l3a4jCv",
        "outputId": "c5ea7e6e-37a5-42cd-b152-a2729d4eae35"
      },
      "execution_count": 14,
      "outputs": [
        {
          "output_type": "stream",
          "name": "stdout",
          "text": [
            "DELIVERY Challan (UNDER SECTION 31 OF CAST RULES)\n",
            "\n",
            "CoalBill No ksloiRDzs0004344 Ebillan No B472 %atiesue DQ Number 310000io58 DQ Date Removal 03-062024 Date of Removal 09.57.57 State of Consignor Uttar Pradesh4-06-2024 State Code of Consignor 09\n",
            "\n",
            "Details of Receiver (Billed to)\n",
            "\n",
            "Name HINDALCO INDUSTRIES Address RENU SAGAR SONEBHADRA State Code Uttar Pradesh09 Unique ID opakachizotriL\n",
            "\n",
            "Details of Consignee (Shipped to)\n",
            "\n",
            "Name HINDALCO INDUSTRIES LIMITED Address RENU SAGAR State Code Uttar Pradesh09 Unique ID opakachizotriL\n",
            "\n",
            "Product Details\n",
            "\n",
            "Product Grade HSN 27011990 GB Truck No Up64t4948 Date In 14/06/2024 Time 08:31:18 Date of Removal 14/06/2024 Time 09:57:37 Gross Weight 40.56 MT Tare Weight 13.08 MT Net Weight 27.48 MT Due Quantity 96100.00 MT Balance Quantity 88731.86 MT Validity 22-07-2024\n",
            "\n",
            "Particulars Value\n",
            "\n",
            "Coal 3479.00 9560292 High loading Charges (Rs. per MT) 0.00 2390.76 Transportation Charges 112.12 301.00 Evacuation Facility Charges 14.09 643.09 NMET Funds for UP State (Rs. per MT) 6.30 21.30 MP Cess for MP State (Rs. per MT) 0.00 0.00 Territorial Forest Fee (Rs. per MT) 0.00 0.00 CGST (2.5%) 205.28 SGST (2.5%) 205.28 IGST (4%) 863.10 Total Invoice Value 132854.92\n",
            "\n",
            "Declaration: Payment to be made as per terms of FSA auction to be revised @ 5% per terms of FSA auction. Pre-Receipted Authenticated\n",
            "\n",
            "WBC PARA NIAN SISX\n",
            "\n",
            "Or Igina] ar Buyet /oup!cateT0r Transportes /Tc [plcatefor\n",
            "\n",
            "Coe Ho BNaosrd750004506 chalian %o 4595 BI0fMiaoDale GSTIK No D0humpor 01 Nci Isquo 3001407462 00OatoRaaava Dato0tRemova 14-067074 Tin Sato0fConsIgnor Uttar_Pradesh Stato Coda0fCons [anor\n",
            "\n",
            "Dotails ot RoceIver (0|Mad to)\n",
            "\n",
            "LIMITEO ReNusaGAR Nanc HIndALCO INDUSTRIES Eo RENUSAGAR Addror; RENUSAGAR Addrcss REMUSAGAR~onebhadra Stato UTTAR PRAOESH State UtTaR PradEsH GSTIN UniqueId stato Code OPAAACHIZOIRIZL 09 GSTIN UniqueId State Code OJAAACHIZOIRIZL 09\n"
          ]
        }
      ]
    },
    {
      "cell_type": "code",
      "source": [
        "HF_TOKEN = userdata.get(\"HF_TOKEN\")"
      ],
      "metadata": {
        "id": "2DxZdPalOHz4"
      },
      "execution_count": 15,
      "outputs": []
    },
    {
      "cell_type": "code",
      "source": [
        "embeddings = FastEmbedEmbeddings(model_name=\"BAAI/bge-base-en-v1.5\")"
      ],
      "metadata": {
        "colab": {
          "base_uri": "https://localhost:8080/",
          "height": 209,
          "referenced_widgets": [
            "0ee809d54fb94dd191ccc1760efe164a",
            "c1dd0124d2dd4dc0b1295d64026b460e",
            "b7b8da382be949f1adf376ea3bd84baa",
            "a799abba0c2348f382cce68b4f982606",
            "c7a58bd352a14f349b92fc61cb6e68ff",
            "6905aa04d5044d84809638a0eed7018e",
            "31177d2b12b04b2097752b78b52da79e",
            "511a7cefd8b44935bcbad1a8f516ed3d",
            "87d0035e4ea24a52b1a0936f05e20f5e",
            "d319bdbc30e64abc87e64c7acec62f99",
            "d753162a7b864939ba30ea362b8effdd",
            "7c09dc0388dd412db8d7fcb28f1fb7bc",
            "71712a3c584a4024983c535991bbbb24",
            "b3018bd331c147eaa5dbd0efc000ea59",
            "1410188f23df4458aaebc7b9fe99ade2",
            "4fb812db39cb4800bd73c66b4d773b18",
            "741a469a454449e6a20957991e35c8e6",
            "08a9abc8668f4844adcbec20f5a975bd",
            "c3750d3545ac4b5183c595a4ad41f10d",
            "c519bbd3b25a4b01b2a3ab296cb3241c",
            "772471e22ec04236b839707bd794ff2e",
            "52ea9ff53f054c5c91626e8c92c2956a",
            "1c04daa0148b4f429741a66a76de44c8",
            "326822c9e90e40ab9521bb36cc646cdb",
            "69e41193b8444833a4a168159164f7af",
            "d9278220821c48ecac741ec8bc9a7aef",
            "6765d4b2108b44f19c3c0e39fbf365c1",
            "f148e0352c3948bba19c047c0e6e21e8",
            "6798efac4b22473eab5a04cf3e86d6b6",
            "79a7e1da9c084c088ca7d8088c8e2b9d",
            "3b921ab46a4f42d88f7fbfb2b6ac6e34",
            "1fa492c1fb014486897d797fa7158ebb",
            "d90ddc76bf5b41a68a92c82279c1d28b",
            "3c5b78ab61b346d780898e60714c4fa9",
            "0cef7ee2d8bd42ef8d876b897d24dd1a",
            "3abf9e0e1a584bb490e769b46d47f189",
            "ad2dd672466f4f4bb924f8f054d43ba9",
            "fbccab5d0e3b4dc0a5a838c31c9b0cd0",
            "53ab1da3f3b849519997e3e08218daf9",
            "d6986848b0594afaaf3d6f30e245c1b5",
            "f0f9c52289cc4c25b984162e53d19572",
            "3e0a058aded7422d8b19eed8e591cdfb",
            "a8ceac8f9f3d4d1284fd556c4338238c",
            "39553393660144bfbfb35725045cde65",
            "ec683141636a41e98367d1e585f0b178",
            "d6bba50661654f7d8bde8079dc06dadd",
            "3321d2e90f8d4c6aa9a94cf9465beece",
            "4414574331f3444b8d5d3a519d388dcd",
            "456598c3c21c46aa86abea1ac45cba64",
            "e32ffdcef45c4432a329461c8efc58b6",
            "f90a521401134e04899a712364b3541d",
            "312f2f8d19c940a08f3a8252e83822f0",
            "9f92d4f57a144ad681f4c3093f08174b",
            "52c37d0995f44e6fb6145bddf8324dac",
            "b49da243658b4604a73aab275064ab6d",
            "a93eb39d6ad2413b9f5400dfc41be3db",
            "cdbe469a437c4583987306ee08409f3f",
            "64086fa076424535a36cc23f9460c6d5",
            "283c014f021647fe8329fb541015a854",
            "4cb22471d54743afa31ad1c35b6b3ce9",
            "c0291e3ccc5c4084a33fa20f609e2515",
            "8ce691b620d1469d9d7498b7be5d04a0",
            "0467c629abd144298950325f1e1bff16",
            "4dbd932c6e18491f8d1f1d5c08d2e453",
            "382604ff5bbf4c1aaa49f574b01e9a42",
            "9ec183c4218145788e9a0badf8b70495"
          ]
        },
        "id": "8cUnzAwi-iNE",
        "outputId": "7f15bd96-58be-48c3-dcb4-1732804cdadf"
      },
      "execution_count": 16,
      "outputs": [
        {
          "output_type": "display_data",
          "data": {
            "text/plain": [
              "Fetching 5 files:   0%|          | 0/5 [00:00<?, ?it/s]"
            ],
            "application/vnd.jupyter.widget-view+json": {
              "version_major": 2,
              "version_minor": 0,
              "model_id": "0ee809d54fb94dd191ccc1760efe164a"
            }
          },
          "metadata": {}
        },
        {
          "output_type": "display_data",
          "data": {
            "text/plain": [
              "tokenizer.json:   0%|          | 0.00/711k [00:00<?, ?B/s]"
            ],
            "application/vnd.jupyter.widget-view+json": {
              "version_major": 2,
              "version_minor": 0,
              "model_id": "7c09dc0388dd412db8d7fcb28f1fb7bc"
            }
          },
          "metadata": {}
        },
        {
          "output_type": "display_data",
          "data": {
            "text/plain": [
              "special_tokens_map.json:   0%|          | 0.00/695 [00:00<?, ?B/s]"
            ],
            "application/vnd.jupyter.widget-view+json": {
              "version_major": 2,
              "version_minor": 0,
              "model_id": "1c04daa0148b4f429741a66a76de44c8"
            }
          },
          "metadata": {}
        },
        {
          "output_type": "display_data",
          "data": {
            "text/plain": [
              "config.json:   0%|          | 0.00/740 [00:00<?, ?B/s]"
            ],
            "application/vnd.jupyter.widget-view+json": {
              "version_major": 2,
              "version_minor": 0,
              "model_id": "3c5b78ab61b346d780898e60714c4fa9"
            }
          },
          "metadata": {}
        },
        {
          "output_type": "display_data",
          "data": {
            "text/plain": [
              "tokenizer_config.json:   0%|          | 0.00/1.24k [00:00<?, ?B/s]"
            ],
            "application/vnd.jupyter.widget-view+json": {
              "version_major": 2,
              "version_minor": 0,
              "model_id": "ec683141636a41e98367d1e585f0b178"
            }
          },
          "metadata": {}
        },
        {
          "output_type": "display_data",
          "data": {
            "text/plain": [
              "model_optimized.onnx:   0%|          | 0.00/218M [00:00<?, ?B/s]"
            ],
            "application/vnd.jupyter.widget-view+json": {
              "version_major": 2,
              "version_minor": 0,
              "model_id": "a93eb39d6ad2413b9f5400dfc41be3db"
            }
          },
          "metadata": {}
        }
      ]
    },
    {
      "cell_type": "code",
      "source": [
        "qdrant = Qdrant.from_documents(\n",
        "    docs,\n",
        "    embeddings,\n",
        "    # location=\":memory:\",\n",
        "    path=\"./db\",\n",
        "    collection_name=\"document_embeddings\",\n",
        ")"
      ],
      "metadata": {
        "id": "fSh39w9H9fPU"
      },
      "execution_count": 17,
      "outputs": []
    },
    {
      "cell_type": "code",
      "source": [
        "# %%time\n",
        "# query = \"Summarize the document. Share response in JSON format.\"\n",
        "# similar_docs = qdrant.similarity_search_with_score(query)"
      ],
      "metadata": {
        "id": "zBBp64Dy_5hw"
      },
      "execution_count": 18,
      "outputs": []
    },
    {
      "cell_type": "code",
      "source": [
        "# for doc, score in similar_docs:\n",
        "#     print(f\"text: {doc.page_content[:256]}\\n\")\n",
        "#     print(f\"score: {score}\")\n",
        "#     print(\"-\" * 80)\n",
        "#     print()"
      ],
      "metadata": {
        "id": "R0vjJsDapHD4"
      },
      "execution_count": 19,
      "outputs": []
    },
    {
      "cell_type": "code",
      "source": [
        "# %%time\n",
        "retriever = qdrant.as_retriever(search_kwargs={\"k\": 5})\n",
        "# retrieved_docs = retriever.invoke(query)"
      ],
      "metadata": {
        "id": "pcYQO28-_pE6"
      },
      "execution_count": 20,
      "outputs": []
    },
    {
      "cell_type": "code",
      "source": [
        "# for doc in retrieved_docs:\n",
        "#     print(f\"id: {doc.metadata['_id']}\\n\")\n",
        "#     print(f\"text: {doc.page_content[:256]}\\n\")\n",
        "#     print(\"-\" * 80)\n",
        "#     print()"
      ],
      "metadata": {
        "id": "heWeRvZmSfuf"
      },
      "execution_count": 21,
      "outputs": []
    },
    {
      "cell_type": "markdown",
      "source": [
        "## Reranking"
      ],
      "metadata": {
        "id": "SS5zSz0lvnu3"
      }
    },
    {
      "cell_type": "code",
      "source": [
        "compressor = FlashrankRerank(model=\"ms-marco-MiniLM-L-12-v2\")\n",
        "compression_retriever = ContextualCompressionRetriever(\n",
        "    base_compressor = compressor, base_retriever = retriever\n",
        ")"
      ],
      "metadata": {
        "id": "83P_6ysFzSxC",
        "colab": {
          "base_uri": "https://localhost:8080/"
        },
        "outputId": "c476afea-d5aa-4856-8177-7f6be479e222"
      },
      "execution_count": 22,
      "outputs": [
        {
          "output_type": "stream",
          "name": "stdout",
          "text": [
            "Downloading ms-marco-MiniLM-L-12-v2...\n"
          ]
        },
        {
          "output_type": "stream",
          "name": "stderr",
          "text": [
            "ms-marco-MiniLM-L-12-v2.zip: 100%|██████████| 21.6M/21.6M [00:00<00:00, 86.2MiB/s]\n"
          ]
        }
      ]
    },
    {
      "cell_type": "code",
      "source": [
        "# %%time\n",
        "# reranked_docs = compression_retriever.invoke(query)\n",
        "# len(reranked_docs)"
      ],
      "metadata": {
        "id": "NUVfVgihLgVD"
      },
      "execution_count": 23,
      "outputs": []
    },
    {
      "cell_type": "code",
      "source": [
        "# for doc in reranked_docs:\n",
        "#     print(f\"id: {doc.metadata['_id']}\\n\")\n",
        "#     print(f\"text: {doc.page_content[:256]}\\n\")\n",
        "#     print(f\"score: {doc.metadata['relevance_score']}\")\n",
        "#     print(\"-\" * 80)\n",
        "#     print()"
      ],
      "metadata": {
        "id": "JqHWLMdqPhMT"
      },
      "execution_count": 24,
      "outputs": []
    },
    {
      "cell_type": "markdown",
      "source": [
        "## Q&A Over Document"
      ],
      "metadata": {
        "id": "3ra-bCZzvrFy"
      }
    },
    {
      "cell_type": "code",
      "source": [
        "llm = ChatGroq(temperature = 0,\n",
        "               model_name = \"llama3-70b-8192\")"
      ],
      "metadata": {
        "id": "tjOym5svzy2j"
      },
      "execution_count": 25,
      "outputs": []
    },
    {
      "cell_type": "code",
      "source": [
        "prompt_template = \"\"\"\n",
        "Use the following pieces of information to answer the user's question.\n",
        "If you don't know the answer, just say that you don't know, don't try to make up an answer.\n",
        "\n",
        "Context: {context}\n",
        "Question: {question}\n",
        "\n",
        "Answer the question and provide additional helpful information,\n",
        "based on the pieces of information, if applicable. Be succinct.\n",
        "\n",
        "Responses should be properly formatted to be easily read.\n",
        "\"\"\"\n",
        "\n",
        "prompt = PromptTemplate(template = prompt_template,\n",
        "                        input_variables = [\"context\", \"question\"])"
      ],
      "metadata": {
        "id": "4iqfuyMaBe6j"
      },
      "execution_count": 26,
      "outputs": []
    },
    {
      "cell_type": "code",
      "source": [
        "qa = RetrievalQA.from_chain_type(\n",
        "    llm = llm,\n",
        "    chain_type = \"stuff\",\n",
        "    retriever = compression_retriever,\n",
        "    return_source_documents = True,\n",
        "    chain_type_kwargs = {\"prompt\" : prompt, \"verbose\" : True},\n",
        ")"
      ],
      "metadata": {
        "id": "sz2aMwNWBxvg"
      },
      "execution_count": 27,
      "outputs": []
    },
    {
      "cell_type": "code",
      "source": [
        "%%time\n",
        "query = \"Summarize the document. Share response in JSON format.\"\n",
        "response = qa.invoke(str(query))"
      ],
      "metadata": {
        "colab": {
          "base_uri": "https://localhost:8080/"
        },
        "id": "J8lBIegHT0Y6",
        "outputId": "83177799-0c67-41fb-f06e-f93bec3e09ff"
      },
      "execution_count": 28,
      "outputs": [
        {
          "output_type": "stream",
          "name": "stdout",
          "text": [
            "Running pairwise ranking..\n",
            "\n",
            "\n",
            "\u001b[1m> Entering new StuffDocumentsChain chain...\u001b[0m\n",
            "\n",
            "\n",
            "\u001b[1m> Entering new LLMChain chain...\u001b[0m\n",
            "Prompt after formatting:\n",
            "\u001b[32;1m\u001b[1;3m\n",
            "Use the following pieces of information to answer the user's question.\n",
            "If you don't know the answer, just say that you don't know, don't try to make up an answer.\n",
            "\n",
            "Context: Product & Grade #SBi! for supply of Coal through Road 35Ondate 14-06-2024 27011990-G9 7250 MT Truck No Date: 44/5/2024 Time: 06.28-08 Date: 44/06/2024 Quantity 43.77 MT Balance Quantity Tare Weight: 1333962.1125 MT Net Validity Neight: 30 297067202452 MT Particulars Size Charges Coal Value: 256 RS per IE 3441.00 Total: 50.32 Transportation Charges 112.12 Addition Eaclty Charges 00.00 Royalties 3421.90 1831.20 ONHET Funds for UP State Df 2 (14(30 Zof 0000 SSAD Acess 0T 00 KM pGatsya Forest Transit Fee Rs per JO M.Terninal Tax Reimbursement of Royalty 0f 5298 Reimbursement of HPGATSYANRET 1532 Reimbursement of SubJota Fansil Fees 4892.24 105 Cost of Sum Q 1B964 SGST of 25 RS 122752.74 IGST of 2(2.5 Rs 306899 Total (Sum of A) 306899 E-Cess 2(400 per MT 728737.50030 Ret Amount (Figures Total Invoice Value (In Words) 42208.00 AFQS 73\n",
            "\n",
            "Declaration: Please Rechentzc Bills to be raised as Per terms. Payment to be made as per terms of ESA/Eauction. Authenticated Part 31 Sales Manager\n",
            "\n",
            "Oriqinel for Buyer/Duplicate for NORTHERN COALFIELDS LIMITED Transporter/Triplicate of Assessee\n",
            "\n",
            "Delivery Challan No BNAOspd250004972 Challen No of Kci 4570 8i 41Oato Date Issued 07:44:54 14-06-2024 DO Number 3001402462 02-05-2024 State of Consignor Uttar Pradesh State Code of Consignor\n",
            "\n",
            "Details of Receiver (Billed to)\n",
            "\n",
            "Limited Renusagar HINDALCO INDUSTRIES Address RENUSAGAR State Uttar Pradesh GSIN (Unique ID) O9aaaCHi?O1RIZL\n",
            "\n",
            "Product Details\n",
            "\n",
            "Product Grade #sBi! !fo5,supply0fCoa] through Road35ondate 14-06-202427011990 G9 250 Hh Truck No Upg44t47s Date 14/06/2024 Gross Weight 44.91 MT Tare Weight 334051.4150 MtMT Net Weight 63850.00 MT Validity 31-41 MT\n",
            "\n",
            "Particulars\n",
            "\n",
            "Product Grade Bill forsupplyof27011990G9 Coa 250 Hmthrough Roadason date 14-06-2024 Truck No Up649t761s Date in 14/06/2024Time 08:16.39 Dateof removal 14/06/2024 Time -08.55:44 Oross Wcight 43 21 HTBalance_QuantityTare Weight: 1233619.5975THTNet Weight:Validity20 46Hf DoQuentity 63850.00_MT. 29-06-2024 Particulars Coa Va lue 3441.00 104812.86 A.Sizing Char gesHigh Capacity Loading Charges 2(56 Rs. per MT) T705.760020 Transportation Charges 112-12 Evacuation Facfty Charges 2(60 Rs pet MT) Roya)ty 44&0f OhFFunds 8030f NMETFundsCess for UP state of MPGATSVA for MP State Ssada Rs_per Forest Transit Fee 0&of 0) 00 Terminal Tax 2{05-00perHT ) 5287_86 ReimbursementofOMF 4533 ReimbursenentofNMET T05 . RembursementofHPGATSVAFees F756 . Reimburscment ofof_Ato_Q)Transit Sub Total Sum 22518.4 CQSTof 2E25}(RS 032 SGSTof 0(2.5 % (Rs 3062.96 IGSTof PfO*(Rs : 0700 Tota] E umof to U 128484 . 41 GST Compensation cesb/C E.CessOrtv Shousina {{ghtordnared Thenty EIghtRs, and Thirty Fhree Paisa Only4140828 >3e( 400 per _MD) T12184300 NetAmount (In Figures one Lakh Forty ThousandTota 2. Biils to be raiseda5 perto bemadea3pertecmsof_ESA/E_auctionterms of FSATE auction 7nab 641924 BC PARTY sG SALES MANAGER --- # Original for Buyer [Duplicate for Transporter/Triplicate for Assessee\n",
            "\n",
            "CC E&iLE No BNFOSRD250064575 Challan No of NCL 09AABCN4884HLZ4 4563 Bill Date 14-06-2024 DQ Number 3001402462 DO Date Issue 02-05-2024 07.53.44 Date of Removal 14-06-2024 07.53.42 State of Consignor Uttar Pradesh State Code of Consignor 09 Financial Year 2024-25\n",
            "\n",
            "Details of Receiver (Billed to) Details of Consignee (Shipped to) EXISTED RENUSAGAR HINDALCO INDUSTRIES Address: RENUSAGAR SONEBHADRA Address: RENUSAGAR-SONEBHADRA State: Uttar Pradesh State Code: 09 State: Uttar Pradesh GSTIN: QoaaaCHIZO1R1ZI 09 GSTIN: QoaaaCHIZO1R1ZI 09\n",
            "\n",
            "DELIVERY Challan (UNDER SECTION 31 OF CAST RULES)\n",
            "\n",
            "CoalBill No ksloiRDzs0004344 Ebillan No B472 %atiesue DQ Number 310000io58 DQ Date Removal 03-062024 Date of Removal 09.57.57 State of Consignor Uttar Pradesh4-06-2024 State Code of Consignor 09\n",
            "\n",
            "Details of Receiver (Billed to)\n",
            "\n",
            "Name HINDALCO INDUSTRIES Address RENU SAGAR SONEBHADRA State Code Uttar Pradesh09 Unique ID opakachizotriL\n",
            "\n",
            "Details of Consignee (Shipped to)\n",
            "\n",
            "Name HINDALCO INDUSTRIES LIMITED Address RENU SAGAR State Code Uttar Pradesh09 Unique ID opakachizotriL\n",
            "\n",
            "Product Details\n",
            "\n",
            "Product Grade HSN 27011990 GB Truck No Up64t4948 Date In 14/06/2024 Time 08:31:18 Date of Removal 14/06/2024 Time 09:57:37 Gross Weight 40.56 MT Tare Weight 13.08 MT Net Weight 27.48 MT Due Quantity 96100.00 MT Balance Quantity 88731.86 MT Validity 22-07-2024\n",
            "\n",
            "Particulars Value\n",
            "\n",
            "Coal 3479.00 9560292 High loading Charges (Rs. per MT) 0.00 2390.76 Transportation Charges 112.12 301.00 Evacuation Facility Charges 14.09 643.09 NMET Funds for UP State (Rs. per MT) 6.30 21.30 MP Cess for MP State (Rs. per MT) 0.00 0.00 Territorial Forest Fee (Rs. per MT) 0.00 0.00 CGST (2.5%) 205.28 SGST (2.5%) 205.28 IGST (4%) 863.10 Total Invoice Value 132854.92\n",
            "\n",
            "Declaration: Payment to be made as per terms of FSA auction to be revised @ 5% per terms of FSA auction. Pre-Receipted Authenticated\n",
            "\n",
            "WBC PARA NIAN SISX\n",
            "\n",
            "Or Igina] ar Buyet /oup!cateT0r Transportes /Tc [plcatefor\n",
            "\n",
            "Coe Ho BNaosrd750004506 chalian %o 4595 BI0fMiaoDale GSTIK No D0humpor 01 Nci Isquo 3001407462 00OatoRaaava Dato0tRemova 14-067074 Tin Sato0fConsIgnor Uttar_Pradesh Stato Coda0fCons [anor\n",
            "\n",
            "Dotails ot RoceIver (0|Mad to)\n",
            "\n",
            "LIMITEO ReNusaGAR Nanc HIndALCO INDUSTRIES Eo RENUSAGAR Addror; RENUSAGAR Addrcss REMUSAGAR~onebhadra Stato UTTAR PRAOESH State UtTaR PradEsH GSTIN UniqueId stato Code OPAAACHIZOIRIZL 09 GSTIN UniqueId State Code OJAAACHIZOIRIZL 09\n",
            "Question: Summarize the document. Share response in JSON format.\n",
            "\n",
            "Answer the question and provide additional helpful information,\n",
            "based on the pieces of information, if applicable. Be succinct.\n",
            "\n",
            "Responses should be properly formatted to be easily read.\n",
            "\u001b[0m\n",
            "\n",
            "\u001b[1m> Finished chain.\u001b[0m\n",
            "\n",
            "\u001b[1m> Finished chain.\u001b[0m\n",
            "CPU times: user 2.57 s, sys: 50.5 ms, total: 2.62 s\n",
            "Wall time: 4.71 s\n"
          ]
        }
      ]
    },
    {
      "cell_type": "code",
      "source": [
        "# print_response(response)"
      ],
      "metadata": {
        "id": "o_PpnlgxY5xz"
      },
      "execution_count": 29,
      "outputs": []
    },
    {
      "cell_type": "code",
      "source": [
        "from IPython.display import Markdown\n",
        "Markdown(response[\"result\"])"
      ],
      "metadata": {
        "colab": {
          "base_uri": "https://localhost:8080/",
          "height": 637
        },
        "id": "bSz4oP88O3no",
        "outputId": "8732af95-4b21-4d98-b7c1-bcd3e1b0e173"
      },
      "execution_count": 30,
      "outputs": [
        {
          "output_type": "execute_result",
          "data": {
            "text/plain": [
              "<IPython.core.display.Markdown object>"
            ],
            "text/markdown": "Here is a summary of the document in JSON format:\n\n```\n{\n  \"Document Type\": \"Coal Bill\",\n  \"Product Details\": {\n    \"Product Grade\": \"#SBi!\",\n    \"HSN\": \"27011990\",\n    \"Quantity\": \"250 MT\",\n    \"Truck No\": \"Up64t4948\",\n    \"Date\": \"14-06-2024\",\n    \"Time\": \"08:31:18\"\n  },\n  \"Consignor Details\": {\n    \"Name\": \"NORTHERN COALFIELDS LIMITED\",\n    \"Address\": \"Uttar Pradesh\",\n    \"State Code\": \"09\"\n  },\n  \"Consignee Details\": {\n    \"Name\": \"HINDALCO INDUSTRIES LIMITED\",\n    \"Address\": \"RENUSAGAR, SONEBHADRA\",\n    \"State Code\": \"09\",\n    \"GSTIN\": \"09aaaCHIZO1RIZL\"\n  },\n  \"Invoice Details\": {\n    \"Invoice Value\": \"132854.92\",\n    \"CGST\": \"205.28\",\n    \"SGST\": \"205.28\",\n    \"IGST\": \"863.10\"\n  }\n}\n```\n\nAdditional helpful information:\n\n* The document appears to be a coal bill for the supply of coal through road transportation.\n* The bill is raised by NORTHERN COALFIELDS LIMITED and is addressed to HINDALCO INDUSTRIES LIMITED.\n* The invoice value is ₹1,328,549.92, with CGST, SGST, and IGST components.\n* The document includes details of the product, consignor, consignee, and invoice values."
          },
          "metadata": {},
          "execution_count": 30
        }
      ]
    },
    {
      "cell_type": "code",
      "source": [
        "# qa = RetrievalQA.from_chain_type(\n",
        "#     llm=llm,\n",
        "#     chain_type=\"stuff\",\n",
        "#     retriever=compression_retriever,\n",
        "#     return_source_documents=True,\n",
        "#     chain_type_kwargs={\"prompt\": prompt, \"verbose\": False},\n",
        "# )"
      ],
      "metadata": {
        "id": "lJfS5OIYavyV"
      },
      "execution_count": 31,
      "outputs": []
    },
    {
      "cell_type": "code",
      "source": [
        "# %%time\n",
        "# response = qa.invoke(\"What is the revenue for 2024 and % change?\")"
      ],
      "metadata": {
        "id": "IObqfsaHYjGm"
      },
      "execution_count": 32,
      "outputs": []
    },
    {
      "cell_type": "code",
      "source": [
        "# Markdown(response[\"result\"])"
      ],
      "metadata": {
        "id": "JevCXm-sbEMo"
      },
      "execution_count": 33,
      "outputs": []
    },
    {
      "cell_type": "code",
      "source": [
        "# %%time\n",
        "# response = qa.invoke(\"What is the revenue for 2023?\")"
      ],
      "metadata": {
        "id": "R6cr0QR6C7_L"
      },
      "execution_count": 34,
      "outputs": []
    },
    {
      "cell_type": "code",
      "source": [
        "# print_response(response)"
      ],
      "metadata": {
        "id": "NxwcVvEYb6Fi"
      },
      "execution_count": 35,
      "outputs": []
    },
    {
      "cell_type": "code",
      "source": [
        "# Markdown(response[\"result\"])"
      ],
      "metadata": {
        "id": "_l6TcIXNPR--"
      },
      "execution_count": 36,
      "outputs": []
    },
    {
      "cell_type": "code",
      "source": [
        "# %%time\n",
        "# response = qa.invoke(\n",
        "#     \"How much is the revenue minus the costs and expenses for 2024? Calculate the answer\"\n",
        "# )"
      ],
      "metadata": {
        "id": "enShZsgADnZt"
      },
      "execution_count": 37,
      "outputs": []
    },
    {
      "cell_type": "code",
      "source": [
        "# print_response(response)"
      ],
      "metadata": {
        "id": "CtEBlRP0dVaM"
      },
      "execution_count": 38,
      "outputs": []
    },
    {
      "cell_type": "code",
      "source": [
        "# Markdown(response[\"result\"])"
      ],
      "metadata": {
        "id": "nxSMAPGCPOsu"
      },
      "execution_count": 39,
      "outputs": []
    },
    {
      "cell_type": "code",
      "source": [
        "# %%time\n",
        "# response = qa.invoke(\n",
        "#     \"How much is the revenue minus the costs and expenses for 2023? Calculate the answer\"\n",
        "# )"
      ],
      "metadata": {
        "id": "842BweJKD0J3"
      },
      "execution_count": 40,
      "outputs": []
    },
    {
      "cell_type": "code",
      "source": [
        "# print_response(response)"
      ],
      "metadata": {
        "id": "v0Oug1q5n7eW"
      },
      "execution_count": 41,
      "outputs": []
    },
    {
      "cell_type": "code",
      "source": [
        "# Markdown(response[\"result\"])"
      ],
      "metadata": {
        "id": "MqCI6V28PV_9"
      },
      "execution_count": 42,
      "outputs": []
    },
    {
      "cell_type": "code",
      "source": [
        "# %%time\n",
        "# response = qa.invoke(\"What is the expected revenue for the second quarter of 2024?\")"
      ],
      "metadata": {
        "id": "D9zNlVvWm9oQ"
      },
      "execution_count": 43,
      "outputs": []
    },
    {
      "cell_type": "code",
      "source": [
        "# Markdown(response[\"result\"])"
      ],
      "metadata": {
        "id": "wimlevzZm-w3"
      },
      "execution_count": 44,
      "outputs": []
    },
    {
      "cell_type": "code",
      "source": [
        "# %%time\n",
        "# response = qa.invoke(\"What is the overall outlook of Q1 2024?\")"
      ],
      "metadata": {
        "id": "YoToCv3znIVB"
      },
      "execution_count": 45,
      "outputs": []
    },
    {
      "cell_type": "code",
      "source": [
        "# print_response(response)"
      ],
      "metadata": {
        "id": "EFtaBY3Vn09U"
      },
      "execution_count": 46,
      "outputs": []
    },
    {
      "cell_type": "code",
      "source": [
        "# Markdown(response[\"result\"])"
      ],
      "metadata": {
        "id": "1YAotUFCPYQT"
      },
      "execution_count": 47,
      "outputs": []
    },
    {
      "cell_type": "markdown",
      "source": [
        "## References\n",
        "\n",
        "- [Meta Reports First Quarter 2024 Results](https://s21.q4cdn.com/399680738/files/doc_financials/2024/q1/Meta-03-31-2024-Exhibit-99-1_FINAL.pdf)"
      ],
      "metadata": {
        "id": "b9KgJCdYqbI_"
      }
    }
  ]
}