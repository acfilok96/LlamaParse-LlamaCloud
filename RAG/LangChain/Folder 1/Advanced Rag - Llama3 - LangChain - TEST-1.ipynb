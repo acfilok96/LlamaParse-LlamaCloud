{
  "nbformat": 4,
  "nbformat_minor": 0,
  "metadata": {
    "colab": {
      "provenance": []
    },
    "kernelspec": {
      "name": "python3",
      "display_name": "Python 3"
    },
    "language_info": {
      "name": "python"
    },
    "widgets": {
      "application/vnd.jupyter.widget-state+json": {
        "6ed5fe7af40146b5b151666982c13619": {
          "model_module": "@jupyter-widgets/controls",
          "model_name": "HBoxModel",
          "model_module_version": "1.5.0",
          "state": {
            "_dom_classes": [],
            "_model_module": "@jupyter-widgets/controls",
            "_model_module_version": "1.5.0",
            "_model_name": "HBoxModel",
            "_view_count": null,
            "_view_module": "@jupyter-widgets/controls",
            "_view_module_version": "1.5.0",
            "_view_name": "HBoxView",
            "box_style": "",
            "children": [
              "IPY_MODEL_22ecac8f440c46cebf36d74742409926",
              "IPY_MODEL_8573bcbdf9f24e43a3dd6752142059b2",
              "IPY_MODEL_cc114abc63b3477984af73d44d6f1b48"
            ],
            "layout": "IPY_MODEL_ecef002b26e045348a6530f74b8014d9"
          }
        },
        "22ecac8f440c46cebf36d74742409926": {
          "model_module": "@jupyter-widgets/controls",
          "model_name": "HTMLModel",
          "model_module_version": "1.5.0",
          "state": {
            "_dom_classes": [],
            "_model_module": "@jupyter-widgets/controls",
            "_model_module_version": "1.5.0",
            "_model_name": "HTMLModel",
            "_view_count": null,
            "_view_module": "@jupyter-widgets/controls",
            "_view_module_version": "1.5.0",
            "_view_name": "HTMLView",
            "description": "",
            "description_tooltip": null,
            "layout": "IPY_MODEL_05fa306630e640e4942ec16a09e5b1da",
            "placeholder": "​",
            "style": "IPY_MODEL_ebf5646ab58f43a4bc3589341799ee30",
            "value": "Fetching 5 files: 100%"
          }
        },
        "8573bcbdf9f24e43a3dd6752142059b2": {
          "model_module": "@jupyter-widgets/controls",
          "model_name": "FloatProgressModel",
          "model_module_version": "1.5.0",
          "state": {
            "_dom_classes": [],
            "_model_module": "@jupyter-widgets/controls",
            "_model_module_version": "1.5.0",
            "_model_name": "FloatProgressModel",
            "_view_count": null,
            "_view_module": "@jupyter-widgets/controls",
            "_view_module_version": "1.5.0",
            "_view_name": "ProgressView",
            "bar_style": "success",
            "description": "",
            "description_tooltip": null,
            "layout": "IPY_MODEL_692b01266ab14fc8b24c6187b8505fc1",
            "max": 5,
            "min": 0,
            "orientation": "horizontal",
            "style": "IPY_MODEL_8200ef1ba7504dbfbcf5e13f8c4a5acb",
            "value": 5
          }
        },
        "cc114abc63b3477984af73d44d6f1b48": {
          "model_module": "@jupyter-widgets/controls",
          "model_name": "HTMLModel",
          "model_module_version": "1.5.0",
          "state": {
            "_dom_classes": [],
            "_model_module": "@jupyter-widgets/controls",
            "_model_module_version": "1.5.0",
            "_model_name": "HTMLModel",
            "_view_count": null,
            "_view_module": "@jupyter-widgets/controls",
            "_view_module_version": "1.5.0",
            "_view_name": "HTMLView",
            "description": "",
            "description_tooltip": null,
            "layout": "IPY_MODEL_2392a85567ee487a845aee13d1c8c722",
            "placeholder": "​",
            "style": "IPY_MODEL_c64630c2706e43f18dbd9713c61c2649",
            "value": " 5/5 [00:02&lt;00:00,  1.28s/it]"
          }
        },
        "ecef002b26e045348a6530f74b8014d9": {
          "model_module": "@jupyter-widgets/base",
          "model_name": "LayoutModel",
          "model_module_version": "1.2.0",
          "state": {
            "_model_module": "@jupyter-widgets/base",
            "_model_module_version": "1.2.0",
            "_model_name": "LayoutModel",
            "_view_count": null,
            "_view_module": "@jupyter-widgets/base",
            "_view_module_version": "1.2.0",
            "_view_name": "LayoutView",
            "align_content": null,
            "align_items": null,
            "align_self": null,
            "border": null,
            "bottom": null,
            "display": null,
            "flex": null,
            "flex_flow": null,
            "grid_area": null,
            "grid_auto_columns": null,
            "grid_auto_flow": null,
            "grid_auto_rows": null,
            "grid_column": null,
            "grid_gap": null,
            "grid_row": null,
            "grid_template_areas": null,
            "grid_template_columns": null,
            "grid_template_rows": null,
            "height": null,
            "justify_content": null,
            "justify_items": null,
            "left": null,
            "margin": null,
            "max_height": null,
            "max_width": null,
            "min_height": null,
            "min_width": null,
            "object_fit": null,
            "object_position": null,
            "order": null,
            "overflow": null,
            "overflow_x": null,
            "overflow_y": null,
            "padding": null,
            "right": null,
            "top": null,
            "visibility": null,
            "width": null
          }
        },
        "05fa306630e640e4942ec16a09e5b1da": {
          "model_module": "@jupyter-widgets/base",
          "model_name": "LayoutModel",
          "model_module_version": "1.2.0",
          "state": {
            "_model_module": "@jupyter-widgets/base",
            "_model_module_version": "1.2.0",
            "_model_name": "LayoutModel",
            "_view_count": null,
            "_view_module": "@jupyter-widgets/base",
            "_view_module_version": "1.2.0",
            "_view_name": "LayoutView",
            "align_content": null,
            "align_items": null,
            "align_self": null,
            "border": null,
            "bottom": null,
            "display": null,
            "flex": null,
            "flex_flow": null,
            "grid_area": null,
            "grid_auto_columns": null,
            "grid_auto_flow": null,
            "grid_auto_rows": null,
            "grid_column": null,
            "grid_gap": null,
            "grid_row": null,
            "grid_template_areas": null,
            "grid_template_columns": null,
            "grid_template_rows": null,
            "height": null,
            "justify_content": null,
            "justify_items": null,
            "left": null,
            "margin": null,
            "max_height": null,
            "max_width": null,
            "min_height": null,
            "min_width": null,
            "object_fit": null,
            "object_position": null,
            "order": null,
            "overflow": null,
            "overflow_x": null,
            "overflow_y": null,
            "padding": null,
            "right": null,
            "top": null,
            "visibility": null,
            "width": null
          }
        },
        "ebf5646ab58f43a4bc3589341799ee30": {
          "model_module": "@jupyter-widgets/controls",
          "model_name": "DescriptionStyleModel",
          "model_module_version": "1.5.0",
          "state": {
            "_model_module": "@jupyter-widgets/controls",
            "_model_module_version": "1.5.0",
            "_model_name": "DescriptionStyleModel",
            "_view_count": null,
            "_view_module": "@jupyter-widgets/base",
            "_view_module_version": "1.2.0",
            "_view_name": "StyleView",
            "description_width": ""
          }
        },
        "692b01266ab14fc8b24c6187b8505fc1": {
          "model_module": "@jupyter-widgets/base",
          "model_name": "LayoutModel",
          "model_module_version": "1.2.0",
          "state": {
            "_model_module": "@jupyter-widgets/base",
            "_model_module_version": "1.2.0",
            "_model_name": "LayoutModel",
            "_view_count": null,
            "_view_module": "@jupyter-widgets/base",
            "_view_module_version": "1.2.0",
            "_view_name": "LayoutView",
            "align_content": null,
            "align_items": null,
            "align_self": null,
            "border": null,
            "bottom": null,
            "display": null,
            "flex": null,
            "flex_flow": null,
            "grid_area": null,
            "grid_auto_columns": null,
            "grid_auto_flow": null,
            "grid_auto_rows": null,
            "grid_column": null,
            "grid_gap": null,
            "grid_row": null,
            "grid_template_areas": null,
            "grid_template_columns": null,
            "grid_template_rows": null,
            "height": null,
            "justify_content": null,
            "justify_items": null,
            "left": null,
            "margin": null,
            "max_height": null,
            "max_width": null,
            "min_height": null,
            "min_width": null,
            "object_fit": null,
            "object_position": null,
            "order": null,
            "overflow": null,
            "overflow_x": null,
            "overflow_y": null,
            "padding": null,
            "right": null,
            "top": null,
            "visibility": null,
            "width": null
          }
        },
        "8200ef1ba7504dbfbcf5e13f8c4a5acb": {
          "model_module": "@jupyter-widgets/controls",
          "model_name": "ProgressStyleModel",
          "model_module_version": "1.5.0",
          "state": {
            "_model_module": "@jupyter-widgets/controls",
            "_model_module_version": "1.5.0",
            "_model_name": "ProgressStyleModel",
            "_view_count": null,
            "_view_module": "@jupyter-widgets/base",
            "_view_module_version": "1.2.0",
            "_view_name": "StyleView",
            "bar_color": null,
            "description_width": ""
          }
        },
        "2392a85567ee487a845aee13d1c8c722": {
          "model_module": "@jupyter-widgets/base",
          "model_name": "LayoutModel",
          "model_module_version": "1.2.0",
          "state": {
            "_model_module": "@jupyter-widgets/base",
            "_model_module_version": "1.2.0",
            "_model_name": "LayoutModel",
            "_view_count": null,
            "_view_module": "@jupyter-widgets/base",
            "_view_module_version": "1.2.0",
            "_view_name": "LayoutView",
            "align_content": null,
            "align_items": null,
            "align_self": null,
            "border": null,
            "bottom": null,
            "display": null,
            "flex": null,
            "flex_flow": null,
            "grid_area": null,
            "grid_auto_columns": null,
            "grid_auto_flow": null,
            "grid_auto_rows": null,
            "grid_column": null,
            "grid_gap": null,
            "grid_row": null,
            "grid_template_areas": null,
            "grid_template_columns": null,
            "grid_template_rows": null,
            "height": null,
            "justify_content": null,
            "justify_items": null,
            "left": null,
            "margin": null,
            "max_height": null,
            "max_width": null,
            "min_height": null,
            "min_width": null,
            "object_fit": null,
            "object_position": null,
            "order": null,
            "overflow": null,
            "overflow_x": null,
            "overflow_y": null,
            "padding": null,
            "right": null,
            "top": null,
            "visibility": null,
            "width": null
          }
        },
        "c64630c2706e43f18dbd9713c61c2649": {
          "model_module": "@jupyter-widgets/controls",
          "model_name": "DescriptionStyleModel",
          "model_module_version": "1.5.0",
          "state": {
            "_model_module": "@jupyter-widgets/controls",
            "_model_module_version": "1.5.0",
            "_model_name": "DescriptionStyleModel",
            "_view_count": null,
            "_view_module": "@jupyter-widgets/base",
            "_view_module_version": "1.2.0",
            "_view_name": "StyleView",
            "description_width": ""
          }
        },
        "6f7e93715bcf42b485a475ce4076bc4b": {
          "model_module": "@jupyter-widgets/controls",
          "model_name": "HBoxModel",
          "model_module_version": "1.5.0",
          "state": {
            "_dom_classes": [],
            "_model_module": "@jupyter-widgets/controls",
            "_model_module_version": "1.5.0",
            "_model_name": "HBoxModel",
            "_view_count": null,
            "_view_module": "@jupyter-widgets/controls",
            "_view_module_version": "1.5.0",
            "_view_name": "HBoxView",
            "box_style": "",
            "children": [
              "IPY_MODEL_ab03dabdcfa8442abfe10990cd3cc32a",
              "IPY_MODEL_a03d0f4c5882405997d0f7e0131d5784",
              "IPY_MODEL_2ec3e13d75a54b7980403ce1c4fdab27"
            ],
            "layout": "IPY_MODEL_dbdcee9ab6e740f19a757dd923a367e5"
          }
        },
        "ab03dabdcfa8442abfe10990cd3cc32a": {
          "model_module": "@jupyter-widgets/controls",
          "model_name": "HTMLModel",
          "model_module_version": "1.5.0",
          "state": {
            "_dom_classes": [],
            "_model_module": "@jupyter-widgets/controls",
            "_model_module_version": "1.5.0",
            "_model_name": "HTMLModel",
            "_view_count": null,
            "_view_module": "@jupyter-widgets/controls",
            "_view_module_version": "1.5.0",
            "_view_name": "HTMLView",
            "description": "",
            "description_tooltip": null,
            "layout": "IPY_MODEL_b5dc8d2507784ba69eceeae993c572f6",
            "placeholder": "​",
            "style": "IPY_MODEL_5a146720df1a42959343b351fd5607ce",
            "value": "config.json: 100%"
          }
        },
        "a03d0f4c5882405997d0f7e0131d5784": {
          "model_module": "@jupyter-widgets/controls",
          "model_name": "FloatProgressModel",
          "model_module_version": "1.5.0",
          "state": {
            "_dom_classes": [],
            "_model_module": "@jupyter-widgets/controls",
            "_model_module_version": "1.5.0",
            "_model_name": "FloatProgressModel",
            "_view_count": null,
            "_view_module": "@jupyter-widgets/controls",
            "_view_module_version": "1.5.0",
            "_view_name": "ProgressView",
            "bar_style": "success",
            "description": "",
            "description_tooltip": null,
            "layout": "IPY_MODEL_9512e4b65b944a70aa97355fcc2566bf",
            "max": 740,
            "min": 0,
            "orientation": "horizontal",
            "style": "IPY_MODEL_39fce92718aa4f3c9a1ad61fd76a3c3f",
            "value": 740
          }
        },
        "2ec3e13d75a54b7980403ce1c4fdab27": {
          "model_module": "@jupyter-widgets/controls",
          "model_name": "HTMLModel",
          "model_module_version": "1.5.0",
          "state": {
            "_dom_classes": [],
            "_model_module": "@jupyter-widgets/controls",
            "_model_module_version": "1.5.0",
            "_model_name": "HTMLModel",
            "_view_count": null,
            "_view_module": "@jupyter-widgets/controls",
            "_view_module_version": "1.5.0",
            "_view_name": "HTMLView",
            "description": "",
            "description_tooltip": null,
            "layout": "IPY_MODEL_3a944975993445bdba7da15d69861e46",
            "placeholder": "​",
            "style": "IPY_MODEL_b58bf216af364809b788b256911286c5",
            "value": " 740/740 [00:00&lt;00:00, 7.87kB/s]"
          }
        },
        "dbdcee9ab6e740f19a757dd923a367e5": {
          "model_module": "@jupyter-widgets/base",
          "model_name": "LayoutModel",
          "model_module_version": "1.2.0",
          "state": {
            "_model_module": "@jupyter-widgets/base",
            "_model_module_version": "1.2.0",
            "_model_name": "LayoutModel",
            "_view_count": null,
            "_view_module": "@jupyter-widgets/base",
            "_view_module_version": "1.2.0",
            "_view_name": "LayoutView",
            "align_content": null,
            "align_items": null,
            "align_self": null,
            "border": null,
            "bottom": null,
            "display": null,
            "flex": null,
            "flex_flow": null,
            "grid_area": null,
            "grid_auto_columns": null,
            "grid_auto_flow": null,
            "grid_auto_rows": null,
            "grid_column": null,
            "grid_gap": null,
            "grid_row": null,
            "grid_template_areas": null,
            "grid_template_columns": null,
            "grid_template_rows": null,
            "height": null,
            "justify_content": null,
            "justify_items": null,
            "left": null,
            "margin": null,
            "max_height": null,
            "max_width": null,
            "min_height": null,
            "min_width": null,
            "object_fit": null,
            "object_position": null,
            "order": null,
            "overflow": null,
            "overflow_x": null,
            "overflow_y": null,
            "padding": null,
            "right": null,
            "top": null,
            "visibility": null,
            "width": null
          }
        },
        "b5dc8d2507784ba69eceeae993c572f6": {
          "model_module": "@jupyter-widgets/base",
          "model_name": "LayoutModel",
          "model_module_version": "1.2.0",
          "state": {
            "_model_module": "@jupyter-widgets/base",
            "_model_module_version": "1.2.0",
            "_model_name": "LayoutModel",
            "_view_count": null,
            "_view_module": "@jupyter-widgets/base",
            "_view_module_version": "1.2.0",
            "_view_name": "LayoutView",
            "align_content": null,
            "align_items": null,
            "align_self": null,
            "border": null,
            "bottom": null,
            "display": null,
            "flex": null,
            "flex_flow": null,
            "grid_area": null,
            "grid_auto_columns": null,
            "grid_auto_flow": null,
            "grid_auto_rows": null,
            "grid_column": null,
            "grid_gap": null,
            "grid_row": null,
            "grid_template_areas": null,
            "grid_template_columns": null,
            "grid_template_rows": null,
            "height": null,
            "justify_content": null,
            "justify_items": null,
            "left": null,
            "margin": null,
            "max_height": null,
            "max_width": null,
            "min_height": null,
            "min_width": null,
            "object_fit": null,
            "object_position": null,
            "order": null,
            "overflow": null,
            "overflow_x": null,
            "overflow_y": null,
            "padding": null,
            "right": null,
            "top": null,
            "visibility": null,
            "width": null
          }
        },
        "5a146720df1a42959343b351fd5607ce": {
          "model_module": "@jupyter-widgets/controls",
          "model_name": "DescriptionStyleModel",
          "model_module_version": "1.5.0",
          "state": {
            "_model_module": "@jupyter-widgets/controls",
            "_model_module_version": "1.5.0",
            "_model_name": "DescriptionStyleModel",
            "_view_count": null,
            "_view_module": "@jupyter-widgets/base",
            "_view_module_version": "1.2.0",
            "_view_name": "StyleView",
            "description_width": ""
          }
        },
        "9512e4b65b944a70aa97355fcc2566bf": {
          "model_module": "@jupyter-widgets/base",
          "model_name": "LayoutModel",
          "model_module_version": "1.2.0",
          "state": {
            "_model_module": "@jupyter-widgets/base",
            "_model_module_version": "1.2.0",
            "_model_name": "LayoutModel",
            "_view_count": null,
            "_view_module": "@jupyter-widgets/base",
            "_view_module_version": "1.2.0",
            "_view_name": "LayoutView",
            "align_content": null,
            "align_items": null,
            "align_self": null,
            "border": null,
            "bottom": null,
            "display": null,
            "flex": null,
            "flex_flow": null,
            "grid_area": null,
            "grid_auto_columns": null,
            "grid_auto_flow": null,
            "grid_auto_rows": null,
            "grid_column": null,
            "grid_gap": null,
            "grid_row": null,
            "grid_template_areas": null,
            "grid_template_columns": null,
            "grid_template_rows": null,
            "height": null,
            "justify_content": null,
            "justify_items": null,
            "left": null,
            "margin": null,
            "max_height": null,
            "max_width": null,
            "min_height": null,
            "min_width": null,
            "object_fit": null,
            "object_position": null,
            "order": null,
            "overflow": null,
            "overflow_x": null,
            "overflow_y": null,
            "padding": null,
            "right": null,
            "top": null,
            "visibility": null,
            "width": null
          }
        },
        "39fce92718aa4f3c9a1ad61fd76a3c3f": {
          "model_module": "@jupyter-widgets/controls",
          "model_name": "ProgressStyleModel",
          "model_module_version": "1.5.0",
          "state": {
            "_model_module": "@jupyter-widgets/controls",
            "_model_module_version": "1.5.0",
            "_model_name": "ProgressStyleModel",
            "_view_count": null,
            "_view_module": "@jupyter-widgets/base",
            "_view_module_version": "1.2.0",
            "_view_name": "StyleView",
            "bar_color": null,
            "description_width": ""
          }
        },
        "3a944975993445bdba7da15d69861e46": {
          "model_module": "@jupyter-widgets/base",
          "model_name": "LayoutModel",
          "model_module_version": "1.2.0",
          "state": {
            "_model_module": "@jupyter-widgets/base",
            "_model_module_version": "1.2.0",
            "_model_name": "LayoutModel",
            "_view_count": null,
            "_view_module": "@jupyter-widgets/base",
            "_view_module_version": "1.2.0",
            "_view_name": "LayoutView",
            "align_content": null,
            "align_items": null,
            "align_self": null,
            "border": null,
            "bottom": null,
            "display": null,
            "flex": null,
            "flex_flow": null,
            "grid_area": null,
            "grid_auto_columns": null,
            "grid_auto_flow": null,
            "grid_auto_rows": null,
            "grid_column": null,
            "grid_gap": null,
            "grid_row": null,
            "grid_template_areas": null,
            "grid_template_columns": null,
            "grid_template_rows": null,
            "height": null,
            "justify_content": null,
            "justify_items": null,
            "left": null,
            "margin": null,
            "max_height": null,
            "max_width": null,
            "min_height": null,
            "min_width": null,
            "object_fit": null,
            "object_position": null,
            "order": null,
            "overflow": null,
            "overflow_x": null,
            "overflow_y": null,
            "padding": null,
            "right": null,
            "top": null,
            "visibility": null,
            "width": null
          }
        },
        "b58bf216af364809b788b256911286c5": {
          "model_module": "@jupyter-widgets/controls",
          "model_name": "DescriptionStyleModel",
          "model_module_version": "1.5.0",
          "state": {
            "_model_module": "@jupyter-widgets/controls",
            "_model_module_version": "1.5.0",
            "_model_name": "DescriptionStyleModel",
            "_view_count": null,
            "_view_module": "@jupyter-widgets/base",
            "_view_module_version": "1.2.0",
            "_view_name": "StyleView",
            "description_width": ""
          }
        },
        "5fd50abd74dc477a983a9ae4d7907fd9": {
          "model_module": "@jupyter-widgets/controls",
          "model_name": "HBoxModel",
          "model_module_version": "1.5.0",
          "state": {
            "_dom_classes": [],
            "_model_module": "@jupyter-widgets/controls",
            "_model_module_version": "1.5.0",
            "_model_name": "HBoxModel",
            "_view_count": null,
            "_view_module": "@jupyter-widgets/controls",
            "_view_module_version": "1.5.0",
            "_view_name": "HBoxView",
            "box_style": "",
            "children": [
              "IPY_MODEL_3546d62dfa1444d19dad1770bc49cbd2",
              "IPY_MODEL_d4ec6b3caff7450faad353d0372dde6d",
              "IPY_MODEL_cd95cbbc70534d5fb4f8b0e121fe13be"
            ],
            "layout": "IPY_MODEL_6aaf2c33541f470fa257e65fe628d652"
          }
        },
        "3546d62dfa1444d19dad1770bc49cbd2": {
          "model_module": "@jupyter-widgets/controls",
          "model_name": "HTMLModel",
          "model_module_version": "1.5.0",
          "state": {
            "_dom_classes": [],
            "_model_module": "@jupyter-widgets/controls",
            "_model_module_version": "1.5.0",
            "_model_name": "HTMLModel",
            "_view_count": null,
            "_view_module": "@jupyter-widgets/controls",
            "_view_module_version": "1.5.0",
            "_view_name": "HTMLView",
            "description": "",
            "description_tooltip": null,
            "layout": "IPY_MODEL_9d89afdaf95947848648123245512d61",
            "placeholder": "​",
            "style": "IPY_MODEL_ea7ec8e726eb49f9b9bccab0923185fa",
            "value": "tokenizer_config.json: 100%"
          }
        },
        "d4ec6b3caff7450faad353d0372dde6d": {
          "model_module": "@jupyter-widgets/controls",
          "model_name": "FloatProgressModel",
          "model_module_version": "1.5.0",
          "state": {
            "_dom_classes": [],
            "_model_module": "@jupyter-widgets/controls",
            "_model_module_version": "1.5.0",
            "_model_name": "FloatProgressModel",
            "_view_count": null,
            "_view_module": "@jupyter-widgets/controls",
            "_view_module_version": "1.5.0",
            "_view_name": "ProgressView",
            "bar_style": "success",
            "description": "",
            "description_tooltip": null,
            "layout": "IPY_MODEL_5d3022217ee54be5886b5f7149de040c",
            "max": 1242,
            "min": 0,
            "orientation": "horizontal",
            "style": "IPY_MODEL_200feac4c49642d0bc377c88c5e0a824",
            "value": 1242
          }
        },
        "cd95cbbc70534d5fb4f8b0e121fe13be": {
          "model_module": "@jupyter-widgets/controls",
          "model_name": "HTMLModel",
          "model_module_version": "1.5.0",
          "state": {
            "_dom_classes": [],
            "_model_module": "@jupyter-widgets/controls",
            "_model_module_version": "1.5.0",
            "_model_name": "HTMLModel",
            "_view_count": null,
            "_view_module": "@jupyter-widgets/controls",
            "_view_module_version": "1.5.0",
            "_view_name": "HTMLView",
            "description": "",
            "description_tooltip": null,
            "layout": "IPY_MODEL_b88d5a811a564188a4f78258877ab8a2",
            "placeholder": "​",
            "style": "IPY_MODEL_c18f391db1bb45d68974a05c49e0d85a",
            "value": " 1.24k/1.24k [00:00&lt;00:00, 11.0kB/s]"
          }
        },
        "6aaf2c33541f470fa257e65fe628d652": {
          "model_module": "@jupyter-widgets/base",
          "model_name": "LayoutModel",
          "model_module_version": "1.2.0",
          "state": {
            "_model_module": "@jupyter-widgets/base",
            "_model_module_version": "1.2.0",
            "_model_name": "LayoutModel",
            "_view_count": null,
            "_view_module": "@jupyter-widgets/base",
            "_view_module_version": "1.2.0",
            "_view_name": "LayoutView",
            "align_content": null,
            "align_items": null,
            "align_self": null,
            "border": null,
            "bottom": null,
            "display": null,
            "flex": null,
            "flex_flow": null,
            "grid_area": null,
            "grid_auto_columns": null,
            "grid_auto_flow": null,
            "grid_auto_rows": null,
            "grid_column": null,
            "grid_gap": null,
            "grid_row": null,
            "grid_template_areas": null,
            "grid_template_columns": null,
            "grid_template_rows": null,
            "height": null,
            "justify_content": null,
            "justify_items": null,
            "left": null,
            "margin": null,
            "max_height": null,
            "max_width": null,
            "min_height": null,
            "min_width": null,
            "object_fit": null,
            "object_position": null,
            "order": null,
            "overflow": null,
            "overflow_x": null,
            "overflow_y": null,
            "padding": null,
            "right": null,
            "top": null,
            "visibility": null,
            "width": null
          }
        },
        "9d89afdaf95947848648123245512d61": {
          "model_module": "@jupyter-widgets/base",
          "model_name": "LayoutModel",
          "model_module_version": "1.2.0",
          "state": {
            "_model_module": "@jupyter-widgets/base",
            "_model_module_version": "1.2.0",
            "_model_name": "LayoutModel",
            "_view_count": null,
            "_view_module": "@jupyter-widgets/base",
            "_view_module_version": "1.2.0",
            "_view_name": "LayoutView",
            "align_content": null,
            "align_items": null,
            "align_self": null,
            "border": null,
            "bottom": null,
            "display": null,
            "flex": null,
            "flex_flow": null,
            "grid_area": null,
            "grid_auto_columns": null,
            "grid_auto_flow": null,
            "grid_auto_rows": null,
            "grid_column": null,
            "grid_gap": null,
            "grid_row": null,
            "grid_template_areas": null,
            "grid_template_columns": null,
            "grid_template_rows": null,
            "height": null,
            "justify_content": null,
            "justify_items": null,
            "left": null,
            "margin": null,
            "max_height": null,
            "max_width": null,
            "min_height": null,
            "min_width": null,
            "object_fit": null,
            "object_position": null,
            "order": null,
            "overflow": null,
            "overflow_x": null,
            "overflow_y": null,
            "padding": null,
            "right": null,
            "top": null,
            "visibility": null,
            "width": null
          }
        },
        "ea7ec8e726eb49f9b9bccab0923185fa": {
          "model_module": "@jupyter-widgets/controls",
          "model_name": "DescriptionStyleModel",
          "model_module_version": "1.5.0",
          "state": {
            "_model_module": "@jupyter-widgets/controls",
            "_model_module_version": "1.5.0",
            "_model_name": "DescriptionStyleModel",
            "_view_count": null,
            "_view_module": "@jupyter-widgets/base",
            "_view_module_version": "1.2.0",
            "_view_name": "StyleView",
            "description_width": ""
          }
        },
        "5d3022217ee54be5886b5f7149de040c": {
          "model_module": "@jupyter-widgets/base",
          "model_name": "LayoutModel",
          "model_module_version": "1.2.0",
          "state": {
            "_model_module": "@jupyter-widgets/base",
            "_model_module_version": "1.2.0",
            "_model_name": "LayoutModel",
            "_view_count": null,
            "_view_module": "@jupyter-widgets/base",
            "_view_module_version": "1.2.0",
            "_view_name": "LayoutView",
            "align_content": null,
            "align_items": null,
            "align_self": null,
            "border": null,
            "bottom": null,
            "display": null,
            "flex": null,
            "flex_flow": null,
            "grid_area": null,
            "grid_auto_columns": null,
            "grid_auto_flow": null,
            "grid_auto_rows": null,
            "grid_column": null,
            "grid_gap": null,
            "grid_row": null,
            "grid_template_areas": null,
            "grid_template_columns": null,
            "grid_template_rows": null,
            "height": null,
            "justify_content": null,
            "justify_items": null,
            "left": null,
            "margin": null,
            "max_height": null,
            "max_width": null,
            "min_height": null,
            "min_width": null,
            "object_fit": null,
            "object_position": null,
            "order": null,
            "overflow": null,
            "overflow_x": null,
            "overflow_y": null,
            "padding": null,
            "right": null,
            "top": null,
            "visibility": null,
            "width": null
          }
        },
        "200feac4c49642d0bc377c88c5e0a824": {
          "model_module": "@jupyter-widgets/controls",
          "model_name": "ProgressStyleModel",
          "model_module_version": "1.5.0",
          "state": {
            "_model_module": "@jupyter-widgets/controls",
            "_model_module_version": "1.5.0",
            "_model_name": "ProgressStyleModel",
            "_view_count": null,
            "_view_module": "@jupyter-widgets/base",
            "_view_module_version": "1.2.0",
            "_view_name": "StyleView",
            "bar_color": null,
            "description_width": ""
          }
        },
        "b88d5a811a564188a4f78258877ab8a2": {
          "model_module": "@jupyter-widgets/base",
          "model_name": "LayoutModel",
          "model_module_version": "1.2.0",
          "state": {
            "_model_module": "@jupyter-widgets/base",
            "_model_module_version": "1.2.0",
            "_model_name": "LayoutModel",
            "_view_count": null,
            "_view_module": "@jupyter-widgets/base",
            "_view_module_version": "1.2.0",
            "_view_name": "LayoutView",
            "align_content": null,
            "align_items": null,
            "align_self": null,
            "border": null,
            "bottom": null,
            "display": null,
            "flex": null,
            "flex_flow": null,
            "grid_area": null,
            "grid_auto_columns": null,
            "grid_auto_flow": null,
            "grid_auto_rows": null,
            "grid_column": null,
            "grid_gap": null,
            "grid_row": null,
            "grid_template_areas": null,
            "grid_template_columns": null,
            "grid_template_rows": null,
            "height": null,
            "justify_content": null,
            "justify_items": null,
            "left": null,
            "margin": null,
            "max_height": null,
            "max_width": null,
            "min_height": null,
            "min_width": null,
            "object_fit": null,
            "object_position": null,
            "order": null,
            "overflow": null,
            "overflow_x": null,
            "overflow_y": null,
            "padding": null,
            "right": null,
            "top": null,
            "visibility": null,
            "width": null
          }
        },
        "c18f391db1bb45d68974a05c49e0d85a": {
          "model_module": "@jupyter-widgets/controls",
          "model_name": "DescriptionStyleModel",
          "model_module_version": "1.5.0",
          "state": {
            "_model_module": "@jupyter-widgets/controls",
            "_model_module_version": "1.5.0",
            "_model_name": "DescriptionStyleModel",
            "_view_count": null,
            "_view_module": "@jupyter-widgets/base",
            "_view_module_version": "1.2.0",
            "_view_name": "StyleView",
            "description_width": ""
          }
        },
        "db2009a1c1854c4a9abdd330b67b0ddd": {
          "model_module": "@jupyter-widgets/controls",
          "model_name": "HBoxModel",
          "model_module_version": "1.5.0",
          "state": {
            "_dom_classes": [],
            "_model_module": "@jupyter-widgets/controls",
            "_model_module_version": "1.5.0",
            "_model_name": "HBoxModel",
            "_view_count": null,
            "_view_module": "@jupyter-widgets/controls",
            "_view_module_version": "1.5.0",
            "_view_name": "HBoxView",
            "box_style": "",
            "children": [
              "IPY_MODEL_46f31f4ad84e4408acbce3bf98e21565",
              "IPY_MODEL_f27ba3712966490e8627f8d7a0a00d45",
              "IPY_MODEL_ecea03baadd34c1da794c6f76bb0cde8"
            ],
            "layout": "IPY_MODEL_104bc4076f6f4d12bb6dfb34092acccf"
          }
        },
        "46f31f4ad84e4408acbce3bf98e21565": {
          "model_module": "@jupyter-widgets/controls",
          "model_name": "HTMLModel",
          "model_module_version": "1.5.0",
          "state": {
            "_dom_classes": [],
            "_model_module": "@jupyter-widgets/controls",
            "_model_module_version": "1.5.0",
            "_model_name": "HTMLModel",
            "_view_count": null,
            "_view_module": "@jupyter-widgets/controls",
            "_view_module_version": "1.5.0",
            "_view_name": "HTMLView",
            "description": "",
            "description_tooltip": null,
            "layout": "IPY_MODEL_a1c58f3f713c4635a330369f8e2494b8",
            "placeholder": "​",
            "style": "IPY_MODEL_dff45ebc00f8446dbc140a38f75147c2",
            "value": "tokenizer.json: 100%"
          }
        },
        "f27ba3712966490e8627f8d7a0a00d45": {
          "model_module": "@jupyter-widgets/controls",
          "model_name": "FloatProgressModel",
          "model_module_version": "1.5.0",
          "state": {
            "_dom_classes": [],
            "_model_module": "@jupyter-widgets/controls",
            "_model_module_version": "1.5.0",
            "_model_name": "FloatProgressModel",
            "_view_count": null,
            "_view_module": "@jupyter-widgets/controls",
            "_view_module_version": "1.5.0",
            "_view_name": "ProgressView",
            "bar_style": "success",
            "description": "",
            "description_tooltip": null,
            "layout": "IPY_MODEL_b09c8d8e39c643508b19576573280201",
            "max": 711396,
            "min": 0,
            "orientation": "horizontal",
            "style": "IPY_MODEL_96abbaa65d514ed0988b89607d7d0e9d",
            "value": 711396
          }
        },
        "ecea03baadd34c1da794c6f76bb0cde8": {
          "model_module": "@jupyter-widgets/controls",
          "model_name": "HTMLModel",
          "model_module_version": "1.5.0",
          "state": {
            "_dom_classes": [],
            "_model_module": "@jupyter-widgets/controls",
            "_model_module_version": "1.5.0",
            "_model_name": "HTMLModel",
            "_view_count": null,
            "_view_module": "@jupyter-widgets/controls",
            "_view_module_version": "1.5.0",
            "_view_name": "HTMLView",
            "description": "",
            "description_tooltip": null,
            "layout": "IPY_MODEL_cea85b49da024d55b84c633128b47808",
            "placeholder": "​",
            "style": "IPY_MODEL_ac73d501823a441c8a7220e43de8a57c",
            "value": " 711k/711k [00:00&lt;00:00, 2.99MB/s]"
          }
        },
        "104bc4076f6f4d12bb6dfb34092acccf": {
          "model_module": "@jupyter-widgets/base",
          "model_name": "LayoutModel",
          "model_module_version": "1.2.0",
          "state": {
            "_model_module": "@jupyter-widgets/base",
            "_model_module_version": "1.2.0",
            "_model_name": "LayoutModel",
            "_view_count": null,
            "_view_module": "@jupyter-widgets/base",
            "_view_module_version": "1.2.0",
            "_view_name": "LayoutView",
            "align_content": null,
            "align_items": null,
            "align_self": null,
            "border": null,
            "bottom": null,
            "display": null,
            "flex": null,
            "flex_flow": null,
            "grid_area": null,
            "grid_auto_columns": null,
            "grid_auto_flow": null,
            "grid_auto_rows": null,
            "grid_column": null,
            "grid_gap": null,
            "grid_row": null,
            "grid_template_areas": null,
            "grid_template_columns": null,
            "grid_template_rows": null,
            "height": null,
            "justify_content": null,
            "justify_items": null,
            "left": null,
            "margin": null,
            "max_height": null,
            "max_width": null,
            "min_height": null,
            "min_width": null,
            "object_fit": null,
            "object_position": null,
            "order": null,
            "overflow": null,
            "overflow_x": null,
            "overflow_y": null,
            "padding": null,
            "right": null,
            "top": null,
            "visibility": null,
            "width": null
          }
        },
        "a1c58f3f713c4635a330369f8e2494b8": {
          "model_module": "@jupyter-widgets/base",
          "model_name": "LayoutModel",
          "model_module_version": "1.2.0",
          "state": {
            "_model_module": "@jupyter-widgets/base",
            "_model_module_version": "1.2.0",
            "_model_name": "LayoutModel",
            "_view_count": null,
            "_view_module": "@jupyter-widgets/base",
            "_view_module_version": "1.2.0",
            "_view_name": "LayoutView",
            "align_content": null,
            "align_items": null,
            "align_self": null,
            "border": null,
            "bottom": null,
            "display": null,
            "flex": null,
            "flex_flow": null,
            "grid_area": null,
            "grid_auto_columns": null,
            "grid_auto_flow": null,
            "grid_auto_rows": null,
            "grid_column": null,
            "grid_gap": null,
            "grid_row": null,
            "grid_template_areas": null,
            "grid_template_columns": null,
            "grid_template_rows": null,
            "height": null,
            "justify_content": null,
            "justify_items": null,
            "left": null,
            "margin": null,
            "max_height": null,
            "max_width": null,
            "min_height": null,
            "min_width": null,
            "object_fit": null,
            "object_position": null,
            "order": null,
            "overflow": null,
            "overflow_x": null,
            "overflow_y": null,
            "padding": null,
            "right": null,
            "top": null,
            "visibility": null,
            "width": null
          }
        },
        "dff45ebc00f8446dbc140a38f75147c2": {
          "model_module": "@jupyter-widgets/controls",
          "model_name": "DescriptionStyleModel",
          "model_module_version": "1.5.0",
          "state": {
            "_model_module": "@jupyter-widgets/controls",
            "_model_module_version": "1.5.0",
            "_model_name": "DescriptionStyleModel",
            "_view_count": null,
            "_view_module": "@jupyter-widgets/base",
            "_view_module_version": "1.2.0",
            "_view_name": "StyleView",
            "description_width": ""
          }
        },
        "b09c8d8e39c643508b19576573280201": {
          "model_module": "@jupyter-widgets/base",
          "model_name": "LayoutModel",
          "model_module_version": "1.2.0",
          "state": {
            "_model_module": "@jupyter-widgets/base",
            "_model_module_version": "1.2.0",
            "_model_name": "LayoutModel",
            "_view_count": null,
            "_view_module": "@jupyter-widgets/base",
            "_view_module_version": "1.2.0",
            "_view_name": "LayoutView",
            "align_content": null,
            "align_items": null,
            "align_self": null,
            "border": null,
            "bottom": null,
            "display": null,
            "flex": null,
            "flex_flow": null,
            "grid_area": null,
            "grid_auto_columns": null,
            "grid_auto_flow": null,
            "grid_auto_rows": null,
            "grid_column": null,
            "grid_gap": null,
            "grid_row": null,
            "grid_template_areas": null,
            "grid_template_columns": null,
            "grid_template_rows": null,
            "height": null,
            "justify_content": null,
            "justify_items": null,
            "left": null,
            "margin": null,
            "max_height": null,
            "max_width": null,
            "min_height": null,
            "min_width": null,
            "object_fit": null,
            "object_position": null,
            "order": null,
            "overflow": null,
            "overflow_x": null,
            "overflow_y": null,
            "padding": null,
            "right": null,
            "top": null,
            "visibility": null,
            "width": null
          }
        },
        "96abbaa65d514ed0988b89607d7d0e9d": {
          "model_module": "@jupyter-widgets/controls",
          "model_name": "ProgressStyleModel",
          "model_module_version": "1.5.0",
          "state": {
            "_model_module": "@jupyter-widgets/controls",
            "_model_module_version": "1.5.0",
            "_model_name": "ProgressStyleModel",
            "_view_count": null,
            "_view_module": "@jupyter-widgets/base",
            "_view_module_version": "1.2.0",
            "_view_name": "StyleView",
            "bar_color": null,
            "description_width": ""
          }
        },
        "cea85b49da024d55b84c633128b47808": {
          "model_module": "@jupyter-widgets/base",
          "model_name": "LayoutModel",
          "model_module_version": "1.2.0",
          "state": {
            "_model_module": "@jupyter-widgets/base",
            "_model_module_version": "1.2.0",
            "_model_name": "LayoutModel",
            "_view_count": null,
            "_view_module": "@jupyter-widgets/base",
            "_view_module_version": "1.2.0",
            "_view_name": "LayoutView",
            "align_content": null,
            "align_items": null,
            "align_self": null,
            "border": null,
            "bottom": null,
            "display": null,
            "flex": null,
            "flex_flow": null,
            "grid_area": null,
            "grid_auto_columns": null,
            "grid_auto_flow": null,
            "grid_auto_rows": null,
            "grid_column": null,
            "grid_gap": null,
            "grid_row": null,
            "grid_template_areas": null,
            "grid_template_columns": null,
            "grid_template_rows": null,
            "height": null,
            "justify_content": null,
            "justify_items": null,
            "left": null,
            "margin": null,
            "max_height": null,
            "max_width": null,
            "min_height": null,
            "min_width": null,
            "object_fit": null,
            "object_position": null,
            "order": null,
            "overflow": null,
            "overflow_x": null,
            "overflow_y": null,
            "padding": null,
            "right": null,
            "top": null,
            "visibility": null,
            "width": null
          }
        },
        "ac73d501823a441c8a7220e43de8a57c": {
          "model_module": "@jupyter-widgets/controls",
          "model_name": "DescriptionStyleModel",
          "model_module_version": "1.5.0",
          "state": {
            "_model_module": "@jupyter-widgets/controls",
            "_model_module_version": "1.5.0",
            "_model_name": "DescriptionStyleModel",
            "_view_count": null,
            "_view_module": "@jupyter-widgets/base",
            "_view_module_version": "1.2.0",
            "_view_name": "StyleView",
            "description_width": ""
          }
        },
        "725ca8aee961428ab0dc91c6567a512e": {
          "model_module": "@jupyter-widgets/controls",
          "model_name": "HBoxModel",
          "model_module_version": "1.5.0",
          "state": {
            "_dom_classes": [],
            "_model_module": "@jupyter-widgets/controls",
            "_model_module_version": "1.5.0",
            "_model_name": "HBoxModel",
            "_view_count": null,
            "_view_module": "@jupyter-widgets/controls",
            "_view_module_version": "1.5.0",
            "_view_name": "HBoxView",
            "box_style": "",
            "children": [
              "IPY_MODEL_5cfa85914dab4bce83a78fcacb037747",
              "IPY_MODEL_895ea80a45b8405aac97d4f3d3266d56",
              "IPY_MODEL_9a7ab978176a429f9adf04a901af8a7c"
            ],
            "layout": "IPY_MODEL_c833549275854b99ab4c1bb516c43183"
          }
        },
        "5cfa85914dab4bce83a78fcacb037747": {
          "model_module": "@jupyter-widgets/controls",
          "model_name": "HTMLModel",
          "model_module_version": "1.5.0",
          "state": {
            "_dom_classes": [],
            "_model_module": "@jupyter-widgets/controls",
            "_model_module_version": "1.5.0",
            "_model_name": "HTMLModel",
            "_view_count": null,
            "_view_module": "@jupyter-widgets/controls",
            "_view_module_version": "1.5.0",
            "_view_name": "HTMLView",
            "description": "",
            "description_tooltip": null,
            "layout": "IPY_MODEL_a94d514925ab4951a5c5635c5dd2c953",
            "placeholder": "​",
            "style": "IPY_MODEL_2a3ef7612109430fabb04f6a17f90751",
            "value": "model_optimized.onnx: 100%"
          }
        },
        "895ea80a45b8405aac97d4f3d3266d56": {
          "model_module": "@jupyter-widgets/controls",
          "model_name": "FloatProgressModel",
          "model_module_version": "1.5.0",
          "state": {
            "_dom_classes": [],
            "_model_module": "@jupyter-widgets/controls",
            "_model_module_version": "1.5.0",
            "_model_name": "FloatProgressModel",
            "_view_count": null,
            "_view_module": "@jupyter-widgets/controls",
            "_view_module_version": "1.5.0",
            "_view_name": "ProgressView",
            "bar_style": "success",
            "description": "",
            "description_tooltip": null,
            "layout": "IPY_MODEL_6b6e227e2a8847fab77b231c466a5a88",
            "max": 217824172,
            "min": 0,
            "orientation": "horizontal",
            "style": "IPY_MODEL_d0519a371daa4983b19b30dc67628156",
            "value": 217824172
          }
        },
        "9a7ab978176a429f9adf04a901af8a7c": {
          "model_module": "@jupyter-widgets/controls",
          "model_name": "HTMLModel",
          "model_module_version": "1.5.0",
          "state": {
            "_dom_classes": [],
            "_model_module": "@jupyter-widgets/controls",
            "_model_module_version": "1.5.0",
            "_model_name": "HTMLModel",
            "_view_count": null,
            "_view_module": "@jupyter-widgets/controls",
            "_view_module_version": "1.5.0",
            "_view_name": "HTMLView",
            "description": "",
            "description_tooltip": null,
            "layout": "IPY_MODEL_651bfd1ae2bf407eb23f157c69333b7a",
            "placeholder": "​",
            "style": "IPY_MODEL_129dc2c90cbb4c9fa4e2b0776be1954c",
            "value": " 218M/218M [00:01&lt;00:00, 180MB/s]"
          }
        },
        "c833549275854b99ab4c1bb516c43183": {
          "model_module": "@jupyter-widgets/base",
          "model_name": "LayoutModel",
          "model_module_version": "1.2.0",
          "state": {
            "_model_module": "@jupyter-widgets/base",
            "_model_module_version": "1.2.0",
            "_model_name": "LayoutModel",
            "_view_count": null,
            "_view_module": "@jupyter-widgets/base",
            "_view_module_version": "1.2.0",
            "_view_name": "LayoutView",
            "align_content": null,
            "align_items": null,
            "align_self": null,
            "border": null,
            "bottom": null,
            "display": null,
            "flex": null,
            "flex_flow": null,
            "grid_area": null,
            "grid_auto_columns": null,
            "grid_auto_flow": null,
            "grid_auto_rows": null,
            "grid_column": null,
            "grid_gap": null,
            "grid_row": null,
            "grid_template_areas": null,
            "grid_template_columns": null,
            "grid_template_rows": null,
            "height": null,
            "justify_content": null,
            "justify_items": null,
            "left": null,
            "margin": null,
            "max_height": null,
            "max_width": null,
            "min_height": null,
            "min_width": null,
            "object_fit": null,
            "object_position": null,
            "order": null,
            "overflow": null,
            "overflow_x": null,
            "overflow_y": null,
            "padding": null,
            "right": null,
            "top": null,
            "visibility": null,
            "width": null
          }
        },
        "a94d514925ab4951a5c5635c5dd2c953": {
          "model_module": "@jupyter-widgets/base",
          "model_name": "LayoutModel",
          "model_module_version": "1.2.0",
          "state": {
            "_model_module": "@jupyter-widgets/base",
            "_model_module_version": "1.2.0",
            "_model_name": "LayoutModel",
            "_view_count": null,
            "_view_module": "@jupyter-widgets/base",
            "_view_module_version": "1.2.0",
            "_view_name": "LayoutView",
            "align_content": null,
            "align_items": null,
            "align_self": null,
            "border": null,
            "bottom": null,
            "display": null,
            "flex": null,
            "flex_flow": null,
            "grid_area": null,
            "grid_auto_columns": null,
            "grid_auto_flow": null,
            "grid_auto_rows": null,
            "grid_column": null,
            "grid_gap": null,
            "grid_row": null,
            "grid_template_areas": null,
            "grid_template_columns": null,
            "grid_template_rows": null,
            "height": null,
            "justify_content": null,
            "justify_items": null,
            "left": null,
            "margin": null,
            "max_height": null,
            "max_width": null,
            "min_height": null,
            "min_width": null,
            "object_fit": null,
            "object_position": null,
            "order": null,
            "overflow": null,
            "overflow_x": null,
            "overflow_y": null,
            "padding": null,
            "right": null,
            "top": null,
            "visibility": null,
            "width": null
          }
        },
        "2a3ef7612109430fabb04f6a17f90751": {
          "model_module": "@jupyter-widgets/controls",
          "model_name": "DescriptionStyleModel",
          "model_module_version": "1.5.0",
          "state": {
            "_model_module": "@jupyter-widgets/controls",
            "_model_module_version": "1.5.0",
            "_model_name": "DescriptionStyleModel",
            "_view_count": null,
            "_view_module": "@jupyter-widgets/base",
            "_view_module_version": "1.2.0",
            "_view_name": "StyleView",
            "description_width": ""
          }
        },
        "6b6e227e2a8847fab77b231c466a5a88": {
          "model_module": "@jupyter-widgets/base",
          "model_name": "LayoutModel",
          "model_module_version": "1.2.0",
          "state": {
            "_model_module": "@jupyter-widgets/base",
            "_model_module_version": "1.2.0",
            "_model_name": "LayoutModel",
            "_view_count": null,
            "_view_module": "@jupyter-widgets/base",
            "_view_module_version": "1.2.0",
            "_view_name": "LayoutView",
            "align_content": null,
            "align_items": null,
            "align_self": null,
            "border": null,
            "bottom": null,
            "display": null,
            "flex": null,
            "flex_flow": null,
            "grid_area": null,
            "grid_auto_columns": null,
            "grid_auto_flow": null,
            "grid_auto_rows": null,
            "grid_column": null,
            "grid_gap": null,
            "grid_row": null,
            "grid_template_areas": null,
            "grid_template_columns": null,
            "grid_template_rows": null,
            "height": null,
            "justify_content": null,
            "justify_items": null,
            "left": null,
            "margin": null,
            "max_height": null,
            "max_width": null,
            "min_height": null,
            "min_width": null,
            "object_fit": null,
            "object_position": null,
            "order": null,
            "overflow": null,
            "overflow_x": null,
            "overflow_y": null,
            "padding": null,
            "right": null,
            "top": null,
            "visibility": null,
            "width": null
          }
        },
        "d0519a371daa4983b19b30dc67628156": {
          "model_module": "@jupyter-widgets/controls",
          "model_name": "ProgressStyleModel",
          "model_module_version": "1.5.0",
          "state": {
            "_model_module": "@jupyter-widgets/controls",
            "_model_module_version": "1.5.0",
            "_model_name": "ProgressStyleModel",
            "_view_count": null,
            "_view_module": "@jupyter-widgets/base",
            "_view_module_version": "1.2.0",
            "_view_name": "StyleView",
            "bar_color": null,
            "description_width": ""
          }
        },
        "651bfd1ae2bf407eb23f157c69333b7a": {
          "model_module": "@jupyter-widgets/base",
          "model_name": "LayoutModel",
          "model_module_version": "1.2.0",
          "state": {
            "_model_module": "@jupyter-widgets/base",
            "_model_module_version": "1.2.0",
            "_model_name": "LayoutModel",
            "_view_count": null,
            "_view_module": "@jupyter-widgets/base",
            "_view_module_version": "1.2.0",
            "_view_name": "LayoutView",
            "align_content": null,
            "align_items": null,
            "align_self": null,
            "border": null,
            "bottom": null,
            "display": null,
            "flex": null,
            "flex_flow": null,
            "grid_area": null,
            "grid_auto_columns": null,
            "grid_auto_flow": null,
            "grid_auto_rows": null,
            "grid_column": null,
            "grid_gap": null,
            "grid_row": null,
            "grid_template_areas": null,
            "grid_template_columns": null,
            "grid_template_rows": null,
            "height": null,
            "justify_content": null,
            "justify_items": null,
            "left": null,
            "margin": null,
            "max_height": null,
            "max_width": null,
            "min_height": null,
            "min_width": null,
            "object_fit": null,
            "object_position": null,
            "order": null,
            "overflow": null,
            "overflow_x": null,
            "overflow_y": null,
            "padding": null,
            "right": null,
            "top": null,
            "visibility": null,
            "width": null
          }
        },
        "129dc2c90cbb4c9fa4e2b0776be1954c": {
          "model_module": "@jupyter-widgets/controls",
          "model_name": "DescriptionStyleModel",
          "model_module_version": "1.5.0",
          "state": {
            "_model_module": "@jupyter-widgets/controls",
            "_model_module_version": "1.5.0",
            "_model_name": "DescriptionStyleModel",
            "_view_count": null,
            "_view_module": "@jupyter-widgets/base",
            "_view_module_version": "1.2.0",
            "_view_name": "StyleView",
            "description_width": ""
          }
        },
        "07a7e933daf147939d86b6302ab4560b": {
          "model_module": "@jupyter-widgets/controls",
          "model_name": "HBoxModel",
          "model_module_version": "1.5.0",
          "state": {
            "_dom_classes": [],
            "_model_module": "@jupyter-widgets/controls",
            "_model_module_version": "1.5.0",
            "_model_name": "HBoxModel",
            "_view_count": null,
            "_view_module": "@jupyter-widgets/controls",
            "_view_module_version": "1.5.0",
            "_view_name": "HBoxView",
            "box_style": "",
            "children": [
              "IPY_MODEL_9cb2b532fc14478ba06dff8fcb798593",
              "IPY_MODEL_45258475bc994f779a5ca2a0086b4cee",
              "IPY_MODEL_4bd0f37e1ed14ed7820ca1724f078c5e"
            ],
            "layout": "IPY_MODEL_3a0ac84a0bfa463982674a042ec18b0f"
          }
        },
        "9cb2b532fc14478ba06dff8fcb798593": {
          "model_module": "@jupyter-widgets/controls",
          "model_name": "HTMLModel",
          "model_module_version": "1.5.0",
          "state": {
            "_dom_classes": [],
            "_model_module": "@jupyter-widgets/controls",
            "_model_module_version": "1.5.0",
            "_model_name": "HTMLModel",
            "_view_count": null,
            "_view_module": "@jupyter-widgets/controls",
            "_view_module_version": "1.5.0",
            "_view_name": "HTMLView",
            "description": "",
            "description_tooltip": null,
            "layout": "IPY_MODEL_a1850b2f34894018952efb6f47f4cc17",
            "placeholder": "​",
            "style": "IPY_MODEL_da9971e98d2746bdbb99688c366e8d8c",
            "value": "special_tokens_map.json: 100%"
          }
        },
        "45258475bc994f779a5ca2a0086b4cee": {
          "model_module": "@jupyter-widgets/controls",
          "model_name": "FloatProgressModel",
          "model_module_version": "1.5.0",
          "state": {
            "_dom_classes": [],
            "_model_module": "@jupyter-widgets/controls",
            "_model_module_version": "1.5.0",
            "_model_name": "FloatProgressModel",
            "_view_count": null,
            "_view_module": "@jupyter-widgets/controls",
            "_view_module_version": "1.5.0",
            "_view_name": "ProgressView",
            "bar_style": "success",
            "description": "",
            "description_tooltip": null,
            "layout": "IPY_MODEL_9c3db53b155446b3b9a03fda591de380",
            "max": 695,
            "min": 0,
            "orientation": "horizontal",
            "style": "IPY_MODEL_418807dafda84519b0f31cc0a5af4a66",
            "value": 695
          }
        },
        "4bd0f37e1ed14ed7820ca1724f078c5e": {
          "model_module": "@jupyter-widgets/controls",
          "model_name": "HTMLModel",
          "model_module_version": "1.5.0",
          "state": {
            "_dom_classes": [],
            "_model_module": "@jupyter-widgets/controls",
            "_model_module_version": "1.5.0",
            "_model_name": "HTMLModel",
            "_view_count": null,
            "_view_module": "@jupyter-widgets/controls",
            "_view_module_version": "1.5.0",
            "_view_name": "HTMLView",
            "description": "",
            "description_tooltip": null,
            "layout": "IPY_MODEL_f4e5cd28323b42e7968d832ba06dbc56",
            "placeholder": "​",
            "style": "IPY_MODEL_b5113b7bb0a94b6589c43f20d06cbcee",
            "value": " 695/695 [00:00&lt;00:00, 11.7kB/s]"
          }
        },
        "3a0ac84a0bfa463982674a042ec18b0f": {
          "model_module": "@jupyter-widgets/base",
          "model_name": "LayoutModel",
          "model_module_version": "1.2.0",
          "state": {
            "_model_module": "@jupyter-widgets/base",
            "_model_module_version": "1.2.0",
            "_model_name": "LayoutModel",
            "_view_count": null,
            "_view_module": "@jupyter-widgets/base",
            "_view_module_version": "1.2.0",
            "_view_name": "LayoutView",
            "align_content": null,
            "align_items": null,
            "align_self": null,
            "border": null,
            "bottom": null,
            "display": null,
            "flex": null,
            "flex_flow": null,
            "grid_area": null,
            "grid_auto_columns": null,
            "grid_auto_flow": null,
            "grid_auto_rows": null,
            "grid_column": null,
            "grid_gap": null,
            "grid_row": null,
            "grid_template_areas": null,
            "grid_template_columns": null,
            "grid_template_rows": null,
            "height": null,
            "justify_content": null,
            "justify_items": null,
            "left": null,
            "margin": null,
            "max_height": null,
            "max_width": null,
            "min_height": null,
            "min_width": null,
            "object_fit": null,
            "object_position": null,
            "order": null,
            "overflow": null,
            "overflow_x": null,
            "overflow_y": null,
            "padding": null,
            "right": null,
            "top": null,
            "visibility": null,
            "width": null
          }
        },
        "a1850b2f34894018952efb6f47f4cc17": {
          "model_module": "@jupyter-widgets/base",
          "model_name": "LayoutModel",
          "model_module_version": "1.2.0",
          "state": {
            "_model_module": "@jupyter-widgets/base",
            "_model_module_version": "1.2.0",
            "_model_name": "LayoutModel",
            "_view_count": null,
            "_view_module": "@jupyter-widgets/base",
            "_view_module_version": "1.2.0",
            "_view_name": "LayoutView",
            "align_content": null,
            "align_items": null,
            "align_self": null,
            "border": null,
            "bottom": null,
            "display": null,
            "flex": null,
            "flex_flow": null,
            "grid_area": null,
            "grid_auto_columns": null,
            "grid_auto_flow": null,
            "grid_auto_rows": null,
            "grid_column": null,
            "grid_gap": null,
            "grid_row": null,
            "grid_template_areas": null,
            "grid_template_columns": null,
            "grid_template_rows": null,
            "height": null,
            "justify_content": null,
            "justify_items": null,
            "left": null,
            "margin": null,
            "max_height": null,
            "max_width": null,
            "min_height": null,
            "min_width": null,
            "object_fit": null,
            "object_position": null,
            "order": null,
            "overflow": null,
            "overflow_x": null,
            "overflow_y": null,
            "padding": null,
            "right": null,
            "top": null,
            "visibility": null,
            "width": null
          }
        },
        "da9971e98d2746bdbb99688c366e8d8c": {
          "model_module": "@jupyter-widgets/controls",
          "model_name": "DescriptionStyleModel",
          "model_module_version": "1.5.0",
          "state": {
            "_model_module": "@jupyter-widgets/controls",
            "_model_module_version": "1.5.0",
            "_model_name": "DescriptionStyleModel",
            "_view_count": null,
            "_view_module": "@jupyter-widgets/base",
            "_view_module_version": "1.2.0",
            "_view_name": "StyleView",
            "description_width": ""
          }
        },
        "9c3db53b155446b3b9a03fda591de380": {
          "model_module": "@jupyter-widgets/base",
          "model_name": "LayoutModel",
          "model_module_version": "1.2.0",
          "state": {
            "_model_module": "@jupyter-widgets/base",
            "_model_module_version": "1.2.0",
            "_model_name": "LayoutModel",
            "_view_count": null,
            "_view_module": "@jupyter-widgets/base",
            "_view_module_version": "1.2.0",
            "_view_name": "LayoutView",
            "align_content": null,
            "align_items": null,
            "align_self": null,
            "border": null,
            "bottom": null,
            "display": null,
            "flex": null,
            "flex_flow": null,
            "grid_area": null,
            "grid_auto_columns": null,
            "grid_auto_flow": null,
            "grid_auto_rows": null,
            "grid_column": null,
            "grid_gap": null,
            "grid_row": null,
            "grid_template_areas": null,
            "grid_template_columns": null,
            "grid_template_rows": null,
            "height": null,
            "justify_content": null,
            "justify_items": null,
            "left": null,
            "margin": null,
            "max_height": null,
            "max_width": null,
            "min_height": null,
            "min_width": null,
            "object_fit": null,
            "object_position": null,
            "order": null,
            "overflow": null,
            "overflow_x": null,
            "overflow_y": null,
            "padding": null,
            "right": null,
            "top": null,
            "visibility": null,
            "width": null
          }
        },
        "418807dafda84519b0f31cc0a5af4a66": {
          "model_module": "@jupyter-widgets/controls",
          "model_name": "ProgressStyleModel",
          "model_module_version": "1.5.0",
          "state": {
            "_model_module": "@jupyter-widgets/controls",
            "_model_module_version": "1.5.0",
            "_model_name": "ProgressStyleModel",
            "_view_count": null,
            "_view_module": "@jupyter-widgets/base",
            "_view_module_version": "1.2.0",
            "_view_name": "StyleView",
            "bar_color": null,
            "description_width": ""
          }
        },
        "f4e5cd28323b42e7968d832ba06dbc56": {
          "model_module": "@jupyter-widgets/base",
          "model_name": "LayoutModel",
          "model_module_version": "1.2.0",
          "state": {
            "_model_module": "@jupyter-widgets/base",
            "_model_module_version": "1.2.0",
            "_model_name": "LayoutModel",
            "_view_count": null,
            "_view_module": "@jupyter-widgets/base",
            "_view_module_version": "1.2.0",
            "_view_name": "LayoutView",
            "align_content": null,
            "align_items": null,
            "align_self": null,
            "border": null,
            "bottom": null,
            "display": null,
            "flex": null,
            "flex_flow": null,
            "grid_area": null,
            "grid_auto_columns": null,
            "grid_auto_flow": null,
            "grid_auto_rows": null,
            "grid_column": null,
            "grid_gap": null,
            "grid_row": null,
            "grid_template_areas": null,
            "grid_template_columns": null,
            "grid_template_rows": null,
            "height": null,
            "justify_content": null,
            "justify_items": null,
            "left": null,
            "margin": null,
            "max_height": null,
            "max_width": null,
            "min_height": null,
            "min_width": null,
            "object_fit": null,
            "object_position": null,
            "order": null,
            "overflow": null,
            "overflow_x": null,
            "overflow_y": null,
            "padding": null,
            "right": null,
            "top": null,
            "visibility": null,
            "width": null
          }
        },
        "b5113b7bb0a94b6589c43f20d06cbcee": {
          "model_module": "@jupyter-widgets/controls",
          "model_name": "DescriptionStyleModel",
          "model_module_version": "1.5.0",
          "state": {
            "_model_module": "@jupyter-widgets/controls",
            "_model_module_version": "1.5.0",
            "_model_name": "DescriptionStyleModel",
            "_view_count": null,
            "_view_module": "@jupyter-widgets/base",
            "_view_module_version": "1.2.0",
            "_view_name": "StyleView",
            "description_width": ""
          }
        }
      }
    }
  },
  "cells": [
    {
      "cell_type": "code",
      "execution_count": null,
      "metadata": {
        "id": "3-wvIiFhkBYR",
        "colab": {
          "base_uri": "https://localhost:8080/"
        },
        "outputId": "db58c431-f2f4-4445-b384-fc6212eee389"
      },
      "outputs": [
        {
          "output_type": "stream",
          "name": "stdout",
          "text": [
            "\u001b[31mERROR: pip's dependency resolver does not currently take into account all the packages that are installed. This behaviour is the source of the following dependency conflicts.\n",
            "cudf-cu12 24.4.1 requires protobuf<5,>=3.20, but you have protobuf 5.27.1 which is incompatible.\n",
            "google-ai-generativelanguage 0.6.4 requires protobuf!=3.20.0,!=3.20.1,!=4.21.0,!=4.21.1,!=4.21.2,!=4.21.3,!=4.21.4,!=4.21.5,<5.0.0dev,>=3.19.5, but you have protobuf 5.27.1 which is incompatible.\n",
            "google-api-core 2.11.1 requires protobuf!=3.20.0,!=3.20.1,!=4.21.0,!=4.21.1,!=4.21.2,!=4.21.3,!=4.21.4,!=4.21.5,<5.0.0.dev0,>=3.19.5, but you have protobuf 5.27.1 which is incompatible.\n",
            "google-cloud-aiplatform 1.54.1 requires protobuf!=3.20.0,!=3.20.1,!=4.21.0,!=4.21.1,!=4.21.2,!=4.21.3,!=4.21.4,!=4.21.5,<5.0.0dev,>=3.19.5, but you have protobuf 5.27.1 which is incompatible.\n",
            "google-cloud-bigquery-connection 1.12.1 requires protobuf!=3.20.0,!=3.20.1,!=4.21.0,!=4.21.1,!=4.21.2,!=4.21.3,!=4.21.4,!=4.21.5,<5.0.0dev,>=3.19.5, but you have protobuf 5.27.1 which is incompatible.\n",
            "google-cloud-bigquery-storage 2.25.0 requires protobuf!=3.20.0,!=3.20.1,!=4.21.0,!=4.21.1,!=4.21.2,!=4.21.3,!=4.21.4,!=4.21.5,<5.0.0dev,>=3.19.5, but you have protobuf 5.27.1 which is incompatible.\n",
            "google-cloud-datastore 2.15.2 requires protobuf!=3.20.0,!=3.20.1,!=4.21.0,!=4.21.1,!=4.21.2,!=4.21.3,!=4.21.4,!=4.21.5,<5.0.0dev,>=3.19.5, but you have protobuf 5.27.1 which is incompatible.\n",
            "google-cloud-firestore 2.11.1 requires protobuf!=3.20.0,!=3.20.1,!=4.21.0,!=4.21.1,!=4.21.2,!=4.21.3,!=4.21.4,!=4.21.5,<5.0.0dev,>=3.19.5, but you have protobuf 5.27.1 which is incompatible.\n",
            "google-cloud-functions 1.13.3 requires protobuf!=3.20.0,!=3.20.1,!=4.21.0,!=4.21.1,!=4.21.2,!=4.21.3,!=4.21.4,!=4.21.5,<5.0.0dev,>=3.19.5, but you have protobuf 5.27.1 which is incompatible.\n",
            "google-cloud-iam 2.15.0 requires protobuf!=3.20.0,!=3.20.1,!=4.21.0,!=4.21.1,!=4.21.2,!=4.21.3,!=4.21.4,!=4.21.5,<5.0.0dev,>=3.19.5, but you have protobuf 5.27.1 which is incompatible.\n",
            "google-cloud-language 2.13.3 requires protobuf!=3.20.0,!=3.20.1,!=4.21.0,!=4.21.1,!=4.21.2,!=4.21.3,!=4.21.4,!=4.21.5,<5.0.0dev,>=3.19.5, but you have protobuf 5.27.1 which is incompatible.\n",
            "google-cloud-resource-manager 1.12.3 requires protobuf!=3.20.0,!=3.20.1,!=4.21.0,!=4.21.1,!=4.21.2,!=4.21.3,!=4.21.4,!=4.21.5,<5.0.0dev,>=3.19.5, but you have protobuf 5.27.1 which is incompatible.\n",
            "google-cloud-translate 3.11.3 requires protobuf!=3.20.0,!=3.20.1,!=4.21.0,!=4.21.1,!=4.21.2,!=4.21.3,!=4.21.4,!=4.21.5,<5.0.0dev,>=3.19.5, but you have protobuf 5.27.1 which is incompatible.\n",
            "grpc-google-iam-v1 0.13.0 requires protobuf!=3.20.0,!=3.20.1,!=4.21.1,!=4.21.2,!=4.21.3,!=4.21.4,!=4.21.5,<5.0.0dev,>=3.19.5, but you have protobuf 5.27.1 which is incompatible.\n",
            "proto-plus 1.23.0 requires protobuf<5.0.0dev,>=3.19.0, but you have protobuf 5.27.1 which is incompatible.\n",
            "tensorflow 2.15.0 requires protobuf!=4.21.0,!=4.21.1,!=4.21.2,!=4.21.3,!=4.21.4,!=4.21.5,<5.0.0dev,>=3.20.3, but you have protobuf 5.27.1 which is incompatible.\n",
            "tensorflow-metadata 1.15.0 requires protobuf<4.21,>=3.20.3; python_version < \"3.11\", but you have protobuf 5.27.1 which is incompatible.\u001b[0m\u001b[31m\n",
            "\u001b[0m  Preparing metadata (setup.py) ... \u001b[?25l\u001b[?25hdone\n",
            "  Building wheel for langdetect (setup.py) ... \u001b[?25l\u001b[?25hdone\n",
            "\u001b[31mERROR: pip's dependency resolver does not currently take into account all the packages that are installed. This behaviour is the source of the following dependency conflicts.\n",
            "transformers 4.41.2 requires huggingface-hub<1.0,>=0.23.0, but you have huggingface-hub 0.20.3 which is incompatible.\n",
            "transformers 4.41.2 requires tokenizers<0.20,>=0.19, but you have tokenizers 0.15.2 which is incompatible.\u001b[0m\u001b[31m\n",
            "\u001b[0m  Installing build dependencies ... \u001b[?25l\u001b[?25hdone\n",
            "  Getting requirements to build wheel ... \u001b[?25l\u001b[?25hdone\n",
            "  Installing backend dependencies ... \u001b[?25l\u001b[?25hdone\n",
            "  Preparing metadata (pyproject.toml) ... \u001b[?25l\u001b[?25hdone\n",
            "  Building wheel for llama-cpp-python (pyproject.toml) ... \u001b[?25l\u001b[?25hdone\n"
          ]
        }
      ],
      "source": [
        "!pip -qqq install pip --progress-bar off\n",
        "!pip -qqq install langchain-groq==0.1.3 --progress-bar off\n",
        "!pip -qqq install langchain==0.1.17 --progress-bar off\n",
        "!pip -qqq install llama-parse==0.1.3 --progress-bar off\n",
        "!pip -qqq install qdrant-client==1.9.1  --progress-bar off\n",
        "!pip -qqq install \"unstructured[md]\"==0.13.6 --progress-bar off\n",
        "!pip -qqq install fastembed==0.2.7 --progress-bar off\n",
        "!pip -qqq install flashrank==0.2.4 --progress-bar off"
      ]
    },
    {
      "cell_type": "code",
      "source": [
        "import os\n",
        "import textwrap\n",
        "from pathlib import Path\n",
        "\n",
        "from google.colab import userdata\n",
        "from IPython.display import Markdown\n",
        "from langchain.chains import RetrievalQA\n",
        "from langchain.prompts import PromptTemplate\n",
        "from langchain.retrievers import ContextualCompressionRetriever\n",
        "from langchain.retrievers.document_compressors import FlashrankRerank\n",
        "from langchain.text_splitter import RecursiveCharacterTextSplitter\n",
        "from langchain.vectorstores import Qdrant\n",
        "from langchain_community.document_loaders import UnstructuredMarkdownLoader\n",
        "from langchain_community.embeddings.fastembed import FastEmbedEmbeddings\n",
        "from langchain_core.prompts import ChatPromptTemplate\n",
        "from langchain_groq import ChatGroq\n",
        "from llama_parse import LlamaParse\n",
        "\n",
        "os.environ[\"GROQ_API_KEY\"] = userdata.get(\"GROQ_API_KEY\")\n",
        "\n",
        "\n",
        "def print_response(response):\n",
        "    response_txt = response[\"result\"]\n",
        "    for chunk in response_txt.split(\"\\n\"):\n",
        "        if not chunk:\n",
        "            print()\n",
        "            continue\n",
        "        print(\"\\n\".join(textwrap.wrap(chunk, 100, break_long_words=False)))"
      ],
      "metadata": {
        "id": "WH_J7_kol_ay"
      },
      "execution_count": null,
      "outputs": []
    },
    {
      "cell_type": "code",
      "source": [
        "!mkdir data\n",
        "!gdown 1ee-BhQiH-S9a2IkHiFbJz9eX_SfcZ5m9 -O \"data/meta-earnings.pdf\""
      ],
      "metadata": {
        "colab": {
          "base_uri": "https://localhost:8080/"
        },
        "id": "59M0lL4vjkGW",
        "outputId": "545ab0d9-1bc0-4c8e-d8f2-f739f6729c0d"
      },
      "execution_count": null,
      "outputs": [
        {
          "output_type": "stream",
          "name": "stdout",
          "text": [
            "Downloading...\n",
            "From: https://drive.google.com/uc?id=1ee-BhQiH-S9a2IkHiFbJz9eX_SfcZ5m9\n",
            "To: /content/data/meta-earnings.pdf\n",
            "\r  0% 0.00/160k [00:00<?, ?B/s]\r100% 160k/160k [00:00<00:00, 5.99MB/s]\n"
          ]
        }
      ]
    },
    {
      "cell_type": "markdown",
      "source": [
        "## Document Parsing"
      ],
      "metadata": {
        "id": "z6kHJJRDvawJ"
      }
    },
    {
      "cell_type": "code",
      "source": [
        "from google.colab import userdata\n",
        "LLAMA_PARSE_API_KEY = userdata.get(\"LLAMA_PARSE_API_KEY\")\n"
      ],
      "metadata": {
        "id": "sYA7ClBmNFu5"
      },
      "execution_count": null,
      "outputs": []
    },
    {
      "cell_type": "code",
      "source": [
        "instruction = \"\"\"The provided document is Meta First Quarter 2024 Results.\n",
        "This form provides detailed financial information about the company's performance for a specific quarter.\n",
        "It includes unaudited financial statements, management discussion and analysis, and other relevant disclosures required by the SEC.\n",
        "It contains many tables.\n",
        "Try to be precise while answering the questions\"\"\"\n",
        "\n",
        "parser = LlamaParse(\n",
        "    api_key=userdata.get(\"LLAMA_PARSE_API_KEY\"),\n",
        "    result_type=\"markdown\",\n",
        "    parsing_instruction=instruction,\n",
        "    max_timeout=5000,\n",
        ")\n",
        "\n",
        "llama_parse_documents = await parser.aload_data(\"./data/meta-earnings.pdf\")"
      ],
      "metadata": {
        "colab": {
          "base_uri": "https://localhost:8080/"
        },
        "id": "eHRFF7lF0gV2",
        "outputId": "ca1ed61c-414e-4742-8e16-5b16bb7db603"
      },
      "execution_count": null,
      "outputs": [
        {
          "output_type": "stream",
          "name": "stdout",
          "text": [
            "Started parsing the file under job_id cac11eca-d98b-4cf4-b43b-d26f8b4b27cf\n"
          ]
        }
      ]
    },
    {
      "cell_type": "code",
      "source": [
        "llama_parse_documents"
      ],
      "metadata": {
        "colab": {
          "base_uri": "https://localhost:8080/"
        },
        "id": "w6lDaUHr3ojH",
        "outputId": "a99f9de4-97f4-4b88-df37-97454b370bda"
      },
      "execution_count": null,
      "outputs": [
        {
          "output_type": "execute_result",
          "data": {
            "text/plain": [
              "[Document(id_='33c15ed1-7533-4541-b972-1108a0dbe8dc', embedding=None, metadata={'file_path': './data/meta-earnings.pdf'}, excluded_embed_metadata_keys=[], excluded_llm_metadata_keys=[], relationships={}, text='# Meta Reports First Quarter 2024 Results\\n\\nMENLO PARK, Calif. – April 24, 2024 – Meta Platforms, Inc. (Nasdaq: META) today reported financial results for the quarter ended March 31, 2024.\\n\\n\"It\\'s been a good start to the year,\" said Mark Zuckerberg, Meta founder and CEO. \"The new version of Meta AI with Llama 3 is another step towards building the world\\'s leading AI. We\\'re seeing healthy growth across our apps and we continue making steady progress building the metaverse as well.\"\\n\\n# First Quarter 2024 Financial Highlights\\n\\n|In millions, except percentages and per share amounts|Three Months Ended March 31,|2024|2023|% Change|\\n|---|---|---|---|---|\\n|Revenue|$36,455|$28,645|27%| |\\n|Costs and expenses|$22,637|$21,418|6%| |\\n|Income from operations|$13,818|$7,227|91%| |\\n|Operating margin|38%|25%| | |\\n|Provision for income taxes|$1,814|$1,598|14%| |\\n|Effective tax rate|13%|22%| | |\\n|Net income|$12,369|$5,709|117%| |\\n|Diluted earnings per share (EPS)|$4.71|$2.20|114%| |\\n\\n# First Quarter 2024 Operational and Other Financial Highlights\\n\\n- Family daily active people (DAP) – DAP was 3.24 billion on average for March 2024, an increase of 7% year-over-year.\\n- Ad impressions – Ad impressions delivered across our Family of Apps increased by 20% year-over-year.\\n- Average price per ad – Average price per ad increased by 6% year-over-year.\\n- Revenue – Total revenue and revenue on a constant currency basis were $36.46 billion and $36.35 billion, respectively, both of which increased by 27% year-over-year.\\n- Costs and expenses – Total costs and expenses were $22.64 billion, an increase of 6% year-over-year.\\n- Capital expenditures – Capital expenditures, including principal payments on finance leases, were $6.72 billion.\\n- Capital return program – Share repurchases were $14.64 billion of our Class A common stock and dividends payments were $1.27 billion.\\n- Cash, cash equivalents, and marketable securities – Cash, cash equivalents, and marketable securities were $58.12 billion as of March 31, 2024. Free cash flow was $12.53 billion.\\n- Headcount – Headcount was 69,329 as of March 31, 2024, a decrease of 10% year-over-year.\\n---\\n# CFO Outlook Commentary\\n\\nWe expect second quarter 2024 total revenue to be in the range of $36.5-39 billion. Our guidance assumes foreign currency is a 1% headwind to year-over-year total revenue growth, based on current exchange rates.\\n\\nWe expect full-year 2024 total expenses to be in the range of $96-99 billion, updated from our prior outlook of $94-99 billion due to higher infrastructure and legal costs. For Reality Labs, we continue to expect operating losses to increase meaningfully year-over-year due to our ongoing product development efforts and our investments to further scale our ecosystem.\\n\\nWe anticipate our full-year 2024 capital expenditures will be in the range of $35-40 billion, increased from our prior range of $30-37 billion as we continue to accelerate our infrastructure investments to support our artificial intelligence (AI) roadmap. While we are not providing guidance for years beyond 2024, we expect capital expenditures will continue to increase next year as we invest aggressively to support our ambitious AI research and product development efforts.\\n\\nAbsent any changes to our tax landscape, we expect our full-year 2024 tax rate to be in the mid-teens.\\n\\nIn addition, we continue to monitor an active regulatory landscape, including the increasing legal and regulatory headwinds in the EU and the U.S. that could significantly impact our business and our financial results.\\n\\nQ1 was a good start to the year. We\\'re seeing strong momentum within our Family of Apps and are making important progress on our longer-term AI and Reality Labs initiatives that have the potential to transform the way people interact with our services over the coming years.\\n---\\n# Webcast and Conference Call Information\\n\\nMeta will host a conference call to discuss the results at 2:00 p.m. PT / 5:00 p.m. ET today. The live webcast of Meta\\'s earnings conference call can be accessed at investor.fb.com, along with the earnings press release, financial tables, and slide presentation. Meta uses the investor.fb.com and about.fb.com/news/ websites as well as Mark Zuckerberg\\'s Facebook Page (facebook.com/zuck), Instagram account (instagram.com/zuck), and Threads profile (threads.net/zuck) as means of disclosing material non-public information and for complying with its disclosure obligations under Regulation FD.\\n\\nFollowing the call, a replay will be available at the same website. Transcripts of conference calls with publishing equity research analysts held today will also be posted to the investor.fb.com website.\\n\\n# About Meta\\n\\nMeta builds technologies that help people connect, find communities, and grow businesses. When Facebook launched in 2004, it changed the way people connect. Apps like Messenger, Instagram, and WhatsApp further empowered billions around the world. Now, Meta is moving beyond 2D screens toward immersive experiences like augmented and virtual reality to help build the next evolution in social technology.\\n\\n# Contacts\\n\\nInvestors:\\nKenneth Dorell\\ninvestor@meta.com / investor.fb.com\\n\\nPress:\\nRyan Moore\\npress@meta.com / about.fb.com/news/\\n---\\nForward-Looking Statements\\n\\nThis press release contains forward-looking statements regarding our future business plans and expectations. These forward-looking statements are only predictions and may differ materially from actual results due to a variety of factors including: the impact of macroeconomic conditions on our business and financial results, including as a result of geopolitical events; our ability to retain or increase users and engagement levels; our reliance on advertising revenue; our dependency on data signals and mobile operating systems, networks, and standards that we do not control; changes to the content or application of third-party policies that impact our advertising practices; risks associated with new products and changes to existing products as well as other new business initiatives, including our artificial intelligence initiatives and metaverse efforts; our emphasis on community growth and engagement and the user experience over short-term financial results; maintaining and enhancing our brand and reputation; our ongoing privacy, safety, security, and content review efforts; competition; risks associated with government actions that could restrict access to our products or impair our ability to sell advertising in certain countries; litigation and government inquiries; privacy, legislative, and regulatory concerns or developments; risks associated with acquisitions; security breaches; our ability to manage our scale and geographically-dispersed operations; and market conditions or other factors affecting the payment of dividends. These and other potential risks and uncertainties that could cause actual results to differ from the results predicted are more fully detailed under the caption \"Risk Factors\" in our Annual Report on Form 10-K filed with the SEC on February 2, 2024, which is available on our Investor Relations website at investor.fb.com and on the SEC website at www.sec.gov. Additional information will also be set forth in our Quarterly Report on Form 10-Q for the quarter ended March 31, 2024. In addition, please note that the date of this press release is April 24, 2024, and any forward-looking statements contained herein are based on assumptions that we believe to be reasonable as of this date. We undertake no obligation to update these statements as a result of new information or future events.\\n\\nFor a discussion of limitations in the measurement of certain of our community metrics, see the section entitled \"Limitations of Key Metrics and Other Data\" in our most recent quarterly or annual report filed with the SEC.\\n\\nNon-GAAP Financial Measures\\n\\nTo supplement our condensed consolidated financial statements, which are prepared and presented in accordance with generally accepted accounting principles in the United States (GAAP), we use the following non-GAAP financial measures: revenue excluding foreign exchange effect, advertising revenue excluding foreign exchange effect, and free cash flow. The presentation of these financial measures is not intended to be considered in isolation or as a substitute for, or superior to, financial information prepared and presented in accordance with GAAP. Investors are cautioned that there are material limitations associated with the use of non-GAAP financial measures as an analytical tool. In addition, these measures may be different from non-GAAP financial measures used by other companies, limiting their usefulness for comparison purposes. We compensate for these limitations by providing specific information regarding the GAAP amounts excluded from these non-GAAP financial measures.\\n\\nWe believe these non-GAAP financial measures provide investors with useful supplemental information about the financial performance of our business, enable comparison of financial results between periods where certain items may vary independent of business performance, and allow for greater transparency with respect to key metrics used by management in operating our business.\\n\\nOur non-GAAP financial measures are adjusted for the following items:\\n\\nForeign exchange effect on revenue. We translated revenue for the three months ended March 31, 2024 using the prior year\\'s monthly exchange rates for our settlement or billing currencies other than the U.S. dollar, which we believe is a useful metric that facilitates comparison to our historical performance.\\n\\nPurchases of property and equipment; Principal payments on finance leases. We subtract both purchases of property and equipment, net of proceeds and principal payments on finance leases in our calculation of free cash flow because we believe that these two items collectively represent the amount of property and equipment we need to procure to support our business, regardless of whether we procure such property or equipment with a finance lease. We believe that this methodology can provide useful supplemental information to help investors better understand underlying trends in our business. Free cash flow is not intended to represent our residual cash flow available for discretionary expenditures.\\n\\nFor more information on our non-GAAP financial measures and a reconciliation of GAAP to non-GAAP measures, please see the \"Reconciliation of GAAP to Non-GAAP Results\" table in this press release.\\n\\n4\\n---\\n# META PLATFORMS, INC.\\n\\n# CONDENSED CONSOLIDATED STATEMENTS OF INCOME\\n\\n(In millions, except per share amounts)\\n\\n(Unaudited)\\n\\n| |Three Months Ended March 31, 2024|Three Months Ended March 31, 2023|\\n|---|---|---|\\n|Revenue|$36,455|$28,645|\\n|Costs and expenses:| | |\\n|Cost of revenue|6,640|6,108|\\n|Research and development|9,978|9,381|\\n|Marketing and sales|2,564|3,044|\\n|General and administrative|3,455|2,885|\\n|Total costs and expenses|22,637|21,418|\\n|Income from operations|13,818|7,227|\\n|Interest and other income, net|365|80|\\n|Income before provision for income taxes|14,183|7,307|\\n|Provision for income taxes|1,814|1,598|\\n|Net income|$12,369|$5,709|\\n|Earnings per share:| | |\\n|Basic|$4.86|$2.21|\\n|Diluted|$4.71|$2.20|\\n|Weighted-average shares used to compute earnings per share:| | |\\n|Basic|2,545|2,587|\\n|Diluted|2,625|2,596|\\n---\\n# META PLATFORMS, INC.\\n\\n# CONDENSED CONSOLIDATED BALANCE SHEETS\\n\\n(In millions)\\n\\n(Unaudited)\\n\\n| |March 31, 2024|December 31, 2023|\\n|---|---|---|\\n|Assets| | |\\n|Current assets:| | |\\n|Cash and cash equivalents|$32,307|$41,862|\\n|Marketable securities|25,813|23,541|\\n|Accounts receivable, net|13,430|16,169|\\n|Prepaid expenses and other current assets|3,780|3,793|\\n|Total current assets|75,330|85,365|\\n|Non-marketable equity securities|6,218|6,141|\\n|Property and equipment, net|98,908|96,587|\\n|Operating lease right-of-use assets|13,555|13,294|\\n|Goodwill|20,654|20,654|\\n|Other assets|8,179|7,582|\\n|Total assets|$222,844|$229,623|\\n\\n|Liabilities and stockholders\\' equity| | |\\n|---|---|---|\\n|Current liabilities:| | |\\n|Accounts payable|$3,785|$4,849|\\n|Operating lease liabilities, current|1,676|1,623|\\n|Accrued expenses and other current liabilities|22,640|25,488|\\n|Total current liabilities|28,101|31,960|\\n|Operating lease liabilities, non-current|17,570|17,226|\\n|Long-term debt|18,387|18,385|\\n|Long-term income taxes|7,795|7,514|\\n|Other liabilities|1,462|1,370|\\n|Total liabilities|73,315|76,455|\\n|Commitments and contingencies| | |\\n|Stockholders\\' equity:| | |\\n|Common stock and additional paid-in capital|75,391|73,253|\\n|Accumulated other comprehensive loss|(2,655)|(2,155)|\\n|Retained earnings|76,793|82,070|\\n|Total stockholders\\' equity|149,529|153,168|\\n|Total liabilities and stockholders\\' equity|$222,844|$229,623|\\n---\\n# CONDENSED CONSOLIDATED STATEMENTS OF CASH FLOWS\\n\\n| |Three Months Ended March 31, 2024|Three Months Ended March 31, 2023|\\n|---|---|---|\\n|Net income|$12,369|$5,709|\\n|Adjustments to reconcile net income to net cash provided by operating activities:| | |\\n|Depreciation and amortization|3,374|2,524|\\n|Share-based compensation|3,562|3,051|\\n|Deferred income taxes|-456|-620|\\n|Impairment charges for facilities consolidation, net|240|770|\\n|Other|-66|-7|\\n|Changes in assets and liabilities:| | |\\n|Accounts receivable|2,520|2,546|\\n|Prepaid expenses and other current assets|100|821|\\n|Other assets|-94|30|\\n|Accounts payable|-1,112|-1,104|\\n|Accrued expenses and other current liabilities|-1,274|94|\\n|Other liabilities|83|184|\\n|Net cash provided by operating activities|19,246|13,998|\\n|Cash flows from investing activities| | |\\n|Purchases of property and equipment, net|-6,400|-6,823|\\n|Purchases of marketable debt securities|-6,887|-85|\\n|Sales and maturities of marketable debt securities|4,625|534|\\n|Acquisitions of businesses and intangible assets|-72|-444|\\n|Other investing activities| |75|\\n|Net cash used in investing activities|-8,734|-6,743|\\n|Cash flows from financing activities| | |\\n|Taxes paid related to net share settlement of equity awards|-3,162|-1,009|\\n|Repurchases of Class A common stock|-15,008|-9,365|\\n|Dividends payments|-1,273|0|\\n|Principal payments on finance leases|-315|-264|\\n|Other financing activities|-9|122|\\n|Net cash used in financing activities|-19,767|-10,516|\\n|Effect of exchange rate changes on cash, cash equivalents, and restricted cash|-288|85|\\n|Net decrease in cash, cash equivalents, and restricted cash|-9,543|-3,176|\\n|Cash, cash equivalents, and restricted cash at beginning of the period|42,827|15,596|\\n|Cash, cash equivalents, and restricted cash at end of the period|$33,284|$12,420|\\n\\n# Reconciliation of cash, cash equivalents, and restricted cash to the condensed consolidated balance sheets\\n\\n|Cash and cash equivalents|$32,307|$11,551|\\n|---|---|---|\\n|Restricted cash, included in prepaid expenses and other current assets|84|224|\\n|Restricted cash, included in other assets|893|645|\\n|Total cash, cash equivalents, and restricted cash|$33,284|$12,420|\\n---\\n| |Three Months Ended March 31, 2024|Three Months Ended March 31, 2023|\\n|---|---|---|\\n|Cash paid for income taxes, net|$630|$405|\\n|Cash paid for interest, net of amounts capitalized|$121|$182|\\n|Non-cash investing and financing activities:| | |\\n|Property and equipment in accounts payable and accrued expenses and other current liabilities|$4,217|$4,466|\\n|Acquisition of businesses in accrued expenses and other current liabilities and other liabilities|$116|$263|\\n---\\n# Segment Results\\n\\nWe report our financial results for our two reportable segments: Family of Apps (FoA) and Reality Labs (RL). FoA includes Facebook, Instagram, Messenger, WhatsApp, and other services. RL includes our virtual, augmented, and mixed reality related consumer hardware, software, and content.\\n\\n**Segment Information**\\n| |(In millions)|(In millions)|\\n|---|---|\\n| |Three Months Ended March 31, 2024|Three Months Ended March 31, 2023|\\n|Revenue:|$35,635|$28,101|\\n|Advertising| | |\\n|Other revenue|$380|$205|\\n|Family of Apps|$36,015|$28,306|\\n|Reality Labs|$440|$339|\\n|Total revenue|$36,455|$28,645|\\n|Income (loss) from operations:|$17,664|$11,219|\\n|Family of Apps| | |\\n|Reality Labs|($3,846)|($3,992)|\\n|Total income from operations|$13,818|$7,227|\\n---\\n# Reconciliation of GAAP to Non-GAAP Results\\n\\n| |Three Months Ended March 31, 2024|Three Months Ended March 31, 2023|\\n|---|---|---|\\n|GAAP revenue|$36,455|$28,645|\\n|Foreign exchange effect on 2024 revenue using 2023 rates|($106)| |\\n|Revenue excluding foreign exchange effect|$36,349| |\\n|GAAP revenue year-over-year change %|27%| |\\n|Revenue excluding foreign exchange effect year-over-year change %|27%| |\\n|GAAP advertising revenue|$35,635|$28,101|\\n|Foreign exchange effect on 2024 advertising revenue using 2023 rates|($105)| |\\n|Advertising revenue excluding foreign exchange effect|$35,530| |\\n|GAAP advertising revenue year-over-year change %|27%| |\\n|Advertising revenue excluding foreign exchange effect year-over-year change %|26%| |\\n\\n| | | |\\n|---|---|---|\\n|Net cash provided by operating activities|$19,246|$13,998|\\n|Purchases of property and equipment, net|($6,400)|($6,823)|\\n|Principal payments on finance leases|($315)|($264)|\\n|Free cash flow|$12,531|$6,911|', start_char_idx=None, end_char_idx=None, text_template='{metadata_str}\\n\\n{content}', metadata_template='{key}: {value}', metadata_seperator='\\n')]"
            ]
          },
          "metadata": {},
          "execution_count": 6
        }
      ]
    },
    {
      "cell_type": "code",
      "source": [
        "parsed_doc = llama_parse_documents[0]\n",
        "parsed_doc"
      ],
      "metadata": {
        "id": "tTm_9yk_nMD8",
        "colab": {
          "base_uri": "https://localhost:8080/"
        },
        "outputId": "de974c2d-b4ed-4789-d024-bbfb1b1a4b24"
      },
      "execution_count": null,
      "outputs": [
        {
          "output_type": "execute_result",
          "data": {
            "text/plain": [
              "Document(id_='33c15ed1-7533-4541-b972-1108a0dbe8dc', embedding=None, metadata={'file_path': './data/meta-earnings.pdf'}, excluded_embed_metadata_keys=[], excluded_llm_metadata_keys=[], relationships={}, text='# Meta Reports First Quarter 2024 Results\\n\\nMENLO PARK, Calif. – April 24, 2024 – Meta Platforms, Inc. (Nasdaq: META) today reported financial results for the quarter ended March 31, 2024.\\n\\n\"It\\'s been a good start to the year,\" said Mark Zuckerberg, Meta founder and CEO. \"The new version of Meta AI with Llama 3 is another step towards building the world\\'s leading AI. We\\'re seeing healthy growth across our apps and we continue making steady progress building the metaverse as well.\"\\n\\n# First Quarter 2024 Financial Highlights\\n\\n|In millions, except percentages and per share amounts|Three Months Ended March 31,|2024|2023|% Change|\\n|---|---|---|---|---|\\n|Revenue|$36,455|$28,645|27%| |\\n|Costs and expenses|$22,637|$21,418|6%| |\\n|Income from operations|$13,818|$7,227|91%| |\\n|Operating margin|38%|25%| | |\\n|Provision for income taxes|$1,814|$1,598|14%| |\\n|Effective tax rate|13%|22%| | |\\n|Net income|$12,369|$5,709|117%| |\\n|Diluted earnings per share (EPS)|$4.71|$2.20|114%| |\\n\\n# First Quarter 2024 Operational and Other Financial Highlights\\n\\n- Family daily active people (DAP) – DAP was 3.24 billion on average for March 2024, an increase of 7% year-over-year.\\n- Ad impressions – Ad impressions delivered across our Family of Apps increased by 20% year-over-year.\\n- Average price per ad – Average price per ad increased by 6% year-over-year.\\n- Revenue – Total revenue and revenue on a constant currency basis were $36.46 billion and $36.35 billion, respectively, both of which increased by 27% year-over-year.\\n- Costs and expenses – Total costs and expenses were $22.64 billion, an increase of 6% year-over-year.\\n- Capital expenditures – Capital expenditures, including principal payments on finance leases, were $6.72 billion.\\n- Capital return program – Share repurchases were $14.64 billion of our Class A common stock and dividends payments were $1.27 billion.\\n- Cash, cash equivalents, and marketable securities – Cash, cash equivalents, and marketable securities were $58.12 billion as of March 31, 2024. Free cash flow was $12.53 billion.\\n- Headcount – Headcount was 69,329 as of March 31, 2024, a decrease of 10% year-over-year.\\n---\\n# CFO Outlook Commentary\\n\\nWe expect second quarter 2024 total revenue to be in the range of $36.5-39 billion. Our guidance assumes foreign currency is a 1% headwind to year-over-year total revenue growth, based on current exchange rates.\\n\\nWe expect full-year 2024 total expenses to be in the range of $96-99 billion, updated from our prior outlook of $94-99 billion due to higher infrastructure and legal costs. For Reality Labs, we continue to expect operating losses to increase meaningfully year-over-year due to our ongoing product development efforts and our investments to further scale our ecosystem.\\n\\nWe anticipate our full-year 2024 capital expenditures will be in the range of $35-40 billion, increased from our prior range of $30-37 billion as we continue to accelerate our infrastructure investments to support our artificial intelligence (AI) roadmap. While we are not providing guidance for years beyond 2024, we expect capital expenditures will continue to increase next year as we invest aggressively to support our ambitious AI research and product development efforts.\\n\\nAbsent any changes to our tax landscape, we expect our full-year 2024 tax rate to be in the mid-teens.\\n\\nIn addition, we continue to monitor an active regulatory landscape, including the increasing legal and regulatory headwinds in the EU and the U.S. that could significantly impact our business and our financial results.\\n\\nQ1 was a good start to the year. We\\'re seeing strong momentum within our Family of Apps and are making important progress on our longer-term AI and Reality Labs initiatives that have the potential to transform the way people interact with our services over the coming years.\\n---\\n# Webcast and Conference Call Information\\n\\nMeta will host a conference call to discuss the results at 2:00 p.m. PT / 5:00 p.m. ET today. The live webcast of Meta\\'s earnings conference call can be accessed at investor.fb.com, along with the earnings press release, financial tables, and slide presentation. Meta uses the investor.fb.com and about.fb.com/news/ websites as well as Mark Zuckerberg\\'s Facebook Page (facebook.com/zuck), Instagram account (instagram.com/zuck), and Threads profile (threads.net/zuck) as means of disclosing material non-public information and for complying with its disclosure obligations under Regulation FD.\\n\\nFollowing the call, a replay will be available at the same website. Transcripts of conference calls with publishing equity research analysts held today will also be posted to the investor.fb.com website.\\n\\n# About Meta\\n\\nMeta builds technologies that help people connect, find communities, and grow businesses. When Facebook launched in 2004, it changed the way people connect. Apps like Messenger, Instagram, and WhatsApp further empowered billions around the world. Now, Meta is moving beyond 2D screens toward immersive experiences like augmented and virtual reality to help build the next evolution in social technology.\\n\\n# Contacts\\n\\nInvestors:\\nKenneth Dorell\\ninvestor@meta.com / investor.fb.com\\n\\nPress:\\nRyan Moore\\npress@meta.com / about.fb.com/news/\\n---\\nForward-Looking Statements\\n\\nThis press release contains forward-looking statements regarding our future business plans and expectations. These forward-looking statements are only predictions and may differ materially from actual results due to a variety of factors including: the impact of macroeconomic conditions on our business and financial results, including as a result of geopolitical events; our ability to retain or increase users and engagement levels; our reliance on advertising revenue; our dependency on data signals and mobile operating systems, networks, and standards that we do not control; changes to the content or application of third-party policies that impact our advertising practices; risks associated with new products and changes to existing products as well as other new business initiatives, including our artificial intelligence initiatives and metaverse efforts; our emphasis on community growth and engagement and the user experience over short-term financial results; maintaining and enhancing our brand and reputation; our ongoing privacy, safety, security, and content review efforts; competition; risks associated with government actions that could restrict access to our products or impair our ability to sell advertising in certain countries; litigation and government inquiries; privacy, legislative, and regulatory concerns or developments; risks associated with acquisitions; security breaches; our ability to manage our scale and geographically-dispersed operations; and market conditions or other factors affecting the payment of dividends. These and other potential risks and uncertainties that could cause actual results to differ from the results predicted are more fully detailed under the caption \"Risk Factors\" in our Annual Report on Form 10-K filed with the SEC on February 2, 2024, which is available on our Investor Relations website at investor.fb.com and on the SEC website at www.sec.gov. Additional information will also be set forth in our Quarterly Report on Form 10-Q for the quarter ended March 31, 2024. In addition, please note that the date of this press release is April 24, 2024, and any forward-looking statements contained herein are based on assumptions that we believe to be reasonable as of this date. We undertake no obligation to update these statements as a result of new information or future events.\\n\\nFor a discussion of limitations in the measurement of certain of our community metrics, see the section entitled \"Limitations of Key Metrics and Other Data\" in our most recent quarterly or annual report filed with the SEC.\\n\\nNon-GAAP Financial Measures\\n\\nTo supplement our condensed consolidated financial statements, which are prepared and presented in accordance with generally accepted accounting principles in the United States (GAAP), we use the following non-GAAP financial measures: revenue excluding foreign exchange effect, advertising revenue excluding foreign exchange effect, and free cash flow. The presentation of these financial measures is not intended to be considered in isolation or as a substitute for, or superior to, financial information prepared and presented in accordance with GAAP. Investors are cautioned that there are material limitations associated with the use of non-GAAP financial measures as an analytical tool. In addition, these measures may be different from non-GAAP financial measures used by other companies, limiting their usefulness for comparison purposes. We compensate for these limitations by providing specific information regarding the GAAP amounts excluded from these non-GAAP financial measures.\\n\\nWe believe these non-GAAP financial measures provide investors with useful supplemental information about the financial performance of our business, enable comparison of financial results between periods where certain items may vary independent of business performance, and allow for greater transparency with respect to key metrics used by management in operating our business.\\n\\nOur non-GAAP financial measures are adjusted for the following items:\\n\\nForeign exchange effect on revenue. We translated revenue for the three months ended March 31, 2024 using the prior year\\'s monthly exchange rates for our settlement or billing currencies other than the U.S. dollar, which we believe is a useful metric that facilitates comparison to our historical performance.\\n\\nPurchases of property and equipment; Principal payments on finance leases. We subtract both purchases of property and equipment, net of proceeds and principal payments on finance leases in our calculation of free cash flow because we believe that these two items collectively represent the amount of property and equipment we need to procure to support our business, regardless of whether we procure such property or equipment with a finance lease. We believe that this methodology can provide useful supplemental information to help investors better understand underlying trends in our business. Free cash flow is not intended to represent our residual cash flow available for discretionary expenditures.\\n\\nFor more information on our non-GAAP financial measures and a reconciliation of GAAP to non-GAAP measures, please see the \"Reconciliation of GAAP to Non-GAAP Results\" table in this press release.\\n\\n4\\n---\\n# META PLATFORMS, INC.\\n\\n# CONDENSED CONSOLIDATED STATEMENTS OF INCOME\\n\\n(In millions, except per share amounts)\\n\\n(Unaudited)\\n\\n| |Three Months Ended March 31, 2024|Three Months Ended March 31, 2023|\\n|---|---|---|\\n|Revenue|$36,455|$28,645|\\n|Costs and expenses:| | |\\n|Cost of revenue|6,640|6,108|\\n|Research and development|9,978|9,381|\\n|Marketing and sales|2,564|3,044|\\n|General and administrative|3,455|2,885|\\n|Total costs and expenses|22,637|21,418|\\n|Income from operations|13,818|7,227|\\n|Interest and other income, net|365|80|\\n|Income before provision for income taxes|14,183|7,307|\\n|Provision for income taxes|1,814|1,598|\\n|Net income|$12,369|$5,709|\\n|Earnings per share:| | |\\n|Basic|$4.86|$2.21|\\n|Diluted|$4.71|$2.20|\\n|Weighted-average shares used to compute earnings per share:| | |\\n|Basic|2,545|2,587|\\n|Diluted|2,625|2,596|\\n---\\n# META PLATFORMS, INC.\\n\\n# CONDENSED CONSOLIDATED BALANCE SHEETS\\n\\n(In millions)\\n\\n(Unaudited)\\n\\n| |March 31, 2024|December 31, 2023|\\n|---|---|---|\\n|Assets| | |\\n|Current assets:| | |\\n|Cash and cash equivalents|$32,307|$41,862|\\n|Marketable securities|25,813|23,541|\\n|Accounts receivable, net|13,430|16,169|\\n|Prepaid expenses and other current assets|3,780|3,793|\\n|Total current assets|75,330|85,365|\\n|Non-marketable equity securities|6,218|6,141|\\n|Property and equipment, net|98,908|96,587|\\n|Operating lease right-of-use assets|13,555|13,294|\\n|Goodwill|20,654|20,654|\\n|Other assets|8,179|7,582|\\n|Total assets|$222,844|$229,623|\\n\\n|Liabilities and stockholders\\' equity| | |\\n|---|---|---|\\n|Current liabilities:| | |\\n|Accounts payable|$3,785|$4,849|\\n|Operating lease liabilities, current|1,676|1,623|\\n|Accrued expenses and other current liabilities|22,640|25,488|\\n|Total current liabilities|28,101|31,960|\\n|Operating lease liabilities, non-current|17,570|17,226|\\n|Long-term debt|18,387|18,385|\\n|Long-term income taxes|7,795|7,514|\\n|Other liabilities|1,462|1,370|\\n|Total liabilities|73,315|76,455|\\n|Commitments and contingencies| | |\\n|Stockholders\\' equity:| | |\\n|Common stock and additional paid-in capital|75,391|73,253|\\n|Accumulated other comprehensive loss|(2,655)|(2,155)|\\n|Retained earnings|76,793|82,070|\\n|Total stockholders\\' equity|149,529|153,168|\\n|Total liabilities and stockholders\\' equity|$222,844|$229,623|\\n---\\n# CONDENSED CONSOLIDATED STATEMENTS OF CASH FLOWS\\n\\n| |Three Months Ended March 31, 2024|Three Months Ended March 31, 2023|\\n|---|---|---|\\n|Net income|$12,369|$5,709|\\n|Adjustments to reconcile net income to net cash provided by operating activities:| | |\\n|Depreciation and amortization|3,374|2,524|\\n|Share-based compensation|3,562|3,051|\\n|Deferred income taxes|-456|-620|\\n|Impairment charges for facilities consolidation, net|240|770|\\n|Other|-66|-7|\\n|Changes in assets and liabilities:| | |\\n|Accounts receivable|2,520|2,546|\\n|Prepaid expenses and other current assets|100|821|\\n|Other assets|-94|30|\\n|Accounts payable|-1,112|-1,104|\\n|Accrued expenses and other current liabilities|-1,274|94|\\n|Other liabilities|83|184|\\n|Net cash provided by operating activities|19,246|13,998|\\n|Cash flows from investing activities| | |\\n|Purchases of property and equipment, net|-6,400|-6,823|\\n|Purchases of marketable debt securities|-6,887|-85|\\n|Sales and maturities of marketable debt securities|4,625|534|\\n|Acquisitions of businesses and intangible assets|-72|-444|\\n|Other investing activities| |75|\\n|Net cash used in investing activities|-8,734|-6,743|\\n|Cash flows from financing activities| | |\\n|Taxes paid related to net share settlement of equity awards|-3,162|-1,009|\\n|Repurchases of Class A common stock|-15,008|-9,365|\\n|Dividends payments|-1,273|0|\\n|Principal payments on finance leases|-315|-264|\\n|Other financing activities|-9|122|\\n|Net cash used in financing activities|-19,767|-10,516|\\n|Effect of exchange rate changes on cash, cash equivalents, and restricted cash|-288|85|\\n|Net decrease in cash, cash equivalents, and restricted cash|-9,543|-3,176|\\n|Cash, cash equivalents, and restricted cash at beginning of the period|42,827|15,596|\\n|Cash, cash equivalents, and restricted cash at end of the period|$33,284|$12,420|\\n\\n# Reconciliation of cash, cash equivalents, and restricted cash to the condensed consolidated balance sheets\\n\\n|Cash and cash equivalents|$32,307|$11,551|\\n|---|---|---|\\n|Restricted cash, included in prepaid expenses and other current assets|84|224|\\n|Restricted cash, included in other assets|893|645|\\n|Total cash, cash equivalents, and restricted cash|$33,284|$12,420|\\n---\\n| |Three Months Ended March 31, 2024|Three Months Ended March 31, 2023|\\n|---|---|---|\\n|Cash paid for income taxes, net|$630|$405|\\n|Cash paid for interest, net of amounts capitalized|$121|$182|\\n|Non-cash investing and financing activities:| | |\\n|Property and equipment in accounts payable and accrued expenses and other current liabilities|$4,217|$4,466|\\n|Acquisition of businesses in accrued expenses and other current liabilities and other liabilities|$116|$263|\\n---\\n# Segment Results\\n\\nWe report our financial results for our two reportable segments: Family of Apps (FoA) and Reality Labs (RL). FoA includes Facebook, Instagram, Messenger, WhatsApp, and other services. RL includes our virtual, augmented, and mixed reality related consumer hardware, software, and content.\\n\\n**Segment Information**\\n| |(In millions)|(In millions)|\\n|---|---|\\n| |Three Months Ended March 31, 2024|Three Months Ended March 31, 2023|\\n|Revenue:|$35,635|$28,101|\\n|Advertising| | |\\n|Other revenue|$380|$205|\\n|Family of Apps|$36,015|$28,306|\\n|Reality Labs|$440|$339|\\n|Total revenue|$36,455|$28,645|\\n|Income (loss) from operations:|$17,664|$11,219|\\n|Family of Apps| | |\\n|Reality Labs|($3,846)|($3,992)|\\n|Total income from operations|$13,818|$7,227|\\n---\\n# Reconciliation of GAAP to Non-GAAP Results\\n\\n| |Three Months Ended March 31, 2024|Three Months Ended March 31, 2023|\\n|---|---|---|\\n|GAAP revenue|$36,455|$28,645|\\n|Foreign exchange effect on 2024 revenue using 2023 rates|($106)| |\\n|Revenue excluding foreign exchange effect|$36,349| |\\n|GAAP revenue year-over-year change %|27%| |\\n|Revenue excluding foreign exchange effect year-over-year change %|27%| |\\n|GAAP advertising revenue|$35,635|$28,101|\\n|Foreign exchange effect on 2024 advertising revenue using 2023 rates|($105)| |\\n|Advertising revenue excluding foreign exchange effect|$35,530| |\\n|GAAP advertising revenue year-over-year change %|27%| |\\n|Advertising revenue excluding foreign exchange effect year-over-year change %|26%| |\\n\\n| | | |\\n|---|---|---|\\n|Net cash provided by operating activities|$19,246|$13,998|\\n|Purchases of property and equipment, net|($6,400)|($6,823)|\\n|Principal payments on finance leases|($315)|($264)|\\n|Free cash flow|$12,531|$6,911|', start_char_idx=None, end_char_idx=None, text_template='{metadata_str}\\n\\n{content}', metadata_template='{key}: {value}', metadata_seperator='\\n')"
            ]
          },
          "metadata": {},
          "execution_count": 7
        }
      ]
    },
    {
      "cell_type": "code",
      "source": [
        "parsed_doc.text"
      ],
      "metadata": {
        "colab": {
          "base_uri": "https://localhost:8080/",
          "height": 140
        },
        "id": "M9LZ12aC62rJ",
        "outputId": "ec1e8231-ccf9-4aa1-a0cc-e3cc4e5f264a"
      },
      "execution_count": null,
      "outputs": [
        {
          "output_type": "execute_result",
          "data": {
            "text/plain": [
              "'# Meta Reports First Quarter 2024 Results\\n\\nMENLO PARK, Calif. – April 24, 2024 – Meta Platforms, Inc. (Nasdaq: META) today reported financial results for the quarter ended March 31, 2024.\\n\\n\"It\\'s been a good start to the year,\" said Mark Zuckerberg, Meta founder and CEO. \"The new version of Meta AI with Llama 3 is another step towards building the world\\'s leading AI. We\\'re seeing healthy growth across our apps and we continue making steady progress building the metaverse as well.\"\\n\\n# First Quarter 2024 Financial Highlights\\n\\n|In millions, except percentages and per share amounts|Three Months Ended March 31,|2024|2023|% Change|\\n|---|---|---|---|---|\\n|Revenue|$36,455|$28,645|27%| |\\n|Costs and expenses|$22,637|$21,418|6%| |\\n|Income from operations|$13,818|$7,227|91%| |\\n|Operating margin|38%|25%| | |\\n|Provision for income taxes|$1,814|$1,598|14%| |\\n|Effective tax rate|13%|22%| | |\\n|Net income|$12,369|$5,709|117%| |\\n|Diluted earnings per share (EPS)|$4.71|$2.20|114%| |\\n\\n# First Quarter 2024 Operational and Other Financial Highlights\\n\\n- Family daily active people (DAP) – DAP was 3.24 billion on average for March 2024, an increase of 7% year-over-year.\\n- Ad impressions – Ad impressions delivered across our Family of Apps increased by 20% year-over-year.\\n- Average price per ad – Average price per ad increased by 6% year-over-year.\\n- Revenue – Total revenue and revenue on a constant currency basis were $36.46 billion and $36.35 billion, respectively, both of which increased by 27% year-over-year.\\n- Costs and expenses – Total costs and expenses were $22.64 billion, an increase of 6% year-over-year.\\n- Capital expenditures – Capital expenditures, including principal payments on finance leases, were $6.72 billion.\\n- Capital return program – Share repurchases were $14.64 billion of our Class A common stock and dividends payments were $1.27 billion.\\n- Cash, cash equivalents, and marketable securities – Cash, cash equivalents, and marketable securities were $58.12 billion as of March 31, 2024. Free cash flow was $12.53 billion.\\n- Headcount – Headcount was 69,329 as of March 31, 2024, a decrease of 10% year-over-year.\\n---\\n# CFO Outlook Commentary\\n\\nWe expect second quarter 2024 total revenue to be in the range of $36.5-39 billion. Our guidance assumes foreign currency is a 1% headwind to year-over-year total revenue growth, based on current exchange rates.\\n\\nWe expect full-year 2024 total expenses to be in the range of $96-99 billion, updated from our prior outlook of $94-99 billion due to higher infrastructure and legal costs. For Reality Labs, we continue to expect operating losses to increase meaningfully year-over-year due to our ongoing product development efforts and our investments to further scale our ecosystem.\\n\\nWe anticipate our full-year 2024 capital expenditures will be in the range of $35-40 billion, increased from our prior range of $30-37 billion as we continue to accelerate our infrastructure investments to support our artificial intelligence (AI) roadmap. While we are not providing guidance for years beyond 2024, we expect capital expenditures will continue to increase next year as we invest aggressively to support our ambitious AI research and product development efforts.\\n\\nAbsent any changes to our tax landscape, we expect our full-year 2024 tax rate to be in the mid-teens.\\n\\nIn addition, we continue to monitor an active regulatory landscape, including the increasing legal and regulatory headwinds in the EU and the U.S. that could significantly impact our business and our financial results.\\n\\nQ1 was a good start to the year. We\\'re seeing strong momentum within our Family of Apps and are making important progress on our longer-term AI and Reality Labs initiatives that have the potential to transform the way people interact with our services over the coming years.\\n---\\n# Webcast and Conference Call Information\\n\\nMeta will host a conference call to discuss the results at 2:00 p.m. PT / 5:00 p.m. ET today. The live webcast of Meta\\'s earnings conference call can be accessed at investor.fb.com, along with the earnings press release, financial tables, and slide presentation. Meta uses the investor.fb.com and about.fb.com/news/ websites as well as Mark Zuckerberg\\'s Facebook Page (facebook.com/zuck), Instagram account (instagram.com/zuck), and Threads profile (threads.net/zuck) as means of disclosing material non-public information and for complying with its disclosure obligations under Regulation FD.\\n\\nFollowing the call, a replay will be available at the same website. Transcripts of conference calls with publishing equity research analysts held today will also be posted to the investor.fb.com website.\\n\\n# About Meta\\n\\nMeta builds technologies that help people connect, find communities, and grow businesses. When Facebook launched in 2004, it changed the way people connect. Apps like Messenger, Instagram, and WhatsApp further empowered billions around the world. Now, Meta is moving beyond 2D screens toward immersive experiences like augmented and virtual reality to help build the next evolution in social technology.\\n\\n# Contacts\\n\\nInvestors:\\nKenneth Dorell\\ninvestor@meta.com / investor.fb.com\\n\\nPress:\\nRyan Moore\\npress@meta.com / about.fb.com/news/\\n---\\nForward-Looking Statements\\n\\nThis press release contains forward-looking statements regarding our future business plans and expectations. These forward-looking statements are only predictions and may differ materially from actual results due to a variety of factors including: the impact of macroeconomic conditions on our business and financial results, including as a result of geopolitical events; our ability to retain or increase users and engagement levels; our reliance on advertising revenue; our dependency on data signals and mobile operating systems, networks, and standards that we do not control; changes to the content or application of third-party policies that impact our advertising practices; risks associated with new products and changes to existing products as well as other new business initiatives, including our artificial intelligence initiatives and metaverse efforts; our emphasis on community growth and engagement and the user experience over short-term financial results; maintaining and enhancing our brand and reputation; our ongoing privacy, safety, security, and content review efforts; competition; risks associated with government actions that could restrict access to our products or impair our ability to sell advertising in certain countries; litigation and government inquiries; privacy, legislative, and regulatory concerns or developments; risks associated with acquisitions; security breaches; our ability to manage our scale and geographically-dispersed operations; and market conditions or other factors affecting the payment of dividends. These and other potential risks and uncertainties that could cause actual results to differ from the results predicted are more fully detailed under the caption \"Risk Factors\" in our Annual Report on Form 10-K filed with the SEC on February 2, 2024, which is available on our Investor Relations website at investor.fb.com and on the SEC website at www.sec.gov. Additional information will also be set forth in our Quarterly Report on Form 10-Q for the quarter ended March 31, 2024. In addition, please note that the date of this press release is April 24, 2024, and any forward-looking statements contained herein are based on assumptions that we believe to be reasonable as of this date. We undertake no obligation to update these statements as a result of new information or future events.\\n\\nFor a discussion of limitations in the measurement of certain of our community metrics, see the section entitled \"Limitations of Key Metrics and Other Data\" in our most recent quarterly or annual report filed with the SEC.\\n\\nNon-GAAP Financial Measures\\n\\nTo supplement our condensed consolidated financial statements, which are prepared and presented in accordance with generally accepted accounting principles in the United States (GAAP), we use the following non-GAAP financial measures: revenue excluding foreign exchange effect, advertising revenue excluding foreign exchange effect, and free cash flow. The presentation of these financial measures is not intended to be considered in isolation or as a substitute for, or superior to, financial information prepared and presented in accordance with GAAP. Investors are cautioned that there are material limitations associated with the use of non-GAAP financial measures as an analytical tool. In addition, these measures may be different from non-GAAP financial measures used by other companies, limiting their usefulness for comparison purposes. We compensate for these limitations by providing specific information regarding the GAAP amounts excluded from these non-GAAP financial measures.\\n\\nWe believe these non-GAAP financial measures provide investors with useful supplemental information about the financial performance of our business, enable comparison of financial results between periods where certain items may vary independent of business performance, and allow for greater transparency with respect to key metrics used by management in operating our business.\\n\\nOur non-GAAP financial measures are adjusted for the following items:\\n\\nForeign exchange effect on revenue. We translated revenue for the three months ended March 31, 2024 using the prior year\\'s monthly exchange rates for our settlement or billing currencies other than the U.S. dollar, which we believe is a useful metric that facilitates comparison to our historical performance.\\n\\nPurchases of property and equipment; Principal payments on finance leases. We subtract both purchases of property and equipment, net of proceeds and principal payments on finance leases in our calculation of free cash flow because we believe that these two items collectively represent the amount of property and equipment we need to procure to support our business, regardless of whether we procure such property or equipment with a finance lease. We believe that this methodology can provide useful supplemental information to help investors better understand underlying trends in our business. Free cash flow is not intended to represent our residual cash flow available for discretionary expenditures.\\n\\nFor more information on our non-GAAP financial measures and a reconciliation of GAAP to non-GAAP measures, please see the \"Reconciliation of GAAP to Non-GAAP Results\" table in this press release.\\n\\n4\\n---\\n# META PLATFORMS, INC.\\n\\n# CONDENSED CONSOLIDATED STATEMENTS OF INCOME\\n\\n(In millions, except per share amounts)\\n\\n(Unaudited)\\n\\n| |Three Months Ended March 31, 2024|Three Months Ended March 31, 2023|\\n|---|---|---|\\n|Revenue|$36,455|$28,645|\\n|Costs and expenses:| | |\\n|Cost of revenue|6,640|6,108|\\n|Research and development|9,978|9,381|\\n|Marketing and sales|2,564|3,044|\\n|General and administrative|3,455|2,885|\\n|Total costs and expenses|22,637|21,418|\\n|Income from operations|13,818|7,227|\\n|Interest and other income, net|365|80|\\n|Income before provision for income taxes|14,183|7,307|\\n|Provision for income taxes|1,814|1,598|\\n|Net income|$12,369|$5,709|\\n|Earnings per share:| | |\\n|Basic|$4.86|$2.21|\\n|Diluted|$4.71|$2.20|\\n|Weighted-average shares used to compute earnings per share:| | |\\n|Basic|2,545|2,587|\\n|Diluted|2,625|2,596|\\n---\\n# META PLATFORMS, INC.\\n\\n# CONDENSED CONSOLIDATED BALANCE SHEETS\\n\\n(In millions)\\n\\n(Unaudited)\\n\\n| |March 31, 2024|December 31, 2023|\\n|---|---|---|\\n|Assets| | |\\n|Current assets:| | |\\n|Cash and cash equivalents|$32,307|$41,862|\\n|Marketable securities|25,813|23,541|\\n|Accounts receivable, net|13,430|16,169|\\n|Prepaid expenses and other current assets|3,780|3,793|\\n|Total current assets|75,330|85,365|\\n|Non-marketable equity securities|6,218|6,141|\\n|Property and equipment, net|98,908|96,587|\\n|Operating lease right-of-use assets|13,555|13,294|\\n|Goodwill|20,654|20,654|\\n|Other assets|8,179|7,582|\\n|Total assets|$222,844|$229,623|\\n\\n|Liabilities and stockholders\\' equity| | |\\n|---|---|---|\\n|Current liabilities:| | |\\n|Accounts payable|$3,785|$4,849|\\n|Operating lease liabilities, current|1,676|1,623|\\n|Accrued expenses and other current liabilities|22,640|25,488|\\n|Total current liabilities|28,101|31,960|\\n|Operating lease liabilities, non-current|17,570|17,226|\\n|Long-term debt|18,387|18,385|\\n|Long-term income taxes|7,795|7,514|\\n|Other liabilities|1,462|1,370|\\n|Total liabilities|73,315|76,455|\\n|Commitments and contingencies| | |\\n|Stockholders\\' equity:| | |\\n|Common stock and additional paid-in capital|75,391|73,253|\\n|Accumulated other comprehensive loss|(2,655)|(2,155)|\\n|Retained earnings|76,793|82,070|\\n|Total stockholders\\' equity|149,529|153,168|\\n|Total liabilities and stockholders\\' equity|$222,844|$229,623|\\n---\\n# CONDENSED CONSOLIDATED STATEMENTS OF CASH FLOWS\\n\\n| |Three Months Ended March 31, 2024|Three Months Ended March 31, 2023|\\n|---|---|---|\\n|Net income|$12,369|$5,709|\\n|Adjustments to reconcile net income to net cash provided by operating activities:| | |\\n|Depreciation and amortization|3,374|2,524|\\n|Share-based compensation|3,562|3,051|\\n|Deferred income taxes|-456|-620|\\n|Impairment charges for facilities consolidation, net|240|770|\\n|Other|-66|-7|\\n|Changes in assets and liabilities:| | |\\n|Accounts receivable|2,520|2,546|\\n|Prepaid expenses and other current assets|100|821|\\n|Other assets|-94|30|\\n|Accounts payable|-1,112|-1,104|\\n|Accrued expenses and other current liabilities|-1,274|94|\\n|Other liabilities|83|184|\\n|Net cash provided by operating activities|19,246|13,998|\\n|Cash flows from investing activities| | |\\n|Purchases of property and equipment, net|-6,400|-6,823|\\n|Purchases of marketable debt securities|-6,887|-85|\\n|Sales and maturities of marketable debt securities|4,625|534|\\n|Acquisitions of businesses and intangible assets|-72|-444|\\n|Other investing activities| |75|\\n|Net cash used in investing activities|-8,734|-6,743|\\n|Cash flows from financing activities| | |\\n|Taxes paid related to net share settlement of equity awards|-3,162|-1,009|\\n|Repurchases of Class A common stock|-15,008|-9,365|\\n|Dividends payments|-1,273|0|\\n|Principal payments on finance leases|-315|-264|\\n|Other financing activities|-9|122|\\n|Net cash used in financing activities|-19,767|-10,516|\\n|Effect of exchange rate changes on cash, cash equivalents, and restricted cash|-288|85|\\n|Net decrease in cash, cash equivalents, and restricted cash|-9,543|-3,176|\\n|Cash, cash equivalents, and restricted cash at beginning of the period|42,827|15,596|\\n|Cash, cash equivalents, and restricted cash at end of the period|$33,284|$12,420|\\n\\n# Reconciliation of cash, cash equivalents, and restricted cash to the condensed consolidated balance sheets\\n\\n|Cash and cash equivalents|$32,307|$11,551|\\n|---|---|---|\\n|Restricted cash, included in prepaid expenses and other current assets|84|224|\\n|Restricted cash, included in other assets|893|645|\\n|Total cash, cash equivalents, and restricted cash|$33,284|$12,420|\\n---\\n| |Three Months Ended March 31, 2024|Three Months Ended March 31, 2023|\\n|---|---|---|\\n|Cash paid for income taxes, net|$630|$405|\\n|Cash paid for interest, net of amounts capitalized|$121|$182|\\n|Non-cash investing and financing activities:| | |\\n|Property and equipment in accounts payable and accrued expenses and other current liabilities|$4,217|$4,466|\\n|Acquisition of businesses in accrued expenses and other current liabilities and other liabilities|$116|$263|\\n---\\n# Segment Results\\n\\nWe report our financial results for our two reportable segments: Family of Apps (FoA) and Reality Labs (RL). FoA includes Facebook, Instagram, Messenger, WhatsApp, and other services. RL includes our virtual, augmented, and mixed reality related consumer hardware, software, and content.\\n\\n**Segment Information**\\n| |(In millions)|(In millions)|\\n|---|---|\\n| |Three Months Ended March 31, 2024|Three Months Ended March 31, 2023|\\n|Revenue:|$35,635|$28,101|\\n|Advertising| | |\\n|Other revenue|$380|$205|\\n|Family of Apps|$36,015|$28,306|\\n|Reality Labs|$440|$339|\\n|Total revenue|$36,455|$28,645|\\n|Income (loss) from operations:|$17,664|$11,219|\\n|Family of Apps| | |\\n|Reality Labs|($3,846)|($3,992)|\\n|Total income from operations|$13,818|$7,227|\\n---\\n# Reconciliation of GAAP to Non-GAAP Results\\n\\n| |Three Months Ended March 31, 2024|Three Months Ended March 31, 2023|\\n|---|---|---|\\n|GAAP revenue|$36,455|$28,645|\\n|Foreign exchange effect on 2024 revenue using 2023 rates|($106)| |\\n|Revenue excluding foreign exchange effect|$36,349| |\\n|GAAP revenue year-over-year change %|27%| |\\n|Revenue excluding foreign exchange effect year-over-year change %|27%| |\\n|GAAP advertising revenue|$35,635|$28,101|\\n|Foreign exchange effect on 2024 advertising revenue using 2023 rates|($105)| |\\n|Advertising revenue excluding foreign exchange effect|$35,530| |\\n|GAAP advertising revenue year-over-year change %|27%| |\\n|Advertising revenue excluding foreign exchange effect year-over-year change %|26%| |\\n\\n| | | |\\n|---|---|---|\\n|Net cash provided by operating activities|$19,246|$13,998|\\n|Purchases of property and equipment, net|($6,400)|($6,823)|\\n|Principal payments on finance leases|($315)|($264)|\\n|Free cash flow|$12,531|$6,911|'"
            ],
            "application/vnd.google.colaboratory.intrinsic+json": {
              "type": "string"
            }
          },
          "metadata": {},
          "execution_count": 8
        }
      ]
    },
    {
      "cell_type": "code",
      "source": [
        "Markdown(parsed_doc.text)"
      ],
      "metadata": {
        "colab": {
          "base_uri": "https://localhost:8080/",
          "height": 1000
        },
        "id": "u4us5iDJ6_up",
        "outputId": "f5d59986-f622-4427-abe7-2cfa8a215dea"
      },
      "execution_count": null,
      "outputs": [
        {
          "output_type": "execute_result",
          "data": {
            "text/plain": [
              "<IPython.core.display.Markdown object>"
            ],
            "text/markdown": "# Meta Reports First Quarter 2024 Results\n\nMENLO PARK, Calif. – April 24, 2024 – Meta Platforms, Inc. (Nasdaq: META) today reported financial results for the quarter ended March 31, 2024.\n\n\"It's been a good start to the year,\" said Mark Zuckerberg, Meta founder and CEO. \"The new version of Meta AI with Llama 3 is another step towards building the world's leading AI. We're seeing healthy growth across our apps and we continue making steady progress building the metaverse as well.\"\n\n# First Quarter 2024 Financial Highlights\n\n|In millions, except percentages and per share amounts|Three Months Ended March 31,|2024|2023|% Change|\n|---|---|---|---|---|\n|Revenue|$36,455|$28,645|27%| |\n|Costs and expenses|$22,637|$21,418|6%| |\n|Income from operations|$13,818|$7,227|91%| |\n|Operating margin|38%|25%| | |\n|Provision for income taxes|$1,814|$1,598|14%| |\n|Effective tax rate|13%|22%| | |\n|Net income|$12,369|$5,709|117%| |\n|Diluted earnings per share (EPS)|$4.71|$2.20|114%| |\n\n# First Quarter 2024 Operational and Other Financial Highlights\n\n- Family daily active people (DAP) – DAP was 3.24 billion on average for March 2024, an increase of 7% year-over-year.\n- Ad impressions – Ad impressions delivered across our Family of Apps increased by 20% year-over-year.\n- Average price per ad – Average price per ad increased by 6% year-over-year.\n- Revenue – Total revenue and revenue on a constant currency basis were $36.46 billion and $36.35 billion, respectively, both of which increased by 27% year-over-year.\n- Costs and expenses – Total costs and expenses were $22.64 billion, an increase of 6% year-over-year.\n- Capital expenditures – Capital expenditures, including principal payments on finance leases, were $6.72 billion.\n- Capital return program – Share repurchases were $14.64 billion of our Class A common stock and dividends payments were $1.27 billion.\n- Cash, cash equivalents, and marketable securities – Cash, cash equivalents, and marketable securities were $58.12 billion as of March 31, 2024. Free cash flow was $12.53 billion.\n- Headcount – Headcount was 69,329 as of March 31, 2024, a decrease of 10% year-over-year.\n---\n# CFO Outlook Commentary\n\nWe expect second quarter 2024 total revenue to be in the range of $36.5-39 billion. Our guidance assumes foreign currency is a 1% headwind to year-over-year total revenue growth, based on current exchange rates.\n\nWe expect full-year 2024 total expenses to be in the range of $96-99 billion, updated from our prior outlook of $94-99 billion due to higher infrastructure and legal costs. For Reality Labs, we continue to expect operating losses to increase meaningfully year-over-year due to our ongoing product development efforts and our investments to further scale our ecosystem.\n\nWe anticipate our full-year 2024 capital expenditures will be in the range of $35-40 billion, increased from our prior range of $30-37 billion as we continue to accelerate our infrastructure investments to support our artificial intelligence (AI) roadmap. While we are not providing guidance for years beyond 2024, we expect capital expenditures will continue to increase next year as we invest aggressively to support our ambitious AI research and product development efforts.\n\nAbsent any changes to our tax landscape, we expect our full-year 2024 tax rate to be in the mid-teens.\n\nIn addition, we continue to monitor an active regulatory landscape, including the increasing legal and regulatory headwinds in the EU and the U.S. that could significantly impact our business and our financial results.\n\nQ1 was a good start to the year. We're seeing strong momentum within our Family of Apps and are making important progress on our longer-term AI and Reality Labs initiatives that have the potential to transform the way people interact with our services over the coming years.\n---\n# Webcast and Conference Call Information\n\nMeta will host a conference call to discuss the results at 2:00 p.m. PT / 5:00 p.m. ET today. The live webcast of Meta's earnings conference call can be accessed at investor.fb.com, along with the earnings press release, financial tables, and slide presentation. Meta uses the investor.fb.com and about.fb.com/news/ websites as well as Mark Zuckerberg's Facebook Page (facebook.com/zuck), Instagram account (instagram.com/zuck), and Threads profile (threads.net/zuck) as means of disclosing material non-public information and for complying with its disclosure obligations under Regulation FD.\n\nFollowing the call, a replay will be available at the same website. Transcripts of conference calls with publishing equity research analysts held today will also be posted to the investor.fb.com website.\n\n# About Meta\n\nMeta builds technologies that help people connect, find communities, and grow businesses. When Facebook launched in 2004, it changed the way people connect. Apps like Messenger, Instagram, and WhatsApp further empowered billions around the world. Now, Meta is moving beyond 2D screens toward immersive experiences like augmented and virtual reality to help build the next evolution in social technology.\n\n# Contacts\n\nInvestors:\nKenneth Dorell\ninvestor@meta.com / investor.fb.com\n\nPress:\nRyan Moore\npress@meta.com / about.fb.com/news/\n---\nForward-Looking Statements\n\nThis press release contains forward-looking statements regarding our future business plans and expectations. These forward-looking statements are only predictions and may differ materially from actual results due to a variety of factors including: the impact of macroeconomic conditions on our business and financial results, including as a result of geopolitical events; our ability to retain or increase users and engagement levels; our reliance on advertising revenue; our dependency on data signals and mobile operating systems, networks, and standards that we do not control; changes to the content or application of third-party policies that impact our advertising practices; risks associated with new products and changes to existing products as well as other new business initiatives, including our artificial intelligence initiatives and metaverse efforts; our emphasis on community growth and engagement and the user experience over short-term financial results; maintaining and enhancing our brand and reputation; our ongoing privacy, safety, security, and content review efforts; competition; risks associated with government actions that could restrict access to our products or impair our ability to sell advertising in certain countries; litigation and government inquiries; privacy, legislative, and regulatory concerns or developments; risks associated with acquisitions; security breaches; our ability to manage our scale and geographically-dispersed operations; and market conditions or other factors affecting the payment of dividends. These and other potential risks and uncertainties that could cause actual results to differ from the results predicted are more fully detailed under the caption \"Risk Factors\" in our Annual Report on Form 10-K filed with the SEC on February 2, 2024, which is available on our Investor Relations website at investor.fb.com and on the SEC website at www.sec.gov. Additional information will also be set forth in our Quarterly Report on Form 10-Q for the quarter ended March 31, 2024. In addition, please note that the date of this press release is April 24, 2024, and any forward-looking statements contained herein are based on assumptions that we believe to be reasonable as of this date. We undertake no obligation to update these statements as a result of new information or future events.\n\nFor a discussion of limitations in the measurement of certain of our community metrics, see the section entitled \"Limitations of Key Metrics and Other Data\" in our most recent quarterly or annual report filed with the SEC.\n\nNon-GAAP Financial Measures\n\nTo supplement our condensed consolidated financial statements, which are prepared and presented in accordance with generally accepted accounting principles in the United States (GAAP), we use the following non-GAAP financial measures: revenue excluding foreign exchange effect, advertising revenue excluding foreign exchange effect, and free cash flow. The presentation of these financial measures is not intended to be considered in isolation or as a substitute for, or superior to, financial information prepared and presented in accordance with GAAP. Investors are cautioned that there are material limitations associated with the use of non-GAAP financial measures as an analytical tool. In addition, these measures may be different from non-GAAP financial measures used by other companies, limiting their usefulness for comparison purposes. We compensate for these limitations by providing specific information regarding the GAAP amounts excluded from these non-GAAP financial measures.\n\nWe believe these non-GAAP financial measures provide investors with useful supplemental information about the financial performance of our business, enable comparison of financial results between periods where certain items may vary independent of business performance, and allow for greater transparency with respect to key metrics used by management in operating our business.\n\nOur non-GAAP financial measures are adjusted for the following items:\n\nForeign exchange effect on revenue. We translated revenue for the three months ended March 31, 2024 using the prior year's monthly exchange rates for our settlement or billing currencies other than the U.S. dollar, which we believe is a useful metric that facilitates comparison to our historical performance.\n\nPurchases of property and equipment; Principal payments on finance leases. We subtract both purchases of property and equipment, net of proceeds and principal payments on finance leases in our calculation of free cash flow because we believe that these two items collectively represent the amount of property and equipment we need to procure to support our business, regardless of whether we procure such property or equipment with a finance lease. We believe that this methodology can provide useful supplemental information to help investors better understand underlying trends in our business. Free cash flow is not intended to represent our residual cash flow available for discretionary expenditures.\n\nFor more information on our non-GAAP financial measures and a reconciliation of GAAP to non-GAAP measures, please see the \"Reconciliation of GAAP to Non-GAAP Results\" table in this press release.\n\n4\n---\n# META PLATFORMS, INC.\n\n# CONDENSED CONSOLIDATED STATEMENTS OF INCOME\n\n(In millions, except per share amounts)\n\n(Unaudited)\n\n| |Three Months Ended March 31, 2024|Three Months Ended March 31, 2023|\n|---|---|---|\n|Revenue|$36,455|$28,645|\n|Costs and expenses:| | |\n|Cost of revenue|6,640|6,108|\n|Research and development|9,978|9,381|\n|Marketing and sales|2,564|3,044|\n|General and administrative|3,455|2,885|\n|Total costs and expenses|22,637|21,418|\n|Income from operations|13,818|7,227|\n|Interest and other income, net|365|80|\n|Income before provision for income taxes|14,183|7,307|\n|Provision for income taxes|1,814|1,598|\n|Net income|$12,369|$5,709|\n|Earnings per share:| | |\n|Basic|$4.86|$2.21|\n|Diluted|$4.71|$2.20|\n|Weighted-average shares used to compute earnings per share:| | |\n|Basic|2,545|2,587|\n|Diluted|2,625|2,596|\n---\n# META PLATFORMS, INC.\n\n# CONDENSED CONSOLIDATED BALANCE SHEETS\n\n(In millions)\n\n(Unaudited)\n\n| |March 31, 2024|December 31, 2023|\n|---|---|---|\n|Assets| | |\n|Current assets:| | |\n|Cash and cash equivalents|$32,307|$41,862|\n|Marketable securities|25,813|23,541|\n|Accounts receivable, net|13,430|16,169|\n|Prepaid expenses and other current assets|3,780|3,793|\n|Total current assets|75,330|85,365|\n|Non-marketable equity securities|6,218|6,141|\n|Property and equipment, net|98,908|96,587|\n|Operating lease right-of-use assets|13,555|13,294|\n|Goodwill|20,654|20,654|\n|Other assets|8,179|7,582|\n|Total assets|$222,844|$229,623|\n\n|Liabilities and stockholders' equity| | |\n|---|---|---|\n|Current liabilities:| | |\n|Accounts payable|$3,785|$4,849|\n|Operating lease liabilities, current|1,676|1,623|\n|Accrued expenses and other current liabilities|22,640|25,488|\n|Total current liabilities|28,101|31,960|\n|Operating lease liabilities, non-current|17,570|17,226|\n|Long-term debt|18,387|18,385|\n|Long-term income taxes|7,795|7,514|\n|Other liabilities|1,462|1,370|\n|Total liabilities|73,315|76,455|\n|Commitments and contingencies| | |\n|Stockholders' equity:| | |\n|Common stock and additional paid-in capital|75,391|73,253|\n|Accumulated other comprehensive loss|(2,655)|(2,155)|\n|Retained earnings|76,793|82,070|\n|Total stockholders' equity|149,529|153,168|\n|Total liabilities and stockholders' equity|$222,844|$229,623|\n---\n# CONDENSED CONSOLIDATED STATEMENTS OF CASH FLOWS\n\n| |Three Months Ended March 31, 2024|Three Months Ended March 31, 2023|\n|---|---|---|\n|Net income|$12,369|$5,709|\n|Adjustments to reconcile net income to net cash provided by operating activities:| | |\n|Depreciation and amortization|3,374|2,524|\n|Share-based compensation|3,562|3,051|\n|Deferred income taxes|-456|-620|\n|Impairment charges for facilities consolidation, net|240|770|\n|Other|-66|-7|\n|Changes in assets and liabilities:| | |\n|Accounts receivable|2,520|2,546|\n|Prepaid expenses and other current assets|100|821|\n|Other assets|-94|30|\n|Accounts payable|-1,112|-1,104|\n|Accrued expenses and other current liabilities|-1,274|94|\n|Other liabilities|83|184|\n|Net cash provided by operating activities|19,246|13,998|\n|Cash flows from investing activities| | |\n|Purchases of property and equipment, net|-6,400|-6,823|\n|Purchases of marketable debt securities|-6,887|-85|\n|Sales and maturities of marketable debt securities|4,625|534|\n|Acquisitions of businesses and intangible assets|-72|-444|\n|Other investing activities| |75|\n|Net cash used in investing activities|-8,734|-6,743|\n|Cash flows from financing activities| | |\n|Taxes paid related to net share settlement of equity awards|-3,162|-1,009|\n|Repurchases of Class A common stock|-15,008|-9,365|\n|Dividends payments|-1,273|0|\n|Principal payments on finance leases|-315|-264|\n|Other financing activities|-9|122|\n|Net cash used in financing activities|-19,767|-10,516|\n|Effect of exchange rate changes on cash, cash equivalents, and restricted cash|-288|85|\n|Net decrease in cash, cash equivalents, and restricted cash|-9,543|-3,176|\n|Cash, cash equivalents, and restricted cash at beginning of the period|42,827|15,596|\n|Cash, cash equivalents, and restricted cash at end of the period|$33,284|$12,420|\n\n# Reconciliation of cash, cash equivalents, and restricted cash to the condensed consolidated balance sheets\n\n|Cash and cash equivalents|$32,307|$11,551|\n|---|---|---|\n|Restricted cash, included in prepaid expenses and other current assets|84|224|\n|Restricted cash, included in other assets|893|645|\n|Total cash, cash equivalents, and restricted cash|$33,284|$12,420|\n---\n| |Three Months Ended March 31, 2024|Three Months Ended March 31, 2023|\n|---|---|---|\n|Cash paid for income taxes, net|$630|$405|\n|Cash paid for interest, net of amounts capitalized|$121|$182|\n|Non-cash investing and financing activities:| | |\n|Property and equipment in accounts payable and accrued expenses and other current liabilities|$4,217|$4,466|\n|Acquisition of businesses in accrued expenses and other current liabilities and other liabilities|$116|$263|\n---\n# Segment Results\n\nWe report our financial results for our two reportable segments: Family of Apps (FoA) and Reality Labs (RL). FoA includes Facebook, Instagram, Messenger, WhatsApp, and other services. RL includes our virtual, augmented, and mixed reality related consumer hardware, software, and content.\n\n**Segment Information**\n| |(In millions)|(In millions)|\n|---|---|\n| |Three Months Ended March 31, 2024|Three Months Ended March 31, 2023|\n|Revenue:|$35,635|$28,101|\n|Advertising| | |\n|Other revenue|$380|$205|\n|Family of Apps|$36,015|$28,306|\n|Reality Labs|$440|$339|\n|Total revenue|$36,455|$28,645|\n|Income (loss) from operations:|$17,664|$11,219|\n|Family of Apps| | |\n|Reality Labs|($3,846)|($3,992)|\n|Total income from operations|$13,818|$7,227|\n---\n# Reconciliation of GAAP to Non-GAAP Results\n\n| |Three Months Ended March 31, 2024|Three Months Ended March 31, 2023|\n|---|---|---|\n|GAAP revenue|$36,455|$28,645|\n|Foreign exchange effect on 2024 revenue using 2023 rates|($106)| |\n|Revenue excluding foreign exchange effect|$36,349| |\n|GAAP revenue year-over-year change %|27%| |\n|Revenue excluding foreign exchange effect year-over-year change %|27%| |\n|GAAP advertising revenue|$35,635|$28,101|\n|Foreign exchange effect on 2024 advertising revenue using 2023 rates|($105)| |\n|Advertising revenue excluding foreign exchange effect|$35,530| |\n|GAAP advertising revenue year-over-year change %|27%| |\n|Advertising revenue excluding foreign exchange effect year-over-year change %|26%| |\n\n| | | |\n|---|---|---|\n|Net cash provided by operating activities|$19,246|$13,998|\n|Purchases of property and equipment, net|($6,400)|($6,823)|\n|Principal payments on finance leases|($315)|($264)|\n|Free cash flow|$12,531|$6,911|"
          },
          "metadata": {},
          "execution_count": 9
        }
      ]
    },
    {
      "cell_type": "code",
      "source": [
        "Markdown(parsed_doc.text[:4096])"
      ],
      "metadata": {
        "colab": {
          "base_uri": "https://localhost:8080/",
          "height": 1000
        },
        "id": "6acdg4sq736P",
        "outputId": "8b97c316-fd07-47a5-d70b-621490dc468b"
      },
      "execution_count": null,
      "outputs": [
        {
          "output_type": "execute_result",
          "data": {
            "text/plain": [
              "<IPython.core.display.Markdown object>"
            ],
            "text/markdown": "# Meta Reports First Quarter 2024 Results\n\nMENLO PARK, Calif. – April 24, 2024 – Meta Platforms, Inc. (Nasdaq: META) today reported financial results for the quarter ended March 31, 2024.\n\n\"It's been a good start to the year,\" said Mark Zuckerberg, Meta founder and CEO. \"The new version of Meta AI with Llama 3 is another step towards building the world's leading AI. We're seeing healthy growth across our apps and we continue making steady progress building the metaverse as well.\"\n\n# First Quarter 2024 Financial Highlights\n\n|In millions, except percentages and per share amounts|Three Months Ended March 31,|2024|2023|% Change|\n|---|---|---|---|---|\n|Revenue|$36,455|$28,645|27%| |\n|Costs and expenses|$22,637|$21,418|6%| |\n|Income from operations|$13,818|$7,227|91%| |\n|Operating margin|38%|25%| | |\n|Provision for income taxes|$1,814|$1,598|14%| |\n|Effective tax rate|13%|22%| | |\n|Net income|$12,369|$5,709|117%| |\n|Diluted earnings per share (EPS)|$4.71|$2.20|114%| |\n\n# First Quarter 2024 Operational and Other Financial Highlights\n\n- Family daily active people (DAP) – DAP was 3.24 billion on average for March 2024, an increase of 7% year-over-year.\n- Ad impressions – Ad impressions delivered across our Family of Apps increased by 20% year-over-year.\n- Average price per ad – Average price per ad increased by 6% year-over-year.\n- Revenue – Total revenue and revenue on a constant currency basis were $36.46 billion and $36.35 billion, respectively, both of which increased by 27% year-over-year.\n- Costs and expenses – Total costs and expenses were $22.64 billion, an increase of 6% year-over-year.\n- Capital expenditures – Capital expenditures, including principal payments on finance leases, were $6.72 billion.\n- Capital return program – Share repurchases were $14.64 billion of our Class A common stock and dividends payments were $1.27 billion.\n- Cash, cash equivalents, and marketable securities – Cash, cash equivalents, and marketable securities were $58.12 billion as of March 31, 2024. Free cash flow was $12.53 billion.\n- Headcount – Headcount was 69,329 as of March 31, 2024, a decrease of 10% year-over-year.\n---\n# CFO Outlook Commentary\n\nWe expect second quarter 2024 total revenue to be in the range of $36.5-39 billion. Our guidance assumes foreign currency is a 1% headwind to year-over-year total revenue growth, based on current exchange rates.\n\nWe expect full-year 2024 total expenses to be in the range of $96-99 billion, updated from our prior outlook of $94-99 billion due to higher infrastructure and legal costs. For Reality Labs, we continue to expect operating losses to increase meaningfully year-over-year due to our ongoing product development efforts and our investments to further scale our ecosystem.\n\nWe anticipate our full-year 2024 capital expenditures will be in the range of $35-40 billion, increased from our prior range of $30-37 billion as we continue to accelerate our infrastructure investments to support our artificial intelligence (AI) roadmap. While we are not providing guidance for years beyond 2024, we expect capital expenditures will continue to increase next year as we invest aggressively to support our ambitious AI research and product development efforts.\n\nAbsent any changes to our tax landscape, we expect our full-year 2024 tax rate to be in the mid-teens.\n\nIn addition, we continue to monitor an active regulatory landscape, including the increasing legal and regulatory headwinds in the EU and the U.S. that could significantly impact our business and our financial results.\n\nQ1 was a good start to the year. We're seeing strong momentum within our Family of Apps and are making important progress on our longer-term AI and Reality Labs initiatives that have the potential to transform the way people interact with our services over the coming years.\n---\n# Webcast and Conference Call Information\n\nMeta will host a conference call to discuss the results at 2:00 p.m. PT / 5:00 p.m. ET today. The live webcast of Meta's earnings conference call can be accessed at investor.fb.com, along with the earnings press release, "
          },
          "metadata": {},
          "execution_count": 10
        }
      ]
    },
    {
      "cell_type": "code",
      "source": [
        "document_path = Path(\"data/parsed_document.md\")\n",
        "with document_path.open(\"a\") as f:\n",
        "    f.write(parsed_doc.text)"
      ],
      "metadata": {
        "id": "EUnDQkfwyPv3"
      },
      "execution_count": null,
      "outputs": []
    },
    {
      "cell_type": "markdown",
      "source": [
        "## Vector Embeddings"
      ],
      "metadata": {
        "id": "yF5y2-L0vfLM"
      }
    },
    {
      "cell_type": "code",
      "source": [
        "loader = UnstructuredMarkdownLoader(document_path)\n",
        "loaded_documents = loader.load()"
      ],
      "metadata": {
        "colab": {
          "base_uri": "https://localhost:8080/"
        },
        "id": "R9Hl1Uly3LtB",
        "outputId": "7e2d521d-6137-45f2-90b4-b43702339882"
      },
      "execution_count": null,
      "outputs": [
        {
          "output_type": "stream",
          "name": "stderr",
          "text": [
            "[nltk_data] Downloading package averaged_perceptron_tagger to\n",
            "[nltk_data]     /root/nltk_data...\n",
            "[nltk_data]   Unzipping taggers/averaged_perceptron_tagger.zip.\n"
          ]
        }
      ]
    },
    {
      "cell_type": "code",
      "source": [
        "text_splitter = RecursiveCharacterTextSplitter(chunk_size=2048, chunk_overlap=128)\n",
        "docs = text_splitter.split_documents(loaded_documents)\n",
        "len(docs)"
      ],
      "metadata": {
        "colab": {
          "base_uri": "https://localhost:8080/"
        },
        "id": "_ZrQ4sKg4hxF",
        "outputId": "fa7b7b50-2b85-47af-e87d-84f5fd2d3cd9"
      },
      "execution_count": null,
      "outputs": [
        {
          "output_type": "execute_result",
          "data": {
            "text/plain": [
              "11"
            ]
          },
          "metadata": {},
          "execution_count": 13
        }
      ]
    },
    {
      "cell_type": "code",
      "source": [
        "print(docs[0].page_content)"
      ],
      "metadata": {
        "colab": {
          "base_uri": "https://localhost:8080/"
        },
        "id": "RdBs9l3a4jCv",
        "outputId": "17ba3d80-b45a-4993-b03d-3107426d9bb9"
      },
      "execution_count": null,
      "outputs": [
        {
          "output_type": "stream",
          "name": "stdout",
          "text": [
            "Meta Reports First Quarter 2024 Results\n",
            "\n",
            "MENLO PARK, Calif. – April 24, 2024 – Meta Platforms, Inc. (Nasdaq: META) today reported financial results for the quarter ended March 31, 2024.\n",
            "\n",
            "\"It's been a good start to the year,\" said Mark Zuckerberg, Meta founder and CEO. \"The new version of Meta AI with Llama 3 is another step towards building the world's leading AI. We're seeing healthy growth across our apps and we continue making steady progress building the metaverse as well.\"\n",
            "\n",
            "First Quarter 2024 Financial Highlights\n",
            "\n",
            "In millions, except percentages and per share amounts Three Months Ended March 31, 2024 2023 % Change Revenue $36,455 $28,645 27% Costs and expenses $22,637 $21,418 6% Income from operations $13,818 $7,227 91% Operating margin 38% 25% Provision for income taxes $1,814 $1,598 14% Effective tax rate 13% 22% Net income $12,369 $5,709 117% Diluted earnings per share (EPS) $4.71 $2.20 114%\n",
            "\n",
            "First Quarter 2024 Operational and Other Financial Highlights\n",
            "\n",
            "Family daily active people (DAP) – DAP was 3.24 billion on average for March 2024, an increase of 7% year-over-year.\n",
            "\n",
            "Ad impressions – Ad impressions delivered across our Family of Apps increased by 20% year-over-year.\n",
            "\n",
            "Average price per ad – Average price per ad increased by 6% year-over-year.\n",
            "\n",
            "Revenue – Total revenue and revenue on a constant currency basis were $36.46 billion and $36.35 billion, respectively, both of which increased by 27% year-over-year.\n",
            "\n",
            "Costs and expenses – Total costs and expenses were $22.64 billion, an increase of 6% year-over-year.\n",
            "\n",
            "Capital expenditures – Capital expenditures, including principal payments on finance leases, were $6.72 billion.\n",
            "\n",
            "Capital return program – Share repurchases were $14.64 billion of our Class A common stock and dividends payments were $1.27 billion.\n",
            "\n",
            "Cash, cash equivalents, and marketable securities – Cash, cash equivalents, and marketable securities were $58.12 billion as of March 31, 2024. Free cash flow was $12.53 billion.\n"
          ]
        }
      ]
    },
    {
      "cell_type": "code",
      "source": [
        "HF_TOKEN = userdata.get(\"HF_TOKEN\")"
      ],
      "metadata": {
        "id": "2DxZdPalOHz4"
      },
      "execution_count": null,
      "outputs": []
    },
    {
      "cell_type": "code",
      "source": [
        "embeddings = FastEmbedEmbeddings(model_name=\"BAAI/bge-base-en-v1.5\")"
      ],
      "metadata": {
        "colab": {
          "base_uri": "https://localhost:8080/",
          "height": 209,
          "referenced_widgets": [
            "6ed5fe7af40146b5b151666982c13619",
            "22ecac8f440c46cebf36d74742409926",
            "8573bcbdf9f24e43a3dd6752142059b2",
            "cc114abc63b3477984af73d44d6f1b48",
            "ecef002b26e045348a6530f74b8014d9",
            "05fa306630e640e4942ec16a09e5b1da",
            "ebf5646ab58f43a4bc3589341799ee30",
            "692b01266ab14fc8b24c6187b8505fc1",
            "8200ef1ba7504dbfbcf5e13f8c4a5acb",
            "2392a85567ee487a845aee13d1c8c722",
            "c64630c2706e43f18dbd9713c61c2649",
            "6f7e93715bcf42b485a475ce4076bc4b",
            "ab03dabdcfa8442abfe10990cd3cc32a",
            "a03d0f4c5882405997d0f7e0131d5784",
            "2ec3e13d75a54b7980403ce1c4fdab27",
            "dbdcee9ab6e740f19a757dd923a367e5",
            "b5dc8d2507784ba69eceeae993c572f6",
            "5a146720df1a42959343b351fd5607ce",
            "9512e4b65b944a70aa97355fcc2566bf",
            "39fce92718aa4f3c9a1ad61fd76a3c3f",
            "3a944975993445bdba7da15d69861e46",
            "b58bf216af364809b788b256911286c5",
            "5fd50abd74dc477a983a9ae4d7907fd9",
            "3546d62dfa1444d19dad1770bc49cbd2",
            "d4ec6b3caff7450faad353d0372dde6d",
            "cd95cbbc70534d5fb4f8b0e121fe13be",
            "6aaf2c33541f470fa257e65fe628d652",
            "9d89afdaf95947848648123245512d61",
            "ea7ec8e726eb49f9b9bccab0923185fa",
            "5d3022217ee54be5886b5f7149de040c",
            "200feac4c49642d0bc377c88c5e0a824",
            "b88d5a811a564188a4f78258877ab8a2",
            "c18f391db1bb45d68974a05c49e0d85a",
            "db2009a1c1854c4a9abdd330b67b0ddd",
            "46f31f4ad84e4408acbce3bf98e21565",
            "f27ba3712966490e8627f8d7a0a00d45",
            "ecea03baadd34c1da794c6f76bb0cde8",
            "104bc4076f6f4d12bb6dfb34092acccf",
            "a1c58f3f713c4635a330369f8e2494b8",
            "dff45ebc00f8446dbc140a38f75147c2",
            "b09c8d8e39c643508b19576573280201",
            "96abbaa65d514ed0988b89607d7d0e9d",
            "cea85b49da024d55b84c633128b47808",
            "ac73d501823a441c8a7220e43de8a57c",
            "725ca8aee961428ab0dc91c6567a512e",
            "5cfa85914dab4bce83a78fcacb037747",
            "895ea80a45b8405aac97d4f3d3266d56",
            "9a7ab978176a429f9adf04a901af8a7c",
            "c833549275854b99ab4c1bb516c43183",
            "a94d514925ab4951a5c5635c5dd2c953",
            "2a3ef7612109430fabb04f6a17f90751",
            "6b6e227e2a8847fab77b231c466a5a88",
            "d0519a371daa4983b19b30dc67628156",
            "651bfd1ae2bf407eb23f157c69333b7a",
            "129dc2c90cbb4c9fa4e2b0776be1954c",
            "07a7e933daf147939d86b6302ab4560b",
            "9cb2b532fc14478ba06dff8fcb798593",
            "45258475bc994f779a5ca2a0086b4cee",
            "4bd0f37e1ed14ed7820ca1724f078c5e",
            "3a0ac84a0bfa463982674a042ec18b0f",
            "a1850b2f34894018952efb6f47f4cc17",
            "da9971e98d2746bdbb99688c366e8d8c",
            "9c3db53b155446b3b9a03fda591de380",
            "418807dafda84519b0f31cc0a5af4a66",
            "f4e5cd28323b42e7968d832ba06dbc56",
            "b5113b7bb0a94b6589c43f20d06cbcee"
          ]
        },
        "id": "8cUnzAwi-iNE",
        "outputId": "bd1ff2c1-182c-4a12-ff3f-7bff7a3f9620"
      },
      "execution_count": null,
      "outputs": [
        {
          "output_type": "display_data",
          "data": {
            "text/plain": [
              "Fetching 5 files:   0%|          | 0/5 [00:00<?, ?it/s]"
            ],
            "application/vnd.jupyter.widget-view+json": {
              "version_major": 2,
              "version_minor": 0,
              "model_id": "6ed5fe7af40146b5b151666982c13619"
            }
          },
          "metadata": {}
        },
        {
          "output_type": "display_data",
          "data": {
            "text/plain": [
              "config.json:   0%|          | 0.00/740 [00:00<?, ?B/s]"
            ],
            "application/vnd.jupyter.widget-view+json": {
              "version_major": 2,
              "version_minor": 0,
              "model_id": "6f7e93715bcf42b485a475ce4076bc4b"
            }
          },
          "metadata": {}
        },
        {
          "output_type": "display_data",
          "data": {
            "text/plain": [
              "tokenizer_config.json:   0%|          | 0.00/1.24k [00:00<?, ?B/s]"
            ],
            "application/vnd.jupyter.widget-view+json": {
              "version_major": 2,
              "version_minor": 0,
              "model_id": "5fd50abd74dc477a983a9ae4d7907fd9"
            }
          },
          "metadata": {}
        },
        {
          "output_type": "display_data",
          "data": {
            "text/plain": [
              "tokenizer.json:   0%|          | 0.00/711k [00:00<?, ?B/s]"
            ],
            "application/vnd.jupyter.widget-view+json": {
              "version_major": 2,
              "version_minor": 0,
              "model_id": "db2009a1c1854c4a9abdd330b67b0ddd"
            }
          },
          "metadata": {}
        },
        {
          "output_type": "display_data",
          "data": {
            "text/plain": [
              "model_optimized.onnx:   0%|          | 0.00/218M [00:00<?, ?B/s]"
            ],
            "application/vnd.jupyter.widget-view+json": {
              "version_major": 2,
              "version_minor": 0,
              "model_id": "725ca8aee961428ab0dc91c6567a512e"
            }
          },
          "metadata": {}
        },
        {
          "output_type": "display_data",
          "data": {
            "text/plain": [
              "special_tokens_map.json:   0%|          | 0.00/695 [00:00<?, ?B/s]"
            ],
            "application/vnd.jupyter.widget-view+json": {
              "version_major": 2,
              "version_minor": 0,
              "model_id": "07a7e933daf147939d86b6302ab4560b"
            }
          },
          "metadata": {}
        }
      ]
    },
    {
      "cell_type": "code",
      "source": [
        "qdrant = Qdrant.from_documents(\n",
        "    docs,\n",
        "    embeddings,\n",
        "    # location=\":memory:\",\n",
        "    path=\"./db\",\n",
        "    collection_name=\"document_embeddings\",\n",
        ")"
      ],
      "metadata": {
        "id": "fSh39w9H9fPU"
      },
      "execution_count": null,
      "outputs": []
    },
    {
      "cell_type": "code",
      "source": [
        "# qdrant = Qdrant.from_documents(\n",
        "#     docs,\n",
        "#     embeddings,\n",
        "#     # location=\":memory:\",\n",
        "#     # path=\"./db\",\n",
        "#     # collection_name=\"document_embeddings\",\n",
        "# )"
      ],
      "metadata": {
        "id": "LcCV3tSU8yJI"
      },
      "execution_count": null,
      "outputs": []
    },
    {
      "cell_type": "code",
      "source": [
        "%%time\n",
        "query = \"What is the most important innovation from Meta?\"\n",
        "similar_docs = qdrant.similarity_search_with_score(query)"
      ],
      "metadata": {
        "id": "zBBp64Dy_5hw",
        "colab": {
          "base_uri": "https://localhost:8080/"
        },
        "outputId": "7717d497-699c-441f-d394-6bac5557ebe3"
      },
      "execution_count": null,
      "outputs": [
        {
          "output_type": "stream",
          "name": "stdout",
          "text": [
            "CPU times: user 224 ms, sys: 842 µs, total: 225 ms\n",
            "Wall time: 228 ms\n"
          ]
        }
      ]
    },
    {
      "cell_type": "code",
      "source": [
        "for doc, score in similar_docs:\n",
        "    print(f\"text: {doc.page_content[:256]}\\n\")\n",
        "    print(f\"score: {score}\")\n",
        "    print(\"-\" * 80)\n",
        "    print()"
      ],
      "metadata": {
        "colab": {
          "base_uri": "https://localhost:8080/"
        },
        "id": "R0vjJsDapHD4",
        "outputId": "4bd4709a-0aac-4902-cb28-5efd0d4f217d"
      },
      "execution_count": null,
      "outputs": [
        {
          "output_type": "stream",
          "name": "stdout",
          "text": [
            "text: Meta Reports First Quarter 2024 Results\n",
            "\n",
            "MENLO PARK, Calif. – April 24, 2024 – Meta Platforms, Inc. (Nasdaq: META) today reported financial results for the quarter ended March 31, 2024.\n",
            "\n",
            "\"It's been a good start to the year,\" said Mark Zuckerberg, Meta foun\n",
            "\n",
            "score: 0.6154119568600498\n",
            "--------------------------------------------------------------------------------\n",
            "\n",
            "text: Webcast and Conference Call Information\n",
            "\n",
            "Meta will host a conference call to discuss the results at 2:00 p.m. PT / 5:00 p.m. ET today. The live webcast of Meta's earnings conference call can be accessed at investor.fb.com, along with the earnings press rel\n",
            "\n",
            "score: 0.5703670704616712\n",
            "--------------------------------------------------------------------------------\n",
            "\n",
            "text: This press release contains forward-looking statements regarding our future business plans and expectations. These forward-looking statements are only predictions and may differ materially from actual results due to a variety of factors including: the impa\n",
            "\n",
            "score: 0.47436779594694456\n",
            "--------------------------------------------------------------------------------\n",
            "\n",
            "text: Headcount – Headcount was 69,329 as of March 31, 2024, a decrease of 10% year-over-year.\n",
            "\n",
            "CFO Outlook Commentary\n",
            "\n",
            "We expect second quarter 2024 total revenue to be in the range of $36.5-39 billion. Our guidance assumes foreign currency is a 1% headwind to \n",
            "\n",
            "score: 0.46486279114992524\n",
            "--------------------------------------------------------------------------------\n",
            "\n"
          ]
        }
      ]
    },
    {
      "cell_type": "code",
      "source": [
        "%%time\n",
        "retriever = qdrant.as_retriever(search_kwargs={\"k\": 5})\n",
        "retrieved_docs = retriever.invoke(query)"
      ],
      "metadata": {
        "id": "pcYQO28-_pE6",
        "colab": {
          "base_uri": "https://localhost:8080/"
        },
        "outputId": "953cdf5f-14d0-47b4-b181-4b363ba0b94d"
      },
      "execution_count": null,
      "outputs": [
        {
          "output_type": "stream",
          "name": "stdout",
          "text": [
            "CPU times: user 230 ms, sys: 41.2 ms, total: 271 ms\n",
            "Wall time: 269 ms\n"
          ]
        }
      ]
    },
    {
      "cell_type": "code",
      "source": [
        "for doc in retrieved_docs:\n",
        "    print(f\"id: {doc.metadata['_id']}\\n\")\n",
        "    print(f\"text: {doc.page_content[:256]}\\n\")\n",
        "    print(\"-\" * 80)\n",
        "    print()"
      ],
      "metadata": {
        "colab": {
          "base_uri": "https://localhost:8080/"
        },
        "id": "heWeRvZmSfuf",
        "outputId": "8e0658e7-4460-44c9-9dd3-1fa1b557da5a"
      },
      "execution_count": null,
      "outputs": [
        {
          "output_type": "stream",
          "name": "stdout",
          "text": [
            "id: 728cbbf8f76d40378794809f8bb169ea\n",
            "\n",
            "text: Meta Reports First Quarter 2024 Results\n",
            "\n",
            "MENLO PARK, Calif. – April 24, 2024 – Meta Platforms, Inc. (Nasdaq: META) today reported financial results for the quarter ended March 31, 2024.\n",
            "\n",
            "\"It's been a good start to the year,\" said Mark Zuckerberg, Meta foun\n",
            "\n",
            "--------------------------------------------------------------------------------\n",
            "\n",
            "id: 9b6254f3dd3f4d7c837d00578d1f8ab2\n",
            "\n",
            "text: Webcast and Conference Call Information\n",
            "\n",
            "Meta will host a conference call to discuss the results at 2:00 p.m. PT / 5:00 p.m. ET today. The live webcast of Meta's earnings conference call can be accessed at investor.fb.com, along with the earnings press rel\n",
            "\n",
            "--------------------------------------------------------------------------------\n",
            "\n",
            "id: ee076f929d684837b255cb848820277f\n",
            "\n",
            "text: This press release contains forward-looking statements regarding our future business plans and expectations. These forward-looking statements are only predictions and may differ materially from actual results due to a variety of factors including: the impa\n",
            "\n",
            "--------------------------------------------------------------------------------\n",
            "\n",
            "id: c6c51f4b74144e0a9ff5a2059c83f005\n",
            "\n",
            "text: Headcount – Headcount was 69,329 as of March 31, 2024, a decrease of 10% year-over-year.\n",
            "\n",
            "CFO Outlook Commentary\n",
            "\n",
            "We expect second quarter 2024 total revenue to be in the range of $36.5-39 billion. Our guidance assumes foreign currency is a 1% headwind to \n",
            "\n",
            "--------------------------------------------------------------------------------\n",
            "\n",
            "id: aa147d26b0cd42f6be2661402135eb77\n",
            "\n",
            "text: For a discussion of limitations in the measurement of certain of our community metrics, see the section entitled \"Limitations of Key Metrics and Other Data\" in our most recent quarterly or annual report filed with the SEC.\n",
            "\n",
            "Non-GAAP Financial Measures\n",
            "\n",
            "To \n",
            "\n",
            "--------------------------------------------------------------------------------\n",
            "\n"
          ]
        }
      ]
    },
    {
      "cell_type": "markdown",
      "source": [
        "## Reranking"
      ],
      "metadata": {
        "id": "SS5zSz0lvnu3"
      }
    },
    {
      "cell_type": "code",
      "source": [
        "compressor = FlashrankRerank(model=\"ms-marco-MiniLM-L-12-v2\")\n",
        "compression_retriever = ContextualCompressionRetriever(\n",
        "    base_compressor=compressor, base_retriever=retriever\n",
        ")"
      ],
      "metadata": {
        "colab": {
          "base_uri": "https://localhost:8080/"
        },
        "id": "83P_6ysFzSxC",
        "outputId": "e12bfbfa-0ae5-44bf-e805-130f97872668"
      },
      "execution_count": null,
      "outputs": [
        {
          "output_type": "stream",
          "name": "stdout",
          "text": [
            "Downloading ms-marco-MiniLM-L-12-v2...\n"
          ]
        },
        {
          "output_type": "stream",
          "name": "stderr",
          "text": [
            "ms-marco-MiniLM-L-12-v2.zip: 100%|██████████| 21.6M/21.6M [00:00<00:00, 64.0MiB/s]\n"
          ]
        }
      ]
    },
    {
      "cell_type": "code",
      "source": [
        "%%time\n",
        "reranked_docs = compression_retriever.invoke(query)\n",
        "len(reranked_docs)"
      ],
      "metadata": {
        "colab": {
          "base_uri": "https://localhost:8080/"
        },
        "id": "NUVfVgihLgVD",
        "outputId": "77e6c8ec-421d-47a5-dce4-5f438fe1568c"
      },
      "execution_count": null,
      "outputs": [
        {
          "output_type": "stream",
          "name": "stdout",
          "text": [
            "Running pairwise ranking..\n",
            "CPU times: user 2.46 s, sys: 73.1 ms, total: 2.53 s\n",
            "Wall time: 2.8 s\n"
          ]
        },
        {
          "output_type": "execute_result",
          "data": {
            "text/plain": [
              "3"
            ]
          },
          "metadata": {},
          "execution_count": 24
        }
      ]
    },
    {
      "cell_type": "code",
      "source": [
        "for doc in reranked_docs:\n",
        "    print(f\"id: {doc.metadata['_id']}\\n\")\n",
        "    print(f\"text: {doc.page_content[:256]}\\n\")\n",
        "    print(f\"score: {doc.metadata['relevance_score']}\")\n",
        "    print(\"-\" * 80)\n",
        "    print()"
      ],
      "metadata": {
        "colab": {
          "base_uri": "https://localhost:8080/"
        },
        "id": "JqHWLMdqPhMT",
        "outputId": "a6a99462-3fcc-4022-9ac8-66d94789f191"
      },
      "execution_count": null,
      "outputs": [
        {
          "output_type": "stream",
          "name": "stdout",
          "text": [
            "id: 728cbbf8f76d40378794809f8bb169ea\n",
            "\n",
            "text: Meta Reports First Quarter 2024 Results\n",
            "\n",
            "MENLO PARK, Calif. – April 24, 2024 – Meta Platforms, Inc. (Nasdaq: META) today reported financial results for the quarter ended March 31, 2024.\n",
            "\n",
            "\"It's been a good start to the year,\" said Mark Zuckerberg, Meta foun\n",
            "\n",
            "score: 0.157416433095932\n",
            "--------------------------------------------------------------------------------\n",
            "\n",
            "id: 9b6254f3dd3f4d7c837d00578d1f8ab2\n",
            "\n",
            "text: Webcast and Conference Call Information\n",
            "\n",
            "Meta will host a conference call to discuss the results at 2:00 p.m. PT / 5:00 p.m. ET today. The live webcast of Meta's earnings conference call can be accessed at investor.fb.com, along with the earnings press rel\n",
            "\n",
            "score: 0.008931875228881836\n",
            "--------------------------------------------------------------------------------\n",
            "\n",
            "id: ee076f929d684837b255cb848820277f\n",
            "\n",
            "text: This press release contains forward-looking statements regarding our future business plans and expectations. These forward-looking statements are only predictions and may differ materially from actual results due to a variety of factors including: the impa\n",
            "\n",
            "score: 6.485087214969099e-05\n",
            "--------------------------------------------------------------------------------\n",
            "\n"
          ]
        }
      ]
    },
    {
      "cell_type": "markdown",
      "source": [
        "## Q&A Over Document"
      ],
      "metadata": {
        "id": "3ra-bCZzvrFy"
      }
    },
    {
      "cell_type": "code",
      "source": [
        "llm = ChatGroq(temperature=0, model_name=\"llama3-70b-8192\")"
      ],
      "metadata": {
        "id": "tjOym5svzy2j"
      },
      "execution_count": null,
      "outputs": []
    },
    {
      "cell_type": "code",
      "source": [
        "prompt_template = \"\"\"\n",
        "Use the following pieces of information to answer the user's question.\n",
        "If you don't know the answer, just say that you don't know, don't try to make up an answer.\n",
        "\n",
        "Context: {context}\n",
        "Question: {question}\n",
        "\n",
        "Answer the question and provide additional helpful information,\n",
        "based on the pieces of information, if applicable. Be succinct.\n",
        "\n",
        "Responses should be properly formatted to be easily read.\n",
        "\"\"\"\n",
        "\n",
        "prompt = PromptTemplate(\n",
        "    template=prompt_template, input_variables=[\"context\", \"question\"]\n",
        ")"
      ],
      "metadata": {
        "id": "4iqfuyMaBe6j"
      },
      "execution_count": null,
      "outputs": []
    },
    {
      "cell_type": "code",
      "source": [
        "qa = RetrievalQA.from_chain_type(\n",
        "    llm=llm,\n",
        "    chain_type=\"stuff\",\n",
        "    retriever=compression_retriever,\n",
        "    return_source_documents=True,\n",
        "    chain_type_kwargs={\"prompt\": prompt, \"verbose\": True},\n",
        ")"
      ],
      "metadata": {
        "id": "sz2aMwNWBxvg"
      },
      "execution_count": null,
      "outputs": []
    },
    {
      "cell_type": "code",
      "source": [
        "%%time\n",
        "response = qa.invoke(\"What is the most significant innovation from Meta?\")"
      ],
      "metadata": {
        "colab": {
          "base_uri": "https://localhost:8080/"
        },
        "id": "J8lBIegHT0Y6",
        "outputId": "f6ab1bab-f321-4570-c12b-93a75b6eca58"
      },
      "execution_count": null,
      "outputs": [
        {
          "output_type": "stream",
          "name": "stdout",
          "text": [
            "Running pairwise ranking..\n",
            "\n",
            "\n",
            "\u001b[1m> Entering new StuffDocumentsChain chain...\u001b[0m\n",
            "\n",
            "\n",
            "\u001b[1m> Entering new LLMChain chain...\u001b[0m\n",
            "Prompt after formatting:\n",
            "\u001b[32;1m\u001b[1;3m\n",
            "Use the following pieces of information to answer the user's question.\n",
            "If you don't know the answer, just say that you don't know, don't try to make up an answer.\n",
            "\n",
            "Context: Meta Reports First Quarter 2024 Results\n",
            "\n",
            "MENLO PARK, Calif. – April 24, 2024 – Meta Platforms, Inc. (Nasdaq: META) today reported financial results for the quarter ended March 31, 2024.\n",
            "\n",
            "\"It's been a good start to the year,\" said Mark Zuckerberg, Meta founder and CEO. \"The new version of Meta AI with Llama 3 is another step towards building the world's leading AI. We're seeing healthy growth across our apps and we continue making steady progress building the metaverse as well.\"\n",
            "\n",
            "First Quarter 2024 Financial Highlights\n",
            "\n",
            "In millions, except percentages and per share amounts Three Months Ended March 31, 2024 2023 % Change Revenue $36,455 $28,645 27% Costs and expenses $22,637 $21,418 6% Income from operations $13,818 $7,227 91% Operating margin 38% 25% Provision for income taxes $1,814 $1,598 14% Effective tax rate 13% 22% Net income $12,369 $5,709 117% Diluted earnings per share (EPS) $4.71 $2.20 114%\n",
            "\n",
            "First Quarter 2024 Operational and Other Financial Highlights\n",
            "\n",
            "Family daily active people (DAP) – DAP was 3.24 billion on average for March 2024, an increase of 7% year-over-year.\n",
            "\n",
            "Ad impressions – Ad impressions delivered across our Family of Apps increased by 20% year-over-year.\n",
            "\n",
            "Average price per ad – Average price per ad increased by 6% year-over-year.\n",
            "\n",
            "Revenue – Total revenue and revenue on a constant currency basis were $36.46 billion and $36.35 billion, respectively, both of which increased by 27% year-over-year.\n",
            "\n",
            "Costs and expenses – Total costs and expenses were $22.64 billion, an increase of 6% year-over-year.\n",
            "\n",
            "Capital expenditures – Capital expenditures, including principal payments on finance leases, were $6.72 billion.\n",
            "\n",
            "Capital return program – Share repurchases were $14.64 billion of our Class A common stock and dividends payments were $1.27 billion.\n",
            "\n",
            "Cash, cash equivalents, and marketable securities – Cash, cash equivalents, and marketable securities were $58.12 billion as of March 31, 2024. Free cash flow was $12.53 billion.\n",
            "\n",
            "Webcast and Conference Call Information\n",
            "\n",
            "Meta will host a conference call to discuss the results at 2:00 p.m. PT / 5:00 p.m. ET today. The live webcast of Meta's earnings conference call can be accessed at investor.fb.com, along with the earnings press release, financial tables, and slide presentation. Meta uses the investor.fb.com and about.fb.com/news/ websites as well as Mark Zuckerberg's Facebook Page (facebook.com/zuck), Instagram account (instagram.com/zuck), and Threads profile (threads.net/zuck) as means of disclosing material non-public information and for complying with its disclosure obligations under Regulation FD.\n",
            "\n",
            "Following the call, a replay will be available at the same website. Transcripts of conference calls with publishing equity research analysts held today will also be posted to the investor.fb.com website.\n",
            "\n",
            "About Meta\n",
            "\n",
            "Meta builds technologies that help people connect, find communities, and grow businesses. When Facebook launched in 2004, it changed the way people connect. Apps like Messenger, Instagram, and WhatsApp further empowered billions around the world. Now, Meta is moving beyond 2D screens toward immersive experiences like augmented and virtual reality to help build the next evolution in social technology.\n",
            "\n",
            "Contacts\n",
            "\n",
            "Investors:\n",
            "Kenneth Dorell\n",
            "investor@meta.com / investor.fb.com\n",
            "\n",
            "Press:\n",
            "Ryan Moore\n",
            "press@meta.com / about.fb.com/news/\n",
            "\n",
            "Forward-Looking Statements\n",
            "\n",
            "This press release contains forward-looking statements regarding our future business plans and expectations. These forward-looking statements are only predictions and may differ materially from actual results due to a variety of factors including: the impact of macroeconomic conditions on our business and financial results, including as a result of geopolitical events; our ability to retain or increase users and engagement levels; our reliance on advertising revenue; our dependency on data signals and mobile operating systems, networks, and standards that we do not control; changes to the content or application of third-party policies that impact our advertising practices; risks associated with new products and changes to existing products as well as other new business initiatives, including our artificial intelligence initiatives and metaverse efforts; our emphasis on community growth and engagement and the user experience over short-term financial results; maintaining and enhancing our brand and reputation; our ongoing privacy, safety, security, and content review efforts; competition; risks associated with government actions that could restrict access to our products or impair our ability to sell advertising in certain countries; litigation and government inquiries; privacy, legislative, and regulatory concerns or developments; risks associated with acquisitions; security breaches; our ability to manage our scale and geographically-dispersed operations; and market conditions or other factors affecting the payment of dividends. These and other potential risks and uncertainties that could cause actual results to differ from the results predicted are more fully detailed under the caption \"Risk Factors\" in our Annual Report on Form 10-K filed with the SEC on February 2, 2024, which is available on our Investor Relations website at investor.fb.com and on the SEC website at www.sec.gov. Additional information will also be set forth in our Quarterly Report on Form 10-Q for the quarter ended March 31, 2024. In\n",
            "Question: What is the most significant innovation from Meta?\n",
            "\n",
            "Answer the question and provide additional helpful information,\n",
            "based on the pieces of information, if applicable. Be succinct.\n",
            "\n",
            "Responses should be properly formatted to be easily read.\n",
            "\u001b[0m\n",
            "\n",
            "\u001b[1m> Finished chain.\u001b[0m\n",
            "\n",
            "\u001b[1m> Finished chain.\u001b[0m\n",
            "CPU times: user 2.88 s, sys: 95.7 ms, total: 2.98 s\n",
            "Wall time: 4.07 s\n"
          ]
        }
      ]
    },
    {
      "cell_type": "code",
      "source": [
        "print_response(response)"
      ],
      "metadata": {
        "colab": {
          "base_uri": "https://localhost:8080/"
        },
        "id": "o_PpnlgxY5xz",
        "outputId": "a4668e2f-91ff-4d90-e000-5b030bcb350c"
      },
      "execution_count": null,
      "outputs": [
        {
          "output_type": "stream",
          "name": "stdout",
          "text": [
            "Based on the provided information, the most significant innovation from Meta is the new version of\n",
            "Meta AI with Llama 3, which is mentioned in the quote from Mark Zuckerberg, Meta founder and CEO.\n",
            "This innovation is part of Meta's efforts to build the world's leading AI.\n",
            "\n",
            "Additionally, the press release highlights Meta's progress in building the metaverse, which is\n",
            "another significant innovation from the company.\n"
          ]
        }
      ]
    },
    {
      "cell_type": "code",
      "source": [
        "from IPython.display import Markdown\n",
        "Markdown(response[\"result\"])"
      ],
      "metadata": {
        "colab": {
          "base_uri": "https://localhost:8080/",
          "height": 87
        },
        "id": "bSz4oP88O3no",
        "outputId": "15c798cc-f0b8-44c3-a6e2-2d2b0c202e6a"
      },
      "execution_count": null,
      "outputs": [
        {
          "output_type": "execute_result",
          "data": {
            "text/plain": [
              "<IPython.core.display.Markdown object>"
            ],
            "text/markdown": "Based on the provided information, the most significant innovation from Meta is the new version of Meta AI with Llama 3, which is mentioned in the quote from Mark Zuckerberg, Meta founder and CEO. This innovation is part of Meta's efforts to build the world's leading AI.\n\nAdditionally, the press release highlights Meta's progress in building the metaverse, which is another significant innovation from the company."
          },
          "metadata": {},
          "execution_count": 31
        }
      ]
    },
    {
      "cell_type": "code",
      "source": [
        "qa = RetrievalQA.from_chain_type(\n",
        "    llm=llm,\n",
        "    chain_type=\"stuff\",\n",
        "    retriever=compression_retriever,\n",
        "    return_source_documents=True,\n",
        "    chain_type_kwargs={\"prompt\": prompt, \"verbose\": False},\n",
        ")"
      ],
      "metadata": {
        "id": "lJfS5OIYavyV"
      },
      "execution_count": null,
      "outputs": []
    },
    {
      "cell_type": "code",
      "source": [
        "%%time\n",
        "response = qa.invoke(\"What is the revenue for 2024 and % change?\")"
      ],
      "metadata": {
        "colab": {
          "base_uri": "https://localhost:8080/"
        },
        "id": "IObqfsaHYjGm",
        "outputId": "c63199ae-033e-4798-d3f9-f0fb3c91af44"
      },
      "execution_count": null,
      "outputs": [
        {
          "output_type": "stream",
          "name": "stdout",
          "text": [
            "Running pairwise ranking..\n",
            "CPU times: user 2.52 s, sys: 9.13 ms, total: 2.53 s\n",
            "Wall time: 3.2 s\n"
          ]
        }
      ]
    },
    {
      "cell_type": "code",
      "source": [
        "Markdown(response[\"result\"])"
      ],
      "metadata": {
        "colab": {
          "base_uri": "https://localhost:8080/",
          "height": 151
        },
        "id": "JevCXm-sbEMo",
        "outputId": "b67cf360-60f1-457b-a8ef-e19e01a93831"
      },
      "execution_count": null,
      "outputs": [
        {
          "output_type": "execute_result",
          "data": {
            "text/plain": [
              "<IPython.core.display.Markdown object>"
            ],
            "text/markdown": "**Revenue for 2024 and % Change:**\n\n* Revenue for 2024: $36,455 million\n* Year-over-year change: 27%\n\nAdditional helpful information:\n\n* Revenue excluding foreign exchange effect: $36,349 million\n* Year-over-year change excluding foreign exchange effect: 27%"
          },
          "metadata": {},
          "execution_count": 34
        }
      ]
    },
    {
      "cell_type": "code",
      "source": [
        "%%time\n",
        "response = qa.invoke(\"What is the revenue for 2023?\")"
      ],
      "metadata": {
        "colab": {
          "base_uri": "https://localhost:8080/"
        },
        "id": "R6cr0QR6C7_L",
        "outputId": "e6203712-fdbe-42c2-89a5-a39d4c2306bc"
      },
      "execution_count": null,
      "outputs": [
        {
          "output_type": "stream",
          "name": "stdout",
          "text": [
            "Running pairwise ranking..\n",
            "CPU times: user 2.03 s, sys: 10.4 ms, total: 2.04 s\n",
            "Wall time: 2.76 s\n"
          ]
        }
      ]
    },
    {
      "cell_type": "code",
      "source": [
        "print_response(response)"
      ],
      "metadata": {
        "colab": {
          "base_uri": "https://localhost:8080/"
        },
        "id": "NxwcVvEYb6Fi",
        "outputId": "446a4532-9c8e-4841-a85b-34a346cf7c92"
      },
      "execution_count": null,
      "outputs": [
        {
          "output_type": "stream",
          "name": "stdout",
          "text": [
            "**Answer:** The revenue for 2023 is $28,645.\n",
            "\n",
            "**Additional helpful information:**\n",
            "\n",
            "* The revenue for 2024 is $36,455, which is a 27% year-over-year increase from 2023.\n",
            "* The foreign exchange effect on 2024 revenue using 2023 rates is ($106), which means that if the\n",
            "exchange rates were the same as in 2023, the revenue would be $36,349.\n"
          ]
        }
      ]
    },
    {
      "cell_type": "code",
      "source": [
        "Markdown(response[\"result\"])"
      ],
      "metadata": {
        "colab": {
          "base_uri": "https://localhost:8080/",
          "height": 114
        },
        "id": "_l6TcIXNPR--",
        "outputId": "7beae3c2-d104-4418-e43b-40102dedf8f2"
      },
      "execution_count": null,
      "outputs": [
        {
          "output_type": "execute_result",
          "data": {
            "text/plain": [
              "<IPython.core.display.Markdown object>"
            ],
            "text/markdown": "**Answer:** The revenue for 2023 is $28,645.\n\n**Additional helpful information:**\n\n* The revenue for 2024 is $36,455, which is a 27% year-over-year increase from 2023.\n* The foreign exchange effect on 2024 revenue using 2023 rates is ($106), which means that if the exchange rates were the same as in 2023, the revenue would be $36,349."
          },
          "metadata": {},
          "execution_count": 37
        }
      ]
    },
    {
      "cell_type": "code",
      "source": [
        "%%time\n",
        "response = qa.invoke(\n",
        "    \"How much is the revenue minus the costs and expenses for 2024? Calculate the answer\"\n",
        ")"
      ],
      "metadata": {
        "colab": {
          "base_uri": "https://localhost:8080/"
        },
        "id": "enShZsgADnZt",
        "outputId": "e99c1126-0911-4969-81b9-262e260b5446"
      },
      "execution_count": null,
      "outputs": [
        {
          "output_type": "stream",
          "name": "stdout",
          "text": [
            "Running pairwise ranking..\n",
            "CPU times: user 2.14 s, sys: 8.56 ms, total: 2.14 s\n",
            "Wall time: 3.4 s\n"
          ]
        }
      ]
    },
    {
      "cell_type": "code",
      "source": [
        "print_response(response)"
      ],
      "metadata": {
        "colab": {
          "base_uri": "https://localhost:8080/"
        },
        "id": "CtEBlRP0dVaM",
        "outputId": "73ad790a-aeb6-42c5-88fc-98e2476d5661"
      },
      "execution_count": null,
      "outputs": [
        {
          "output_type": "stream",
          "name": "stdout",
          "text": [
            "Based on the provided information, we can calculate the revenue minus the costs and expenses for\n",
            "2024 as follows:\n",
            "\n",
            "Revenue: $36.5-39 billion (guidance for Q2 2024)\n",
            "Total Expenses: $96-99 billion (guidance for full-year 2024)\n",
            "\n",
            "To calculate the revenue minus the costs and expenses, we can use the midpoint of the guidance\n",
            "ranges:\n",
            "\n",
            "Revenue: ($36.5 + $39) / 2 = $37.75 billion\n",
            "Total Expenses: ($96 + $99) / 2 = $97.5 billion\n",
            "\n",
            "Revenue minus costs and expenses: $37.75 billion - $97.5 billion = -$59.75 billion\n",
            "\n",
            "Note that this calculation is based on the guidance provided and may not reflect the actual results\n",
            "for 2024.\n",
            "\n",
            "Additional helpful information:\n",
            "\n",
            "* The company expects to incur higher infrastructure and legal costs, which has led to an update in\n",
            "the full-year 2024 total expenses guidance.\n",
            "* The company is investing aggressively in artificial intelligence (AI) research and product\n",
            "development, which is expected to drive capital expenditures higher in 2024 and beyond.\n",
            "* The company's tax rate is expected to be in the mid-teens for full-year 2024.\n"
          ]
        }
      ]
    },
    {
      "cell_type": "code",
      "source": [
        "Markdown(response[\"result\"])"
      ],
      "metadata": {
        "colab": {
          "base_uri": "https://localhost:8080/",
          "height": 274
        },
        "id": "nxSMAPGCPOsu",
        "outputId": "198da500-f444-4307-da8f-945e6bc10455"
      },
      "execution_count": null,
      "outputs": [
        {
          "output_type": "execute_result",
          "data": {
            "text/plain": [
              "<IPython.core.display.Markdown object>"
            ],
            "text/markdown": "Based on the provided information, we can calculate the revenue minus the costs and expenses for 2024 as follows:\n\nRevenue: $36.5-39 billion (guidance for Q2 2024)\nTotal Expenses: $96-99 billion (guidance for full-year 2024)\n\nTo calculate the revenue minus the costs and expenses, we can use the midpoint of the guidance ranges:\n\nRevenue: ($36.5 + $39) / 2 = $37.75 billion\nTotal Expenses: ($96 + $99) / 2 = $97.5 billion\n\nRevenue minus costs and expenses: $37.75 billion - $97.5 billion = -$59.75 billion\n\nNote that this calculation is based on the guidance provided and may not reflect the actual results for 2024.\n\nAdditional helpful information:\n\n* The company expects to incur higher infrastructure and legal costs, which has led to an update in the full-year 2024 total expenses guidance.\n* The company is investing aggressively in artificial intelligence (AI) research and product development, which is expected to drive capital expenditures higher in 2024 and beyond.\n* The company's tax rate is expected to be in the mid-teens for full-year 2024."
          },
          "metadata": {},
          "execution_count": 40
        }
      ]
    },
    {
      "cell_type": "code",
      "source": [
        "%%time\n",
        "response = qa.invoke(\n",
        "    \"How much is the revenue minus the costs and expenses for 2023? Calculate the answer\"\n",
        ")"
      ],
      "metadata": {
        "colab": {
          "base_uri": "https://localhost:8080/"
        },
        "id": "842BweJKD0J3",
        "outputId": "a4da135b-b505-4d8e-b5c1-66eae23529b5"
      },
      "execution_count": null,
      "outputs": [
        {
          "output_type": "stream",
          "name": "stdout",
          "text": [
            "Running pairwise ranking..\n",
            "CPU times: user 2.83 s, sys: 54.6 ms, total: 2.88 s\n",
            "Wall time: 4.64 s\n"
          ]
        }
      ]
    },
    {
      "cell_type": "code",
      "source": [
        "print_response(response)"
      ],
      "metadata": {
        "colab": {
          "base_uri": "https://localhost:8080/"
        },
        "id": "v0Oug1q5n7eW",
        "outputId": "e856b9ac-711b-465c-dd5e-cd53b3ef6543"
      },
      "execution_count": null,
      "outputs": [
        {
          "output_type": "stream",
          "name": "stdout",
          "text": [
            "Based on the provided information, we can calculate the revenue minus costs and expenses for 2023 as\n",
            "follows:\n",
            "\n",
            "Revenue (2023): $28,645\n",
            "Net Income (2023): $5,709\n",
            "\n",
            "To calculate the costs and expenses, we can subtract the net income from the revenue:\n",
            "\n",
            "Costs and Expenses (2023) = Revenue - Net Income\n",
            "= $28,645 - $5,709\n",
            "= $22,936\n",
            "\n",
            "So, the revenue minus costs and expenses for 2023 is $5,709.\n",
            "\n",
            "Additional helpful information:\n",
            "\n",
            "* The net income for 2024 is $12,369, which is more than double the net income for 2023.\n",
            "* The company's revenue has increased by 27% year-over-year, from $28,645 in 2023 to $36,455 in\n",
            "2024.\n"
          ]
        }
      ]
    },
    {
      "cell_type": "code",
      "source": [
        "Markdown(response[\"result\"])"
      ],
      "metadata": {
        "colab": {
          "base_uri": "https://localhost:8080/",
          "height": 215
        },
        "id": "MqCI6V28PV_9",
        "outputId": "162cad63-61b2-4a82-8f72-be2682e27ab7"
      },
      "execution_count": null,
      "outputs": [
        {
          "output_type": "execute_result",
          "data": {
            "text/plain": [
              "<IPython.core.display.Markdown object>"
            ],
            "text/markdown": "Based on the provided information, we can calculate the revenue minus costs and expenses for 2023 as follows:\n\nRevenue (2023): $28,645\nNet Income (2023): $5,709\n\nTo calculate the costs and expenses, we can subtract the net income from the revenue:\n\nCosts and Expenses (2023) = Revenue - Net Income\n= $28,645 - $5,709\n= $22,936\n\nSo, the revenue minus costs and expenses for 2023 is $5,709.\n\nAdditional helpful information:\n\n* The net income for 2024 is $12,369, which is more than double the net income for 2023.\n* The company's revenue has increased by 27% year-over-year, from $28,645 in 2023 to $36,455 in 2024."
          },
          "metadata": {},
          "execution_count": 43
        }
      ]
    },
    {
      "cell_type": "code",
      "source": [
        "%%time\n",
        "response = qa.invoke(\"What is the expected revenue for the second quarter of 2024?\")"
      ],
      "metadata": {
        "colab": {
          "base_uri": "https://localhost:8080/"
        },
        "id": "D9zNlVvWm9oQ",
        "outputId": "f8d62d84-a845-4eb9-f8d6-3d2483a65023"
      },
      "execution_count": null,
      "outputs": [
        {
          "output_type": "stream",
          "name": "stdout",
          "text": [
            "Running pairwise ranking..\n",
            "CPU times: user 2.13 s, sys: 1.61 ms, total: 2.13 s\n",
            "Wall time: 3.04 s\n"
          ]
        }
      ]
    },
    {
      "cell_type": "code",
      "source": [
        "Markdown(response[\"result\"])"
      ],
      "metadata": {
        "colab": {
          "base_uri": "https://localhost:8080/",
          "height": 70
        },
        "id": "wimlevzZm-w3",
        "outputId": "2eda32f4-c162-4867-bab1-bac3ce08066f"
      },
      "execution_count": null,
      "outputs": [
        {
          "output_type": "execute_result",
          "data": {
            "text/plain": [
              "<IPython.core.display.Markdown object>"
            ],
            "text/markdown": "**Answer:** The expected revenue for the second quarter of 2024 is in the range of $36.5-39 billion.\n\n**Additional information:** This guidance assumes a 1% headwind to year-over-year total revenue growth due to foreign currency exchange rates."
          },
          "metadata": {},
          "execution_count": 45
        }
      ]
    },
    {
      "cell_type": "code",
      "source": [
        "%%time\n",
        "response = qa.invoke(\"What is the overall outlook of Q1 2024?\")"
      ],
      "metadata": {
        "colab": {
          "base_uri": "https://localhost:8080/"
        },
        "id": "YoToCv3znIVB",
        "outputId": "d35b239e-5d0b-4b2f-90a7-b3330f934127"
      },
      "execution_count": null,
      "outputs": [
        {
          "output_type": "stream",
          "name": "stdout",
          "text": [
            "Running pairwise ranking..\n",
            "CPU times: user 2.53 s, sys: 21 ms, total: 2.56 s\n",
            "Wall time: 11.8 s\n"
          ]
        }
      ]
    },
    {
      "cell_type": "code",
      "source": [
        "print_response(response)"
      ],
      "metadata": {
        "colab": {
          "base_uri": "https://localhost:8080/"
        },
        "id": "EFtaBY3Vn09U",
        "outputId": "59993afd-d948-4cff-fc52-465bd4b21364"
      },
      "execution_count": null,
      "outputs": [
        {
          "output_type": "stream",
          "name": "stdout",
          "text": [
            "**Overall Outlook of Q1 2024:**\n",
            "\n",
            "The overall outlook of Q1 2024 is positive. According to Mark Zuckerberg, \"It's been a good start to\n",
            "the year.\" The company has reported strong financial results, with revenue increasing by 27% year-\n",
            "over-year to $36.46 billion. Net income has also increased by 117% year-over-year to $12.37 billion.\n",
            "\n",
            "**Additional Highlights:**\n",
            "\n",
            "* Family daily active people (DAP) increased by 7% year-over-year to 3.24 billion.\n",
            "* Ad impressions increased by 20% year-over-year.\n",
            "* Average price per ad increased by 6% year-over-year.\n",
            "* Capital expenditures were $6.72 billion, and the company plans to continue investing aggressively\n",
            "in AI research and product development.\n",
            "* The company has a strong cash position, with $58.12 billion in cash, cash equivalents, and\n",
            "marketable securities as of March 31, 2024.\n"
          ]
        }
      ]
    },
    {
      "cell_type": "code",
      "source": [
        "Markdown(response[\"result\"])"
      ],
      "metadata": {
        "colab": {
          "base_uri": "https://localhost:8080/",
          "height": 215
        },
        "id": "1YAotUFCPYQT",
        "outputId": "fbe9ae0c-86bb-4f00-e977-965d5539134a"
      },
      "execution_count": null,
      "outputs": [
        {
          "output_type": "execute_result",
          "data": {
            "text/plain": [
              "<IPython.core.display.Markdown object>"
            ],
            "text/markdown": "**Overall Outlook of Q1 2024:**\n\nThe overall outlook of Q1 2024 is positive. According to Mark Zuckerberg, \"It's been a good start to the year.\" The company has reported strong financial results, with revenue increasing by 27% year-over-year to $36.46 billion. Net income has also increased by 117% year-over-year to $12.37 billion.\n\n**Additional Highlights:**\n\n* Family daily active people (DAP) increased by 7% year-over-year to 3.24 billion.\n* Ad impressions increased by 20% year-over-year.\n* Average price per ad increased by 6% year-over-year.\n* Capital expenditures were $6.72 billion, and the company plans to continue investing aggressively in AI research and product development.\n* The company has a strong cash position, with $58.12 billion in cash, cash equivalents, and marketable securities as of March 31, 2024."
          },
          "metadata": {},
          "execution_count": 48
        }
      ]
    },
    {
      "cell_type": "markdown",
      "source": [
        "## References\n",
        "\n",
        "- [Meta Reports First Quarter 2024 Results](https://s21.q4cdn.com/399680738/files/doc_financials/2024/q1/Meta-03-31-2024-Exhibit-99-1_FINAL.pdf)"
      ],
      "metadata": {
        "id": "b9KgJCdYqbI_"
      }
    }
  ]
}
