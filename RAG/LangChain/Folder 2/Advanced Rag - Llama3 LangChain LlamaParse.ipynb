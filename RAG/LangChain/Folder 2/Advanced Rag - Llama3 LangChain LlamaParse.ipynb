{
  "nbformat": 4,
  "nbformat_minor": 0,
  "metadata": {
    "colab": {
      "provenance": [],
      "gpuType": "T4"
    },
    "kernelspec": {
      "name": "python3",
      "display_name": "Python 3"
    },
    "language_info": {
      "name": "python"
    },
    "widgets": {
      "application/vnd.jupyter.widget-state+json": {
        "943a3280636741a0aa5ed3c081b5746e": {
          "model_module": "@jupyter-widgets/controls",
          "model_name": "HBoxModel",
          "model_module_version": "1.5.0",
          "state": {
            "_dom_classes": [],
            "_model_module": "@jupyter-widgets/controls",
            "_model_module_version": "1.5.0",
            "_model_name": "HBoxModel",
            "_view_count": null,
            "_view_module": "@jupyter-widgets/controls",
            "_view_module_version": "1.5.0",
            "_view_name": "HBoxView",
            "box_style": "",
            "children": [
              "IPY_MODEL_c0be7da619204cf784cb886d04df6257",
              "IPY_MODEL_916ce6941cdf4827a3490b2914bd29d8",
              "IPY_MODEL_0c53937350b9481ca1914847d92ffa0b"
            ],
            "layout": "IPY_MODEL_65cace7268ba40c696285b8ff1a38891"
          }
        },
        "c0be7da619204cf784cb886d04df6257": {
          "model_module": "@jupyter-widgets/controls",
          "model_name": "HTMLModel",
          "model_module_version": "1.5.0",
          "state": {
            "_dom_classes": [],
            "_model_module": "@jupyter-widgets/controls",
            "_model_module_version": "1.5.0",
            "_model_name": "HTMLModel",
            "_view_count": null,
            "_view_module": "@jupyter-widgets/controls",
            "_view_module_version": "1.5.0",
            "_view_name": "HTMLView",
            "description": "",
            "description_tooltip": null,
            "layout": "IPY_MODEL_5b65262ad4e94adf9c7fa223585296ee",
            "placeholder": "​",
            "style": "IPY_MODEL_1da95c7587a149549c9f4d02618c6045",
            "value": "Fetching 5 files: 100%"
          }
        },
        "916ce6941cdf4827a3490b2914bd29d8": {
          "model_module": "@jupyter-widgets/controls",
          "model_name": "FloatProgressModel",
          "model_module_version": "1.5.0",
          "state": {
            "_dom_classes": [],
            "_model_module": "@jupyter-widgets/controls",
            "_model_module_version": "1.5.0",
            "_model_name": "FloatProgressModel",
            "_view_count": null,
            "_view_module": "@jupyter-widgets/controls",
            "_view_module_version": "1.5.0",
            "_view_name": "ProgressView",
            "bar_style": "success",
            "description": "",
            "description_tooltip": null,
            "layout": "IPY_MODEL_9eb23c3eb8e04c01a7d16d3fd334c602",
            "max": 5,
            "min": 0,
            "orientation": "horizontal",
            "style": "IPY_MODEL_a5b4487bd667485191467cad8345399b",
            "value": 5
          }
        },
        "0c53937350b9481ca1914847d92ffa0b": {
          "model_module": "@jupyter-widgets/controls",
          "model_name": "HTMLModel",
          "model_module_version": "1.5.0",
          "state": {
            "_dom_classes": [],
            "_model_module": "@jupyter-widgets/controls",
            "_model_module_version": "1.5.0",
            "_model_name": "HTMLModel",
            "_view_count": null,
            "_view_module": "@jupyter-widgets/controls",
            "_view_module_version": "1.5.0",
            "_view_name": "HTMLView",
            "description": "",
            "description_tooltip": null,
            "layout": "IPY_MODEL_b1afb5bca66f46858525e85ec8b1a21b",
            "placeholder": "​",
            "style": "IPY_MODEL_d564ad87d6ad4b92bde3d1d471e59b81",
            "value": " 5/5 [00:00&lt;00:00, 303.15it/s]"
          }
        },
        "65cace7268ba40c696285b8ff1a38891": {
          "model_module": "@jupyter-widgets/base",
          "model_name": "LayoutModel",
          "model_module_version": "1.2.0",
          "state": {
            "_model_module": "@jupyter-widgets/base",
            "_model_module_version": "1.2.0",
            "_model_name": "LayoutModel",
            "_view_count": null,
            "_view_module": "@jupyter-widgets/base",
            "_view_module_version": "1.2.0",
            "_view_name": "LayoutView",
            "align_content": null,
            "align_items": null,
            "align_self": null,
            "border": null,
            "bottom": null,
            "display": null,
            "flex": null,
            "flex_flow": null,
            "grid_area": null,
            "grid_auto_columns": null,
            "grid_auto_flow": null,
            "grid_auto_rows": null,
            "grid_column": null,
            "grid_gap": null,
            "grid_row": null,
            "grid_template_areas": null,
            "grid_template_columns": null,
            "grid_template_rows": null,
            "height": null,
            "justify_content": null,
            "justify_items": null,
            "left": null,
            "margin": null,
            "max_height": null,
            "max_width": null,
            "min_height": null,
            "min_width": null,
            "object_fit": null,
            "object_position": null,
            "order": null,
            "overflow": null,
            "overflow_x": null,
            "overflow_y": null,
            "padding": null,
            "right": null,
            "top": null,
            "visibility": null,
            "width": null
          }
        },
        "5b65262ad4e94adf9c7fa223585296ee": {
          "model_module": "@jupyter-widgets/base",
          "model_name": "LayoutModel",
          "model_module_version": "1.2.0",
          "state": {
            "_model_module": "@jupyter-widgets/base",
            "_model_module_version": "1.2.0",
            "_model_name": "LayoutModel",
            "_view_count": null,
            "_view_module": "@jupyter-widgets/base",
            "_view_module_version": "1.2.0",
            "_view_name": "LayoutView",
            "align_content": null,
            "align_items": null,
            "align_self": null,
            "border": null,
            "bottom": null,
            "display": null,
            "flex": null,
            "flex_flow": null,
            "grid_area": null,
            "grid_auto_columns": null,
            "grid_auto_flow": null,
            "grid_auto_rows": null,
            "grid_column": null,
            "grid_gap": null,
            "grid_row": null,
            "grid_template_areas": null,
            "grid_template_columns": null,
            "grid_template_rows": null,
            "height": null,
            "justify_content": null,
            "justify_items": null,
            "left": null,
            "margin": null,
            "max_height": null,
            "max_width": null,
            "min_height": null,
            "min_width": null,
            "object_fit": null,
            "object_position": null,
            "order": null,
            "overflow": null,
            "overflow_x": null,
            "overflow_y": null,
            "padding": null,
            "right": null,
            "top": null,
            "visibility": null,
            "width": null
          }
        },
        "1da95c7587a149549c9f4d02618c6045": {
          "model_module": "@jupyter-widgets/controls",
          "model_name": "DescriptionStyleModel",
          "model_module_version": "1.5.0",
          "state": {
            "_model_module": "@jupyter-widgets/controls",
            "_model_module_version": "1.5.0",
            "_model_name": "DescriptionStyleModel",
            "_view_count": null,
            "_view_module": "@jupyter-widgets/base",
            "_view_module_version": "1.2.0",
            "_view_name": "StyleView",
            "description_width": ""
          }
        },
        "9eb23c3eb8e04c01a7d16d3fd334c602": {
          "model_module": "@jupyter-widgets/base",
          "model_name": "LayoutModel",
          "model_module_version": "1.2.0",
          "state": {
            "_model_module": "@jupyter-widgets/base",
            "_model_module_version": "1.2.0",
            "_model_name": "LayoutModel",
            "_view_count": null,
            "_view_module": "@jupyter-widgets/base",
            "_view_module_version": "1.2.0",
            "_view_name": "LayoutView",
            "align_content": null,
            "align_items": null,
            "align_self": null,
            "border": null,
            "bottom": null,
            "display": null,
            "flex": null,
            "flex_flow": null,
            "grid_area": null,
            "grid_auto_columns": null,
            "grid_auto_flow": null,
            "grid_auto_rows": null,
            "grid_column": null,
            "grid_gap": null,
            "grid_row": null,
            "grid_template_areas": null,
            "grid_template_columns": null,
            "grid_template_rows": null,
            "height": null,
            "justify_content": null,
            "justify_items": null,
            "left": null,
            "margin": null,
            "max_height": null,
            "max_width": null,
            "min_height": null,
            "min_width": null,
            "object_fit": null,
            "object_position": null,
            "order": null,
            "overflow": null,
            "overflow_x": null,
            "overflow_y": null,
            "padding": null,
            "right": null,
            "top": null,
            "visibility": null,
            "width": null
          }
        },
        "a5b4487bd667485191467cad8345399b": {
          "model_module": "@jupyter-widgets/controls",
          "model_name": "ProgressStyleModel",
          "model_module_version": "1.5.0",
          "state": {
            "_model_module": "@jupyter-widgets/controls",
            "_model_module_version": "1.5.0",
            "_model_name": "ProgressStyleModel",
            "_view_count": null,
            "_view_module": "@jupyter-widgets/base",
            "_view_module_version": "1.2.0",
            "_view_name": "StyleView",
            "bar_color": null,
            "description_width": ""
          }
        },
        "b1afb5bca66f46858525e85ec8b1a21b": {
          "model_module": "@jupyter-widgets/base",
          "model_name": "LayoutModel",
          "model_module_version": "1.2.0",
          "state": {
            "_model_module": "@jupyter-widgets/base",
            "_model_module_version": "1.2.0",
            "_model_name": "LayoutModel",
            "_view_count": null,
            "_view_module": "@jupyter-widgets/base",
            "_view_module_version": "1.2.0",
            "_view_name": "LayoutView",
            "align_content": null,
            "align_items": null,
            "align_self": null,
            "border": null,
            "bottom": null,
            "display": null,
            "flex": null,
            "flex_flow": null,
            "grid_area": null,
            "grid_auto_columns": null,
            "grid_auto_flow": null,
            "grid_auto_rows": null,
            "grid_column": null,
            "grid_gap": null,
            "grid_row": null,
            "grid_template_areas": null,
            "grid_template_columns": null,
            "grid_template_rows": null,
            "height": null,
            "justify_content": null,
            "justify_items": null,
            "left": null,
            "margin": null,
            "max_height": null,
            "max_width": null,
            "min_height": null,
            "min_width": null,
            "object_fit": null,
            "object_position": null,
            "order": null,
            "overflow": null,
            "overflow_x": null,
            "overflow_y": null,
            "padding": null,
            "right": null,
            "top": null,
            "visibility": null,
            "width": null
          }
        },
        "d564ad87d6ad4b92bde3d1d471e59b81": {
          "model_module": "@jupyter-widgets/controls",
          "model_name": "DescriptionStyleModel",
          "model_module_version": "1.5.0",
          "state": {
            "_model_module": "@jupyter-widgets/controls",
            "_model_module_version": "1.5.0",
            "_model_name": "DescriptionStyleModel",
            "_view_count": null,
            "_view_module": "@jupyter-widgets/base",
            "_view_module_version": "1.2.0",
            "_view_name": "StyleView",
            "description_width": ""
          }
        }
      }
    },
    "accelerator": "GPU"
  },
  "cells": [
    {
      "cell_type": "code",
      "execution_count": 1,
      "metadata": {
        "id": "3-wvIiFhkBYR",
        "colab": {
          "base_uri": "https://localhost:8080/"
        },
        "outputId": "7ae4aa5c-2279-4c92-e2af-05c2eac2808b"
      },
      "outputs": [
        {
          "output_type": "stream",
          "name": "stdout",
          "text": [
            "  Preparing metadata (setup.py) ... \u001b[?25l\u001b[?25hdone\n",
            "  Building wheel for langdetect (setup.py) ... \u001b[?25l\u001b[?25hdone\n",
            "\u001b[31mERROR: pip's dependency resolver does not currently take into account all the packages that are installed. This behaviour is the source of the following dependency conflicts.\n",
            "transformers 4.41.2 requires huggingface-hub<1.0,>=0.23.0, but you have huggingface-hub 0.20.3 which is incompatible.\n",
            "transformers 4.41.2 requires tokenizers<0.20,>=0.19, but you have tokenizers 0.15.2 which is incompatible.\u001b[0m\u001b[31m\n",
            "\u001b[0m  Installing build dependencies ... \u001b[?25l\u001b[?25hdone\n",
            "  Getting requirements to build wheel ... \u001b[?25l\u001b[?25hdone\n",
            "  Installing backend dependencies ... \u001b[?25l\u001b[?25hdone\n",
            "  Preparing metadata (pyproject.toml) ... \u001b[?25l\u001b[?25hdone\n",
            "  Building wheel for llama-cpp-python (pyproject.toml) ... \u001b[?25l\u001b[?25hdone\n",
            "\u001b[31mERROR: pip's dependency resolver does not currently take into account all the packages that are installed. This behaviour is the source of the following dependency conflicts.\n",
            "langchain-groq 0.1.3 requires langchain-core<0.2.0,>=0.1.45, but you have langchain-core 0.2.9 which is incompatible.\u001b[0m\u001b[31m\n",
            "\u001b[0m"
          ]
        }
      ],
      "source": [
        "!pip -qqq install pip --progress-bar off\n",
        "!pip -qqq install langchain-groq==0.1.3 --progress-bar off\n",
        "!pip -qqq install langchain==0.1.17 --progress-bar off\n",
        "!pip -qqq install llama-parse==0.1.3 --progress-bar off\n",
        "!pip -qqq install \"unstructured[md]\"==0.13.6 --progress-bar off\n",
        "!pip -qqq install fastembed==0.2.7 --progress-bar off\n",
        "!pip -qqq install flashrank==0.2.4 --progress-bar off\n",
        "!pip -qqq install faiss-cpu==1.8.0 --progress-bar off\n",
        "!pip -qqq install langchain-community==0.2.5 --progress-bar off"
      ]
    },
    {
      "cell_type": "code",
      "source": [
        "import os\n",
        "import textwrap\n",
        "from pathlib import Path\n",
        "\n",
        "from google.colab import userdata\n",
        "from IPython.display import Markdown\n",
        "from langchain.schema import Document\n",
        "from langchain.chains import RetrievalQA\n",
        "from langchain.prompts import PromptTemplate\n",
        "from langchain_community.vectorstores import FAISS\n",
        "from langchain.retrievers import ContextualCompressionRetriever\n",
        "from langchain.retrievers.document_compressors import FlashrankRerank\n",
        "from langchain.text_splitter import RecursiveCharacterTextSplitter\n",
        "from langchain.vectorstores import Qdrant\n",
        "from langchain_community.document_loaders import UnstructuredMarkdownLoader\n",
        "from langchain_community.embeddings.fastembed import FastEmbedEmbeddings\n",
        "from langchain_core.prompts import ChatPromptTemplate\n",
        "from langchain_groq import ChatGroq\n",
        "from llama_parse import LlamaParse"
      ],
      "metadata": {
        "id": "WH_J7_kol_ay"
      },
      "execution_count": 49,
      "outputs": []
    },
    {
      "cell_type": "code",
      "source": [
        "!mkdir data\n",
        "!gdown 1ee-BhQiH-S9a2IkHiFbJz9eX_SfcZ5m9 -O \"data/meta-earnings.pdf\""
      ],
      "metadata": {
        "id": "59M0lL4vjkGW",
        "colab": {
          "base_uri": "https://localhost:8080/"
        },
        "outputId": "8e579c59-1627-476a-9e15-e39dde010936"
      },
      "execution_count": 50,
      "outputs": [
        {
          "output_type": "stream",
          "name": "stdout",
          "text": [
            "mkdir: cannot create directory ‘data’: File exists\n",
            "Downloading...\n",
            "From: https://drive.google.com/uc?id=1ee-BhQiH-S9a2IkHiFbJz9eX_SfcZ5m9\n",
            "To: /content/data/meta-earnings.pdf\n",
            "100% 160k/160k [00:00<00:00, 115MB/s]\n"
          ]
        }
      ]
    },
    {
      "cell_type": "markdown",
      "source": [
        "## Document Parsing & Spliting"
      ],
      "metadata": {
        "id": "z6kHJJRDvawJ"
      }
    },
    {
      "cell_type": "code",
      "source": [
        "from google.colab import userdata"
      ],
      "metadata": {
        "id": "sYA7ClBmNFu5"
      },
      "execution_count": 51,
      "outputs": []
    },
    {
      "cell_type": "code",
      "source": [
        "LLAMA_PARSE_API_KEY = userdata.get(\"LLAMA_PARSE_API_KEY\")\n",
        "\n",
        "instruction = \"\"\"The provided document is a delivery chalan or invoice.\n",
        "This form provides detailed chalan or invoice information about the company's performance for a specific quarter.\n",
        "It includes unaudited invoice statements, management discussion and analysis, and other relevant disclosures required by the SEC.\n",
        "It contains many tables.\n",
        "Try to be precise while answering the questions\"\"\"\n",
        "\n",
        "parser = LlamaParse(\n",
        "    api_key = userdata.get(\"LLAMA_PARSE_API_KEY\"),\n",
        "    result_type = \"markdown\",\n",
        "    parsing_instruction = instruction,\n",
        "    max_timeout = 5000,\n",
        ")\n",
        "\n",
        "llama_parse_documents = await parser.aload_data(\"data/meta-earnings.pdf\")\n",
        "# https://arxiv.org/pdf/1411.1784\n",
        "# data/meta-earnings.pdf\n",
        "\n",
        "parsed_doc = llama_parse_documents[0]\n",
        "\n",
        "# Option - 1\n",
        "# document_path = Path(\"parsed_document.md\")\n",
        "# with document_path.open(\"a\") as f:\n",
        "#     f.write(parsed_doc.text)\n",
        "# loader = UnstructuredMarkdownLoader(document_path)\n",
        "# loaded_documents = loader.load()\n",
        "\n",
        "# Option - 2\n",
        "loaded_documents = Document(page_content = parsed_doc.text,\n",
        "                            metadata={\"source\": \"A delivery chalan or invoice.\"})\n",
        "loaded_documents = [loaded_documents]\n",
        "\n",
        "text_splitter = RecursiveCharacterTextSplitter(chunk_size = 2000, chunk_overlap = 400)\n",
        "docs = text_splitter.split_documents(loaded_documents)"
      ],
      "metadata": {
        "colab": {
          "base_uri": "https://localhost:8080/"
        },
        "id": "eHRFF7lF0gV2",
        "outputId": "543e016c-7e61-4a06-a7ac-9142081ba139"
      },
      "execution_count": 85,
      "outputs": [
        {
          "output_type": "stream",
          "name": "stdout",
          "text": [
            "Started parsing the file under job_id cac11eca-64ea-45c2-83aa-6f3feec86457\n"
          ]
        }
      ]
    },
    {
      "cell_type": "code",
      "source": [
        "Markdown(parsed_doc.text)"
      ],
      "metadata": {
        "colab": {
          "base_uri": "https://localhost:8080/",
          "height": 1000
        },
        "id": "wuH2mv2HI8h-",
        "outputId": "07087802-a6ff-437e-a040-8a257b49e1e9"
      },
      "execution_count": 95,
      "outputs": [
        {
          "output_type": "execute_result",
          "data": {
            "text/plain": [
              "<IPython.core.display.Markdown object>"
            ],
            "text/markdown": "# Meta Reports First Quarter 2024 Results\n\nMENLO PARK, Calif. – April 24, 2024 – Meta Platforms, Inc. (Nasdaq: META) today reported financial results for the quarter ended March 31, 2024.\n\n\"It's been a good start to the year,\" said Mark Zuckerberg, Meta founder and CEO. \"The new version of Meta AI with Llama 3 is another step towards building the world's leading AI. We're seeing healthy growth across our apps and we continue making steady progress building the metaverse as well.\"\n\n# First Quarter 2024 Financial Highlights\n\n|In millions, except percentages and per share amounts|Three Months Ended March 31,|2024|2023|% Change|\n|---|---|---|---|---|\n|Revenue|$36,455|$28,645|27%| |\n|Costs and expenses|$22,637|$21,418|6%| |\n|Income from operations|$13,818|$7,227|91%| |\n|Operating margin| |38%|25%| |\n|Provision for income taxes|$1,814|$1,598|14%| |\n|Effective tax rate| |13%|22%| |\n|Net income|$12,369|$5,709|117%| |\n|Diluted earnings per share (EPS)|$4.71|$2.20|114%| |\n\n# First Quarter 2024 Operational and Other Financial Highlights\n\n- Family daily active people (DAP) – DAP was 3.24 billion on average for March 2024, an increase of 7% year-over-year.\n- Ad impressions – Ad impressions delivered across our Family of Apps increased by 20% year-over-year.\n- Average price per ad – Average price per ad increased by 6% year-over-year.\n- Revenue – Total revenue and revenue on a constant currency basis were $36.46 billion and $36.35 billion, respectively, both of which increased by 27% year-over-year.\n- Costs and expenses – Total costs and expenses were $22.64 billion, an increase of 6% year-over-year.\n- Capital expenditures – Capital expenditures, including principal payments on finance leases, were $6.72 billion.\n- Capital return program – Share repurchases were $14.64 billion of our Class A common stock and dividends payments were $1.27 billion.\n- Cash, cash equivalents, and marketable securities – Cash, cash equivalents, and marketable securities were $58.12 billion as of March 31, 2024. Free cash flow was $12.53 billion.\n- Headcount – Headcount was 69,329 as of March 31, 2024, a decrease of 10% year-over-year.\n---\n# CFO Outlook Commentary\n\nWe expect second quarter 2024 total revenue to be in the range of $36.5-39 billion. Our guidance assumes foreign currency is a 1% headwind to year-over-year total revenue growth, based on current exchange rates.\n\nWe expect full-year 2024 total expenses to be in the range of $96-99 billion, updated from our prior outlook of $94-99 billion due to higher infrastructure and legal costs. For Reality Labs, we continue to expect operating losses to increase meaningfully year-over-year due to our ongoing product development efforts and our investments to further scale our ecosystem.\n\nWe anticipate our full-year 2024 capital expenditures will be in the range of $35-40 billion, increased from our prior range of $30-37 billion as we continue to accelerate our infrastructure investments to support our artificial intelligence (AI) roadmap. While we are not providing guidance for years beyond 2024, we expect capital expenditures will continue to increase next year as we invest aggressively to support our ambitious AI research and product development efforts.\n\nAbsent any changes to our tax landscape, we expect our full-year 2024 tax rate to be in the mid-teens.\n\nIn addition, we continue to monitor an active regulatory landscape, including the increasing legal and regulatory headwinds in the EU and the U.S. that could significantly impact our business and our financial results.\n\nQ1 was a good start to the year. We're seeing strong momentum within our Family of Apps and are making important progress on our longer-term AI and Reality Labs initiatives that have the potential to transform the way people interact with our services over the coming years.\n---\nWebcast and Conference Call Information\n\nMeta will host a conference call to discuss the results at 2:00 p.m. PT / 5:00 p.m. ET today. The live webcast of Meta's earnings conference call can be accessed at investor.fb.com, along with the earnings press release, financial tables, and slide presentation. Meta uses the investor.fb.com and about.fb.com/news/ websites as well as Mark Zuckerberg's Facebook Page (facebook.com/zuck), Instagram account (instagram.com/zuck), and Threads profile (threads.net/zuck) as means of disclosing material non-public information and for complying with its disclosure obligations under Regulation FD.\n\nFollowing the call, a replay will be available at the same website. Transcripts of conference calls with publishing equity research analysts held today will also be posted to the investor.fb.com website.\n\nAbout Meta\n\nMeta builds technologies that help people connect, find communities, and grow businesses. When Facebook launched in 2004, it changed the way people connect. Apps like Messenger, Instagram, and WhatsApp further empowered billions around the world. Now, Meta is moving beyond 2D screens toward immersive experiences like augmented and virtual reality to help build the next evolution in social technology.\n\nContacts\n\nInvestors:\n\nInvestors:\nKenneth Dorell\ninvestor@meta.com / investor.fb.com\nPress:\n\nPress:\nRyan Moore\npress@meta.com / about.fb.com/news/\n---\nForward-Looking Statements\n\nThis press release contains forward-looking statements regarding our future business plans and expectations. These forward-looking statements are only predictions and may differ materially from actual results due to a variety of factors including: the impact of macroeconomic conditions on our business and financial results, including as a result of geopolitical events; our ability to retain or increase users and engagement levels; our reliance on advertising revenue; our dependency on data signals and mobile operating systems, networks, and standards that we do not control; changes to the content or application of third-party policies that impact our advertising practices; risks associated with new products and changes to existing products as well as other new business initiatives, including our artificial intelligence initiatives and metaverse efforts; our emphasis on community growth and engagement and the user experience over short-term financial results; maintaining and enhancing our brand and reputation; our ongoing privacy, safety, security, and content review efforts; competition; risks associated with government actions that could restrict access to our products or impair our ability to sell advertising in certain countries; litigation and government inquiries; privacy, legislative, and regulatory concerns or developments; risks associated with acquisitions; security breaches; our ability to manage our scale and geographically-dispersed operations; and market conditions or other factors affecting the payment of dividends. These and other potential risks and uncertainties that could cause actual results to differ from the results predicted are more fully detailed under the caption \"Risk Factors\" in our Annual Report on Form 10-K filed with the SEC on February 2, 2024, which is available on our Investor Relations website at investor.fb.com and on the SEC website at www.sec.gov. Additional information will also be set forth in our Quarterly Report on Form 10-Q for the quarter ended March 31, 2024. In addition, please note that the date of this press release is April 24, 2024, and any forward-looking statements contained herein are based on assumptions that we believe to be reasonable as of this date. We undertake no obligation to update these statements as a result of new information or future events.\n\nFor a discussion of limitations in the measurement of certain of our community metrics, see the section entitled \"Limitations of Key Metrics and Other Data\" in our most recent quarterly or annual report filed with the SEC.\n\nNon-GAAP Financial Measures\n\nTo supplement our condensed consolidated financial statements, which are prepared and presented in accordance with generally accepted accounting principles in the United States (GAAP), we use the following non-GAAP financial measures: revenue excluding foreign exchange effect, advertising revenue excluding foreign exchange effect, and free cash flow. The presentation of these financial measures is not intended to be considered in isolation or as a substitute for, or superior to, financial information prepared and presented in accordance with GAAP. Investors are cautioned that there are material limitations associated with the use of non-GAAP financial measures as an analytical tool. In addition, these measures may be different from non-GAAP financial measures used by other companies, limiting their usefulness for comparison purposes. We compensate for these limitations by providing specific information regarding the GAAP amounts excluded from these non-GAAP financial measures.\n\nWe believe these non-GAAP financial measures provide investors with useful supplemental information about the financial performance of our business, enable comparison of financial results between periods where certain items may vary independent of business performance, and allow for greater transparency with respect to key metrics used by management in operating our business.\n\nOur non-GAAP financial measures are adjusted for the following items:\n\nForeign exchange effect on revenue. We translated revenue for the three months ended March 31, 2024 using the prior year's monthly exchange rates for our settlement or billing currencies other than the U.S. dollar, which we believe is a useful metric that facilitates comparison to our historical performance.\n\nPurchases of property and equipment; Principal payments on finance leases. We subtract both purchases of property and equipment, net of proceeds and principal payments on finance leases in our calculation of free cash flow because we believe that these two items collectively represent the amount of property and equipment we need to procure to support our business, regardless of whether we procure such property or equipment with a finance lease. We believe that this methodology can provide useful supplemental information to help investors better understand underlying trends in our business. Free cash flow is not intended to represent our residual cash flow available for discretionary expenditures.\n\nFor more information on our non-GAAP financial measures and a reconciliation of GAAP to non-GAAP measures, please see the \"Reconciliation of GAAP to Non-GAAP Results\" table in this press release.\n\n4\n---\n# META PLATFORMS, INC.\n\n# CONDENSED CONSOLIDATED STATEMENTS OF INCOME\n\n(In millions, except per share amounts)\n\n(Unaudited)\n\n| |Three Months Ended March 31, 2024|Three Months Ended March 31, 2023|\n|---|---|---|\n|Revenue|$36,455|$28,645|\n|Costs and expenses:| | |\n|Cost of revenue|6,640|6,108|\n|Research and development|9,978|9,381|\n|Marketing and sales|2,564|3,044|\n|General and administrative|3,455|2,885|\n|Total costs and expenses|22,637|21,418|\n|Income from operations|13,818|7,227|\n|Interest and other income, net|365|80|\n|Income before provision for income taxes|14,183|7,307|\n|Provision for income taxes|1,814|1,598|\n|Net income|$12,369|$5,709|\n|Earnings per share:| | |\n|Basic|$4.86|$2.21|\n|Diluted|$4.71|$2.20|\n|Weighted-average shares used to compute earnings per share:| | |\n|Basic|2,545|2,587|\n|Diluted|2,625|2,596|\n---\n# META PLATFORMS, INC.\n\n# CONDENSED CONSOLIDATED BALANCE SHEETS\n\n| |March 31, 2024|December 31, 2023|\n|---|---|---|\n|Assets| | |\n|Current assets:| | |\n|Cash and cash equivalents|$32,307|$41,862|\n|Marketable securities|25,813|23,541|\n|Accounts receivable, net|13,430|16,169|\n|Prepaid expenses and other current assets|3,780|3,793|\n|Total current assets|75,330|85,365|\n|Non-marketable equity securities|6,218|6,141|\n|Property and equipment, net|98,908|96,587|\n|Operating lease right-of-use assets|13,555|13,294|\n|Goodwill|20,654|20,654|\n|Other assets|8,179|7,582|\n|Total assets|$222,844|$229,623|\n|Liabilities and stockholders' equity| | |\n|Current liabilities:| | |\n|Accounts payable|$3,785|$4,849|\n|Operating lease liabilities, current|1,676|1,623|\n|Accrued expenses and other current liabilities|22,640|25,488|\n|Total current liabilities|28,101|31,960|\n|Operating lease liabilities, non-current|17,570|17,226|\n|Long-term debt|18,387|18,385|\n|Long-term income taxes|7,795|7,514|\n|Other liabilities|1,462|1,370|\n|Total liabilities|73,315|76,455|\n|Commitments and contingencies| | |\n|Stockholders' equity:| | |\n|Common stock and additional paid-in capital|75,391|73,253|\n|Accumulated other comprehensive loss|(2,655)|(2,155)|\n|Retained earnings|76,793|82,070|\n|Total stockholders' equity|149,529|153,168|\n|Total liabilities and stockholders' equity|$222,844|$229,623|\n---\n# CONDENSED CONSOLIDATED STATEMENTS OF CASH FLOWS\n\n| |Three Months Ended March 31, 2024|Three Months Ended March 31, 2023|\n|---|---|---|\n|Net income|$12,369|$5,709|\n|Adjustments to reconcile net income to net cash provided by operating activities:| | |\n|Depreciation and amortization|3,374|2,524|\n|Share-based compensation|3,562|3,051|\n|Deferred income taxes|-456|-620|\n|Impairment charges for facilities consolidation, net|240|770|\n|Other|-66|-7|\n|Changes in assets and liabilities:| | |\n|Accounts receivable|2,520|2,546|\n|Prepaid expenses and other current assets|100|821|\n|Other assets|-94|30|\n|Accounts payable|-1,112|-1,104|\n|Accrued expenses and other current liabilities|-1,274|94|\n|Other liabilities|83|184|\n|Net cash provided by operating activities|19,246|13,998|\n|Cash flows from investing activities| | |\n|Purchases of property and equipment, net|-6,400|-6,823|\n|Purchases of marketable debt securities|-6,887|-85|\n|Sales and maturities of marketable debt securities|4,625|534|\n|Acquisitions of businesses and intangible assets|-72|-444|\n|Other investing activities| |75|\n|Net cash used in investing activities|-8,734|-6,743|\n|Cash flows from financing activities| | |\n|Taxes paid related to net share settlement of equity awards|-3,162|-1,009|\n|Repurchases of Class A common stock|-15,008|-9,365|\n|Dividends payments|-1,273|0|\n|Principal payments on finance leases|-315|-264|\n|Other financing activities|-9|122|\n|Net cash used in financing activities|-19,767|-10,516|\n|Effect of exchange rate changes on cash, cash equivalents, and restricted cash|-288|85|\n|Net decrease in cash, cash equivalents, and restricted cash|-9,543|-3,176|\n|Cash, cash equivalents, and restricted cash at beginning of the period|42,827|15,596|\n|Cash, cash equivalents, and restricted cash at end of the period|$33,284|$12,420|\n\n# Reconciliation of cash, cash equivalents, and restricted cash to the condensed consolidated balance sheets\n\n|Cash and cash equivalents|$32,307|$11,551|\n|---|---|---|\n|Restricted cash, included in prepaid expenses and other current assets|84|224|\n|Restricted cash, included in other assets|893|645|\n|Total cash, cash equivalents, and restricted cash|$33,284|$12,420|\n---\n# META PLATFORMS, INC.\n\n# CONDENSED CONSOLIDATED STATEMENTS OF CASH FLOWS\n\n| |Three Months Ended March 31, 2024|Three Months Ended March 31, 2023|\n|---|---|---|\n|Supplemental cash flow data| | |\n|Cash paid for income taxes, net|$630|$405|\n|Cash paid for interest, net of amounts capitalized|$121|$182|\n|Non-cash investing and financing activities:| | |\n|Property and equipment in accounts payable and accrued expenses and other current liabilities|$4,217|$4,466|\n|Acquisition of businesses in accrued expenses and other current liabilities and other liabilities|$116|$263|\n---\n# Segment Results\n\nWe report our financial results for our two reportable segments: Family of Apps (FoA) and Reality Labs (RL). FoA includes Facebook, Instagram, Messenger, WhatsApp, and other services. RL includes our virtual, augmented, and mixed reality related consumer hardware, software, and content.\n\n**Segment Information**\n| |(In millions)|(In millions)|\n|---|---|\n| |Three Months Ended March 31, 2024|Three Months Ended March 31, 2023|\n|Revenue:|$35,635|$28,101|\n|Advertising| | |\n|Other revenue|$380|$205|\n|Family of Apps|$36,015|$28,306|\n|Reality Labs|$440|$339|\n|Total revenue|$36,455|$28,645|\n|Income (loss) from operations:|$17,664|$11,219|\n|Family of Apps| | |\n|Reality Labs|($3,846)|($3,992)|\n|Total income from operations|$13,818|$7,227|\n---\n# Reconciliation of GAAP to Non-GAAP Results\n\n| |Three Months Ended March 31, 2024|Three Months Ended March 31, 2023|\n|---|---|---|\n|GAAP revenue|$36,455|$28,645|\n|Foreign exchange effect on 2024 revenue using 2023 rates|($106)|($106)|\n|Revenue excluding foreign exchange effect|$36,349| |\n|GAAP revenue year-over-year change %|27%| |\n|Revenue excluding foreign exchange effect year-over-year change %|27%| |\n|GAAP advertising revenue|$35,635|$28,101|\n|Foreign exchange effect on 2024 advertising revenue using 2023 rates|($105)|($105)|\n|Advertising revenue excluding foreign exchange effect|$35,530| |\n|GAAP advertising revenue year-over-year change %|27%| |\n|Advertising revenue excluding foreign exchange effect year-over-year change %|26%| |\n\n|Net cash provided by operating activities|$19,246|$13,998|\n|---|---|---|\n|Purchases of property and equipment, net|($6,400)|($6,823)|\n|Principal payments on finance leases|($315)|($264)|\n|Free cash flow|$12,531|$6,911|"
          },
          "metadata": {},
          "execution_count": 95
        }
      ]
    },
    {
      "cell_type": "code",
      "source": [
        "# from pathlib import PosixPath\n",
        "# PosixPath('parsed_document.md')"
      ],
      "metadata": {
        "id": "_TwRBrZQEaID"
      },
      "execution_count": 87,
      "outputs": []
    },
    {
      "cell_type": "markdown",
      "source": [
        "## Vector Embeddings & Retriver"
      ],
      "metadata": {
        "id": "yF5y2-L0vfLM"
      }
    },
    {
      "cell_type": "code",
      "source": [
        "HF_TOKEN = userdata.get(\"HF_TOKEN\")\n",
        "embeddings = FastEmbedEmbeddings(model_name=\"BAAI/bge-base-en-v1.5\")\n",
        "\n",
        "database = FAISS.from_documents(docs, embeddings)"
      ],
      "metadata": {
        "colab": {
          "base_uri": "https://localhost:8080/",
          "height": 49,
          "referenced_widgets": [
            "943a3280636741a0aa5ed3c081b5746e",
            "c0be7da619204cf784cb886d04df6257",
            "916ce6941cdf4827a3490b2914bd29d8",
            "0c53937350b9481ca1914847d92ffa0b",
            "65cace7268ba40c696285b8ff1a38891",
            "5b65262ad4e94adf9c7fa223585296ee",
            "1da95c7587a149549c9f4d02618c6045",
            "9eb23c3eb8e04c01a7d16d3fd334c602",
            "a5b4487bd667485191467cad8345399b",
            "b1afb5bca66f46858525e85ec8b1a21b",
            "d564ad87d6ad4b92bde3d1d471e59b81"
          ]
        },
        "id": "8cUnzAwi-iNE",
        "outputId": "7c153e36-517e-48a0-d4c1-4183f0204c4e"
      },
      "execution_count": 88,
      "outputs": [
        {
          "output_type": "display_data",
          "data": {
            "text/plain": [
              "Fetching 5 files:   0%|          | 0/5 [00:00<?, ?it/s]"
            ],
            "application/vnd.jupyter.widget-view+json": {
              "version_major": 2,
              "version_minor": 0,
              "model_id": "943a3280636741a0aa5ed3c081b5746e"
            }
          },
          "metadata": {}
        }
      ]
    },
    {
      "cell_type": "code",
      "source": [
        "retriever = database.as_retriever(search_kwargs={\"k\": 5})"
      ],
      "metadata": {
        "id": "pcYQO28-_pE6"
      },
      "execution_count": 89,
      "outputs": []
    },
    {
      "cell_type": "markdown",
      "source": [
        "## Reranking"
      ],
      "metadata": {
        "id": "SS5zSz0lvnu3"
      }
    },
    {
      "cell_type": "code",
      "source": [
        "compressor = FlashrankRerank(model=\"ms-marco-MiniLM-L-12-v2\")\n",
        "compression_retriever = ContextualCompressionRetriever(\n",
        "    base_compressor = compressor, base_retriever = retriever\n",
        ")"
      ],
      "metadata": {
        "id": "83P_6ysFzSxC"
      },
      "execution_count": 90,
      "outputs": []
    },
    {
      "cell_type": "markdown",
      "source": [
        "## Q&A Over Document"
      ],
      "metadata": {
        "id": "3ra-bCZzvrFy"
      }
    },
    {
      "cell_type": "code",
      "source": [
        "os.environ[\"GROQ_API_KEY\"] = userdata.get(\"GROQ_API_KEY\")\n",
        "llm = ChatGroq(temperature = 0,\n",
        "               model_name = \"llama3-70b-8192\",\n",
        "               max_tokens = 3024)"
      ],
      "metadata": {
        "id": "tjOym5svzy2j"
      },
      "execution_count": 91,
      "outputs": []
    },
    {
      "cell_type": "code",
      "source": [
        "prompt_template = \"\"\"\n",
        "Use the following pieces of information to answer the user's question.\n",
        "If you don't know the answer, just say that you don't know, don't try to make up an answer.\n",
        "\n",
        "Context: {context}\n",
        "Question: {question}\n",
        "\n",
        "Answer the question and provide additional helpful information,\n",
        "based on the pieces of information, if applicable. Be succinct.\n",
        "\n",
        "Responses should be properly formatted to be easily read.\n",
        "\"\"\"\n",
        "\n",
        "prompt = PromptTemplate(template = prompt_template,\n",
        "                        input_variables = [\"context\", \"question\"])"
      ],
      "metadata": {
        "id": "4iqfuyMaBe6j"
      },
      "execution_count": 92,
      "outputs": []
    },
    {
      "cell_type": "code",
      "source": [
        "qa = RetrievalQA.from_chain_type(\n",
        "    llm = llm,\n",
        "    chain_type = \"stuff\",\n",
        "    retriever = compression_retriever,\n",
        "    return_source_documents = True,\n",
        "    chain_type_kwargs = {\"prompt\" : prompt, \"verbose\" : False},\n",
        ")"
      ],
      "metadata": {
        "id": "sz2aMwNWBxvg"
      },
      "execution_count": 93,
      "outputs": []
    },
    {
      "cell_type": "code",
      "source": [
        "# query = \"Share all the tabular information in details. Share your response in table format.\"\n",
        "query = \"Share the details about 'First Quarter 2024 Financial Highlights'. Share your response in table format.\"\n",
        "response = qa.invoke(str(query))\n",
        "Markdown(response[\"result\"])"
      ],
      "metadata": {
        "colab": {
          "base_uri": "https://localhost:8080/",
          "height": 460
        },
        "id": "J8lBIegHT0Y6",
        "outputId": "c6487600-96ae-49f4-a4e6-0eedb0aacefc"
      },
      "execution_count": 94,
      "outputs": [
        {
          "output_type": "stream",
          "name": "stdout",
          "text": [
            "Running pairwise ranking..\n"
          ]
        },
        {
          "output_type": "execute_result",
          "data": {
            "text/plain": [
              "<IPython.core.display.Markdown object>"
            ],
            "text/markdown": "Here are the details about 'First Quarter 2024 Financial Highlights' in table format:\n\n| **Category** | **Three Months Ended March 31,** | **2024** | **2023** | **% Change** |\n| --- | --- | --- | --- | --- |\n| Revenue |  | $36,455 | $28,645 | 27% |\n| Costs and expenses |  | $22,637 | $21,418 | 6% |\n| Income from operations |  | $13,818 | $7,227 | 91% |\n| Operating margin |  | 38% | 25% |  |\n| Provision for income taxes |  | $1,814 | $1,598 | 14% |\n| Effective tax rate |  | 13% | 22% |  |\n| Net income |  | $12,369 | $5,709 | 117% |\n| Diluted earnings per share (EPS) |  | $4.71 | $2.20 | 114% |\n\nAdditional helpful information:\n\n* Meta's total revenue and revenue on a constant currency basis were $36.46 billion and $36.35 billion, respectively, both of which increased by 27% year-over-year.\n* The company's cash, cash equivalents, and marketable securities were $58.12 billion as of March 31, 2024, with a free cash flow of $12.53 billion."
          },
          "metadata": {},
          "execution_count": 94
        }
      ]
    },
    {
      "cell_type": "markdown",
      "source": [
        "## References\n",
        "\n",
        "- [Meta Reports First Quarter 2024 Results](https://s21.q4cdn.com/399680738/files/doc_financials/2024/q1/Meta-03-31-2024-Exhibit-99-1_FINAL.pdf)"
      ],
      "metadata": {
        "id": "b9KgJCdYqbI_"
      }
    }
  ]
}